{
  "nbformat": 4,
  "nbformat_minor": 0,
  "metadata": {
    "colab": {
      "name": "Transformer.ipynb",
      "provenance": [],
      "authorship_tag": "ABX9TyODO9D6ppT60IGM0PUMb37J",
      "include_colab_link": true
    },
    "kernelspec": {
      "name": "python3",
      "display_name": "Python 3"
    },
    "language_info": {
      "name": "python"
    },
    "accelerator": "GPU",
    "gpuClass": "standard"
  },
  "cells": [
    {
      "cell_type": "markdown",
      "metadata": {
        "id": "view-in-github",
        "colab_type": "text"
      },
      "source": [
        "<a href=\"https://colab.research.google.com/github/meltyyyyy/kaggle-amex/blob/main/Notebooks/NN/Transformer.ipynb\" target=\"_parent\"><img src=\"https://colab.research.google.com/assets/colab-badge.svg\" alt=\"Open In Colab\"/></a>"
      ]
    },
    {
      "cell_type": "code",
      "execution_count": 15,
      "metadata": {
        "id": "TN75QOHZi7Np"
      },
      "outputs": [],
      "source": [
        "class Config:\n",
        "    name = \"NN/Transformer\"\n",
        "\n",
        "    n_splits = 5\n",
        "    seed = 2022\n",
        "    target = \"target\"\n",
        "\n",
        "    # Colab Env\n",
        "    upload_from_colab = True\n",
        "    api_path = \"/content/drive/MyDrive/workspace/kaggle.json\"\n",
        "    drive_path = \"/content/drive/MyDrive/workspace/kaggle-amex\"\n",
        "    \n",
        "    # Kaggle Env\n",
        "    kaggle_dataset_path = None\n",
        "    \n",
        "    # Reka Env\n",
        "    dir_path = '/home/abe/kaggle/kaggle-amex'"
      ]
    },
    {
      "cell_type": "code",
      "source": [
        "import os\n",
        "import json\n",
        "import warnings\n",
        "import shutil\n",
        "import logging\n",
        "import joblib\n",
        "import random\n",
        "import datetime\n",
        "import sys\n",
        "import gc\n",
        "import multiprocessing\n",
        "import joblib\n",
        "import pickle\n",
        "\n",
        "import pandas as pd\n",
        "import numpy as np\n",
        "import matplotlib.pyplot as plt\n",
        "plt.style.use('seaborn-pastel')\n",
        "import seaborn as sns\n",
        "\n",
        "from tqdm.auto import tqdm\n",
        "warnings.filterwarnings('ignore')"
      ],
      "metadata": {
        "id": "LUw4TAdrjAdh"
      },
      "execution_count": 16,
      "outputs": []
    },
    {
      "cell_type": "code",
      "source": [
        "COLAB = \"google.colab\" in sys.modules\n",
        "if COLAB:\n",
        "    print(\"This environment is Google Colab\")\n",
        "    \n",
        "    # mount\n",
        "    from google.colab import drive\n",
        "    if not os.path.isdir(\"/content/drive\"):\n",
        "        drive.mount('/content/drive') \n",
        "\t\n",
        "    # import library\n",
        "    # ! pip install lightgbm==3.3.1\n",
        "    # ! pip install --quiet iterative-stratification\n",
        "    # ! pip install --quiet tensorflow-addons\n",
        "\n",
        "    # use kaggle api (need kaggle token)\n",
        "    f = open(Config.api_path, 'r')\n",
        "    json_data = json.load(f) \n",
        "    os.environ[\"KAGGLE_USERNAME\"] = json_data[\"username\"]\n",
        "    os.environ[\"KAGGLE_KEY\"] = json_data[\"key\"]\n",
        "    \n",
        "    # set dirs\n",
        "    DRIVE = Config.drive_path\n",
        "    EXP = (Config.name if Config.name is not None \n",
        "           else get(\"http://172.28.0.2:9000/api/sessions\").json()[0][\"name\"][:-6])\n",
        "    NOTEBOOKS = os.path.join(DRIVE, 'Notebooks')\n",
        "    INPUT = os.path.join(DRIVE, \"Input\")\n",
        "    OUTPUT = os.path.join(DRIVE, \"Output\")\n",
        "    SUBMISSION = os.path.join(DRIVE, \"Submission\")\n",
        "    OUTPUT_EXP = os.path.join(OUTPUT, EXP) \n",
        "    EXP_MODEL = os.path.join(OUTPUT_EXP, \"model\")\n",
        "    EXP_FIG = os.path.join(OUTPUT_EXP, \"fig\")\n",
        "    EXP_PREDS = os.path.join(OUTPUT_EXP, \"preds\")\n",
        "\n",
        "    # make dirs\n",
        "    for d in [INPUT, SUBMISSION, EXP_MODEL, EXP_FIG, EXP_PREDS]:\n",
        "        os.makedirs(d, exist_ok=True)"
      ],
      "metadata": {
        "colab": {
          "base_uri": "https://localhost:8080/"
        },
        "id": "PJUdCfumkiFI",
        "outputId": "6bd93933-d750-46ce-987b-7a5ef863fd9e"
      },
      "execution_count": 17,
      "outputs": [
        {
          "output_type": "stream",
          "name": "stdout",
          "text": [
            "This environment is Google Colab\n"
          ]
        }
      ]
    },
    {
      "cell_type": "code",
      "source": [
        "import pynvml\n",
        "\n",
        "pynvml.nvmlInit()\n",
        "handle = pynvml.nvmlDeviceGetHandleByIndex(0)\n",
        "device_name = pynvml.nvmlDeviceGetName(handle)\n",
        "\n",
        "if device_name != b'Tesla T4':\n",
        "  raise Exception(\"\"\"\n",
        "    Unfortunately this instance does not have a T4 GPU.\n",
        "    \n",
        "    Please make sure you've configured Colab to request a GPU instance type.\n",
        "    \n",
        "    Sometimes Colab allocates a Tesla K80 instead of a T4. Resetting the instance.\n",
        "\n",
        "    If you get a K80 GPU, try Runtime -> Reset all runtimes...\n",
        "  \"\"\")\n",
        "else:\n",
        "  print('Woo! You got the right kind of GPU!')"
      ],
      "metadata": {
        "colab": {
          "base_uri": "https://localhost:8080/",
          "height": 390
        },
        "id": "baIaUJg1pRSF",
        "outputId": "8e450587-295f-4edd-8fcc-20bdde595620"
      },
      "execution_count": 22,
      "outputs": [
        {
          "output_type": "error",
          "ename": "ModuleNotFoundError",
          "evalue": "ignored",
          "traceback": [
            "\u001b[0;31m---------------------------------------------------------------------------\u001b[0m",
            "\u001b[0;31mModuleNotFoundError\u001b[0m                       Traceback (most recent call last)",
            "\u001b[0;32m<ipython-input-22-61b86528809e>\u001b[0m in \u001b[0;36m<module>\u001b[0;34m()\u001b[0m\n\u001b[0;32m----> 1\u001b[0;31m \u001b[0;32mimport\u001b[0m \u001b[0mpynvml\u001b[0m\u001b[0;34m\u001b[0m\u001b[0;34m\u001b[0m\u001b[0m\n\u001b[0m\u001b[1;32m      2\u001b[0m \u001b[0;34m\u001b[0m\u001b[0m\n\u001b[1;32m      3\u001b[0m \u001b[0mpynvml\u001b[0m\u001b[0;34m.\u001b[0m\u001b[0mnvmlInit\u001b[0m\u001b[0;34m(\u001b[0m\u001b[0;34m)\u001b[0m\u001b[0;34m\u001b[0m\u001b[0;34m\u001b[0m\u001b[0m\n\u001b[1;32m      4\u001b[0m \u001b[0mhandle\u001b[0m \u001b[0;34m=\u001b[0m \u001b[0mpynvml\u001b[0m\u001b[0;34m.\u001b[0m\u001b[0mnvmlDeviceGetHandleByIndex\u001b[0m\u001b[0;34m(\u001b[0m\u001b[0;36m0\u001b[0m\u001b[0;34m)\u001b[0m\u001b[0;34m\u001b[0m\u001b[0;34m\u001b[0m\u001b[0m\n\u001b[1;32m      5\u001b[0m \u001b[0mdevice_name\u001b[0m \u001b[0;34m=\u001b[0m \u001b[0mpynvml\u001b[0m\u001b[0;34m.\u001b[0m\u001b[0mnvmlDeviceGetName\u001b[0m\u001b[0;34m(\u001b[0m\u001b[0mhandle\u001b[0m\u001b[0;34m)\u001b[0m\u001b[0;34m\u001b[0m\u001b[0;34m\u001b[0m\u001b[0m\n",
            "\u001b[0;31mModuleNotFoundError\u001b[0m: No module named 'pynvml'",
            "",
            "\u001b[0;31m---------------------------------------------------------------------------\u001b[0;32m\nNOTE: If your import is failing due to a missing package, you can\nmanually install dependencies using either !pip or !apt.\n\nTo view examples of installing some common dependencies, click the\n\"Open Examples\" button below.\n\u001b[0;31m---------------------------------------------------------------------------\u001b[0m\n"
          ],
          "errorDetails": {
            "actions": [
              {
                "action": "open_url",
                "actionText": "Open Examples",
                "url": "/notebooks/snippets/importing_libraries.ipynb"
              }
            ]
          }
        }
      ]
    },
    {
      "cell_type": "code",
      "source": [
        "# Install RAPIDS\n",
        "!git clone https://github.com/rapidsai/rapidsai-csp-utils.git\n",
        "!bash rapidsai-csp-utils/colab/rapids-colab.sh s"
      ],
      "metadata": {
        "colab": {
          "base_uri": "https://localhost:8080/"
        },
        "id": "-z1fJDJno1oB",
        "outputId": "4c7fb1b0-4454-4c00-ebbe-ce4248fa2fd3"
      },
      "execution_count": 18,
      "outputs": [
        {
          "output_type": "stream",
          "name": "stdout",
          "text": [
            "Cloning into 'rapidsai-csp-utils'...\n",
            "remote: Enumerating objects: 300, done.\u001b[K\n",
            "remote: Counting objects: 100% (129/129), done.\u001b[K\n",
            "remote: Compressing objects: 100% (74/74), done.\u001b[K\n",
            "remote: Total 300 (delta 74), reused 99 (delta 55), pack-reused 171\u001b[K\n",
            "Receiving objects: 100% (300/300), 87.58 KiB | 5.15 MiB/s, done.\n",
            "Resolving deltas: 100% (136/136), done.\n",
            "PLEASE READ FOR 21.06\n",
            "********************************************************************************************************\n",
            "Another release, another script change.  We had to revise the script, which now:\n",
            "1. Does a more comprehensive install\n",
            "2. Includes BlazingSQL\n",
            "3. is far easier for everyone to understand and maintain\n",
            "\n",
            "The script will require you to add these 5 cells to your notebook.  We have also created a new startup template: \n",
            "https://colab.research.google.com/drive/1TAAi_szMfWqRfHVfjGSqnGVLr_ztzUM9?usp=sharing\n",
            "\n",
            "CHANGES T\n",
            "CELL 1:\n",
            "    # This get the RAPIDS-Colab install files and test check your GPU.  Run cells 1 and 2 only.\n",
            "    # Please read the output of this cell.  If your Colab Instance is not RAPIDS compatible, it will warn you and give you remediation steps.\n",
            "    !git clone https://github.com/rapidsai/rapidsai-csp-utils.git\n",
            "    !python rapidsai-csp-utils/colab/env-check.py\n",
            "\n",
            "CELL 2:\n",
            "    # This will update the Colab environment and restart the kernel.\n",
            "    !bash rapidsai-csp-utils/colab/update_gcc.sh\n",
            "    import os\n",
            "    os._exit(00)\n",
            "\n",
            "CELL 3:\n",
            "    ## Installing CondaColab.  This will restart your kernel again\n",
            "    import condacolab\n",
            "    condacolab.install()\n",
            "\n",
            "CELL 4:\n",
            "    import condacolab\n",
            "    condacolab.check()\n",
            "\n",
            "CELL 5:\n",
            "    # Installing RAPIDS is now 'python rapidsai-csp-utils/colab/install_rapids.py <release> <packages>'\n",
            "    # The <release> options are 'stable' and 'nightly'.  Leaving it blank or adding any other words will default to stable.\n",
            "    # The <packages> option are default blank or 'core'.  By default, we install RAPIDSAI and BlazingSQL.  The 'core' option will install only RAPIDSAI and not include BlazingSQL, \n",
            "    !python rapidsai-csp-utils/colab/install_rapids.py nightly\n",
            "    import os\n",
            "    os.environ['NUMBAPRO_NVVM'] = '/usr/local/cuda/nvvm/lib64/libnvvm.so'\n",
            "    os.environ['NUMBAPRO_LIBDEVICE'] = '/usr/local/cuda/nvvm/libdevice/'\n",
            "    os.environ['CONDA_PREFIX'] = '/usr/local'\n",
            "\n",
            "********************************************************************************************************\n",
            "\n",
            "Enjoy using RAPIDS!  If you have any issues with or suggestions for RAPIDSAI on Colab, please create a issue on https://github.com/rapidsai/rapidsai-csp-utils/issues/new.\n"
          ]
        }
      ]
    },
    {
      "cell_type": "code",
      "source": [
        "os.environ[\"TF_GPU_ALLOCATOR\"]=\"cuda_malloc_async\"\n",
        "import tensorflow as tf\n",
        "import tensorflow.keras.backend as K\n",
        "from tensorflow import keras\n",
        "from tensorflow.keras import layers\n",
        "import cupy, cudf\n",
        "\n",
        "\n",
        "PATH_TO_DATA = '../input/amex-data-for-transformers-and-rnns/data/'\n",
        "\n",
        "# IF YOU WISH TO INFER A MODEL YOU TRAINED OFFLINE\n",
        "# THEN SET TO FALSE AND PROVIDE KAGGLE DATASET URL\n",
        "TRAIN_MODEL = True\n",
        "PATH_TO_MODEL = './model/'\n",
        "\n",
        "INFER_TEST = True\n",
        "\n",
        "print('Using TensorFlow version',tf.__version__)"
      ],
      "metadata": {
        "colab": {
          "base_uri": "https://localhost:8080/",
          "height": 390
        },
        "id": "jLGutyHXktgB",
        "outputId": "4186d1e3-235c-45da-8578-727db68db5e4"
      },
      "execution_count": 19,
      "outputs": [
        {
          "output_type": "error",
          "ename": "ModuleNotFoundError",
          "evalue": "ignored",
          "traceback": [
            "\u001b[0;31m---------------------------------------------------------------------------\u001b[0m",
            "\u001b[0;31mModuleNotFoundError\u001b[0m                       Traceback (most recent call last)",
            "\u001b[0;32m<ipython-input-19-2fb27f9745bc>\u001b[0m in \u001b[0;36m<module>\u001b[0;34m()\u001b[0m\n\u001b[1;32m      4\u001b[0m \u001b[0;32mfrom\u001b[0m \u001b[0mtensorflow\u001b[0m \u001b[0;32mimport\u001b[0m \u001b[0mkeras\u001b[0m\u001b[0;34m\u001b[0m\u001b[0;34m\u001b[0m\u001b[0m\n\u001b[1;32m      5\u001b[0m \u001b[0;32mfrom\u001b[0m \u001b[0mtensorflow\u001b[0m\u001b[0;34m.\u001b[0m\u001b[0mkeras\u001b[0m \u001b[0;32mimport\u001b[0m \u001b[0mlayers\u001b[0m\u001b[0;34m\u001b[0m\u001b[0;34m\u001b[0m\u001b[0m\n\u001b[0;32m----> 6\u001b[0;31m \u001b[0;32mimport\u001b[0m \u001b[0mcupy\u001b[0m\u001b[0;34m,\u001b[0m \u001b[0mcudf\u001b[0m\u001b[0;34m\u001b[0m\u001b[0;34m\u001b[0m\u001b[0m\n\u001b[0m\u001b[1;32m      7\u001b[0m \u001b[0;34m\u001b[0m\u001b[0m\n\u001b[1;32m      8\u001b[0m \u001b[0;34m\u001b[0m\u001b[0m\n",
            "\u001b[0;31mModuleNotFoundError\u001b[0m: No module named 'cudf'",
            "",
            "\u001b[0;31m---------------------------------------------------------------------------\u001b[0;32m\nNOTE: If your import is failing due to a missing package, you can\nmanually install dependencies using either !pip or !apt.\n\nTo view examples of installing some common dependencies, click the\n\"Open Examples\" button below.\n\u001b[0;31m---------------------------------------------------------------------------\u001b[0m\n"
          ],
          "errorDetails": {
            "actions": [
              {
                "action": "open_url",
                "actionText": "Open Examples",
                "url": "/notebooks/snippets/importing_libraries.ipynb"
              }
            ]
          }
        }
      ]
    },
    {
      "cell_type": "code",
      "source": [
        "class TransformerBlock(layers.Layer):\n",
        "    def __init__(self, embed_dim, feat_dim, num_heads, ff_dim, rate=0.1):\n",
        "        super(TransformerBlock, self).__init__()\n",
        "        self.att = layers.MultiHeadAttention(num_heads=num_heads, key_dim=embed_dim)\n",
        "        self.ffn = keras.Sequential(\n",
        "            [layers.Dense(ff_dim, activation=\"gelu\"), layers.Dense(feat_dim),]\n",
        "        )\n",
        "        self.layernorm1 = layers.LayerNormalization(epsilon=1e-6)\n",
        "        self.layernorm2 = layers.LayerNormalization(epsilon=1e-6)\n",
        "        self.dropout1 = layers.Dropout(rate)\n",
        "        self.dropout2 = layers.Dropout(rate)\n",
        "\n",
        "    def call(self, inputs, training):\n",
        "        attn_output = self.att(inputs, inputs)\n",
        "        attn_output = self.dropout1(attn_output, training=training)\n",
        "        out1 = self.layernorm1(inputs + attn_output)\n",
        "        ffn_output = self.ffn(out1)\n",
        "        ffn_output = self.dropout2(ffn_output, training=training)\n",
        "        return self.layernorm2(out1 + ffn_output)"
      ],
      "metadata": {
        "id": "qEI6QamEk54S"
      },
      "execution_count": 8,
      "outputs": []
    },
    {
      "cell_type": "code",
      "source": [
        "feat_dim = 188\n",
        "embed_dim = 64  # Embedding size for attention\n",
        "num_heads = 4  # Number of attention heads\n",
        "ff_dim = 128  # Hidden layer size in feed forward network inside transformer\n",
        "dropout_rate = 0.3\n",
        "num_blocks = 2\n",
        "\n",
        "def build_model():\n",
        "    \n",
        "    # INPUT EMBEDDING LAYER\n",
        "    inp = layers.Input(shape=(13,188))\n",
        "    embeddings = []\n",
        "    for k in range(11):\n",
        "        emb = layers.Embedding(10,4)\n",
        "        embeddings.append( emb(inp[:,:,k]) )\n",
        "    x = layers.Concatenate()([inp[:,:,11:]]+embeddings)\n",
        "    x = layers.Dense(feat_dim)(x)\n",
        "    \n",
        "    # TRANSFORMER BLOCKS\n",
        "    for k in range(num_blocks):\n",
        "        x_old = x\n",
        "        transformer_block = TransformerBlock(embed_dim, feat_dim, num_heads, ff_dim, dropout_rate)\n",
        "        x = transformer_block(x)\n",
        "        x = 0.9*x + 0.1*x_old # SKIP CONNECTION\n",
        "    \n",
        "    # CLASSIFICATION HEAD\n",
        "    x = layers.Dense(64, activation=\"relu\")(x[:,-1,:])\n",
        "    x = layers.Dense(32, activation=\"relu\")(x)\n",
        "    outputs = layers.Dense(1, activation=\"sigmoid\")(x)\n",
        "    \n",
        "    model = keras.Model(inputs=inp, outputs=outputs)\n",
        "    opt = tf.keras.optimizers.Adam(learning_rate=0.001)\n",
        "    loss = tf.keras.losses.BinaryCrossentropy()\n",
        "    model.compile(loss=loss, optimizer = opt)\n",
        "        \n",
        "    return model"
      ],
      "metadata": {
        "id": "ajfdmALalJRu"
      },
      "execution_count": 6,
      "outputs": []
    },
    {
      "cell_type": "code",
      "source": [
        "model = build_model()\n",
        "model.summary()"
      ],
      "metadata": {
        "colab": {
          "base_uri": "https://localhost:8080/"
        },
        "id": "13Wdr3eBlJno",
        "outputId": "a6313e97-eb77-4d56-916d-65d4f7c56d22"
      },
      "execution_count": 11,
      "outputs": [
        {
          "output_type": "stream",
          "name": "stdout",
          "text": [
            "Model: \"model_2\"\n",
            "__________________________________________________________________________________________________\n",
            " Layer (type)                   Output Shape         Param #     Connected to                     \n",
            "==================================================================================================\n",
            " input_4 (InputLayer)           [(None, 13, 188)]    0           []                               \n",
            "                                                                                                  \n",
            " tf.__operators__.getitem_38 (S  (None, 13)          0           ['input_4[0][0]']                \n",
            " licingOpLambda)                                                                                  \n",
            "                                                                                                  \n",
            " tf.__operators__.getitem_39 (S  (None, 13)          0           ['input_4[0][0]']                \n",
            " licingOpLambda)                                                                                  \n",
            "                                                                                                  \n",
            " tf.__operators__.getitem_40 (S  (None, 13)          0           ['input_4[0][0]']                \n",
            " licingOpLambda)                                                                                  \n",
            "                                                                                                  \n",
            " tf.__operators__.getitem_41 (S  (None, 13)          0           ['input_4[0][0]']                \n",
            " licingOpLambda)                                                                                  \n",
            "                                                                                                  \n",
            " tf.__operators__.getitem_42 (S  (None, 13)          0           ['input_4[0][0]']                \n",
            " licingOpLambda)                                                                                  \n",
            "                                                                                                  \n",
            " tf.__operators__.getitem_43 (S  (None, 13)          0           ['input_4[0][0]']                \n",
            " licingOpLambda)                                                                                  \n",
            "                                                                                                  \n",
            " tf.__operators__.getitem_44 (S  (None, 13)          0           ['input_4[0][0]']                \n",
            " licingOpLambda)                                                                                  \n",
            "                                                                                                  \n",
            " tf.__operators__.getitem_45 (S  (None, 13)          0           ['input_4[0][0]']                \n",
            " licingOpLambda)                                                                                  \n",
            "                                                                                                  \n",
            " tf.__operators__.getitem_46 (S  (None, 13)          0           ['input_4[0][0]']                \n",
            " licingOpLambda)                                                                                  \n",
            "                                                                                                  \n",
            " tf.__operators__.getitem_47 (S  (None, 13)          0           ['input_4[0][0]']                \n",
            " licingOpLambda)                                                                                  \n",
            "                                                                                                  \n",
            " tf.__operators__.getitem_48 (S  (None, 13)          0           ['input_4[0][0]']                \n",
            " licingOpLambda)                                                                                  \n",
            "                                                                                                  \n",
            " tf.__operators__.getitem_49 (S  (None, 13, 177)     0           ['input_4[0][0]']                \n",
            " licingOpLambda)                                                                                  \n",
            "                                                                                                  \n",
            " embedding_33 (Embedding)       (None, 13, 4)        40          ['tf.__operators__.getitem_38[0][\n",
            "                                                                 0]']                             \n",
            "                                                                                                  \n",
            " embedding_34 (Embedding)       (None, 13, 4)        40          ['tf.__operators__.getitem_39[0][\n",
            "                                                                 0]']                             \n",
            "                                                                                                  \n",
            " embedding_35 (Embedding)       (None, 13, 4)        40          ['tf.__operators__.getitem_40[0][\n",
            "                                                                 0]']                             \n",
            "                                                                                                  \n",
            " embedding_36 (Embedding)       (None, 13, 4)        40          ['tf.__operators__.getitem_41[0][\n",
            "                                                                 0]']                             \n",
            "                                                                                                  \n",
            " embedding_37 (Embedding)       (None, 13, 4)        40          ['tf.__operators__.getitem_42[0][\n",
            "                                                                 0]']                             \n",
            "                                                                                                  \n",
            " embedding_38 (Embedding)       (None, 13, 4)        40          ['tf.__operators__.getitem_43[0][\n",
            "                                                                 0]']                             \n",
            "                                                                                                  \n",
            " embedding_39 (Embedding)       (None, 13, 4)        40          ['tf.__operators__.getitem_44[0][\n",
            "                                                                 0]']                             \n",
            "                                                                                                  \n",
            " embedding_40 (Embedding)       (None, 13, 4)        40          ['tf.__operators__.getitem_45[0][\n",
            "                                                                 0]']                             \n",
            "                                                                                                  \n",
            " embedding_41 (Embedding)       (None, 13, 4)        40          ['tf.__operators__.getitem_46[0][\n",
            "                                                                 0]']                             \n",
            "                                                                                                  \n",
            " embedding_42 (Embedding)       (None, 13, 4)        40          ['tf.__operators__.getitem_47[0][\n",
            "                                                                 0]']                             \n",
            "                                                                                                  \n",
            " embedding_43 (Embedding)       (None, 13, 4)        40          ['tf.__operators__.getitem_48[0][\n",
            "                                                                 0]']                             \n",
            "                                                                                                  \n",
            " concatenate_3 (Concatenate)    (None, 13, 221)      0           ['tf.__operators__.getitem_49[0][\n",
            "                                                                 0]',                             \n",
            "                                                                  'embedding_33[0][0]',           \n",
            "                                                                  'embedding_34[0][0]',           \n",
            "                                                                  'embedding_35[0][0]',           \n",
            "                                                                  'embedding_36[0][0]',           \n",
            "                                                                  'embedding_37[0][0]',           \n",
            "                                                                  'embedding_38[0][0]',           \n",
            "                                                                  'embedding_39[0][0]',           \n",
            "                                                                  'embedding_40[0][0]',           \n",
            "                                                                  'embedding_41[0][0]',           \n",
            "                                                                  'embedding_42[0][0]',           \n",
            "                                                                  'embedding_43[0][0]']           \n",
            "                                                                                                  \n",
            " dense_17 (Dense)               (None, 13, 188)      41736       ['concatenate_3[0][0]']          \n",
            "                                                                                                  \n",
            " transformer_block_4 (Transform  (None, 13, 188)     242664      ['dense_17[0][0]']               \n",
            " erBlock)                                                                                         \n",
            "                                                                                                  \n",
            " tf.math.multiply_8 (TFOpLambda  (None, 13, 188)     0           ['transformer_block_4[0][0]']    \n",
            " )                                                                                                \n",
            "                                                                                                  \n",
            " tf.math.multiply_9 (TFOpLambda  (None, 13, 188)     0           ['dense_17[0][0]']               \n",
            " )                                                                                                \n",
            "                                                                                                  \n",
            " tf.__operators__.add_4 (TFOpLa  (None, 13, 188)     0           ['tf.math.multiply_8[0][0]',     \n",
            " mbda)                                                            'tf.math.multiply_9[0][0]']     \n",
            "                                                                                                  \n",
            " transformer_block_5 (Transform  (None, 13, 188)     242664      ['tf.__operators__.add_4[0][0]'] \n",
            " erBlock)                                                                                         \n",
            "                                                                                                  \n",
            " tf.math.multiply_10 (TFOpLambd  (None, 13, 188)     0           ['transformer_block_5[0][0]']    \n",
            " a)                                                                                               \n",
            "                                                                                                  \n",
            " tf.math.multiply_11 (TFOpLambd  (None, 13, 188)     0           ['tf.__operators__.add_4[0][0]'] \n",
            " a)                                                                                               \n",
            "                                                                                                  \n",
            " tf.__operators__.add_5 (TFOpLa  (None, 13, 188)     0           ['tf.math.multiply_10[0][0]',    \n",
            " mbda)                                                            'tf.math.multiply_11[0][0]']    \n",
            "                                                                                                  \n",
            " tf.__operators__.getitem_50 (S  (None, 188)         0           ['tf.__operators__.add_5[0][0]'] \n",
            " licingOpLambda)                                                                                  \n",
            "                                                                                                  \n",
            " dense_22 (Dense)               (None, 64)           12096       ['tf.__operators__.getitem_50[0][\n",
            "                                                                 0]']                             \n",
            "                                                                                                  \n",
            " dense_23 (Dense)               (None, 32)           2080        ['dense_22[0][0]']               \n",
            "                                                                                                  \n",
            " dense_24 (Dense)               (None, 1)            33          ['dense_23[0][0]']               \n",
            "                                                                                                  \n",
            "==================================================================================================\n",
            "Total params: 541,713\n",
            "Trainable params: 541,713\n",
            "Non-trainable params: 0\n",
            "__________________________________________________________________________________________________\n"
          ]
        }
      ]
    },
    {
      "cell_type": "code",
      "source": [
        "import math\n",
        "LR_START = 1e-6\n",
        "LR_MAX = 1e-3\n",
        "LR_MIN = 1e-6\n",
        "LR_RAMPUP_EPOCHS = 0\n",
        "LR_SUSTAIN_EPOCHS = 0\n",
        "EPOCHS = 8\n",
        "\n",
        "def lrfn(epoch):\n",
        "    if epoch < LR_RAMPUP_EPOCHS:\n",
        "        lr = (LR_MAX - LR_START) / LR_RAMPUP_EPOCHS * epoch + LR_START\n",
        "    elif epoch < LR_RAMPUP_EPOCHS + LR_SUSTAIN_EPOCHS:\n",
        "        lr = LR_MAX\n",
        "    else:\n",
        "        decay_total_epochs = EPOCHS - LR_RAMPUP_EPOCHS - LR_SUSTAIN_EPOCHS - 1\n",
        "        decay_epoch_index = epoch - LR_RAMPUP_EPOCHS - LR_SUSTAIN_EPOCHS\n",
        "        phase = math.pi * decay_epoch_index / decay_total_epochs\n",
        "        cosine_decay = 0.5 * (1 + math.cos(phase))\n",
        "        lr = (LR_MAX - LR_MIN) * cosine_decay + LR_MIN\n",
        "    return lr\n",
        "\n",
        "rng = [i for i in range(EPOCHS)]\n",
        "lr_y = [lrfn(x) for x in rng]\n",
        "plt.figure(figsize=(10, 4))\n",
        "plt.plot(rng, lr_y, '-o')\n",
        "plt.xlabel('Epoch'); plt.ylabel('LR')\n",
        "print(\"Learning rate schedule: {:.3g} to {:.3g} to {:.3g}\".format(lr_y[0], max(lr_y), lr_y[-1]))\n",
        "LR = tf.keras.callbacks.LearningRateScheduler(lrfn, verbose = True)"
      ],
      "metadata": {
        "colab": {
          "base_uri": "https://localhost:8080/",
          "height": 297
        },
        "id": "gP3N4Fu6lnUt",
        "outputId": "9df41f27-95f9-4298-c158-084d9cadf1c6"
      },
      "execution_count": 12,
      "outputs": [
        {
          "output_type": "stream",
          "name": "stdout",
          "text": [
            "Learning rate schedule: 0.001 to 0.001 to 1e-06\n"
          ]
        },
        {
          "output_type": "display_data",
          "data": {
            "text/plain": [
              "<Figure size 720x288 with 1 Axes>"
            ],
            "image/png": "[encoded data removed]"
          },
          "metadata": {
            "needs_background": "light"
          }
        }
      ]
    },
    {
      "cell_type": "code",
      "source": [
        "# COMPETITION METRIC FROM Konstantin Yakovlev\n",
        "# https://www.kaggle.com/kyakovlev\n",
        "# https://www.kaggle.com/competitions/amex-default-prediction/discussion/327534\n",
        "def amex_metric_mod(y_true, y_pred):\n",
        "\n",
        "    labels     = np.transpose(np.array([y_true, y_pred]))\n",
        "    labels     = labels[labels[:, 1].argsort()[::-1]]\n",
        "    weights    = np.where(labels[:,0]==0, 20, 1)\n",
        "    cut_vals   = labels[np.cumsum(weights) <= int(0.04 * np.sum(weights))]\n",
        "    top_four   = np.sum(cut_vals[:,0]) / np.sum(labels[:,0])\n",
        "\n",
        "    gini = [0,0]\n",
        "    for i in [1,0]:\n",
        "        labels         = np.transpose(np.array([y_true, y_pred]))\n",
        "        labels         = labels[labels[:, i].argsort()[::-1]]\n",
        "        weight         = np.where(labels[:,0]==0, 20, 1)\n",
        "        weight_random  = np.cumsum(weight / np.sum(weight))\n",
        "        total_pos      = np.sum(labels[:, 0] *  weight)\n",
        "        cum_pos_found  = np.cumsum(labels[:, 0] * weight)\n",
        "        lorentz        = cum_pos_found / total_pos\n",
        "        gini[i]        = np.sum((lorentz - weight_random) * weight)\n",
        "\n",
        "    return 0.5 * (gini[1]/gini[0] + top_four)"
      ],
      "metadata": {
        "id": "HKmYzUK6m5Ne"
      },
      "execution_count": 13,
      "outputs": []
    },
    {
      "cell_type": "code",
      "source": [
        "if TRAIN_MODEL:\n",
        "    # SAVE TRUE AND OOF\n",
        "    true = np.array([])\n",
        "    oof = np.array([])\n",
        "    VERBOSE = 2 # use 1 for interactive \n",
        "\n",
        "    for fold in range(5):\n",
        "\n",
        "        # INDICES OF TRAIN AND VALID FOLDS\n",
        "        valid_idx = [2*fold+1, 2*fold+2]\n",
        "        train_idx = [x for x in [1,2,3,4,5,6,7,8,9,10] if x not in valid_idx]\n",
        "\n",
        "        print('#'*25)\n",
        "        print(f'### Fold {fold+1} with valid files', valid_idx)\n",
        "\n",
        "        # READ TRAIN DATA FROM DISK\n",
        "        X_train = []; y_train = []\n",
        "        for k in train_idx:\n",
        "            X_train.append( np.load(f'{PATH_TO_DATA}data_{k}.npy'))\n",
        "            y_train.append( pd.read_parquet(f'{PATH_TO_DATA}targets_{k}.pqt') )\n",
        "        X_train = np.concatenate(X_train,axis=0)\n",
        "        y_train = pd.concat(y_train).target.values\n",
        "        print('### Training data shapes', X_train.shape, y_train.shape)\n",
        "\n",
        "        # READ VALID DATA FROM DISK\n",
        "        X_valid = []; y_valid = []\n",
        "        for k in valid_idx:\n",
        "            X_valid.append( np.load(f'{PATH_TO_DATA}data_{k}.npy'))\n",
        "            y_valid.append( pd.read_parquet(f'{PATH_TO_DATA}targets_{k}.pqt') )\n",
        "        X_valid = np.concatenate(X_valid,axis=0)\n",
        "        y_valid = pd.concat(y_valid).target.values\n",
        "        print('### Validation data shapes', X_valid.shape, y_valid.shape)\n",
        "        print('#'*25)\n",
        "\n",
        "        # BUILD AND TRAIN MODEL\n",
        "        K.clear_session()\n",
        "        model = build_model()\n",
        "        h = model.fit(X_train,y_train, \n",
        "                      validation_data = (X_valid,y_valid),\n",
        "                      batch_size=512, epochs=EPOCHS, verbose=VERBOSE,\n",
        "                      callbacks = [LR])\n",
        "        if not os.path.exists(PATH_TO_MODEL): os.makedirs(PATH_TO_MODEL)\n",
        "        model.save_weights(f'{PATH_TO_MODEL}transformer_fold_{fold+1}.h5')\n",
        "\n",
        "        # INFER VALID DATA\n",
        "        print('Inferring validation data...')\n",
        "        p = model.predict(X_valid, batch_size=512, verbose=VERBOSE).flatten()\n",
        "\n",
        "        print()\n",
        "        print(f'Fold {fold+1} CV=', amex_metric_mod(y_valid, p) )\n",
        "        print()\n",
        "        true = np.concatenate([true, y_valid])\n",
        "        oof = np.concatenate([oof, p])\n",
        "        \n",
        "        # CLEAN MEMORY\n",
        "        del model, X_train, y_train, X_valid, y_valid, p\n",
        "        gc.collect()\n",
        "\n",
        "    # PRINT OVERALL RESULTS\n",
        "    print('#'*25)\n",
        "    print(f'Overall CV =', amex_metric_mod(true, oof) )"
      ],
      "metadata": {
        "id": "a4ywNn5InGAX"
      },
      "execution_count": null,
      "outputs": []
    },
    {
      "cell_type": "code",
      "source": [
        "if INFER_TEST:\n",
        "    # BUILD MODEL\n",
        "    K.clear_session()\n",
        "    model = build_model()\n",
        "    \n",
        "    # LOAD SAMPLE SUBMISSION\n",
        "    start = 0; end = 0\n",
        "    sub = cudf.read_csv('../input/amex-default-prediction/sample_submission.csv')\n",
        "    \n",
        "    # REARANGE SUB ROWS TO MATCH 20 TEST FILES\n",
        "    sub['hash'] = sub['customer_ID'].str[-16:].str.hex_to_int().astype('int64')\n",
        "    test_hash_index = cupy.load(f'{PATH_TO_DATA}test_hashes_data.npy')\n",
        "    sub = sub.set_index('hash').loc[test_hash_index].reset_index(drop=True)\n",
        "    \n",
        "    for k in range(20):\n",
        "        print(f'Inferring Test_File_{k+1}')\n",
        "        X_test = np.load(f'{PATH_TO_DATA}test_data_{k+1}.npy')\n",
        "        end = start + X_test.shape[0]\n",
        "\n",
        "        # INFER 5 FOLD MODELS\n",
        "        model.load_weights(f'{PATH_TO_MODEL}transformer_fold_1.h5')\n",
        "        p = model.predict(X_test, batch_size=512, verbose=0).flatten() \n",
        "        for j in range(1,5):\n",
        "            model.load_weights(f'{PATH_TO_MODEL}transformer_fold_{j+1}.h5')\n",
        "            p += model.predict(X_test, batch_size=512, verbose=0).flatten()\n",
        "        p /= 5.0\n",
        "\n",
        "        sub.loc[start:end-1,'prediction'] = p\n",
        "        start = end"
      ],
      "metadata": {
        "id": "oO5e1jLynm-l"
      },
      "execution_count": null,
      "outputs": []
    }
  ]
}