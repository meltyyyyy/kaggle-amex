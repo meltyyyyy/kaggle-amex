{
  "cells": [
    {
      "cell_type": "markdown",
      "metadata": {
        "id": "view-in-github",
        "colab_type": "text"
      },
      "source": [
        "<a href=\"https://colab.research.google.com/github/meltyyyyy/kaggle-amex/blob/main/Notebooks/XGB/Baseline.ipynb\" target=\"_parent\"><img src=\"https://colab.research.google.com/assets/colab-badge.svg\" alt=\"Open In Colab\"/></a>"
      ]
    },
    {
      "cell_type": "code",
      "execution_count": 1,
      "metadata": {
        "id": "ilqJ4rcWc4xO"
      },
      "outputs": [],
      "source": [
        "class Config:\n",
        "    name = \"XGB/Baseline\"\n",
        "\n",
        "    n_splits = 5\n",
        "    seed = 2022\n",
        "    target = \"target\"\n",
        "\n",
        "    # Colab Env\n",
        "    upload_from_colab = True\n",
        "    api_path = \"/content/drive/MyDrive/workspace/kaggle.json\"\n",
        "    drive_path = \"/content/drive/MyDrive/workspace/kaggle-amex\"\n",
        "    \n",
        "    # Kaggle Env\n",
        "    kaggle_dataset_path = None"
      ]
    },
    {
      "cell_type": "code",
      "execution_count": 2,
      "metadata": {
        "id": "m9Jf525wdD4v"
      },
      "outputs": [],
      "source": [
        "import os\n",
        "import json\n",
        "import warnings\n",
        "import shutil\n",
        "import logging\n",
        "import joblib\n",
        "import random\n",
        "import datetime\n",
        "import sys\n",
        "import gc\n",
        "import multiprocessing\n",
        "import joblib\n",
        "import pickle\n",
        "\n",
        "import pandas as pd\n",
        "import numpy as np\n",
        "import matplotlib.pyplot as plt\n",
        "import seaborn as sns\n",
        "\n",
        "from tqdm.auto import tqdm\n",
        "warnings.filterwarnings('ignore')"
      ]
    },
    {
      "cell_type": "code",
      "execution_count": 3,
      "metadata": {
        "colab": {
          "base_uri": "https://localhost:8080/"
        },
        "id": "SAwmuAVHgmNG",
        "outputId": "decc1a30-3539-4610-fe5e-dc5b54bb6e98"
      },
      "outputs": [
        {
          "output_type": "stream",
          "name": "stdout",
          "text": [
            "This environment is Google Colab\n"
          ]
        }
      ],
      "source": [
        "COLAB = \"google.colab\" in sys.modules\n",
        "if COLAB:\n",
        "    print(\"This environment is Google Colab\")\n",
        "    \n",
        "    # mount\n",
        "    from google.colab import drive\n",
        "    if not os.path.isdir(\"/content/drive\"):\n",
        "        drive.mount('/content/drive') \n",
        "\t\n",
        "    # import library\n",
        "    # ! pip install lightgbm==3.3.1\n",
        "    # ! pip install --quiet iterative-stratification\n",
        "    # ! pip install --quiet tensorflow-addons\n",
        "\n",
        "    # use kaggle api (need kaggle token)\n",
        "    f = open(Config.api_path, 'r')\n",
        "    json_data = json.load(f) \n",
        "    os.environ[\"KAGGLE_USERNAME\"] = json_data[\"username\"]\n",
        "    os.environ[\"KAGGLE_KEY\"] = json_data[\"key\"]\n",
        "    \n",
        "    # set dirs\n",
        "    DRIVE = Config.drive_path\n",
        "    EXP = (Config.name if Config.name is not None \n",
        "           else get(\"http://172.28.0.2:9000/api/sessions\").json()[0][\"name\"][:-6])\n",
        "    INPUT = os.path.join(DRIVE, \"Input\")\n",
        "    OUTPUT = os.path.join(DRIVE, \"Output\")\n",
        "    SUBMISSION = os.path.join(DRIVE, \"Submission\")\n",
        "    OUTPUT_EXP = os.path.join(OUTPUT, EXP) \n",
        "    EXP_MODEL = os.path.join(OUTPUT_EXP, \"model\")\n",
        "    EXP_FIG = os.path.join(OUTPUT_EXP, \"fig\")\n",
        "    EXP_PREDS = os.path.join(OUTPUT_EXP, \"preds\")\n",
        "\n",
        "    # make dirs\n",
        "    for d in [INPUT, SUBMISSION, EXP_MODEL, EXP_FIG, EXP_PREDS]:\n",
        "        os.makedirs(d, exist_ok=True)\n",
        "\n",
        "    # if not os.path.isfile(os.path.join(INPUT, \"amex-default-prediction.zip\")):\n",
        "        # load dataset\n",
        "        # ! kaggle competitions download -c amex-default-prediction -p $INPUT \n",
        "else:\n",
        "    print(\"This environment is Kaggle Kernel\")\n",
        "    \n",
        "    # set dirs\n",
        "    INPUT = \"../input/amex-default-prediction\"\n",
        "    EXP, OUTPUT, SUBMISSION = \"./\", \"./\", \"./\"\n",
        "    EXP_MODEL = os.path.join(EXP, \"model\")\n",
        "    EXP_FIG = os.path.join(EXP, \"fig\")\n",
        "    EXP_PREDS = os.path.join(EXP, \"preds\")\n",
        "    \n",
        "    # copy dirs\n",
        "    if Config.kaggle_dataset_path is not None:\n",
        "        KD_MODEL = os.path.join(Config.kaggle_dataset_path, \"model\")\n",
        "        KD_EXP_PREDS = os.path.join(Config.kaggle_dataset_path, \"preds\")\n",
        "        shutil.copytree(KD_MODEL, EXP_MODEL)\n",
        "        shutil.copytree(KD_EXP_PREDS, EXP_PREDS)\n",
        "\n",
        "    # make dirs\n",
        "    for d in [EXP_MODEL, EXP_FIG, EXP_PREDS]:\n",
        "        os.makedirs(d, exist_ok=True)\n"
      ]
    },
    {
      "cell_type": "code",
      "execution_count": 4,
      "metadata": {
        "id": "v9cJGrE-dpDA"
      },
      "outputs": [],
      "source": [
        "with open(os.path.join(INPUT, 'data_types.json'), \"r\") as rf:\n",
        "    dtypes = json.load(rf)\n",
        "train = pd.read_parquet(os.path.join(INPUT, 'train.parquet') if COLAB else 'train.parquet')\n",
        "train = train.astype(dtypes)\n",
        "target = pd.read_csv(os.path.join(INPUT, 'train_labels.csv') if COLAB else 'train_labels.csv', dtype={'customer_ID': 'str', 'target': 'int8'})\n",
        "# train = pd.read_parquet(os.path.join(INPUT, 'train_small.parquet') if COLAB else 'train_small.parquet')\n",
        "test = pd.read_parquet(os.path.join(INPUT, 'test.parquet') if COLAB else 'test.parquet')\n",
        "test = test.astype(dtypes)"
      ]
    },
    {
      "cell_type": "code",
      "execution_count": 5,
      "metadata": {
        "colab": {
          "base_uri": "https://localhost:8080/"
        },
        "id": "d4rytnIReGSi",
        "outputId": "a58625f8-6293-4d20-bcd6-2626fe2015ca"
      },
      "outputs": [
        {
          "output_type": "stream",
          "name": "stdout",
          "text": [
            "<class 'pandas.core.frame.DataFrame'>\n",
            "RangeIndex: 5531451 entries, 0 to 5531450\n",
            "Columns: 190 entries, customer_ID to D_145\n",
            "dtypes: category(2), datetime64[ns](1), float16(185), int8(1), object(1)\n",
            "memory usage: 2.0+ GB\n"
          ]
        }
      ],
      "source": [
        "train.info()"
      ]
    },
    {
      "cell_type": "code",
      "execution_count": 6,
      "metadata": {
        "colab": {
          "base_uri": "https://localhost:8080/",
          "height": 366
        },
        "id": "7n5KRbzXebh-",
        "outputId": "c059d83a-f23f-4ac7-c85a-7d9891d5ebf0"
      },
      "outputs": [
        {
          "output_type": "execute_result",
          "data": {
            "text/plain": [
              "                                         customer_ID        S_2       P_2  \\\n",
              "0  0000099d6bd597052cdcda90ffabf56573fe9d7c79be5f... 2017-03-09  0.938477   \n",
              "1  0000099d6bd597052cdcda90ffabf56573fe9d7c79be5f... 2017-04-07  0.936523   \n",
              "2  0000099d6bd597052cdcda90ffabf56573fe9d7c79be5f... 2017-05-28  0.954102   \n",
              "3  0000099d6bd597052cdcda90ffabf56573fe9d7c79be5f... 2017-06-13  0.960449   \n",
              "4  0000099d6bd597052cdcda90ffabf56573fe9d7c79be5f... 2017-07-16  0.947266   \n",
              "\n",
              "       D_39       B_1       B_2       R_1       S_3      D_41       B_3  ...  \\\n",
              "0  0.001734  0.008728  1.006836  0.009224  0.124023  0.008774  0.004707  ...   \n",
              "1  0.005775  0.004925  1.000977  0.006153  0.126709  0.000798  0.002714  ...   \n",
              "2  0.091492  0.021652  1.009766  0.006817  0.123962  0.007599  0.009422  ...   \n",
              "3  0.002455  0.013687  1.002930  0.001372  0.117188  0.000685  0.005531  ...   \n",
              "4  0.002483  0.015190  1.000977  0.007607  0.117310  0.004654  0.009308  ...   \n",
              "\n",
              "   D_136  D_137  D_138     D_139     D_140     D_141  D_142     D_143  \\\n",
              "0    NaN    NaN    NaN  0.002426  0.003706  0.003819    NaN  0.000569   \n",
              "1    NaN    NaN    NaN  0.003956  0.003166  0.005032    NaN  0.009575   \n",
              "2    NaN    NaN    NaN  0.003269  0.007328  0.000427    NaN  0.003429   \n",
              "3    NaN    NaN    NaN  0.006119  0.004517  0.003201    NaN  0.008423   \n",
              "4    NaN    NaN    NaN  0.003672  0.004944  0.008888    NaN  0.001670   \n",
              "\n",
              "      D_144     D_145  \n",
              "0  0.000610  0.002674  \n",
              "1  0.005493  0.009216  \n",
              "2  0.006985  0.002604  \n",
              "3  0.006527  0.009598  \n",
              "4  0.008125  0.009827  \n",
              "\n",
              "[5 rows x 190 columns]"
            ],
            "text/html": [
              "\n",
              "  <div id=\"df-c0d7d222-b2c9-4ee5-8433-89059a1846ac\">\n",
              "    <div class=\"colab-df-container\">\n",
              "      <div>\n",
              "<style scoped>\n",
              "    .dataframe tbody tr th:only-of-type {\n",
              "        vertical-align: middle;\n",
              "    }\n",
              "\n",
              "    .dataframe tbody tr th {\n",
              "        vertical-align: top;\n",
              "    }\n",
              "\n",
              "    .dataframe thead th {\n",
              "        text-align: right;\n",
              "    }\n",
              "</style>\n",
              "<table border=\"1\" class=\"dataframe\">\n",
              "  <thead>\n",
              "    <tr style=\"text-align: right;\">\n",
              "      <th></th>\n",
              "      <th>customer_ID</th>\n",
              "      <th>S_2</th>\n",
              "      <th>P_2</th>\n",
              "      <th>D_39</th>\n",
              "      <th>B_1</th>\n",
              "      <th>B_2</th>\n",
              "      <th>R_1</th>\n",
              "      <th>S_3</th>\n",
              "      <th>D_41</th>\n",
              "      <th>B_3</th>\n",
              "      <th>...</th>\n",
              "      <th>D_136</th>\n",
              "      <th>D_137</th>\n",
              "      <th>D_138</th>\n",
              "      <th>D_139</th>\n",
              "      <th>D_140</th>\n",
              "      <th>D_141</th>\n",
              "      <th>D_142</th>\n",
              "      <th>D_143</th>\n",
              "      <th>D_144</th>\n",
              "      <th>D_145</th>\n",
              "    </tr>\n",
              "  </thead>\n",
              "  <tbody>\n",
              "    <tr>\n",
              "      <th>0</th>\n",
              "      <td>0000099d6bd597052cdcda90ffabf56573fe9d7c79be5f...</td>\n",
              "      <td>2017-03-09</td>\n",
              "      <td>0.938477</td>\n",
              "      <td>0.001734</td>\n",
              "      <td>0.008728</td>\n",
              "      <td>1.006836</td>\n",
              "      <td>0.009224</td>\n",
              "      <td>0.124023</td>\n",
              "      <td>0.008774</td>\n",
              "      <td>0.004707</td>\n",
              "      <td>...</td>\n",
              "      <td>NaN</td>\n",
              "      <td>NaN</td>\n",
              "      <td>NaN</td>\n",
              "      <td>0.002426</td>\n",
              "      <td>0.003706</td>\n",
              "      <td>0.003819</td>\n",
              "      <td>NaN</td>\n",
              "      <td>0.000569</td>\n",
              "      <td>0.000610</td>\n",
              "      <td>0.002674</td>\n",
              "    </tr>\n",
              "    <tr>\n",
              "      <th>1</th>\n",
              "      <td>0000099d6bd597052cdcda90ffabf56573fe9d7c79be5f...</td>\n",
              "      <td>2017-04-07</td>\n",
              "      <td>0.936523</td>\n",
              "      <td>0.005775</td>\n",
              "      <td>0.004925</td>\n",
              "      <td>1.000977</td>\n",
              "      <td>0.006153</td>\n",
              "      <td>0.126709</td>\n",
              "      <td>0.000798</td>\n",
              "      <td>0.002714</td>\n",
              "      <td>...</td>\n",
              "      <td>NaN</td>\n",
              "      <td>NaN</td>\n",
              "      <td>NaN</td>\n",
              "      <td>0.003956</td>\n",
              "      <td>0.003166</td>\n",
              "      <td>0.005032</td>\n",
              "      <td>NaN</td>\n",
              "      <td>0.009575</td>\n",
              "      <td>0.005493</td>\n",
              "      <td>0.009216</td>\n",
              "    </tr>\n",
              "    <tr>\n",
              "      <th>2</th>\n",
              "      <td>0000099d6bd597052cdcda90ffabf56573fe9d7c79be5f...</td>\n",
              "      <td>2017-05-28</td>\n",
              "      <td>0.954102</td>\n",
              "      <td>0.091492</td>\n",
              "      <td>0.021652</td>\n",
              "      <td>1.009766</td>\n",
              "      <td>0.006817</td>\n",
              "      <td>0.123962</td>\n",
              "      <td>0.007599</td>\n",
              "      <td>0.009422</td>\n",
              "      <td>...</td>\n",
              "      <td>NaN</td>\n",
              "      <td>NaN</td>\n",
              "      <td>NaN</td>\n",
              "      <td>0.003269</td>\n",
              "      <td>0.007328</td>\n",
              "      <td>0.000427</td>\n",
              "      <td>NaN</td>\n",
              "      <td>0.003429</td>\n",
              "      <td>0.006985</td>\n",
              "      <td>0.002604</td>\n",
              "    </tr>\n",
              "    <tr>\n",
              "      <th>3</th>\n",
              "      <td>0000099d6bd597052cdcda90ffabf56573fe9d7c79be5f...</td>\n",
              "      <td>2017-06-13</td>\n",
              "      <td>0.960449</td>\n",
              "      <td>0.002455</td>\n",
              "      <td>0.013687</td>\n",
              "      <td>1.002930</td>\n",
              "      <td>0.001372</td>\n",
              "      <td>0.117188</td>\n",
              "      <td>0.000685</td>\n",
              "      <td>0.005531</td>\n",
              "      <td>...</td>\n",
              "      <td>NaN</td>\n",
              "      <td>NaN</td>\n",
              "      <td>NaN</td>\n",
              "      <td>0.006119</td>\n",
              "      <td>0.004517</td>\n",
              "      <td>0.003201</td>\n",
              "      <td>NaN</td>\n",
              "      <td>0.008423</td>\n",
              "      <td>0.006527</td>\n",
              "      <td>0.009598</td>\n",
              "    </tr>\n",
              "    <tr>\n",
              "      <th>4</th>\n",
              "      <td>0000099d6bd597052cdcda90ffabf56573fe9d7c79be5f...</td>\n",
              "      <td>2017-07-16</td>\n",
              "      <td>0.947266</td>\n",
              "      <td>0.002483</td>\n",
              "      <td>0.015190</td>\n",
              "      <td>1.000977</td>\n",
              "      <td>0.007607</td>\n",
              "      <td>0.117310</td>\n",
              "      <td>0.004654</td>\n",
              "      <td>0.009308</td>\n",
              "      <td>...</td>\n",
              "      <td>NaN</td>\n",
              "      <td>NaN</td>\n",
              "      <td>NaN</td>\n",
              "      <td>0.003672</td>\n",
              "      <td>0.004944</td>\n",
              "      <td>0.008888</td>\n",
              "      <td>NaN</td>\n",
              "      <td>0.001670</td>\n",
              "      <td>0.008125</td>\n",
              "      <td>0.009827</td>\n",
              "    </tr>\n",
              "  </tbody>\n",
              "</table>\n",
              "<p>5 rows × 190 columns</p>\n",
              "</div>\n",
              "      <button class=\"colab-df-convert\" onclick=\"convertToInteractive('df-c0d7d222-b2c9-4ee5-8433-89059a1846ac')\"\n",
              "              title=\"Convert this dataframe to an interactive table.\"\n",
              "              style=\"display:none;\">\n",
              "        \n",
              "  <svg xmlns=\"http://www.w3.org/2000/svg\" height=\"24px\"viewBox=\"0 0 24 24\"\n",
              "       width=\"24px\">\n",
              "    <path d=\"M0 0h24v24H0V0z\" fill=\"none\"/>\n",
              "    <path d=\"M18.56 5.44l.94 2.06.94-2.06 2.06-.94-2.06-.94-.94-2.06-.94 2.06-2.06.94zm-11 1L8.5 8.5l.94-2.06 2.06-.94-2.06-.94L8.5 2.5l-.94 2.06-2.06.94zm10 10l.94 2.06.94-2.06 2.06-.94-2.06-.94-.94-2.06-.94 2.06-2.06.94z\"/><path d=\"M17.41 7.96l-1.37-1.37c-.4-.4-.92-.59-1.43-.59-.52 0-1.04.2-1.43.59L10.3 9.45l-7.72 7.72c-.78.78-.78 2.05 0 2.83L4 21.41c.39.39.9.59 1.41.59.51 0 1.02-.2 1.41-.59l7.78-7.78 2.81-2.81c.8-.78.8-2.07 0-2.86zM5.41 20L4 18.59l7.72-7.72 1.47 1.35L5.41 20z\"/>\n",
              "  </svg>\n",
              "      </button>\n",
              "      \n",
              "  <style>\n",
              "    .colab-df-container {\n",
              "      display:flex;\n",
              "      flex-wrap:wrap;\n",
              "      gap: 12px;\n",
              "    }\n",
              "\n",
              "    .colab-df-convert {\n",
              "      background-color: #E8F0FE;\n",
              "      border: none;\n",
              "      border-radius: 50%;\n",
              "      cursor: pointer;\n",
              "      display: none;\n",
              "      fill: #1967D2;\n",
              "      height: 32px;\n",
              "      padding: 0 0 0 0;\n",
              "      width: 32px;\n",
              "    }\n",
              "\n",
              "    .colab-df-convert:hover {\n",
              "      background-color: #E2EBFA;\n",
              "      box-shadow: 0px 1px 2px rgba(60, 64, 67, 0.3), 0px 1px 3px 1px rgba(60, 64, 67, 0.15);\n",
              "      fill: #174EA6;\n",
              "    }\n",
              "\n",
              "    [theme=dark] .colab-df-convert {\n",
              "      background-color: #3B4455;\n",
              "      fill: #D2E3FC;\n",
              "    }\n",
              "\n",
              "    [theme=dark] .colab-df-convert:hover {\n",
              "      background-color: #434B5C;\n",
              "      box-shadow: 0px 1px 3px 1px rgba(0, 0, 0, 0.15);\n",
              "      filter: drop-shadow(0px 1px 2px rgba(0, 0, 0, 0.3));\n",
              "      fill: #FFFFFF;\n",
              "    }\n",
              "  </style>\n",
              "\n",
              "      <script>\n",
              "        const buttonEl =\n",
              "          document.querySelector('#df-c0d7d222-b2c9-4ee5-8433-89059a1846ac button.colab-df-convert');\n",
              "        buttonEl.style.display =\n",
              "          google.colab.kernel.accessAllowed ? 'block' : 'none';\n",
              "\n",
              "        async function convertToInteractive(key) {\n",
              "          const element = document.querySelector('#df-c0d7d222-b2c9-4ee5-8433-89059a1846ac');\n",
              "          const dataTable =\n",
              "            await google.colab.kernel.invokeFunction('convertToInteractive',\n",
              "                                                     [key], {});\n",
              "          if (!dataTable) return;\n",
              "\n",
              "          const docLinkHtml = 'Like what you see? Visit the ' +\n",
              "            '<a target=\"_blank\" href=https://colab.research.google.com/notebooks/data_table.ipynb>data table notebook</a>'\n",
              "            + ' to learn more about interactive tables.';\n",
              "          element.innerHTML = '';\n",
              "          dataTable['output_type'] = 'display_data';\n",
              "          await google.colab.output.renderOutput(dataTable, element);\n",
              "          const docLink = document.createElement('div');\n",
              "          docLink.innerHTML = docLinkHtml;\n",
              "          element.appendChild(docLink);\n",
              "        }\n",
              "      </script>\n",
              "    </div>\n",
              "  </div>\n",
              "  "
            ]
          },
          "metadata": {},
          "execution_count": 6
        }
      ],
      "source": [
        "train.head()"
      ]
    },
    {
      "cell_type": "markdown",
      "metadata": {
        "id": "VLyBY1WonueN"
      },
      "source": [
        "## Evaluation merics"
      ]
    },
    {
      "cell_type": "code",
      "execution_count": 7,
      "metadata": {
        "id": "wwBWY1fdnxFw"
      },
      "outputs": [],
      "source": [
        "from xgboost import DMatrix\n",
        "from typing import Tuple\n",
        "# https://www.kaggle.com/code/inversion/amex-competition-metric-python\n",
        "\n",
        "def amex_metric(y_true: pd.DataFrame, y_pred: pd.DataFrame) -> float:\n",
        "\n",
        "    def top_four_percent_captured(y_true: pd.DataFrame, y_pred: pd.DataFrame) -> float:\n",
        "        df = (pd.concat([y_true, y_pred], axis='columns')\n",
        "              .sort_values('prediction', ascending=False))\n",
        "        df['weight'] = df['target'].apply(lambda x: 20 if x==0 else 1)\n",
        "        four_pct_cutoff = int(0.04 * df['weight'].sum())\n",
        "        df['weight_cumsum'] = df['weight'].cumsum()\n",
        "        df_cutoff = df.loc[df['weight_cumsum'] <= four_pct_cutoff]\n",
        "        return (df_cutoff['target'] == 1).sum() / (df['target'] == 1).sum()\n",
        "        \n",
        "    def weighted_gini(y_true: pd.DataFrame, y_pred: pd.DataFrame) -> float:\n",
        "        df = (pd.concat([y_true, y_pred], axis='columns')\n",
        "              .sort_values('prediction', ascending=False))\n",
        "        df['weight'] = df['target'].apply(lambda x: 20 if x==0 else 1)\n",
        "        df['random'] = (df['weight'] / df['weight'].sum()).cumsum()\n",
        "        total_pos = (df['target'] * df['weight']).sum()\n",
        "        df['cum_pos_found'] = (df['target'] * df['weight']).cumsum()\n",
        "        df['lorentz'] = df['cum_pos_found'] / total_pos\n",
        "        df['gini'] = (df['lorentz'] - df['random']) * df['weight']\n",
        "        return df['gini'].sum()\n",
        "\n",
        "    def normalized_weighted_gini(y_true: pd.DataFrame, y_pred: pd.DataFrame) -> float:\n",
        "        y_true_pred = y_true.rename(columns={'target': 'prediction'})\n",
        "        return weighted_gini(y_true, y_pred) / weighted_gini(y_true, y_true_pred)\n",
        "\n",
        "    g = normalized_weighted_gini(y_true, y_pred)\n",
        "    d = top_four_percent_captured(y_true, y_pred)\n",
        "\n",
        "    return 0.5 * (g + d)\n",
        "\n",
        "def xgb_amex_metric(predt: np.ndarray, dtrain: DMatrix) -> Tuple[str, float]:\n",
        "    \"\"\"The competition metric with xgboost's calling convention\"\"\"\n",
        "    y_true = dtrain.get_label()\n",
        "    return 'AmexMetric', amex_metric(pd.DataFrame({'target': y_true}), pd.Series(predt, name='prediction'))"
      ]
    },
    {
      "cell_type": "markdown",
      "metadata": {
        "id": "R5-cpKNRehDB"
      },
      "source": [
        "## Preprocess"
      ]
    },
    {
      "cell_type": "code",
      "execution_count": 8,
      "metadata": {
        "id": "4S8d6gcyed8K"
      },
      "outputs": [],
      "source": [
        "train = train.groupby('customer_ID')\\\n",
        "  .tail(1).set_index('customer_ID', drop=True)\\\n",
        "  .sort_index()\\\n",
        "  .merge(target.set_index('customer_ID', drop=True), left_index=True, right_index=True)\n",
        "test =  test.groupby('customer_ID')\\\n",
        "  .tail(1).set_index('customer_ID', drop=True)\\\n",
        "  .sort_index()"
      ]
    },
    {
      "cell_type": "code",
      "execution_count": 9,
      "metadata": {
        "id": "iOFizKLnjd1S"
      },
      "outputs": [],
      "source": [
        "from sklearn.preprocessing import LabelEncoder\n",
        "\n",
        "def encode_categorical(train, test):\n",
        "  categorical = ['D_63', 'D_64']\n",
        "  for col in categorical:\n",
        "    encoder = LabelEncoder()\n",
        "    encoder.fit(train[col])\n",
        "    train[col] = encoder.transform(train[col])\n",
        "    test[col] = encoder.transform(test[col])\n",
        "  \n",
        "  return train,  test\n",
        "\n",
        "train, test = encode_categorical(train, test)"
      ]
    },
    {
      "cell_type": "code",
      "execution_count": 10,
      "metadata": {
        "colab": {
          "base_uri": "https://localhost:8080/"
        },
        "id": "kBeeOCj6jCdH",
        "outputId": "9d8c3e1a-3a20-4214-fdee-c07d7cdc02ca"
      },
      "outputs": [
        {
          "output_type": "stream",
          "name": "stdout",
          "text": [
            "<class 'pandas.core.frame.DataFrame'>\n",
            "Index: 458913 entries, 0000099d6bd597052cdcda90ffabf56573fe9d7c79be5fbac11a8ed792feb62a to fffff1d38b785cef84adeace64f8f83db3a0c31e8d92eaba8b115f71cab04681\n",
            "Columns: 190 entries, S_2 to target\n",
            "dtypes: datetime64[ns](1), float16(185), int64(2), int8(2)\n",
            "memory usage: 176.8+ MB\n"
          ]
        }
      ],
      "source": [
        "train.info()"
      ]
    },
    {
      "cell_type": "markdown",
      "metadata": {
        "id": "zU8BdAJPixd6"
      },
      "source": [
        "## Select features to use"
      ]
    },
    {
      "cell_type": "code",
      "execution_count": 11,
      "metadata": {
        "id": "UExr1RwmgxPz"
      },
      "outputs": [],
      "source": [
        "features = []\n",
        "unuse = ['customer_ID', 'S_2', 'target']\n",
        "\n",
        "features = [col for col in train.columns if col not in unuse]"
      ]
    },
    {
      "cell_type": "markdown",
      "metadata": {
        "id": "QJPaYC0YjZYf"
      },
      "source": [
        "## Training"
      ]
    },
    {
      "cell_type": "code",
      "execution_count": 12,
      "metadata": {
        "id": "JCZ4n8uMrWxh"
      },
      "outputs": [],
      "source": [
        "def plot_metric(result):\n",
        "  train_metric = result['validation_0']['AmexMetric']\n",
        "  plt.plot(train_metric, label='amex metric')\n",
        "  eval_metric = result['validation_1']['AmexMetric']\n",
        "  plt.plot(eval_metric, label='amex metric')\n",
        "  plt.grid()\n",
        "  plt.legend()\n",
        "  plt.xlabel('rounds')\n",
        "  plt.ylabel('amex metric')\n",
        "  plt.show()"
      ]
    },
    {
      "cell_type": "code",
      "execution_count": 13,
      "metadata": {
        "id": "cU4OQmHSjW9F"
      },
      "outputs": [],
      "source": [
        "from xgboost import XGBClassifier\n",
        "from xgboost.callback import early_stop\n",
        "from sklearn.model_selection import StratifiedKFold\n",
        "\n",
        "def fit_xgb(X, y, params=None):\n",
        "  models = []\n",
        "  scores = []\n",
        "\n",
        "  skf = StratifiedKFold(n_splits=Config.n_splits, shuffle=True, random_state=Config.seed)\n",
        "  \n",
        "  for fold, (train_indices, valid_indices) in enumerate(tqdm(skf.split(X, y))):\n",
        "    print(\"-\"*50+f' fold{fold} '+'-'*50)\n",
        "    X_train, y_train = X.iloc[train_indices], y.iloc[train_indices]\n",
        "    X_valid, y_valid = X.iloc[valid_indices], y.iloc[valid_indices]\n",
        "\n",
        "    model = XGBClassifier(**params,\n",
        "                           booster='gbtree',\n",
        "                           objective='binary:logistic',\n",
        "                           n_estimators=10000,\n",
        "                           random_state=Config.seed,\n",
        "                          #  tree_method='gpu_hist',\n",
        "                           n_jobs=-1,\n",
        "                           verbose=0)\n",
        "    \n",
        "    model.fit(X_train, y_train, \n",
        "              eval_set=[(X_train, y_train), (X_valid, y_valid)],\n",
        "              eval_metric=xgb_amex_metric,\n",
        "              callbacks=[early_stop(10, maximize=True)],\n",
        "              verbose=50)\n",
        "    \n",
        "    # ------------------- prediction -------------------\n",
        "    pred = model.predict_proba(X_valid)[:, 1]\n",
        "    score = amex_metric(pd.DataFrame({'target': y_valid.values}), pd.Series(pred, name='prediction'))\n",
        "\n",
        "    # ------------------- plot -------------------\n",
        "    plot_metric(model.evals_result_)\n",
        "\n",
        "    # ------------------- save -------------------\n",
        "    file = f'{EXP_MODEL}/xgb_fold{fold}.pkl'\n",
        "    model.save_model(file)\n",
        "    scores.append(score)\n",
        "    models.append(model)\n",
        "    print(f'fold{fold} amex meric: {score}')\n",
        "    print()\n",
        "\n",
        "  print(f\"OOF Score: {np.mean(scores):.5f}\")\n",
        "  return models\n",
        "\n",
        "def inference_xgb(models, X):\n",
        "    pred = np.array([model.predict_proba(X) for model in models])\n",
        "    pred = np.mean(pred, axis=0)[:, 1]\n",
        "    return pred"
      ]
    },
    {
      "cell_type": "code",
      "execution_count": 14,
      "metadata": {
        "colab": {
          "base_uri": "https://localhost:8080/",
          "height": 1000,
          "referenced_widgets": [
            "c444bfd33f8c425a9ac20d388b641294",
            "2f33b43d718949a79ed617cd84750361",
            "5c60a9fc87f84c1f92b8934ad7e6796a",
            "39724647137242bcbead8081f8efb4ff",
            "e0d1f124b4ab4f0ca57f3d9e69b4801e",
            "8a40f3a492ae4894a7e4ff28697ac2b1",
            "aa311906d5cc41d1bea8fc9df3e30c90",
            "b58eec1a3887429f9bb6e7cee742145c",
            "fbeb0f5789ee4f25b1fcf6a36cbca71f",
            "9822f80e315e4d268cb1ec8ab53940d8",
            "bd346e265ba648a0bfa611462c686ecc"
          ]
        },
        "id": "fpaLlmnclvDx",
        "outputId": "6e29b84d-e7c4-4f5f-df48-9ecb4c5d49f0"
      },
      "outputs": [
        {
          "data": {
            "application/vnd.jupyter.widget-view+json": {
              "model_id": "c444bfd33f8c425a9ac20d388b641294",
              "version_major": 2,
              "version_minor": 0
            },
            "text/plain": [
              "0it [00:00, ?it/s]"
            ]
          },
          "metadata": {},
          "output_type": "display_data"
        },
        {
          "metadata": {
            "tags": null
          },
          "name": "stdout",
          "output_type": "stream",
          "text": [
            "-------------------------------------------------- fold0 --------------------------------------------------\n",
            "Multiple eval metrics have been passed: 'validation_1-AmexMetric' will be used for early stopping.\n",
            "\n",
            "Will train until validation_1-AmexMetric hasn't improved in 10 rounds.\n",
            "[0]\tvalidation_0-AmexMetric:0.643883\tvalidation_1-AmexMetric:0.6411\n",
            "[50]\tvalidation_0-AmexMetric:0.696499\tvalidation_1-AmexMetric:0.691916\n",
            "[100]\tvalidation_0-AmexMetric:0.707518\tvalidation_1-AmexMetric:0.702753\n",
            "[150]\tvalidation_0-AmexMetric:0.717\tvalidation_1-AmexMetric:0.712411\n",
            "[200]\tvalidation_0-AmexMetric:0.727521\tvalidation_1-AmexMetric:0.723159\n",
            "[250]\tvalidation_0-AmexMetric:0.735826\tvalidation_1-AmexMetric:0.730833\n",
            "[300]\tvalidation_0-AmexMetric:0.74156\tvalidation_1-AmexMetric:0.736388\n",
            "[350]\tvalidation_0-AmexMetric:0.747327\tvalidation_1-AmexMetric:0.741344\n",
            "[400]\tvalidation_0-AmexMetric:0.751539\tvalidation_1-AmexMetric:0.745088\n",
            "[450]\tvalidation_0-AmexMetric:0.755155\tvalidation_1-AmexMetric:0.749539\n",
            "[500]\tvalidation_0-AmexMetric:0.759081\tvalidation_1-AmexMetric:0.752169\n",
            "[550]\tvalidation_0-AmexMetric:0.762209\tvalidation_1-AmexMetric:0.755011\n",
            "[600]\tvalidation_0-AmexMetric:0.764513\tvalidation_1-AmexMetric:0.758414\n",
            "[650]\tvalidation_0-AmexMetric:0.766218\tvalidation_1-AmexMetric:0.760347\n",
            "[700]\tvalidation_0-AmexMetric:0.768111\tvalidation_1-AmexMetric:0.762432\n",
            "Stopping. Best iteration:\n",
            "[721]\tvalidation_0-AmexMetric:0.768912\tvalidation_1-AmexMetric:0.762919\n",
            "\n"
          ]
        },
        {
          "data": {
            "image/png": "[encoded data removed]",
            "text/plain": [
              "<Figure size 432x288 with 1 Axes>"
            ]
          },
          "metadata": {},
          "output_type": "display_data"
        },
        {
          "metadata": {
            "tags": null
          },
          "name": "stdout",
          "output_type": "stream",
          "text": [
            "fold0 amex meric: 0.7627649376795158\n",
            "\n",
            "-------------------------------------------------- fold1 --------------------------------------------------\n",
            "Multiple eval metrics have been passed: 'validation_1-AmexMetric' will be used for early stopping.\n",
            "\n",
            "Will train until validation_1-AmexMetric hasn't improved in 10 rounds.\n",
            "[0]\tvalidation_0-AmexMetric:0.644875\tvalidation_1-AmexMetric:0.64256\n",
            "[50]\tvalidation_0-AmexMetric:0.698593\tvalidation_1-AmexMetric:0.695436\n",
            "[100]\tvalidation_0-AmexMetric:0.707253\tvalidation_1-AmexMetric:0.703891\n",
            "[150]\tvalidation_0-AmexMetric:0.71661\tvalidation_1-AmexMetric:0.713669\n",
            "[200]\tvalidation_0-AmexMetric:0.727294\tvalidation_1-AmexMetric:0.723564\n",
            "[250]\tvalidation_0-AmexMetric:0.73495\tvalidation_1-AmexMetric:0.731699\n",
            "[300]\tvalidation_0-AmexMetric:0.741095\tvalidation_1-AmexMetric:0.73704\n",
            "[350]\tvalidation_0-AmexMetric:0.746634\tvalidation_1-AmexMetric:0.741823\n",
            "[400]\tvalidation_0-AmexMetric:0.750499\tvalidation_1-AmexMetric:0.746467\n",
            "Stopping. Best iteration:\n",
            "[404]\tvalidation_0-AmexMetric:0.75081\tvalidation_1-AmexMetric:0.746762\n",
            "\n"
          ]
        },
        {
          "data": {
            "image/png": "[encoded data removed]",
            "text/plain": [
              "<Figure size 432x288 with 1 Axes>"
            ]
          },
          "metadata": {},
          "output_type": "display_data"
        },
        {
          "metadata": {
            "tags": null
          },
          "name": "stdout",
          "output_type": "stream",
          "text": [
            "fold1 amex meric: 0.7466711350928243\n",
            "\n",
            "-------------------------------------------------- fold2 --------------------------------------------------\n",
            "Multiple eval metrics have been passed: 'validation_1-AmexMetric' will be used for early stopping.\n",
            "\n",
            "Will train until validation_1-AmexMetric hasn't improved in 10 rounds.\n",
            "[0]\tvalidation_0-AmexMetric:0.643628\tvalidation_1-AmexMetric:0.642052\n",
            "[50]\tvalidation_0-AmexMetric:0.697147\tvalidation_1-AmexMetric:0.695461\n",
            "[100]\tvalidation_0-AmexMetric:0.706491\tvalidation_1-AmexMetric:0.706718\n",
            "[150]\tvalidation_0-AmexMetric:0.716095\tvalidation_1-AmexMetric:0.716678\n",
            "[200]\tvalidation_0-AmexMetric:0.726275\tvalidation_1-AmexMetric:0.72628\n",
            "[250]\tvalidation_0-AmexMetric:0.734621\tvalidation_1-AmexMetric:0.7336\n",
            "[300]\tvalidation_0-AmexMetric:0.74036\tvalidation_1-AmexMetric:0.737685\n",
            "[350]\tvalidation_0-AmexMetric:0.745656\tvalidation_1-AmexMetric:0.743632\n",
            "[400]\tvalidation_0-AmexMetric:0.750369\tvalidation_1-AmexMetric:0.747708\n",
            "[450]\tvalidation_0-AmexMetric:0.753931\tvalidation_1-AmexMetric:0.75194\n",
            "[500]\tvalidation_0-AmexMetric:0.757922\tvalidation_1-AmexMetric:0.756192\n",
            "[550]\tvalidation_0-AmexMetric:0.761185\tvalidation_1-AmexMetric:0.758942\n",
            "[600]\tvalidation_0-AmexMetric:0.763554\tvalidation_1-AmexMetric:0.761463\n",
            "[650]\tvalidation_0-AmexMetric:0.765446\tvalidation_1-AmexMetric:0.76354\n",
            "[700]\tvalidation_0-AmexMetric:0.767276\tvalidation_1-AmexMetric:0.765159\n",
            "[750]\tvalidation_0-AmexMetric:0.768731\tvalidation_1-AmexMetric:0.766857\n",
            "Stopping. Best iteration:\n",
            "[741]\tvalidation_0-AmexMetric:0.768504\tvalidation_1-AmexMetric:0.767002\n",
            "\n"
          ]
        },
        {
          "data": {
            "image/png": "[encoded data removed]",
            "text/plain": [
              "<Figure size 432x288 with 1 Axes>"
            ]
          },
          "metadata": {},
          "output_type": "display_data"
        },
        {
          "metadata": {
            "tags": null
          },
          "name": "stdout",
          "output_type": "stream",
          "text": [
            "fold2 amex meric: 0.7668863402859513\n",
            "\n",
            "-------------------------------------------------- fold3 --------------------------------------------------\n",
            "Multiple eval metrics have been passed: 'validation_1-AmexMetric' will be used for early stopping.\n",
            "\n",
            "Will train until validation_1-AmexMetric hasn't improved in 10 rounds.\n",
            "[0]\tvalidation_0-AmexMetric:0.639377\tvalidation_1-AmexMetric:0.642723\n",
            "[50]\tvalidation_0-AmexMetric:0.697422\tvalidation_1-AmexMetric:0.700591\n",
            "[100]\tvalidation_0-AmexMetric:0.707251\tvalidation_1-AmexMetric:0.709948\n",
            "[150]\tvalidation_0-AmexMetric:0.717369\tvalidation_1-AmexMetric:0.719859\n",
            "[200]\tvalidation_0-AmexMetric:0.727084\tvalidation_1-AmexMetric:0.729421\n",
            "[250]\tvalidation_0-AmexMetric:0.734508\tvalidation_1-AmexMetric:0.736233\n",
            "[300]\tvalidation_0-AmexMetric:0.740685\tvalidation_1-AmexMetric:0.742297\n",
            "[350]\tvalidation_0-AmexMetric:0.745793\tvalidation_1-AmexMetric:0.74695\n",
            "Stopping. Best iteration:\n",
            "[357]\tvalidation_0-AmexMetric:0.746035\tvalidation_1-AmexMetric:0.747772\n",
            "\n"
          ]
        },
        {
          "data": {
            "image/png": "[encoded data removed]",
            "text/plain": [
              "<Figure size 432x288 with 1 Axes>"
            ]
          },
          "metadata": {},
          "output_type": "display_data"
        },
        {
          "metadata": {
            "tags": null
          },
          "name": "stdout",
          "output_type": "stream",
          "text": [
            "fold3 amex meric: 0.7475470967745288\n",
            "\n",
            "-------------------------------------------------- fold4 --------------------------------------------------\n",
            "Multiple eval metrics have been passed: 'validation_1-AmexMetric' will be used for early stopping.\n",
            "\n",
            "Will train until validation_1-AmexMetric hasn't improved in 10 rounds.\n",
            "[0]\tvalidation_0-AmexMetric:0.647201\tvalidation_1-AmexMetric:0.646435\n",
            "[50]\tvalidation_0-AmexMetric:0.697858\tvalidation_1-AmexMetric:0.695471\n",
            "[100]\tvalidation_0-AmexMetric:0.707067\tvalidation_1-AmexMetric:0.705633\n",
            "[150]\tvalidation_0-AmexMetric:0.717353\tvalidation_1-AmexMetric:0.714052\n",
            "[200]\tvalidation_0-AmexMetric:0.72708\tvalidation_1-AmexMetric:0.725774\n",
            "[250]\tvalidation_0-AmexMetric:0.734445\tvalidation_1-AmexMetric:0.732983\n",
            "[300]\tvalidation_0-AmexMetric:0.740206\tvalidation_1-AmexMetric:0.739489\n",
            "[350]\tvalidation_0-AmexMetric:0.745432\tvalidation_1-AmexMetric:0.743961\n",
            "[400]\tvalidation_0-AmexMetric:0.750046\tvalidation_1-AmexMetric:0.748583\n",
            "[450]\tvalidation_0-AmexMetric:0.754242\tvalidation_1-AmexMetric:0.752492\n",
            "[500]\tvalidation_0-AmexMetric:0.758016\tvalidation_1-AmexMetric:0.756425\n",
            "[550]\tvalidation_0-AmexMetric:0.761023\tvalidation_1-AmexMetric:0.760305\n",
            "[600]\tvalidation_0-AmexMetric:0.763529\tvalidation_1-AmexMetric:0.763727\n",
            "[650]\tvalidation_0-AmexMetric:0.765431\tvalidation_1-AmexMetric:0.765319\n",
            "Stopping. Best iteration:\n",
            "[645]\tvalidation_0-AmexMetric:0.765221\tvalidation_1-AmexMetric:0.765481\n",
            "\n"
          ]
        },
        {
          "data": {
            "image/png": "[encoded data removed]",
            "text/plain": [
              "<Figure size 432x288 with 1 Axes>"
            ]
          },
          "metadata": {},
          "output_type": "display_data"
        },
        {
          "metadata": {
            "tags": null
          },
          "name": "stdout",
          "output_type": "stream",
          "text": [
            "fold4 amex meric: 0.7653050148481931\n",
            "\n",
            "OOF Score: 0.75783\n"
          ]
        }
      ],
      "source": [
        "xgb_params = {\"learning_rate\": 0.01,\n",
        "              'disable_default_eval_metric': 1}\n",
        "\n",
        "models = fit_xgb(train[features], train[Config.target], params=xgb_params)\n",
        "# models = [joblib.load(f'{EXP_MODEL}/lgbm_fold{i}.pkl') for i in range(Config.n_splits)]\n",
        "pred = inference_xgb(models, test[features])"
      ]
    },
    {
      "cell_type": "markdown",
      "metadata": {
        "id": "ThQ6jTt7z7UC"
      },
      "source": [
        "## Plot importances"
      ]
    },
    {
      "cell_type": "code",
      "execution_count": 15,
      "metadata": {
        "colab": {
          "base_uri": "https://localhost:8080/",
          "height": 218
        },
        "id": "o6-P1Ko-yOUs",
        "outputId": "300e0323-640a-4450-88d0-3f9e8183a2eb"
      },
      "outputs": [
        {
          "output_type": "display_data",
          "data": {
            "text/plain": [
              "<Figure size 3384x360 with 1 Axes>"
            ],
            "image/png": "[encoded data removed]"
          },
          "metadata": {
            "needs_background": "light"
          }
        }
      ],
      "source": [
        "def plot_importances(models):\n",
        "    importance_df = pd.DataFrame(models[0].feature_importances_, \n",
        "                                 index=features, \n",
        "                                 columns=['importance'])\\\n",
        "                        .sort_values(\"importance\", ascending=False)\n",
        "\n",
        "    plt.subplots(figsize=(len(features) // 4, 5))\n",
        "    plt.bar(importance_df.index, importance_df.importance)\n",
        "    plt.grid()\n",
        "    plt.xticks(rotation=90)\n",
        "    plt.ylabel(\"importance\")\n",
        "    plt.tight_layout()\n",
        "    plt.show()\n",
        "\n",
        "plot_importances(models)"
      ]
    },
    {
      "cell_type": "markdown",
      "metadata": {
        "id": "FezzpipU0Zws"
      },
      "source": [
        "## Submission"
      ]
    },
    {
      "cell_type": "code",
      "execution_count": 16,
      "metadata": {
        "id": "dmiIKvGQ0wA7"
      },
      "outputs": [],
      "source": [
        "sub = pd.DataFrame({'customer_ID': test.index,\n",
        "                    'prediction': pred})\n",
        "sub.to_csv(f'{SUBMISSION}/submission.csv', index=False)"
      ]
    },
    {
      "cell_type": "code",
      "execution_count": 17,
      "metadata": {
        "id": "vlJlEJqe1HQZ",
        "colab": {
          "base_uri": "https://localhost:8080/"
        },
        "outputId": "90203b38-5c9b-4bdb-b86a-98462a432b8f"
      },
      "outputs": [
        {
          "output_type": "stream",
          "name": "stdout",
          "text": [
            "100% 67.2M/67.2M [00:01<00:00, 44.4MB/s]\n",
            "Successfully submitted to American Express - Default Prediction"
          ]
        }
      ],
      "source": [
        "! kaggle competitions submit -c amex-default-prediction -f /content/drive/MyDrive/workspace/kaggle-amex/Submission/submission.csv -m \"XGBoost Baseline\""
      ]
    }
  ],
  "metadata": {
    "colab": {
      "background_execution": "on",
      "machine_shape": "hm",
      "name": "Baseline.ipynb",
      "provenance": [],
      "authorship_tag": "ABX9TyOzem7bSGPICfsjXWxvTyGf",
      "include_colab_link": true
    },
    "kernelspec": {
      "display_name": "Python 3",
      "name": "python3"
    },
    "language_info": {
      "name": "python"
    },
    "widgets": {
      "application/vnd.jupyter.widget-state+json": {
        "c444bfd33f8c425a9ac20d388b641294": {
          "model_module": "@jupyter-widgets/controls",
          "model_name": "HBoxModel",
          "model_module_version": "1.5.0",
          "state": {
            "_dom_classes": [],
            "_model_module": "@jupyter-widgets/controls",
            "_model_module_version": "1.5.0",
            "_model_name": "HBoxModel",
            "_view_count": null,
            "_view_module": "@jupyter-widgets/controls",
            "_view_module_version": "1.5.0",
            "_view_name": "HBoxView",
            "box_style": "",
            "children": [
              "IPY_MODEL_2f33b43d718949a79ed617cd84750361",
              "IPY_MODEL_5c60a9fc87f84c1f92b8934ad7e6796a",
              "IPY_MODEL_39724647137242bcbead8081f8efb4ff"
            ],
            "layout": "IPY_MODEL_e0d1f124b4ab4f0ca57f3d9e69b4801e"
          }
        },
        "2f33b43d718949a79ed617cd84750361": {
          "model_module": "@jupyter-widgets/controls",
          "model_name": "HTMLModel",
          "model_module_version": "1.5.0",
          "state": {
            "_dom_classes": [],
            "_model_module": "@jupyter-widgets/controls",
            "_model_module_version": "1.5.0",
            "_model_name": "HTMLModel",
            "_view_count": null,
            "_view_module": "@jupyter-widgets/controls",
            "_view_module_version": "1.5.0",
            "_view_name": "HTMLView",
            "description": "",
            "description_tooltip": null,
            "layout": "IPY_MODEL_8a40f3a492ae4894a7e4ff28697ac2b1",
            "placeholder": "​",
            "style": "IPY_MODEL_aa311906d5cc41d1bea8fc9df3e30c90",
            "value": ""
          }
        },
        "5c60a9fc87f84c1f92b8934ad7e6796a": {
          "model_module": "@jupyter-widgets/controls",
          "model_name": "FloatProgressModel",
          "model_module_version": "1.5.0",
          "state": {
            "_dom_classes": [],
            "_model_module": "@jupyter-widgets/controls",
            "_model_module_version": "1.5.0",
            "_model_name": "FloatProgressModel",
            "_view_count": null,
            "_view_module": "@jupyter-widgets/controls",
            "_view_module_version": "1.5.0",
            "_view_name": "ProgressView",
            "bar_style": "info",
            "description": "",
            "description_tooltip": null,
            "layout": "IPY_MODEL_b58eec1a3887429f9bb6e7cee742145c",
            "max": 1,
            "min": 0,
            "orientation": "horizontal",
            "style": "IPY_MODEL_fbeb0f5789ee4f25b1fcf6a36cbca71f",
            "value": 1
          }
        },
        "39724647137242bcbead8081f8efb4ff": {
          "model_module": "@jupyter-widgets/controls",
          "model_name": "HTMLModel",
          "model_module_version": "1.5.0",
          "state": {
            "_dom_classes": [],
            "_model_module": "@jupyter-widgets/controls",
            "_model_module_version": "1.5.0",
            "_model_name": "HTMLModel",
            "_view_count": null,
            "_view_module": "@jupyter-widgets/controls",
            "_view_module_version": "1.5.0",
            "_view_name": "HTMLView",
            "description": "",
            "description_tooltip": null,
            "layout": "IPY_MODEL_9822f80e315e4d268cb1ec8ab53940d8",
            "placeholder": "​",
            "style": "IPY_MODEL_bd346e265ba648a0bfa611462c686ecc",
            "value": " 4/? [55:21&lt;00:00, 780.15s/it]"
          }
        },
        "e0d1f124b4ab4f0ca57f3d9e69b4801e": {
          "model_module": "@jupyter-widgets/base",
          "model_name": "LayoutModel",
          "model_module_version": "1.2.0",
          "state": {
            "_model_module": "@jupyter-widgets/base",
            "_model_module_version": "1.2.0",
            "_model_name": "LayoutModel",
            "_view_count": null,
            "_view_module": "@jupyter-widgets/base",
            "_view_module_version": "1.2.0",
            "_view_name": "LayoutView",
            "align_content": null,
            "align_items": null,
            "align_self": null,
            "border": null,
            "bottom": null,
            "display": null,
            "flex": null,
            "flex_flow": null,
            "grid_area": null,
            "grid_auto_columns": null,
            "grid_auto_flow": null,
            "grid_auto_rows": null,
            "grid_column": null,
            "grid_gap": null,
            "grid_row": null,
            "grid_template_areas": null,
            "grid_template_columns": null,
            "grid_template_rows": null,
            "height": null,
            "justify_content": null,
            "justify_items": null,
            "left": null,
            "margin": null,
            "max_height": null,
            "max_width": null,
            "min_height": null,
            "min_width": null,
            "object_fit": null,
            "object_position": null,
            "order": null,
            "overflow": null,
            "overflow_x": null,
            "overflow_y": null,
            "padding": null,
            "right": null,
            "top": null,
            "visibility": null,
            "width": null
          }
        },
        "8a40f3a492ae4894a7e4ff28697ac2b1": {
          "model_module": "@jupyter-widgets/base",
          "model_name": "LayoutModel",
          "model_module_version": "1.2.0",
          "state": {
            "_model_module": "@jupyter-widgets/base",
            "_model_module_version": "1.2.0",
            "_model_name": "LayoutModel",
            "_view_count": null,
            "_view_module": "@jupyter-widgets/base",
            "_view_module_version": "1.2.0",
            "_view_name": "LayoutView",
            "align_content": null,
            "align_items": null,
            "align_self": null,
            "border": null,
            "bottom": null,
            "display": null,
            "flex": null,
            "flex_flow": null,
            "grid_area": null,
            "grid_auto_columns": null,
            "grid_auto_flow": null,
            "grid_auto_rows": null,
            "grid_column": null,
            "grid_gap": null,
            "grid_row": null,
            "grid_template_areas": null,
            "grid_template_columns": null,
            "grid_template_rows": null,
            "height": null,
            "justify_content": null,
            "justify_items": null,
            "left": null,
            "margin": null,
            "max_height": null,
            "max_width": null,
            "min_height": null,
            "min_width": null,
            "object_fit": null,
            "object_position": null,
            "order": null,
            "overflow": null,
            "overflow_x": null,
            "overflow_y": null,
            "padding": null,
            "right": null,
            "top": null,
            "visibility": null,
            "width": null
          }
        },
        "aa311906d5cc41d1bea8fc9df3e30c90": {
          "model_module": "@jupyter-widgets/controls",
          "model_name": "DescriptionStyleModel",
          "model_module_version": "1.5.0",
          "state": {
            "_model_module": "@jupyter-widgets/controls",
            "_model_module_version": "1.5.0",
            "_model_name": "DescriptionStyleModel",
            "_view_count": null,
            "_view_module": "@jupyter-widgets/base",
            "_view_module_version": "1.2.0",
            "_view_name": "StyleView",
            "description_width": ""
          }
        },
        "b58eec1a3887429f9bb6e7cee742145c": {
          "model_module": "@jupyter-widgets/base",
          "model_name": "LayoutModel",
          "model_module_version": "1.2.0",
          "state": {
            "_model_module": "@jupyter-widgets/base",
            "_model_module_version": "1.2.0",
            "_model_name": "LayoutModel",
            "_view_count": null,
            "_view_module": "@jupyter-widgets/base",
            "_view_module_version": "1.2.0",
            "_view_name": "LayoutView",
            "align_content": null,
            "align_items": null,
            "align_self": null,
            "border": null,
            "bottom": null,
            "display": null,
            "flex": null,
            "flex_flow": null,
            "grid_area": null,
            "grid_auto_columns": null,
            "grid_auto_flow": null,
            "grid_auto_rows": null,
            "grid_column": null,
            "grid_gap": null,
            "grid_row": null,
            "grid_template_areas": null,
            "grid_template_columns": null,
            "grid_template_rows": null,
            "height": null,
            "justify_content": null,
            "justify_items": null,
            "left": null,
            "margin": null,
            "max_height": null,
            "max_width": null,
            "min_height": null,
            "min_width": null,
            "object_fit": null,
            "object_position": null,
            "order": null,
            "overflow": null,
            "overflow_x": null,
            "overflow_y": null,
            "padding": null,
            "right": null,
            "top": null,
            "visibility": null,
            "width": "20px"
          }
        },
        "fbeb0f5789ee4f25b1fcf6a36cbca71f": {
          "model_module": "@jupyter-widgets/controls",
          "model_name": "ProgressStyleModel",
          "model_module_version": "1.5.0",
          "state": {
            "_model_module": "@jupyter-widgets/controls",
            "_model_module_version": "1.5.0",
            "_model_name": "ProgressStyleModel",
            "_view_count": null,
            "_view_module": "@jupyter-widgets/base",
            "_view_module_version": "1.2.0",
            "_view_name": "StyleView",
            "bar_color": null,
            "description_width": ""
          }
        },
        "9822f80e315e4d268cb1ec8ab53940d8": {
          "model_module": "@jupyter-widgets/base",
          "model_name": "LayoutModel",
          "model_module_version": "1.2.0",
          "state": {
            "_model_module": "@jupyter-widgets/base",
            "_model_module_version": "1.2.0",
            "_model_name": "LayoutModel",
            "_view_count": null,
            "_view_module": "@jupyter-widgets/base",
            "_view_module_version": "1.2.0",
            "_view_name": "LayoutView",
            "align_content": null,
            "align_items": null,
            "align_self": null,
            "border": null,
            "bottom": null,
            "display": null,
            "flex": null,
            "flex_flow": null,
            "grid_area": null,
            "grid_auto_columns": null,
            "grid_auto_flow": null,
            "grid_auto_rows": null,
            "grid_column": null,
            "grid_gap": null,
            "grid_row": null,
            "grid_template_areas": null,
            "grid_template_columns": null,
            "grid_template_rows": null,
            "height": null,
            "justify_content": null,
            "justify_items": null,
            "left": null,
            "margin": null,
            "max_height": null,
            "max_width": null,
            "min_height": null,
            "min_width": null,
            "object_fit": null,
            "object_position": null,
            "order": null,
            "overflow": null,
            "overflow_x": null,
            "overflow_y": null,
            "padding": null,
            "right": null,
            "top": null,
            "visibility": null,
            "width": null
          }
        },
        "bd346e265ba648a0bfa611462c686ecc": {
          "model_module": "@jupyter-widgets/controls",
          "model_name": "DescriptionStyleModel",
          "model_module_version": "1.5.0",
          "state": {
            "_model_module": "@jupyter-widgets/controls",
            "_model_module_version": "1.5.0",
            "_model_name": "DescriptionStyleModel",
            "_view_count": null,
            "_view_module": "@jupyter-widgets/base",
            "_view_module_version": "1.2.0",
            "_view_name": "StyleView",
            "description_width": ""
          }
        }
      }
    }
  },
  "nbformat": 4,
  "nbformat_minor": 0
}