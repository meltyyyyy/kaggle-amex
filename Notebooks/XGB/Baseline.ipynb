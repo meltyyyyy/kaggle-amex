{
  "nbformat": 4,
  "nbformat_minor": 0,
  "metadata": {
    "colab": {
      "name": "Baseline.ipynb",
      "provenance": [],
      "machine_shape": "hm",
      "background_execution": "on",
      "authorship_tag": "ABX9TyMm8NEjWRUe1GFn7cEUiMW3",
      "include_colab_link": true
    },
    "kernelspec": {
      "name": "python3",
      "display_name": "Python 3"
    },
    "language_info": {
      "name": "python"
    }
  },
  "cells": [
    {
      "cell_type": "markdown",
      "metadata": {
        "id": "view-in-github",
        "colab_type": "text"
      },
      "source": [
        "<a href=\"https://colab.research.google.com/github/meltyyyyy/kaggle-amex/blob/main/Notebooks/XGB/Baseline.ipynb\" target=\"_parent\"><img src=\"https://colab.research.google.com/assets/colab-badge.svg\" alt=\"Open In Colab\"/></a>"
      ]
    },
    {
      "cell_type": "code",
      "execution_count": 1,
      "metadata": {
        "id": "ilqJ4rcWc4xO"
      },
      "outputs": [],
      "source": [
        "class Config:\n",
        "    name = \"XGB/Baseline\"\n",
        "\n",
        "    n_splits = 5\n",
        "    seed = 2022\n",
        "    target = \"target\"\n",
        "\n",
        "    # Colab Env\n",
        "    upload_from_colab = True\n",
        "    api_path = \"/content/drive/MyDrive/workspace/kaggle.json\"\n",
        "    drive_path = \"/content/drive/MyDrive/workspace/kaggle-amex\"\n",
        "    \n",
        "    # Kaggle Env\n",
        "    kaggle_dataset_path = None"
      ]
    },
    {
      "cell_type": "code",
      "source": [
        "import os\n",
        "import json\n",
        "import warnings\n",
        "import shutil\n",
        "import logging\n",
        "import joblib\n",
        "import random\n",
        "import datetime\n",
        "import sys\n",
        "import gc\n",
        "import multiprocessing\n",
        "import joblib\n",
        "import pickle\n",
        "\n",
        "import pandas as pd\n",
        "import numpy as np\n",
        "import matplotlib.pyplot as plt\n",
        "import seaborn as sns\n",
        "\n",
        "from tqdm.auto import tqdm\n",
        "warnings.filterwarnings('ignore')"
      ],
      "metadata": {
        "id": "m9Jf525wdD4v"
      },
      "execution_count": 2,
      "outputs": []
    },
    {
      "cell_type": "code",
      "execution_count": 3,
      "metadata": {
        "colab": {
          "base_uri": "https://localhost:8080/"
        },
        "id": "SAwmuAVHgmNG",
        "outputId": "77e6ade5-3b2c-4a48-a629-63bac6d25bd7"
      },
      "outputs": [
        {
          "output_type": "stream",
          "name": "stdout",
          "text": [
            "This environment is Google Colab\n"
          ]
        }
      ],
      "source": [
        "COLAB = \"google.colab\" in sys.modules\n",
        "if COLAB:\n",
        "    print(\"This environment is Google Colab\")\n",
        "    \n",
        "    # mount\n",
        "    from google.colab import drive\n",
        "    if not os.path.isdir(\"/content/drive\"):\n",
        "        drive.mount('/content/drive') \n",
        "\t\n",
        "    # import library\n",
        "    # ! pip install lightgbm==3.3.1\n",
        "    # ! pip install --quiet iterative-stratification\n",
        "    # ! pip install --quiet tensorflow-addons\n",
        "\n",
        "    # use kaggle api (need kaggle token)\n",
        "    f = open(Config.api_path, 'r')\n",
        "    json_data = json.load(f) \n",
        "    os.environ[\"KAGGLE_USERNAME\"] = json_data[\"username\"]\n",
        "    os.environ[\"KAGGLE_KEY\"] = json_data[\"key\"]\n",
        "    \n",
        "    # set dirs\n",
        "    DRIVE = Config.drive_path\n",
        "    EXP = (Config.name if Config.name is not None \n",
        "           else get(\"http://172.28.0.2:9000/api/sessions\").json()[0][\"name\"][:-6])\n",
        "    INPUT = os.path.join(DRIVE, \"Input\")\n",
        "    OUTPUT = os.path.join(DRIVE, \"Output\")\n",
        "    SUBMISSION = os.path.join(DRIVE, \"Submission\")\n",
        "    OUTPUT_EXP = os.path.join(OUTPUT, EXP) \n",
        "    EXP_MODEL = os.path.join(OUTPUT_EXP, \"model\")\n",
        "    EXP_FIG = os.path.join(OUTPUT_EXP, \"fig\")\n",
        "    EXP_PREDS = os.path.join(OUTPUT_EXP, \"preds\")\n",
        "\n",
        "    # make dirs\n",
        "    for d in [INPUT, SUBMISSION, EXP_MODEL, EXP_FIG, EXP_PREDS]:\n",
        "        os.makedirs(d, exist_ok=True)\n",
        "\n",
        "    # if not os.path.isfile(os.path.join(INPUT, \"amex-default-prediction.zip\")):\n",
        "        # load dataset\n",
        "        # ! kaggle competitions download -c amex-default-prediction -p $INPUT \n",
        "else:\n",
        "    print(\"This environment is Kaggle Kernel\")\n",
        "    \n",
        "    # set dirs\n",
        "    INPUT = \"../input/amex-default-prediction\"\n",
        "    EXP, OUTPUT, SUBMISSION = \"./\", \"./\", \"./\"\n",
        "    EXP_MODEL = os.path.join(EXP, \"model\")\n",
        "    EXP_FIG = os.path.join(EXP, \"fig\")\n",
        "    EXP_PREDS = os.path.join(EXP, \"preds\")\n",
        "    \n",
        "    # copy dirs\n",
        "    if Config.kaggle_dataset_path is not None:\n",
        "        KD_MODEL = os.path.join(Config.kaggle_dataset_path, \"model\")\n",
        "        KD_EXP_PREDS = os.path.join(Config.kaggle_dataset_path, \"preds\")\n",
        "        shutil.copytree(KD_MODEL, EXP_MODEL)\n",
        "        shutil.copytree(KD_EXP_PREDS, EXP_PREDS)\n",
        "\n",
        "    # make dirs\n",
        "    for d in [EXP_MODEL, EXP_FIG, EXP_PREDS]:\n",
        "        os.makedirs(d, exist_ok=True)\n"
      ]
    },
    {
      "cell_type": "code",
      "source": [
        "with open(os.path.join(INPUT, 'data_types.json'), \"r\") as rf:\n",
        "    dtypes = json.load(rf)\n",
        "train = pd.read_parquet(os.path.join(INPUT, 'train.parquet') if COLAB else 'train.parquet')\n",
        "train = train.astype(dtypes)\n",
        "target = pd.read_csv(os.path.join(INPUT, 'train_labels.csv') if COLAB else 'train_labels.csv', dtype={'customer_ID': 'str', 'target': 'int8'})\n",
        "# train = pd.read_parquet(os.path.join(INPUT, 'train_small.parquet') if COLAB else 'train_small.parquet')\n",
        "test = pd.read_parquet(os.path.join(INPUT, 'test.parquet') if COLAB else 'test.parquet')\n",
        "test = test.astype(dtypes)"
      ],
      "metadata": {
        "id": "v9cJGrE-dpDA"
      },
      "execution_count": null,
      "outputs": []
    },
    {
      "cell_type": "code",
      "source": [
        "train.info()"
      ],
      "metadata": {
        "id": "d4rytnIReGSi"
      },
      "execution_count": null,
      "outputs": []
    },
    {
      "cell_type": "code",
      "source": [
        "train.head()"
      ],
      "metadata": {
        "id": "7n5KRbzXebh-"
      },
      "execution_count": null,
      "outputs": []
    },
    {
      "cell_type": "markdown",
      "source": [
        "## Evaluation merics"
      ],
      "metadata": {
        "id": "VLyBY1WonueN"
      }
    },
    {
      "cell_type": "code",
      "source": [
        "from xgboost import DMatrix\n",
        "from typing import Tuple\n",
        "# https://www.kaggle.com/code/inversion/amex-competition-metric-python\n",
        "\n",
        "def amex_metric(y_true: pd.DataFrame, y_pred: pd.DataFrame) -> float:\n",
        "\n",
        "    def top_four_percent_captured(y_true: pd.DataFrame, y_pred: pd.DataFrame) -> float:\n",
        "        df = (pd.concat([y_true, y_pred], axis='columns')\n",
        "              .sort_values('prediction', ascending=False))\n",
        "        df['weight'] = df['target'].apply(lambda x: 20 if x==0 else 1)\n",
        "        four_pct_cutoff = int(0.04 * df['weight'].sum())\n",
        "        df['weight_cumsum'] = df['weight'].cumsum()\n",
        "        df_cutoff = df.loc[df['weight_cumsum'] <= four_pct_cutoff]\n",
        "        return (df_cutoff['target'] == 1).sum() / (df['target'] == 1).sum()\n",
        "        \n",
        "    def weighted_gini(y_true: pd.DataFrame, y_pred: pd.DataFrame) -> float:\n",
        "        df = (pd.concat([y_true, y_pred], axis='columns')\n",
        "              .sort_values('prediction', ascending=False))\n",
        "        df['weight'] = df['target'].apply(lambda x: 20 if x==0 else 1)\n",
        "        df['random'] = (df['weight'] / df['weight'].sum()).cumsum()\n",
        "        total_pos = (df['target'] * df['weight']).sum()\n",
        "        df['cum_pos_found'] = (df['target'] * df['weight']).cumsum()\n",
        "        df['lorentz'] = df['cum_pos_found'] / total_pos\n",
        "        df['gini'] = (df['lorentz'] - df['random']) * df['weight']\n",
        "        return df['gini'].sum()\n",
        "\n",
        "    def normalized_weighted_gini(y_true: pd.DataFrame, y_pred: pd.DataFrame) -> float:\n",
        "        y_true_pred = y_true.rename(columns={'target': 'prediction'})\n",
        "        return weighted_gini(y_true, y_pred) / weighted_gini(y_true, y_true_pred)\n",
        "\n",
        "    g = normalized_weighted_gini(y_true, y_pred)\n",
        "    d = top_four_percent_captured(y_true, y_pred)\n",
        "\n",
        "    return 0.5 * (g + d)\n",
        "\n",
        "def xgb_amex_metric(predt: np.ndarray, dtrain: DMatrix) -> Tuple[str, float]:\n",
        "    \"\"\"The competition metric with xgboost's calling convention\"\"\"\n",
        "    y_true = dtrain.get_label()\n",
        "    return 'AmexMetric', amex_metric(pd.DataFrame({'target': y_true}), pd.Series(predt, name='prediction'))"
      ],
      "metadata": {
        "id": "wwBWY1fdnxFw"
      },
      "execution_count": null,
      "outputs": []
    },
    {
      "cell_type": "markdown",
      "source": [
        "## Preprocess"
      ],
      "metadata": {
        "id": "R5-cpKNRehDB"
      }
    },
    {
      "cell_type": "code",
      "source": [
        "# train = train.groupby('customer_ID')\\\n",
        "#   .tail(1).set_index('customer_ID', drop=True)\\\n",
        "#   .sort_index()\\\n",
        "#   .merge(target.set_index('customer_ID', drop=True), left_index=True, right_index=True)\n",
        "test =  test.groupby('customer_ID')\\\n",
        "  .tail(1).set_index('customer_ID', drop=True)\\\n",
        "  .sort_index()"
      ],
      "metadata": {
        "id": "4S8d6gcyed8K"
      },
      "execution_count": null,
      "outputs": []
    },
    {
      "cell_type": "code",
      "source": [
        "from sklearn.preprocessing import LabelEncoder\n",
        "\n",
        "def encode_categorical(train, test):\n",
        "  categorical = ['D_63', 'D_64']\n",
        "  for col in categorical:\n",
        "    encoder = LabelEncoder()\n",
        "    encoder.fit(train[col])\n",
        "    train[col] = encoder.transform(train[col])\n",
        "    test[col] = encoder.transform(test[col])\n",
        "  \n",
        "  return train,  test\n",
        "\n",
        "train, test = encode_categorical(train, test)"
      ],
      "metadata": {
        "id": "iOFizKLnjd1S"
      },
      "execution_count": null,
      "outputs": []
    },
    {
      "cell_type": "code",
      "source": [
        "train.info()"
      ],
      "metadata": {
        "id": "kBeeOCj6jCdH"
      },
      "execution_count": null,
      "outputs": []
    },
    {
      "cell_type": "markdown",
      "source": [
        "## Select features to use"
      ],
      "metadata": {
        "id": "zU8BdAJPixd6"
      }
    },
    {
      "cell_type": "code",
      "source": [
        "features = []\n",
        "unuse = ['customer_ID', 'S_2', 'target']\n",
        "\n",
        "features = [col for col in train.columns if col not in unuse]"
      ],
      "metadata": {
        "id": "UExr1RwmgxPz"
      },
      "execution_count": null,
      "outputs": []
    },
    {
      "cell_type": "markdown",
      "source": [
        "## Training"
      ],
      "metadata": {
        "id": "QJPaYC0YjZYf"
      }
    },
    {
      "cell_type": "code",
      "source": [
        "def plot_metric(result):\n",
        "  train_metric = result['validation_0']['AmexMetric']\n",
        "  plt.plot(train_metric, label='amex metric')\n",
        "  eval_metric = result['validation_1']['AmexMetric']\n",
        "  plt.plot(eval_metric, label='amex metric')\n",
        "  plt.grid()\n",
        "  plt.legend()\n",
        "  plt.xlabel('rounds')\n",
        "  plt.ylabel('amex metric')\n",
        "  plt.show()"
      ],
      "metadata": {
        "id": "JCZ4n8uMrWxh"
      },
      "execution_count": null,
      "outputs": []
    },
    {
      "cell_type": "code",
      "source": [
        "from xgboost import XGBClassifier\n",
        "from xgboost.plotting import plot_tree\n",
        "from sklearn.model_selection import StratifiedKFold\n",
        "\n",
        "def fit_xgb(X, y, params=None):\n",
        "  models = []\n",
        "  scores = []\n",
        "\n",
        "  skf = StratifiedKFold(n_splits=Config.n_splits, shuffle=True, random_state=Config.seed)\n",
        "  \n",
        "  for fold, (train_indices, valid_indices) in enumerate(tqdm(skf.split(X, y))):\n",
        "    print(\"-\"*50+f' fold{fold} '+'-'*50)\n",
        "    X_train, y_train = X.iloc[train_indices], y.iloc[train_indices]\n",
        "    X_valid, y_valid = X.iloc[valid_indices], y.iloc[valid_indices]\n",
        "\n",
        "    model = XGBClassifier(**params,\n",
        "                           booster='gbtree',\n",
        "                           objective='binary:logistic',\n",
        "                           n_estimators=10000,\n",
        "                           random_state=Config.seed,\n",
        "                          #  tree_method='gpu_hist',\n",
        "                           n_jobs=-1,\n",
        "                           verbose=0)\n",
        "    \n",
        "    model.fit(X_train, y_train, \n",
        "              eval_set=[(X_train, y_train), (X_valid, y_valid)],\n",
        "              eval_metric=xgb_amex_metric,\n",
        "              early_stopping_rounds=10,\n",
        "              verbose=50)\n",
        "    \n",
        "    # ------------------- prediction -------------------\n",
        "    pred = model.predict_proba(X_valid)[:, 1]\n",
        "    score = amex_metric(pd.DataFrame({'target': y_valid.values}), pd.Series(pred, name='prediction'))\n",
        "\n",
        "    # ------------------- plot -------------------\n",
        "    plot_metric(model.evals_result_)\n",
        "\n",
        "    # ------------------- save -------------------\n",
        "    file = f'{EXP_MODEL}/lgbm_fold{fold}.pkl'\n",
        "    model.save_model(file)\n",
        "    scores.append(score)\n",
        "    models.append(model)\n",
        "    print(f'fold{fold} amex meric: {score}')\n",
        "    print()\n",
        "\n",
        "  print(f\"OOF Score: {np.mean(scores):.5f}\")\n",
        "  return models\n",
        "\n",
        "def inference_xgb(models, X):\n",
        "    pred = np.array([model.predict_proba(X) for model in models])\n",
        "    pred = np.mean(pred, axis=0)[:, 1]\n",
        "    return pred"
      ],
      "metadata": {
        "id": "cU4OQmHSjW9F"
      },
      "execution_count": null,
      "outputs": []
    },
    {
      "cell_type": "code",
      "source": [
        "xgb_params = {\"learning_rate\": 0.1,\n",
        "              'disable_default_eval_metric': 1}\n",
        "\n",
        "models = fit_xgb(train[features], train[Config.target], params=xgb_params)\n",
        "# models = [joblib.load(f'{EXP_MODEL}/lgbm_fold{i}.pkl') for i in range(Config.n_splits)]\n",
        "pred = inference_xgb(models, test[features])"
      ],
      "metadata": {
        "id": "fpaLlmnclvDx"
      },
      "execution_count": null,
      "outputs": []
    },
    {
      "cell_type": "markdown",
      "source": [
        "## Plot importances"
      ],
      "metadata": {
        "id": "ThQ6jTt7z7UC"
      }
    },
    {
      "cell_type": "code",
      "source": [
        "def plot_importances(models):\n",
        "    importance_df = pd.DataFrame(models[0].feature_importances_, \n",
        "                                 index=features, \n",
        "                                 columns=['importance'])\\\n",
        "                        .sort_values(\"importance\", ascending=False)\n",
        "\n",
        "    plt.subplots(figsize=(len(features) // 4, 5))\n",
        "    plt.bar(importance_df.index, importance_df.importance)\n",
        "    plt.grid()\n",
        "    plt.xticks(rotation=90)\n",
        "    plt.ylabel(\"importance\")\n",
        "    plt.tight_layout()\n",
        "    plt.show()\n",
        "\n",
        "plot_importances(models)"
      ],
      "metadata": {
        "id": "o6-P1Ko-yOUs"
      },
      "execution_count": null,
      "outputs": []
    },
    {
      "cell_type": "markdown",
      "source": [
        "## Submission"
      ],
      "metadata": {
        "id": "FezzpipU0Zws"
      }
    },
    {
      "cell_type": "code",
      "source": [
        "sub = pd.DataFrame({'customer_ID': test.index,\n",
        "                    'prediction': pred})\n",
        "sub.to_csv(f'{SUBMISSION}/submission.csv', index=False)"
      ],
      "metadata": {
        "id": "dmiIKvGQ0wA7"
      },
      "execution_count": null,
      "outputs": []
    },
    {
      "cell_type": "code",
      "source": [
        "! kaggle competitions submit -c amex-default-prediction -f /content/drive/MyDrive/workspace/kaggle-amex/Submission/submission.csv -m \"XGBoost Baseline\""
      ],
      "metadata": {
        "id": "vlJlEJqe1HQZ"
      },
      "execution_count": null,
      "outputs": []
    }
  ]
}