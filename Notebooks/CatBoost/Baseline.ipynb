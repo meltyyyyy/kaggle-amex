{
  "cells": [
    {
      "cell_type": "markdown",
      "metadata": {
        "id": "view-in-github",
        "colab_type": "text"
      },
      "source": [
        "<a href=\"https://colab.research.google.com/github/meltyyyyy/kaggle-amex/blob/main/Notebooks/CatBoost/Baseline.ipynb\" target=\"_parent\"><img src=\"https://colab.research.google.com/assets/colab-badge.svg\" alt=\"Open In Colab\"/></a>"
      ]
    },
    {
      "cell_type": "code",
      "execution_count": null,
      "metadata": {
        "id": "ilqJ4rcWc4xO"
      },
      "outputs": [],
      "source": [
        "class Config:\n",
        "    name = \"CatBoost/Baseline\"\n",
        "\n",
        "    n_splits = 5\n",
        "    seed = 2022\n",
        "    target = \"target\"\n",
        "\n",
        "    # Colab Env\n",
        "    upload_from_colab = True\n",
        "    api_path = \"/content/drive/MyDrive/workspace/kaggle.json\"\n",
        "    drive_path = \"/content/drive/MyDrive/workspace/kaggle-amex\"\n",
        "    \n",
        "    # Kaggle Env\n",
        "    kaggle_dataset_path = None"
      ]
    },
    {
      "cell_type": "code",
      "execution_count": null,
      "metadata": {
        "id": "m9Jf525wdD4v"
      },
      "outputs": [],
      "source": [
        "import os\n",
        "import json\n",
        "import warnings\n",
        "import shutil\n",
        "import logging\n",
        "import joblib\n",
        "import random\n",
        "import datetime\n",
        "import sys\n",
        "import gc\n",
        "import multiprocessing\n",
        "import joblib\n",
        "import pickle\n",
        "\n",
        "import pandas as pd\n",
        "import numpy as np\n",
        "import matplotlib.pyplot as plt\n",
        "import seaborn as sns\n",
        "\n",
        "from tqdm.auto import tqdm\n",
        "warnings.filterwarnings('ignore')"
      ]
    },
    {
      "cell_type": "code",
      "execution_count": null,
      "metadata": {
        "colab": {
          "base_uri": "https://localhost:8080/"
        },
        "id": "SAwmuAVHgmNG",
        "outputId": "1fe66db8-528e-461c-b32e-e44c9a884cac"
      },
      "outputs": [
        {
          "name": "stdout",
          "output_type": "stream",
          "text": [
            "This environment is Google Colab\n"
          ]
        }
      ],
      "source": [
        "COLAB = \"google.colab\" in sys.modules\n",
        "if COLAB:\n",
        "    print(\"This environment is Google Colab\")\n",
        "    \n",
        "    # mount\n",
        "    from google.colab import drive\n",
        "    if not os.path.isdir(\"/content/drive\"):\n",
        "        drive.mount('/content/drive') \n",
        "\t\n",
        "    # import library\n",
        "    ! pip install --quiet catboost\n",
        "    # ! pip install --quiet iterative-stratification\n",
        "    # ! pip install --quiet tensorflow-addons\n",
        "\n",
        "    # use kaggle api (need kaggle token)\n",
        "    f = open(Config.api_path, 'r')\n",
        "    json_data = json.load(f) \n",
        "    os.environ[\"KAGGLE_USERNAME\"] = json_data[\"username\"]\n",
        "    os.environ[\"KAGGLE_KEY\"] = json_data[\"key\"]\n",
        "    \n",
        "    # set dirs\n",
        "    DRIVE = Config.drive_path\n",
        "    EXP = (Config.name if Config.name is not None \n",
        "           else get(\"http://172.28.0.2:9000/api/sessions\").json()[0][\"name\"][:-6])\n",
        "    INPUT = os.path.join(DRIVE, \"Input\")\n",
        "    OUTPUT = os.path.join(DRIVE, \"Output\")\n",
        "    SUBMISSION = os.path.join(DRIVE, \"Submission\")\n",
        "    OUTPUT_EXP = os.path.join(OUTPUT, EXP) \n",
        "    EXP_MODEL = os.path.join(OUTPUT_EXP, \"model\")\n",
        "    EXP_FIG = os.path.join(OUTPUT_EXP, \"fig\")\n",
        "    EXP_PREDS = os.path.join(OUTPUT_EXP, \"preds\")\n",
        "\n",
        "    # make dirs\n",
        "    for d in [INPUT, SUBMISSION, EXP_MODEL, EXP_FIG, EXP_PREDS]:\n",
        "        os.makedirs(d, exist_ok=True)\n",
        "\n",
        "    # if not os.path.isfile(os.path.join(INPUT, \"amex-default-prediction.zip\")):\n",
        "        # load dataset\n",
        "        # ! kaggle competitions download -c amex-default-prediction -p $INPUT \n",
        "else:\n",
        "    print(\"This environment is Kaggle Kernel\")\n",
        "    \n",
        "    # set dirs\n",
        "    INPUT = \"../input/amex-default-prediction\"\n",
        "    EXP, OUTPUT, SUBMISSION = \"./\", \"./\", \"./\"\n",
        "    EXP_MODEL = os.path.join(EXP, \"model\")\n",
        "    EXP_FIG = os.path.join(EXP, \"fig\")\n",
        "    EXP_PREDS = os.path.join(EXP, \"preds\")\n",
        "    \n",
        "    # copy dirs\n",
        "    if Config.kaggle_dataset_path is not None:\n",
        "        KD_MODEL = os.path.join(Config.kaggle_dataset_path, \"model\")\n",
        "        KD_EXP_PREDS = os.path.join(Config.kaggle_dataset_path, \"preds\")\n",
        "        shutil.copytree(KD_MODEL, EXP_MODEL)\n",
        "        shutil.copytree(KD_EXP_PREDS, EXP_PREDS)\n",
        "\n",
        "    # make dirs\n",
        "    for d in [EXP_MODEL, EXP_FIG, EXP_PREDS]:\n",
        "        os.makedirs(d, exist_ok=True)\n"
      ]
    },
    {
      "cell_type": "code",
      "execution_count": null,
      "metadata": {
        "colab": {
          "background_save": true
        },
        "id": "v9cJGrE-dpDA"
      },
      "outputs": [],
      "source": [
        "with open(os.path.join(INPUT, 'data_types.json'), \"r\") as rf:\n",
        "    dtypes = json.load(rf)\n",
        "train = pd.read_parquet(os.path.join(INPUT, 'train.parquet') if COLAB else 'train.parquet')\n",
        "train = train.astype(dtypes)\n",
        "target = pd.read_csv(os.path.join(INPUT, 'train_labels.csv') if COLAB else 'train_labels.csv', dtype={'customer_ID': 'str', 'target': 'int8'})\n",
        "# train = pd.read_parquet(os.path.join(INPUT, 'train_small.parquet') if COLAB else 'train_small.parquet')\n",
        "test = pd.read_parquet(os.path.join(INPUT, 'test.parquet') if COLAB else 'test.parquet')\n",
        "test = test.astype(dtypes)"
      ]
    },
    {
      "cell_type": "code",
      "execution_count": null,
      "metadata": {
        "colab": {
          "background_save": true,
          "base_uri": "https://localhost:8080/"
        },
        "id": "d4rytnIReGSi",
        "outputId": "4a98c3a7-63ec-44d1-8318-ab2b16fbcbe4"
      },
      "outputs": [
        {
          "name": "stdout",
          "output_type": "stream",
          "text": [
            "<class 'pandas.core.frame.DataFrame'>\n",
            "RangeIndex: 5531451 entries, 0 to 5531450\n",
            "Columns: 190 entries, customer_ID to D_145\n",
            "dtypes: category(2), datetime64[ns](1), float16(185), int8(1), object(1)\n",
            "memory usage: 2.0+ GB\n"
          ]
        }
      ],
      "source": [
        "train.info()"
      ]
    },
    {
      "cell_type": "code",
      "execution_count": null,
      "metadata": {
        "colab": {
          "background_save": true,
          "base_uri": "https://localhost:8080/",
          "height": 404
        },
        "id": "7n5KRbzXebh-",
        "outputId": "805ec2dc-f012-4912-be16-8b353de2e697"
      },
      "outputs": [
        {
          "data": {
            "text/html": [
              "\n",
              "  <div id=\"df-01f80150-73d5-4b66-a255-70d4ad16f8ae\">\n",
              "    <div class=\"colab-df-container\">\n",
              "      <div>\n",
              "<style scoped>\n",
              "    .dataframe tbody tr th:only-of-type {\n",
              "        vertical-align: middle;\n",
              "    }\n",
              "\n",
              "    .dataframe tbody tr th {\n",
              "        vertical-align: top;\n",
              "    }\n",
              "\n",
              "    .dataframe thead th {\n",
              "        text-align: right;\n",
              "    }\n",
              "</style>\n",
              "<table border=\"1\" class=\"dataframe\">\n",
              "  <thead>\n",
              "    <tr style=\"text-align: right;\">\n",
              "      <th></th>\n",
              "      <th>customer_ID</th>\n",
              "      <th>S_2</th>\n",
              "      <th>P_2</th>\n",
              "      <th>D_39</th>\n",
              "      <th>B_1</th>\n",
              "      <th>B_2</th>\n",
              "      <th>R_1</th>\n",
              "      <th>S_3</th>\n",
              "      <th>D_41</th>\n",
              "      <th>B_3</th>\n",
              "      <th>...</th>\n",
              "      <th>D_136</th>\n",
              "      <th>D_137</th>\n",
              "      <th>D_138</th>\n",
              "      <th>D_139</th>\n",
              "      <th>D_140</th>\n",
              "      <th>D_141</th>\n",
              "      <th>D_142</th>\n",
              "      <th>D_143</th>\n",
              "      <th>D_144</th>\n",
              "      <th>D_145</th>\n",
              "    </tr>\n",
              "  </thead>\n",
              "  <tbody>\n",
              "    <tr>\n",
              "      <th>0</th>\n",
              "      <td>0000099d6bd597052cdcda90ffabf56573fe9d7c79be5f...</td>\n",
              "      <td>2017-03-09</td>\n",
              "      <td>0.938477</td>\n",
              "      <td>0.001734</td>\n",
              "      <td>0.008728</td>\n",
              "      <td>1.006836</td>\n",
              "      <td>0.009224</td>\n",
              "      <td>0.124023</td>\n",
              "      <td>0.008774</td>\n",
              "      <td>0.004707</td>\n",
              "      <td>...</td>\n",
              "      <td>NaN</td>\n",
              "      <td>NaN</td>\n",
              "      <td>NaN</td>\n",
              "      <td>0.002426</td>\n",
              "      <td>0.003706</td>\n",
              "      <td>0.003819</td>\n",
              "      <td>NaN</td>\n",
              "      <td>0.000569</td>\n",
              "      <td>0.000610</td>\n",
              "      <td>0.002674</td>\n",
              "    </tr>\n",
              "    <tr>\n",
              "      <th>1</th>\n",
              "      <td>0000099d6bd597052cdcda90ffabf56573fe9d7c79be5f...</td>\n",
              "      <td>2017-04-07</td>\n",
              "      <td>0.936523</td>\n",
              "      <td>0.005775</td>\n",
              "      <td>0.004925</td>\n",
              "      <td>1.000977</td>\n",
              "      <td>0.006153</td>\n",
              "      <td>0.126709</td>\n",
              "      <td>0.000798</td>\n",
              "      <td>0.002714</td>\n",
              "      <td>...</td>\n",
              "      <td>NaN</td>\n",
              "      <td>NaN</td>\n",
              "      <td>NaN</td>\n",
              "      <td>0.003956</td>\n",
              "      <td>0.003166</td>\n",
              "      <td>0.005032</td>\n",
              "      <td>NaN</td>\n",
              "      <td>0.009575</td>\n",
              "      <td>0.005493</td>\n",
              "      <td>0.009216</td>\n",
              "    </tr>\n",
              "    <tr>\n",
              "      <th>2</th>\n",
              "      <td>0000099d6bd597052cdcda90ffabf56573fe9d7c79be5f...</td>\n",
              "      <td>2017-05-28</td>\n",
              "      <td>0.954102</td>\n",
              "      <td>0.091492</td>\n",
              "      <td>0.021652</td>\n",
              "      <td>1.009766</td>\n",
              "      <td>0.006817</td>\n",
              "      <td>0.123962</td>\n",
              "      <td>0.007599</td>\n",
              "      <td>0.009422</td>\n",
              "      <td>...</td>\n",
              "      <td>NaN</td>\n",
              "      <td>NaN</td>\n",
              "      <td>NaN</td>\n",
              "      <td>0.003269</td>\n",
              "      <td>0.007328</td>\n",
              "      <td>0.000427</td>\n",
              "      <td>NaN</td>\n",
              "      <td>0.003429</td>\n",
              "      <td>0.006985</td>\n",
              "      <td>0.002604</td>\n",
              "    </tr>\n",
              "    <tr>\n",
              "      <th>3</th>\n",
              "      <td>0000099d6bd597052cdcda90ffabf56573fe9d7c79be5f...</td>\n",
              "      <td>2017-06-13</td>\n",
              "      <td>0.960449</td>\n",
              "      <td>0.002455</td>\n",
              "      <td>0.013687</td>\n",
              "      <td>1.002930</td>\n",
              "      <td>0.001372</td>\n",
              "      <td>0.117188</td>\n",
              "      <td>0.000685</td>\n",
              "      <td>0.005531</td>\n",
              "      <td>...</td>\n",
              "      <td>NaN</td>\n",
              "      <td>NaN</td>\n",
              "      <td>NaN</td>\n",
              "      <td>0.006119</td>\n",
              "      <td>0.004517</td>\n",
              "      <td>0.003201</td>\n",
              "      <td>NaN</td>\n",
              "      <td>0.008423</td>\n",
              "      <td>0.006527</td>\n",
              "      <td>0.009598</td>\n",
              "    </tr>\n",
              "    <tr>\n",
              "      <th>4</th>\n",
              "      <td>0000099d6bd597052cdcda90ffabf56573fe9d7c79be5f...</td>\n",
              "      <td>2017-07-16</td>\n",
              "      <td>0.947266</td>\n",
              "      <td>0.002483</td>\n",
              "      <td>0.015190</td>\n",
              "      <td>1.000977</td>\n",
              "      <td>0.007607</td>\n",
              "      <td>0.117310</td>\n",
              "      <td>0.004654</td>\n",
              "      <td>0.009308</td>\n",
              "      <td>...</td>\n",
              "      <td>NaN</td>\n",
              "      <td>NaN</td>\n",
              "      <td>NaN</td>\n",
              "      <td>0.003672</td>\n",
              "      <td>0.004944</td>\n",
              "      <td>0.008888</td>\n",
              "      <td>NaN</td>\n",
              "      <td>0.001670</td>\n",
              "      <td>0.008125</td>\n",
              "      <td>0.009827</td>\n",
              "    </tr>\n",
              "  </tbody>\n",
              "</table>\n",
              "<p>5 rows × 190 columns</p>\n",
              "</div>\n",
              "      <button class=\"colab-df-convert\" onclick=\"convertToInteractive('df-01f80150-73d5-4b66-a255-70d4ad16f8ae')\"\n",
              "              title=\"Convert this dataframe to an interactive table.\"\n",
              "              style=\"display:none;\">\n",
              "        \n",
              "  <svg xmlns=\"http://www.w3.org/2000/svg\" height=\"24px\"viewBox=\"0 0 24 24\"\n",
              "       width=\"24px\">\n",
              "    <path d=\"M0 0h24v24H0V0z\" fill=\"none\"/>\n",
              "    <path d=\"M18.56 5.44l.94 2.06.94-2.06 2.06-.94-2.06-.94-.94-2.06-.94 2.06-2.06.94zm-11 1L8.5 8.5l.94-2.06 2.06-.94-2.06-.94L8.5 2.5l-.94 2.06-2.06.94zm10 10l.94 2.06.94-2.06 2.06-.94-2.06-.94-.94-2.06-.94 2.06-2.06.94z\"/><path d=\"M17.41 7.96l-1.37-1.37c-.4-.4-.92-.59-1.43-.59-.52 0-1.04.2-1.43.59L10.3 9.45l-7.72 7.72c-.78.78-.78 2.05 0 2.83L4 21.41c.39.39.9.59 1.41.59.51 0 1.02-.2 1.41-.59l7.78-7.78 2.81-2.81c.8-.78.8-2.07 0-2.86zM5.41 20L4 18.59l7.72-7.72 1.47 1.35L5.41 20z\"/>\n",
              "  </svg>\n",
              "      </button>\n",
              "      \n",
              "  <style>\n",
              "    .colab-df-container {\n",
              "      display:flex;\n",
              "      flex-wrap:wrap;\n",
              "      gap: 12px;\n",
              "    }\n",
              "\n",
              "    .colab-df-convert {\n",
              "      background-color: #E8F0FE;\n",
              "      border: none;\n",
              "      border-radius: 50%;\n",
              "      cursor: pointer;\n",
              "      display: none;\n",
              "      fill: #1967D2;\n",
              "      height: 32px;\n",
              "      padding: 0 0 0 0;\n",
              "      width: 32px;\n",
              "    }\n",
              "\n",
              "    .colab-df-convert:hover {\n",
              "      background-color: #E2EBFA;\n",
              "      box-shadow: 0px 1px 2px rgba(60, 64, 67, 0.3), 0px 1px 3px 1px rgba(60, 64, 67, 0.15);\n",
              "      fill: #174EA6;\n",
              "    }\n",
              "\n",
              "    [theme=dark] .colab-df-convert {\n",
              "      background-color: #3B4455;\n",
              "      fill: #D2E3FC;\n",
              "    }\n",
              "\n",
              "    [theme=dark] .colab-df-convert:hover {\n",
              "      background-color: #434B5C;\n",
              "      box-shadow: 0px 1px 3px 1px rgba(0, 0, 0, 0.15);\n",
              "      filter: drop-shadow(0px 1px 2px rgba(0, 0, 0, 0.3));\n",
              "      fill: #FFFFFF;\n",
              "    }\n",
              "  </style>\n",
              "\n",
              "      <script>\n",
              "        const buttonEl =\n",
              "          document.querySelector('#df-01f80150-73d5-4b66-a255-70d4ad16f8ae button.colab-df-convert');\n",
              "        buttonEl.style.display =\n",
              "          google.colab.kernel.accessAllowed ? 'block' : 'none';\n",
              "\n",
              "        async function convertToInteractive(key) {\n",
              "          const element = document.querySelector('#df-01f80150-73d5-4b66-a255-70d4ad16f8ae');\n",
              "          const dataTable =\n",
              "            await google.colab.kernel.invokeFunction('convertToInteractive',\n",
              "                                                     [key], {});\n",
              "          if (!dataTable) return;\n",
              "\n",
              "          const docLinkHtml = 'Like what you see? Visit the ' +\n",
              "            '<a target=\"_blank\" href=https://colab.research.google.com/notebooks/data_table.ipynb>data table notebook</a>'\n",
              "            + ' to learn more about interactive tables.';\n",
              "          element.innerHTML = '';\n",
              "          dataTable['output_type'] = 'display_data';\n",
              "          await google.colab.output.renderOutput(dataTable, element);\n",
              "          const docLink = document.createElement('div');\n",
              "          docLink.innerHTML = docLinkHtml;\n",
              "          element.appendChild(docLink);\n",
              "        }\n",
              "      </script>\n",
              "    </div>\n",
              "  </div>\n",
              "  "
            ],
            "text/plain": [
              "                                         customer_ID        S_2       P_2  \\\n",
              "0  0000099d6bd597052cdcda90ffabf56573fe9d7c79be5f... 2017-03-09  0.938477   \n",
              "1  0000099d6bd597052cdcda90ffabf56573fe9d7c79be5f... 2017-04-07  0.936523   \n",
              "2  0000099d6bd597052cdcda90ffabf56573fe9d7c79be5f... 2017-05-28  0.954102   \n",
              "3  0000099d6bd597052cdcda90ffabf56573fe9d7c79be5f... 2017-06-13  0.960449   \n",
              "4  0000099d6bd597052cdcda90ffabf56573fe9d7c79be5f... 2017-07-16  0.947266   \n",
              "\n",
              "       D_39       B_1       B_2       R_1       S_3      D_41       B_3  ...  \\\n",
              "0  0.001734  0.008728  1.006836  0.009224  0.124023  0.008774  0.004707  ...   \n",
              "1  0.005775  0.004925  1.000977  0.006153  0.126709  0.000798  0.002714  ...   \n",
              "2  0.091492  0.021652  1.009766  0.006817  0.123962  0.007599  0.009422  ...   \n",
              "3  0.002455  0.013687  1.002930  0.001372  0.117188  0.000685  0.005531  ...   \n",
              "4  0.002483  0.015190  1.000977  0.007607  0.117310  0.004654  0.009308  ...   \n",
              "\n",
              "   D_136  D_137  D_138     D_139     D_140     D_141  D_142     D_143  \\\n",
              "0    NaN    NaN    NaN  0.002426  0.003706  0.003819    NaN  0.000569   \n",
              "1    NaN    NaN    NaN  0.003956  0.003166  0.005032    NaN  0.009575   \n",
              "2    NaN    NaN    NaN  0.003269  0.007328  0.000427    NaN  0.003429   \n",
              "3    NaN    NaN    NaN  0.006119  0.004517  0.003201    NaN  0.008423   \n",
              "4    NaN    NaN    NaN  0.003672  0.004944  0.008888    NaN  0.001670   \n",
              "\n",
              "      D_144     D_145  \n",
              "0  0.000610  0.002674  \n",
              "1  0.005493  0.009216  \n",
              "2  0.006985  0.002604  \n",
              "3  0.006527  0.009598  \n",
              "4  0.008125  0.009827  \n",
              "\n",
              "[5 rows x 190 columns]"
            ]
          },
          "execution_count": null,
          "metadata": {},
          "output_type": "execute_result"
        }
      ],
      "source": [
        "train.head()"
      ]
    },
    {
      "cell_type": "markdown",
      "metadata": {
        "id": "VLyBY1WonueN"
      },
      "source": [
        "## Evaluation merics"
      ]
    },
    {
      "cell_type": "code",
      "execution_count": null,
      "metadata": {
        "colab": {
          "background_save": true
        },
        "id": "wwBWY1fdnxFw"
      },
      "outputs": [],
      "source": [
        "# https://www.kaggle.com/code/inversion/amex-competition-metric-python\n",
        "\n",
        "def amex_metric(y_true: pd.DataFrame, y_pred: pd.DataFrame) -> float:\n",
        "\n",
        "    def top_four_percent_captured(y_true: pd.DataFrame, y_pred: pd.DataFrame) -> float:\n",
        "        df = (pd.concat([y_true, y_pred], axis='columns')\n",
        "              .sort_values('prediction', ascending=False))\n",
        "        df['weight'] = df['target'].apply(lambda x: 20 if x==0 else 1)\n",
        "        four_pct_cutoff = int(0.04 * df['weight'].sum())\n",
        "        df['weight_cumsum'] = df['weight'].cumsum()\n",
        "        df_cutoff = df.loc[df['weight_cumsum'] <= four_pct_cutoff]\n",
        "        return (df_cutoff['target'] == 1).sum() / (df['target'] == 1).sum()\n",
        "        \n",
        "    def weighted_gini(y_true: pd.DataFrame, y_pred: pd.DataFrame) -> float:\n",
        "        df = (pd.concat([y_true, y_pred], axis='columns')\n",
        "              .sort_values('prediction', ascending=False))\n",
        "        df['weight'] = df['target'].apply(lambda x: 20 if x==0 else 1)\n",
        "        df['random'] = (df['weight'] / df['weight'].sum()).cumsum()\n",
        "        total_pos = (df['target'] * df['weight']).sum()\n",
        "        df['cum_pos_found'] = (df['target'] * df['weight']).cumsum()\n",
        "        df['lorentz'] = df['cum_pos_found'] / total_pos\n",
        "        df['gini'] = (df['lorentz'] - df['random']) * df['weight']\n",
        "        return df['gini'].sum()\n",
        "\n",
        "    def normalized_weighted_gini(y_true: pd.DataFrame, y_pred: pd.DataFrame) -> float:\n",
        "        y_true_pred = y_true.rename(columns={'target': 'prediction'})\n",
        "        return weighted_gini(y_true, y_pred) / weighted_gini(y_true, y_true_pred)\n",
        "\n",
        "    g = normalized_weighted_gini(y_true, y_pred)\n",
        "    d = top_four_percent_captured(y_true, y_pred)\n",
        "\n",
        "    return 0.5 * (g + d)\n",
        "\n",
        "class AmexMetric(object):\n",
        "    def get_final_error(self, error, weight):\n",
        "        return error\n",
        "\n",
        "    def is_max_optimal(self):\n",
        "        # the larger metric value the better\n",
        "        return True\n",
        "\n",
        "    def evaluate(self, approxes, target, weight):\n",
        "        assert len(approxes) == 1\n",
        "        assert len(target) == len(approxes[0])\n",
        "        preds = np.array(approxes[0])\n",
        "        target = np.array(target)\n",
        "        return amex_metric(pd.DataFrame({'target': target}), pd.Series(preds, name='prediction')), 0"
      ]
    },
    {
      "cell_type": "markdown",
      "metadata": {
        "id": "R5-cpKNRehDB"
      },
      "source": [
        "## Preprocess"
      ]
    },
    {
      "cell_type": "code",
      "execution_count": null,
      "metadata": {
        "colab": {
          "background_save": true
        },
        "id": "4S8d6gcyed8K"
      },
      "outputs": [],
      "source": [
        "train = train.groupby('customer_ID')\\\n",
        "  .tail(1).set_index('customer_ID', drop=True)\\\n",
        "  .sort_index()\\\n",
        "  .merge(target.set_index('customer_ID', drop=True), left_index=True, right_index=True)\n",
        "test =  test.groupby('customer_ID')\\\n",
        "  .tail(1).set_index('customer_ID', drop=True)\\\n",
        "  .sort_index()"
      ]
    },
    {
      "cell_type": "markdown",
      "metadata": {
        "id": "zU8BdAJPixd6"
      },
      "source": [
        "## Select features to use"
      ]
    },
    {
      "cell_type": "code",
      "execution_count": null,
      "metadata": {
        "colab": {
          "background_save": true,
          "base_uri": "https://localhost:8080/"
        },
        "id": "UExr1RwmgxPz",
        "outputId": "de4e2291-acc9-454a-c512-9f5c221520eb"
      },
      "outputs": [
        {
          "name": "stdout",
          "output_type": "stream",
          "text": [
            "<class 'pandas.core.frame.DataFrame'>\n",
            "Index: 458913 entries, 0000099d6bd597052cdcda90ffabf56573fe9d7c79be5fbac11a8ed792feb62a to fffff1d38b785cef84adeace64f8f83db3a0c31e8d92eaba8b115f71cab04681\n",
            "Columns: 190 entries, S_2 to target\n",
            "dtypes: datetime64[ns](1), float16(176), int8(2), object(11)\n",
            "memory usage: 200.4+ MB\n"
          ]
        }
      ],
      "source": [
        "features = []\n",
        "unuse = ['customer_ID', 'S_2', 'target']\n",
        "categorical = ['B_30', 'B_38', 'D_114', 'D_116', 'D_117', 'D_120', 'D_126', 'D_63', 'D_64', 'D_66', 'D_68']\n",
        "\n",
        "features = [col for col in train.columns if col not in unuse]\n",
        "\n",
        "# convert categorical features into string for catboost training\n",
        "for col in categorical:\n",
        "  train[col] = train[col].astype('str')\n",
        "  test[col] = test[col].astype('str')\n",
        "train.info()"
      ]
    },
    {
      "cell_type": "markdown",
      "metadata": {
        "id": "QJPaYC0YjZYf"
      },
      "source": [
        "## Training"
      ]
    },
    {
      "cell_type": "code",
      "execution_count": null,
      "metadata": {
        "colab": {
          "background_save": true
        },
        "id": "cU4OQmHSjW9F"
      },
      "outputs": [],
      "source": [
        "from catboost import CatBoostClassifier\n",
        "from sklearn.model_selection import StratifiedKFold\n",
        "\n",
        "def fit_catboost(X, y, cat_features=None, params=None):\n",
        "  models = []\n",
        "  scores = []\n",
        "\n",
        "  skf = StratifiedKFold(n_splits=Config.n_splits, shuffle=True, random_state=Config.seed)\n",
        "  \n",
        "  for fold, (train_indices, valid_indices) in enumerate(tqdm(skf.split(X, y))):\n",
        "    print(\"-\"*50+f' fold{fold} '+'-'*50)\n",
        "    X_train, y_train = X.iloc[train_indices], y.iloc[train_indices]\n",
        "    X_valid, y_valid = X.iloc[valid_indices], y.iloc[valid_indices]\n",
        "\n",
        "    model = CatBoostClassifier(**params,\n",
        "                               cat_features=cat_features,\n",
        "                               eval_metric=AmexMetric(),\n",
        "                              #  task_type='GPU',\n",
        "                               iterations=10000,\n",
        "                               random_seed=Config.seed,\n",
        "                               verbose=0)\n",
        "    \n",
        "    model.fit(X_train, y_train,\n",
        "              cat_features=cat_features,\n",
        "              eval_set=[(X_train, y_train), (X_valid, y_valid)],\n",
        "              early_stopping_rounds=10,\n",
        "              verbose_eval=50)\n",
        "    \n",
        "    # ------------------- prediction -------------------\n",
        "    pred = model.predict_proba(X_valid)[:, 1]\n",
        "    score = amex_metric(pd.DataFrame({'target': y_valid.values}), pd.Series(pred, name='prediction'))\n",
        "\n",
        "    # ------------------- save -------------------\n",
        "    file = f'{EXP_MODEL}/catboost_fold{fold}.pkl'\n",
        "    model.save_model(file, format='cbm')\n",
        "    scores.append(score)\n",
        "    models.append(model)\n",
        "    print(f'fold{fold} amex meric: {score}')\n",
        "    print()\n",
        "\n",
        "  print(f\"OOF Score: {np.mean(scores):.5f}\")\n",
        "  return models\n",
        "\n",
        "def inference_catboost(models, X):\n",
        "    pred = np.array([model.predict_proba(X) for model in models])\n",
        "    pred = np.mean(pred, axis=0)[:, 1]\n",
        "    return pred"
      ]
    },
    {
      "cell_type": "code",
      "execution_count": null,
      "metadata": {
        "colab": {
          "background_save": true,
          "base_uri": "https://localhost:8080/",
          "height": 85,
          "referenced_widgets": [
            "e475cb65f9924622881fa3dd585fe315"
          ]
        },
        "id": "fpaLlmnclvDx",
        "outputId": "7f23705f-9757-4593-83b0-1d729d4ea6d8"
      },
      "outputs": [
        {
          "data": {
            "application/vnd.jupyter.widget-view+json": {
              "model_id": "e475cb65f9924622881fa3dd585fe315",
              "version_major": 2,
              "version_minor": 0
            },
            "text/plain": [
              "0it [00:00, ?it/s]"
            ]
          },
          "metadata": {},
          "output_type": "display_data"
        },
        {
          "name": "stdout",
          "output_type": "stream",
          "text": [
            "-------------------------------------------------- fold0 --------------------------------------------------\n",
            "0:\tlearn: 0.6769880\ttest: 0.6766425\ttest1: 0.6745639\tbest: 0.6745639 (0)\ttotal: 1.81s\tremaining: 5h 2m 23s\n",
            "50:\tlearn: 0.7319654\ttest: 0.7319652\ttest1: 0.7283773\tbest: 0.7283773 (50)\ttotal: 1m 27s\tremaining: 4h 46m 4s\n",
            "100:\tlearn: 0.7424655\ttest: 0.7424655\ttest1: 0.7388525\tbest: 0.7389936 (98)\ttotal: 2m 55s\tremaining: 4h 45m 56s\n",
            "150:\tlearn: 0.7508101\ttest: 0.7508101\ttest1: 0.7469790\tbest: 0.7469790 (150)\ttotal: 4m 21s\tremaining: 4h 44m 3s\n",
            "200:\tlearn: 0.7564429\ttest: 0.7564429\ttest1: 0.7532350\tbest: 0.7532350 (200)\ttotal: 5m 46s\tremaining: 4h 41m 47s\n",
            "250:\tlearn: 0.7612781\ttest: 0.7612781\ttest1: 0.7573785\tbest: 0.7573785 (250)\ttotal: 7m 12s\tremaining: 4h 40m 2s\n",
            "Stopped by overfitting detector  (10 iterations wait)\n",
            "\n",
            "bestTest = 0.7578947893\n",
            "bestIteration = 256\n",
            "\n",
            "Shrink model to first 257 iterations.\n",
            "fold0 amex meric: 0.757894789319144\n",
            "\n",
            "-------------------------------------------------- fold1 --------------------------------------------------\n",
            "0:\tlearn: 0.6694493\ttest: 0.6689370\ttest1: 0.6665136\tbest: 0.6665136 (0)\ttotal: 1.67s\tremaining: 4h 38m 48s\n",
            "50:\tlearn: 0.7306492\ttest: 0.7306491\ttest1: 0.7267341\tbest: 0.7267341 (50)\ttotal: 1m 26s\tremaining: 4h 40m 45s\n",
            "100:\tlearn: 0.7419992\ttest: 0.7419991\ttest1: 0.7365987\tbest: 0.7366403 (99)\ttotal: 2m 52s\tremaining: 4h 41m 13s\n",
            "150:\tlearn: 0.7503824\ttest: 0.7503826\ttest1: 0.7466554\tbest: 0.7466554 (150)\ttotal: 4m 17s\tremaining: 4h 40m 6s\n",
            "200:\tlearn: 0.7565658\ttest: 0.7565658\ttest1: 0.7525456\tbest: 0.7525456 (200)\ttotal: 5m 42s\tremaining: 4h 38m 31s\n",
            "250:\tlearn: 0.7608190\ttest: 0.7608138\ttest1: 0.7567390\tbest: 0.7567390 (250)\ttotal: 7m 8s\tremaining: 4h 37m 38s\n",
            "300:\tlearn: 0.7644819\ttest: 0.7644820\ttest1: 0.7603406\tbest: 0.7604411 (298)\ttotal: 8m 35s\tremaining: 4h 36m 40s\n",
            "350:\tlearn: 0.7670821\ttest: 0.7670718\ttest1: 0.7625302\tbest: 0.7625302 (350)\ttotal: 10m 1s\tremaining: 4h 35m 38s\n",
            "400:\tlearn: 0.7692867\ttest: 0.7692860\ttest1: 0.7650076\tbest: 0.7650076 (400)\ttotal: 11m 27s\tremaining: 4h 34m 19s\n",
            "Stopped by overfitting detector  (10 iterations wait)\n",
            "\n",
            "bestTest = 0.7662702153\n",
            "bestIteration = 426\n",
            "\n",
            "Shrink model to first 427 iterations.\n",
            "fold1 amex meric: 0.7662702153338046\n",
            "\n",
            "-------------------------------------------------- fold2 --------------------------------------------------\n",
            "0:\tlearn: 0.6792350\ttest: 0.6787933\ttest1: 0.6805851\tbest: 0.6805851 (0)\ttotal: 1.69s\tremaining: 4h 42m 27s\n",
            "50:\tlearn: 0.7310689\ttest: 0.7310690\ttest1: 0.7314280\tbest: 0.7314280 (50)\ttotal: 1m 27s\tremaining: 4h 46m 1s\n",
            "100:\tlearn: 0.7406369\ttest: 0.7406369\ttest1: 0.7414447\tbest: 0.7414447 (100)\ttotal: 2m 54s\tremaining: 4h 45m 43s\n",
            "150:\tlearn: 0.7492865\ttest: 0.7492865\ttest1: 0.7492428\tbest: 0.7492428 (150)\ttotal: 4m 22s\tremaining: 4h 44m 52s\n",
            "200:\tlearn: 0.7555703\ttest: 0.7555703\ttest1: 0.7560339\tbest: 0.7560339 (200)\ttotal: 5m 48s\tremaining: 4h 43m 18s\n",
            "250:\tlearn: 0.7596989\ttest: 0.7596989\ttest1: 0.7610294\tbest: 0.7611759 (249)\ttotal: 7m 16s\tremaining: 4h 42m 26s\n",
            "300:\tlearn: 0.7631619\ttest: 0.7631567\ttest1: 0.7640563\tbest: 0.7640563 (300)\ttotal: 8m 41s\tremaining: 4h 40m 12s\n",
            "350:\tlearn: 0.7662083\ttest: 0.7661663\ttest1: 0.7664327\tbest: 0.7664327 (350)\ttotal: 10m 7s\tremaining: 4h 38m 16s\n",
            "Stopped by overfitting detector  (10 iterations wait)\n",
            "\n",
            "bestTest = 0.7668981121\n",
            "bestIteration = 356\n",
            "\n",
            "Shrink model to first 357 iterations.\n",
            "fold2 amex meric: 0.7668981121321334\n",
            "\n",
            "-------------------------------------------------- fold3 --------------------------------------------------\n",
            "0:\tlearn: 0.6747319\ttest: 0.6745319\ttest1: 0.6729896\tbest: 0.6729896 (0)\ttotal: 4.08s\tremaining: 11h 20m 37s\n",
            "50:\tlearn: 0.7311101\ttest: 0.7311103\ttest1: 0.7356377\tbest: 0.7356566 (48)\ttotal: 3m 43s\tremaining: 12h 8m 1s\n",
            "100:\tlearn: 0.7410322\ttest: 0.7410321\ttest1: 0.7455011\tbest: 0.7455011 (100)\ttotal: 7m 28s\tremaining: 12h 12m 15s\n",
            "150:\tlearn: 0.7500064\ttest: 0.7500064\ttest1: 0.7523203\tbest: 0.7523203 (150)\ttotal: 11m 11s\tremaining: 12h 9m 42s\n",
            "200:\tlearn: 0.7562772\ttest: 0.7562774\ttest1: 0.7573644\tbest: 0.7573644 (200)\ttotal: 14m 56s\tremaining: 12h 8m 47s\n",
            "250:\tlearn: 0.7608054\ttest: 0.7608057\ttest1: 0.7616376\tbest: 0.7616376 (250)\ttotal: 18m 41s\tremaining: 12h 5m 50s\n",
            "Stopped by overfitting detector  (10 iterations wait)\n",
            "\n",
            "bestTest = 0.7633496887\n",
            "bestIteration = 279\n",
            "\n",
            "Shrink model to first 280 iterations.\n",
            "fold3 amex meric: 0.7633496886733036\n",
            "\n",
            "-------------------------------------------------- fold4 --------------------------------------------------\n",
            "0:\tlearn: 0.6800299\ttest: 0.6797826\ttest1: 0.6776704\tbest: 0.6776704 (0)\ttotal: 4.36s\tremaining: 12h 6m 45s\n",
            "50:\tlearn: 0.7312413\ttest: 0.7312417\ttest1: 0.7307776\tbest: 0.7311224 (46)\ttotal: 3m 50s\tremaining: 12h 30m 2s\n",
            "Stopped by overfitting detector  (10 iterations wait)\n",
            "\n",
            "bestTest = 0.7311224293\n",
            "bestIteration = 46\n",
            "\n",
            "Shrink model to first 47 iterations.\n",
            "fold4 amex meric: 0.7311224292770926\n",
            "\n",
            "OOF Score: 0.75711\n"
          ]
        }
      ],
      "source": [
        "cat_params = {\"learning_rate\": 0.01}\n",
        "\n",
        "models = fit_catboost(train[features], train[Config.target], cat_features=categorical, params=cat_params)\n",
        "# models = [joblib.load(f'{EXP_MODEL}/lgbm_fold{i}.pkl') for i in range(Config.n_splits)]\n",
        "pred = inference_catboost(models, test[features])"
      ]
    },
    {
      "cell_type": "markdown",
      "metadata": {
        "id": "ThQ6jTt7z7UC"
      },
      "source": [
        "## Plot importances"
      ]
    },
    {
      "cell_type": "code",
      "execution_count": null,
      "metadata": {
        "colab": {
          "background_save": true
        },
        "id": "o6-P1Ko-yOUs",
        "outputId": "275a43c4-2d5c-44ec-9645-c65c449254ed"
      },
      "outputs": [
        {
          "data": {
            "image/png": "[encoded data removed]",
            "text/plain": [
              "<Figure size 3384x360 with 1 Axes>"
            ]
          },
          "metadata": {},
          "output_type": "display_data"
        }
      ],
      "source": [
        "def plot_importances(models):\n",
        "    importance_df = pd.DataFrame(models[0].feature_importances_, \n",
        "                                 index=features, \n",
        "                                 columns=['importance'])\\\n",
        "                        .sort_values(\"importance\", ascending=False)\n",
        "\n",
        "    plt.subplots(figsize=(len(features) // 4, 5))\n",
        "    plt.bar(importance_df.index, importance_df.importance)\n",
        "    plt.grid()\n",
        "    plt.xticks(rotation=90)\n",
        "    plt.ylabel(\"importance\")\n",
        "    plt.tight_layout()\n",
        "    plt.show()\n",
        "\n",
        "plot_importances(models)"
      ]
    },
    {
      "cell_type": "markdown",
      "metadata": {
        "id": "FezzpipU0Zws"
      },
      "source": [
        "## Submission"
      ]
    },
    {
      "cell_type": "code",
      "execution_count": null,
      "metadata": {
        "colab": {
          "background_save": true
        },
        "id": "dmiIKvGQ0wA7"
      },
      "outputs": [],
      "source": [
        "sub = pd.DataFrame({'customer_ID': test.index,\n",
        "                    'prediction': pred})\n",
        "sub.to_csv(f'{SUBMISSION}/submission.csv', index=False)"
      ]
    },
    {
      "cell_type": "code",
      "execution_count": null,
      "metadata": {
        "colab": {
          "background_save": true
        },
        "id": "vlJlEJqe1HQZ",
        "outputId": "ee420d0c-8716-460f-9740-74bca88f2ea9"
      },
      "outputs": [
        {
          "name": "stdout",
          "output_type": "stream",
          "text": [
            "100% 74.7M/74.7M [00:01<00:00, 45.2MB/s]\n",
            "Successfully submitted to American Express - Default Prediction"
          ]
        }
      ],
      "source": [
        "! kaggle competitions submit -c amex-default-prediction -f /content/drive/MyDrive/workspace/kaggle-amex/Submission/submission.csv -m \"CatBoost Baseline\""
      ]
    }
  ],
  "metadata": {
    "colab": {
      "background_execution": "on",
      "machine_shape": "hm",
      "name": "Baseline.ipynb",
      "provenance": [],
      "authorship_tag": "ABX9TyOX6B6d08hn8FLpsjFAvJwd",
      "include_colab_link": true
    },
    "kernelspec": {
      "display_name": "Python 3",
      "name": "python3"
    },
    "language_info": {
      "name": "python"
    },
    "widgets": {
      "application/vnd.jupyter.widget-state+json": {}
    }
  },
  "nbformat": 4,
  "nbformat_minor": 0
}