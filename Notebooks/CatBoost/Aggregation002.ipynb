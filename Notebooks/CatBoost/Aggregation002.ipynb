{
  "cells": [
    {
      "cell_type": "markdown",
      "metadata": {
        "colab_type": "text",
        "id": "view-in-github"
      },
      "source": [
        "<a href=\"https://colab.research.google.com/github/meltyyyyy/kaggle-amex/blob/main/Notebooks/CatBoost/Aggregation001.ipynb\" target=\"_parent\"><img src=\"https://colab.research.google.com/assets/colab-badge.svg\" alt=\"Open In Colab\"/></a>"
      ]
    },
    {
      "cell_type": "code",
      "execution_count": null,
      "metadata": {
        "id": "ilqJ4rcWc4xO"
      },
      "outputs": [],
      "source": [
        "class Config:\n",
        "    name = \"CatBoost/Aggregation002\"\n",
        "\n",
        "    n_splits = 5\n",
        "    seed = 2022\n",
        "    target = \"target\"\n",
        "\n",
        "    # Colab Env\n",
        "    upload_from_colab = True\n",
        "    api_path = \"/content/drive/MyDrive/workspace/kaggle.json\"\n",
        "    drive_path = \"/content/drive/MyDrive/workspace/kaggle-amex\"\n",
        "    \n",
        "    # Kaggle Env\n",
        "    kaggle_dataset_path = None\n",
        "    \n",
        "    # Reka Env\n",
        "    dir_path = '/home/abe/kaggle/kaggle-amex'"
      ]
    },
    {
      "cell_type": "code",
      "execution_count": null,
      "metadata": {
        "id": "m9Jf525wdD4v"
      },
      "outputs": [],
      "source": [
        "import os\n",
        "import json\n",
        "import warnings\n",
        "import shutil\n",
        "import logging\n",
        "import joblib\n",
        "import random\n",
        "import datetime\n",
        "import sys\n",
        "import gc\n",
        "import multiprocessing\n",
        "import joblib\n",
        "import pickle\n",
        "\n",
        "import pandas as pd\n",
        "import numpy as np\n",
        "import matplotlib.pyplot as plt\n",
        "import seaborn as sns\n",
        "\n",
        "from tqdm.auto import tqdm\n",
        "from IPython import get_ipython\n",
        "warnings.filterwarnings('ignore')"
      ]
    },
    {
      "cell_type": "markdown",
      "metadata": {},
      "source": [
        "## Environment Settings"
      ]
    },
    {
      "cell_type": "code",
      "execution_count": null,
      "metadata": {
        "colab": {
          "base_uri": "https://localhost:8080/"
        },
        "id": "SAwmuAVHgmNG",
        "outputId": "47c53b78-df2e-4074-e85c-99a4f73caadb"
      },
      "outputs": [],
      "source": [
        "INPUT = os.path.join(Config.dir_path, 'input')\n",
        "OUTPUT = os.path.join(Config.dir_path, 'output')\n",
        "SUBMISSION = os.path.join(Config.dir_path, 'submissions')\n",
        "OUTPUT_EXP = os.path.join(OUTPUT, Config.name)\n",
        "EXP_MODEL = os.path.join(OUTPUT_EXP, \"model\")\n",
        "EXP_FIG = os.path.join(OUTPUT_EXP, \"fig\")\n",
        "EXP_PREDS = os.path.join(OUTPUT_EXP, \"preds\")\n",
        "\n",
        "# make dirs\n",
        "for d in [INPUT, SUBMISSION, EXP_MODEL, EXP_FIG, EXP_PREDS]:\n",
        "    os.makedirs(d, exist_ok=True)"
      ]
    },
    {
      "cell_type": "code",
      "execution_count": null,
      "metadata": {
        "id": "v9cJGrE-dpDA"
      },
      "outputs": [],
      "source": [
        "train = pd.read_pickle(os.path.join(INPUT, 'train_agg.pkl'), compression=\"gzip\")\n",
        "test = pd.read_pickle(os.path.join(INPUT, 'test_agg.pkl'), compression=\"gzip\")"
      ]
    },
    {
      "cell_type": "code",
      "execution_count": null,
      "metadata": {
        "colab": {
          "base_uri": "https://localhost:8080/"
        },
        "id": "d4rytnIReGSi",
        "outputId": "46383051-93cb-4494-8207-7eb2b02e84c4"
      },
      "outputs": [],
      "source": [
        "train.info()"
      ]
    },
    {
      "cell_type": "code",
      "execution_count": null,
      "metadata": {
        "colab": {
          "base_uri": "https://localhost:8080/",
          "height": 331
        },
        "id": "7n5KRbzXebh-",
        "outputId": "d1ed501d-35ba-4887-fe47-1a5c7d27dc6e"
      },
      "outputs": [],
      "source": [
        "train.head()"
      ]
    },
    {
      "cell_type": "markdown",
      "metadata": {
        "id": "VLyBY1WonueN"
      },
      "source": [
        "## Evaluation merics"
      ]
    },
    {
      "cell_type": "code",
      "execution_count": null,
      "metadata": {
        "id": "wwBWY1fdnxFw"
      },
      "outputs": [],
      "source": [
        "# https://www.kaggle.com/code/inversion/amex-competition-metric-python\n",
        "\n",
        "def amex_metric(y_true: pd.DataFrame, y_pred: pd.DataFrame) -> float:\n",
        "\n",
        "    def top_four_percent_captured(y_true: pd.DataFrame, y_pred: pd.DataFrame) -> float:\n",
        "        df = (pd.concat([y_true, y_pred], axis='columns')\n",
        "              .sort_values('prediction', ascending=False))\n",
        "        df['weight'] = df['target'].apply(lambda x: 20 if x==0 else 1)\n",
        "        four_pct_cutoff = int(0.04 * df['weight'].sum())\n",
        "        df['weight_cumsum'] = df['weight'].cumsum()\n",
        "        df_cutoff = df.loc[df['weight_cumsum'] <= four_pct_cutoff]\n",
        "        return (df_cutoff['target'] == 1).sum() / (df['target'] == 1).sum()\n",
        "        \n",
        "    def weighted_gini(y_true: pd.DataFrame, y_pred: pd.DataFrame) -> float:\n",
        "        df = (pd.concat([y_true, y_pred], axis='columns')\n",
        "              .sort_values('prediction', ascending=False))\n",
        "        df['weight'] = df['target'].apply(lambda x: 20 if x==0 else 1)\n",
        "        df['random'] = (df['weight'] / df['weight'].sum()).cumsum()\n",
        "        total_pos = (df['target'] * df['weight']).sum()\n",
        "        df['cum_pos_found'] = (df['target'] * df['weight']).cumsum()\n",
        "        df['lorentz'] = df['cum_pos_found'] / total_pos\n",
        "        df['gini'] = (df['lorentz'] - df['random']) * df['weight']\n",
        "        return df['gini'].sum()\n",
        "\n",
        "    def normalized_weighted_gini(y_true: pd.DataFrame, y_pred: pd.DataFrame) -> float:\n",
        "        y_true_pred = y_true.rename(columns={'target': 'prediction'})\n",
        "        return weighted_gini(y_true, y_pred) / weighted_gini(y_true, y_true_pred)\n",
        "\n",
        "    g = normalized_weighted_gini(y_true, y_pred)\n",
        "    d = top_four_percent_captured(y_true, y_pred)\n",
        "\n",
        "    return 0.5 * (g + d)\n",
        "\n",
        "class AmexMetric(object):\n",
        "    def get_final_error(self, error, weight):\n",
        "        return error\n",
        "\n",
        "    def is_max_optimal(self):\n",
        "        # the larger metric value the better\n",
        "        return True\n",
        "\n",
        "    def evaluate(self, approxes, target, weight):\n",
        "        assert len(approxes) == 1\n",
        "        assert len(target) == len(approxes[0])\n",
        "        preds = np.array(approxes[0])\n",
        "        target = np.array(target)\n",
        "        return amex_metric(pd.DataFrame({'target': target}), pd.Series(preds, name='prediction')), 0"
      ]
    },
    {
      "cell_type": "markdown",
      "metadata": {
        "id": "R5-cpKNRehDB"
      },
      "source": [
        "## Preprocess"
      ]
    },
    {
      "cell_type": "code",
      "execution_count": null,
      "metadata": {},
      "outputs": [],
      "source": [
        "for col in train.columns:\n",
        "    if train[col].dtype=='float16':\n",
        "        train[col] = train[col].astype('float32').round(decimals=2).astype('float16')\n",
        "        test[col] = test[col].astype('float32').round(decimals=2).astype('float16')"
      ]
    },
    {
      "cell_type": "code",
      "execution_count": null,
      "metadata": {
        "colab": {
          "base_uri": "https://localhost:8080/"
        },
        "id": "O8H6Caka5iAt",
        "outputId": "35e300fb-78f4-4f38-b092-49e5f5de84c4"
      },
      "outputs": [],
      "source": [
        "float64_cols = [col for col in train.columns if train[col].dtype == 'float64']\n",
        "int64_cols = [col for col in train.columns if train[col].dtype == 'int64']\n",
        "\n",
        "print(train.info())\n",
        "print(test.info())\n",
        "print()\n",
        "print(\"-\"*50+f' data type transformation '+'-'*50)\n",
        "print()\n",
        "\n",
        "def transform_dtype(df):\n",
        "  for col in df.columns:\n",
        "    if df[col].dtype == 'float64':\n",
        "      df[col] = df[col].astype('float16')\n",
        "    if df[col].dtype == 'float32':\n",
        "      df[col] = df[col].astype('float16')\n",
        "    if df[col].dtype == 'int64':\n",
        "      df[col] = df[col].astype('int8')\n",
        "    if df[col].dtype == 'int32':\n",
        "      df[col] = df[col].astype('int8')\n",
        "  return df\n",
        "\n",
        "train = transform_dtype(train)\n",
        "test = transform_dtype(test)\n",
        "\n",
        "print(train.info())\n",
        "print(test.info())"
      ]
    },
    {
      "cell_type": "markdown",
      "metadata": {
        "id": "zU8BdAJPixd6"
      },
      "source": [
        "## Select features to use"
      ]
    },
    {
      "cell_type": "code",
      "execution_count": null,
      "metadata": {
        "id": "UExr1RwmgxPz"
      },
      "outputs": [],
      "source": [
        "from sklearn.preprocessing import LabelEncoder\n",
        "\n",
        "features = []\n",
        "unuse = ['target']\n",
        "cat_features = [\n",
        "    \"B_30\",\n",
        "    \"B_38\",\n",
        "    \"D_114\",\n",
        "    \"D_116\",\n",
        "    \"D_117\",\n",
        "    \"D_120\",\n",
        "    \"D_126\",\n",
        "    \"D_63\",\n",
        "    \"D_64\",\n",
        "    \"D_66\",\n",
        "    \"D_68\"\n",
        "]\n",
        "cat_features = [f\"{cf}_last\" for cf in cat_features]\n",
        "\n",
        "encoder = LabelEncoder()\n",
        "for categorical_feature in cat_features:\n",
        "    train[categorical_feature] = encoder.fit_transform(train[categorical_feature])\n",
        "    test[categorical_feature] = encoder.transform(test[categorical_feature])\n",
        "\n",
        "for col in train.columns:\n",
        "  if col not in unuse:\n",
        "    features.append(col)"
      ]
    },
    {
      "cell_type": "markdown",
      "metadata": {
        "id": "QJPaYC0YjZYf"
      },
      "source": [
        "## Training"
      ]
    },
    {
      "cell_type": "code",
      "execution_count": null,
      "metadata": {
        "id": "cU4OQmHSjW9F"
      },
      "outputs": [],
      "source": [
        "from catboost import CatBoostClassifier\n",
        "from sklearn.model_selection import StratifiedKFold\n",
        "\n",
        "def fit_catboost(X, y, cat_features=None, params=None):\n",
        "  models = []\n",
        "  scores = []\n",
        "\n",
        "  skf = StratifiedKFold(n_splits=Config.n_splits, shuffle=True, random_state=Config.seed)\n",
        "  \n",
        "  for fold, (train_indices, valid_indices) in enumerate(tqdm(skf.split(X, y))):\n",
        "    print(\"-\"*50+f' fold{fold} '+'-'*50)\n",
        "    X_train, y_train = X.iloc[train_indices], y.iloc[train_indices]\n",
        "    X_valid, y_valid = X.iloc[valid_indices], y.iloc[valid_indices]\n",
        "\n",
        "    model = CatBoostClassifier(**params,\n",
        "                              #  eval_metric=AmexMetric(),\n",
        "                               task_type='GPU',\n",
        "                               iterations=100000,\n",
        "                               random_seed=Config.seed,\n",
        "                               verbose=0)\n",
        "    \n",
        "    model.fit(X_train, y_train,\n",
        "              cat_features=cat_features,\n",
        "              eval_set=[(X_valid, y_valid)],\n",
        "              early_stopping_rounds=10,\n",
        "              verbose_eval=50)\n",
        "    \n",
        "    # ------------------- prediction -------------------\n",
        "    pred = model.predict_proba(X_valid)[:, 1]\n",
        "    score = amex_metric(pd.DataFrame({'target': y_valid.values}), pd.Series(pred, name='prediction'))\n",
        "\n",
        "    # ------------------- save -------------------\n",
        "    file = f'{EXP_MODEL}/catboost_fold{fold}.pkl'\n",
        "    model.save_model(file, format='cbm')\n",
        "    scores.append(score)\n",
        "    models.append(model)\n",
        "    print(f'fold{fold} amex meric: {score}')\n",
        "    print()\n",
        "\n",
        "  print(f\"OOF Score: {np.mean(scores):.5f}\")\n",
        "  return models\n",
        "\n",
        "def inference_catboost(models, X):\n",
        "    pred = np.array([model.predict_proba(X) for model in models])\n",
        "    pred = np.mean(pred, axis=0)[:, 1]\n",
        "    return pred"
      ]
    },
    {
      "cell_type": "code",
      "execution_count": null,
      "metadata": {
        "colab": {
          "background_save": true,
          "base_uri": "https://localhost:8080/",
          "height": 67,
          "referenced_widgets": [
            "2d7bcfb783e6441fb0b65860567e0f35",
            "6bb62f5d36364c46b4ea936990e6e99e",
            "45b99359a8a04662903a660333e8cbd1",
            "b2d98b2f521f4eb4abb50f4698a46bdc",
            "001d59e7887d432baf6a1dc451c4be2f",
            "75e0659ae6da451884f861de26292543",
            "c40315ab50e94f3d9568d4c09fe91ba7",
            "26ba5b1e97264b279cfd925b0ef89520",
            "ffc171b8cfab4f91b704edaea9aaca10",
            "9873962e26884f028de8d1c16ab03e65",
            "e5573f98f8c6466e917f83bcd287d537"
          ]
        },
        "id": "fpaLlmnclvDx",
        "outputId": "c004877a-c18f-42cd-e28c-578a79db806e"
      },
      "outputs": [],
      "source": [
        "cat_params = {}\n",
        "\n",
        "# models = fit_catboost(train[features], train[Config.target], cat_features=cat_features, params=cat_params)\n",
        "models = [joblib.load(f'{EXP_MODEL}/catboost_fold{i}.pkl') for i in range(Config.n_splits)]\n",
        "pred = inference_catboost(models, test[features])"
      ]
    },
    {
      "cell_type": "markdown",
      "metadata": {
        "id": "ThQ6jTt7z7UC"
      },
      "source": [
        "## Plot importances"
      ]
    },
    {
      "cell_type": "code",
      "execution_count": null,
      "metadata": {
        "colab": {
          "background_save": true
        },
        "id": "o6-P1Ko-yOUs",
        "outputId": "93457475-4e0d-4655-a04a-41134bc4cdf9"
      },
      "outputs": [],
      "source": [
        "def plot_importances(models):\n",
        "    importance_df = pd.DataFrame(models[0].feature_importances_, \n",
        "                                 index=features, \n",
        "                                 columns=['importance'])\\\n",
        "                        .sort_values(\"importance\", ascending=False)\n",
        "\n",
        "    plt.subplots(figsize=(len(features) // 4, 5))\n",
        "    plt.bar(importance_df.index, importance_df.importance)\n",
        "    plt.grid()\n",
        "    plt.xticks(rotation=90)\n",
        "    plt.ylabel(\"importance\")\n",
        "    plt.tight_layout()\n",
        "    plt.show()\n",
        "\n",
        "plot_importances(models)"
      ]
    },
    {
      "cell_type": "markdown",
      "metadata": {
        "id": "FezzpipU0Zws"
      },
      "source": [
        "## Submission"
      ]
    },
    {
      "cell_type": "code",
      "execution_count": null,
      "metadata": {
        "colab": {
          "background_save": true
        },
        "id": "dmiIKvGQ0wA7"
      },
      "outputs": [],
      "source": [
        "sub = pd.DataFrame({'customer_ID': test.index,\n",
        "                    'prediction': pred})\n",
        "sub.to_csv(f'{EXP_PREDS}/submission.csv', index=False)"
      ]
    },
    {
      "cell_type": "code",
      "execution_count": null,
      "metadata": {
        "colab": {
          "background_save": true
        },
        "id": "vlJlEJqe1HQZ",
        "outputId": "6236dd3b-2536-443b-bf91-04d9bb881018"
      },
      "outputs": [],
      "source": [
        "! kaggle competitions submit -c amex-default-prediction -f /home/abe/kaggle/kaggle-amex/output/CatBoost/Aggregation002/preds/submission.csv -m \"CatBoost Baseline\""
      ]
    }
  ],
  "metadata": {
    "accelerator": "GPU",
    "colab": {
      "authorship_tag": "ABX9TyOumC0OTiuDLJRjx3AqcO1z",
      "background_execution": "on",
      "include_colab_link": true,
      "machine_shape": "hm",
      "name": "Aggregation001.ipynb",
      "provenance": []
    },
    "interpreter": {
      "hash": "29001d83105739b7e7991894c59ca9a685d5fb80e48bd2a6126a67de75b87e20"
    },
    "kernelspec": {
      "display_name": "Python 3.9.12 ('amex')",
      "language": "python",
      "name": "python3"
    },
    "language_info": {
      "codemirror_mode": {
        "name": "ipython",
        "version": 3
      },
      "file_extension": ".py",
      "mimetype": "text/x-python",
      "name": "python",
      "nbconvert_exporter": "python",
      "pygments_lexer": "ipython3",
      "version": "3.9.12"
    },
    "widgets": {
      "application/vnd.jupyter.widget-state+json": {
        "001d59e7887d432baf6a1dc451c4be2f": {
          "model_module": "@jupyter-widgets/base",
          "model_module_version": "1.2.0",
          "model_name": "LayoutModel",
          "state": {
            "_model_module": "@jupyter-widgets/base",
            "_model_module_version": "1.2.0",
            "_model_name": "LayoutModel",
            "_view_count": null,
            "_view_module": "@jupyter-widgets/base",
            "_view_module_version": "1.2.0",
            "_view_name": "LayoutView",
            "align_content": null,
            "align_items": null,
            "align_self": null,
            "border": null,
            "bottom": null,
            "display": null,
            "flex": null,
            "flex_flow": null,
            "grid_area": null,
            "grid_auto_columns": null,
            "grid_auto_flow": null,
            "grid_auto_rows": null,
            "grid_column": null,
            "grid_gap": null,
            "grid_row": null,
            "grid_template_areas": null,
            "grid_template_columns": null,
            "grid_template_rows": null,
            "height": null,
            "justify_content": null,
            "justify_items": null,
            "left": null,
            "margin": null,
            "max_height": null,
            "max_width": null,
            "min_height": null,
            "min_width": null,
            "object_fit": null,
            "object_position": null,
            "order": null,
            "overflow": null,
            "overflow_x": null,
            "overflow_y": null,
            "padding": null,
            "right": null,
            "top": null,
            "visibility": null,
            "width": null
          }
        },
        "26ba5b1e97264b279cfd925b0ef89520": {
          "model_module": "@jupyter-widgets/base",
          "model_module_version": "1.2.0",
          "model_name": "LayoutModel",
          "state": {
            "_model_module": "@jupyter-widgets/base",
            "_model_module_version": "1.2.0",
            "_model_name": "LayoutModel",
            "_view_count": null,
            "_view_module": "@jupyter-widgets/base",
            "_view_module_version": "1.2.0",
            "_view_name": "LayoutView",
            "align_content": null,
            "align_items": null,
            "align_self": null,
            "border": null,
            "bottom": null,
            "display": null,
            "flex": null,
            "flex_flow": null,
            "grid_area": null,
            "grid_auto_columns": null,
            "grid_auto_flow": null,
            "grid_auto_rows": null,
            "grid_column": null,
            "grid_gap": null,
            "grid_row": null,
            "grid_template_areas": null,
            "grid_template_columns": null,
            "grid_template_rows": null,
            "height": null,
            "justify_content": null,
            "justify_items": null,
            "left": null,
            "margin": null,
            "max_height": null,
            "max_width": null,
            "min_height": null,
            "min_width": null,
            "object_fit": null,
            "object_position": null,
            "order": null,
            "overflow": null,
            "overflow_x": null,
            "overflow_y": null,
            "padding": null,
            "right": null,
            "top": null,
            "visibility": null,
            "width": "20px"
          }
        },
        "2d7bcfb783e6441fb0b65860567e0f35": {
          "model_module": "@jupyter-widgets/controls",
          "model_module_version": "1.5.0",
          "model_name": "HBoxModel",
          "state": {
            "_dom_classes": [],
            "_model_module": "@jupyter-widgets/controls",
            "_model_module_version": "1.5.0",
            "_model_name": "HBoxModel",
            "_view_count": null,
            "_view_module": "@jupyter-widgets/controls",
            "_view_module_version": "1.5.0",
            "_view_name": "HBoxView",
            "box_style": "",
            "children": [
              "IPY_MODEL_6bb62f5d36364c46b4ea936990e6e99e",
              "IPY_MODEL_45b99359a8a04662903a660333e8cbd1",
              "IPY_MODEL_b2d98b2f521f4eb4abb50f4698a46bdc"
            ],
            "layout": "IPY_MODEL_001d59e7887d432baf6a1dc451c4be2f"
          }
        },
        "45b99359a8a04662903a660333e8cbd1": {
          "model_module": "@jupyter-widgets/controls",
          "model_module_version": "1.5.0",
          "model_name": "FloatProgressModel",
          "state": {
            "_dom_classes": [],
            "_model_module": "@jupyter-widgets/controls",
            "_model_module_version": "1.5.0",
            "_model_name": "FloatProgressModel",
            "_view_count": null,
            "_view_module": "@jupyter-widgets/controls",
            "_view_module_version": "1.5.0",
            "_view_name": "ProgressView",
            "bar_style": "info",
            "description": "",
            "description_tooltip": null,
            "layout": "IPY_MODEL_26ba5b1e97264b279cfd925b0ef89520",
            "max": 1,
            "min": 0,
            "orientation": "horizontal",
            "style": "IPY_MODEL_ffc171b8cfab4f91b704edaea9aaca10",
            "value": 0
          }
        },
        "6bb62f5d36364c46b4ea936990e6e99e": {
          "model_module": "@jupyter-widgets/controls",
          "model_module_version": "1.5.0",
          "model_name": "HTMLModel",
          "state": {
            "_dom_classes": [],
            "_model_module": "@jupyter-widgets/controls",
            "_model_module_version": "1.5.0",
            "_model_name": "HTMLModel",
            "_view_count": null,
            "_view_module": "@jupyter-widgets/controls",
            "_view_module_version": "1.5.0",
            "_view_name": "HTMLView",
            "description": "",
            "description_tooltip": null,
            "layout": "IPY_MODEL_75e0659ae6da451884f861de26292543",
            "placeholder": "​",
            "style": "IPY_MODEL_c40315ab50e94f3d9568d4c09fe91ba7",
            "value": ""
          }
        },
        "75e0659ae6da451884f861de26292543": {
          "model_module": "@jupyter-widgets/base",
          "model_module_version": "1.2.0",
          "model_name": "LayoutModel",
          "state": {
            "_model_module": "@jupyter-widgets/base",
            "_model_module_version": "1.2.0",
            "_model_name": "LayoutModel",
            "_view_count": null,
            "_view_module": "@jupyter-widgets/base",
            "_view_module_version": "1.2.0",
            "_view_name": "LayoutView",
            "align_content": null,
            "align_items": null,
            "align_self": null,
            "border": null,
            "bottom": null,
            "display": null,
            "flex": null,
            "flex_flow": null,
            "grid_area": null,
            "grid_auto_columns": null,
            "grid_auto_flow": null,
            "grid_auto_rows": null,
            "grid_column": null,
            "grid_gap": null,
            "grid_row": null,
            "grid_template_areas": null,
            "grid_template_columns": null,
            "grid_template_rows": null,
            "height": null,
            "justify_content": null,
            "justify_items": null,
            "left": null,
            "margin": null,
            "max_height": null,
            "max_width": null,
            "min_height": null,
            "min_width": null,
            "object_fit": null,
            "object_position": null,
            "order": null,
            "overflow": null,
            "overflow_x": null,
            "overflow_y": null,
            "padding": null,
            "right": null,
            "top": null,
            "visibility": null,
            "width": null
          }
        },
        "9873962e26884f028de8d1c16ab03e65": {
          "model_module": "@jupyter-widgets/base",
          "model_module_version": "1.2.0",
          "model_name": "LayoutModel",
          "state": {
            "_model_module": "@jupyter-widgets/base",
            "_model_module_version": "1.2.0",
            "_model_name": "LayoutModel",
            "_view_count": null,
            "_view_module": "@jupyter-widgets/base",
            "_view_module_version": "1.2.0",
            "_view_name": "LayoutView",
            "align_content": null,
            "align_items": null,
            "align_self": null,
            "border": null,
            "bottom": null,
            "display": null,
            "flex": null,
            "flex_flow": null,
            "grid_area": null,
            "grid_auto_columns": null,
            "grid_auto_flow": null,
            "grid_auto_rows": null,
            "grid_column": null,
            "grid_gap": null,
            "grid_row": null,
            "grid_template_areas": null,
            "grid_template_columns": null,
            "grid_template_rows": null,
            "height": null,
            "justify_content": null,
            "justify_items": null,
            "left": null,
            "margin": null,
            "max_height": null,
            "max_width": null,
            "min_height": null,
            "min_width": null,
            "object_fit": null,
            "object_position": null,
            "order": null,
            "overflow": null,
            "overflow_x": null,
            "overflow_y": null,
            "padding": null,
            "right": null,
            "top": null,
            "visibility": null,
            "width": null
          }
        },
        "b2d98b2f521f4eb4abb50f4698a46bdc": {
          "model_module": "@jupyter-widgets/controls",
          "model_module_version": "1.5.0",
          "model_name": "HTMLModel",
          "state": {
            "_dom_classes": [],
            "_model_module": "@jupyter-widgets/controls",
            "_model_module_version": "1.5.0",
            "_model_name": "HTMLModel",
            "_view_count": null,
            "_view_module": "@jupyter-widgets/controls",
            "_view_module_version": "1.5.0",
            "_view_name": "HTMLView",
            "description": "",
            "description_tooltip": null,
            "layout": "IPY_MODEL_9873962e26884f028de8d1c16ab03e65",
            "placeholder": "​",
            "style": "IPY_MODEL_e5573f98f8c6466e917f83bcd287d537",
            "value": " 0/? [00:00&lt;?, ?it/s]"
          }
        },
        "c40315ab50e94f3d9568d4c09fe91ba7": {
          "model_module": "@jupyter-widgets/controls",
          "model_module_version": "1.5.0",
          "model_name": "DescriptionStyleModel",
          "state": {
            "_model_module": "@jupyter-widgets/controls",
            "_model_module_version": "1.5.0",
            "_model_name": "DescriptionStyleModel",
            "_view_count": null,
            "_view_module": "@jupyter-widgets/base",
            "_view_module_version": "1.2.0",
            "_view_name": "StyleView",
            "description_width": ""
          }
        },
        "e5573f98f8c6466e917f83bcd287d537": {
          "model_module": "@jupyter-widgets/controls",
          "model_module_version": "1.5.0",
          "model_name": "DescriptionStyleModel",
          "state": {
            "_model_module": "@jupyter-widgets/controls",
            "_model_module_version": "1.5.0",
            "_model_name": "DescriptionStyleModel",
            "_view_count": null,
            "_view_module": "@jupyter-widgets/base",
            "_view_module_version": "1.2.0",
            "_view_name": "StyleView",
            "description_width": ""
          }
        },
        "ffc171b8cfab4f91b704edaea9aaca10": {
          "model_module": "@jupyter-widgets/controls",
          "model_module_version": "1.5.0",
          "model_name": "ProgressStyleModel",
          "state": {
            "_model_module": "@jupyter-widgets/controls",
            "_model_module_version": "1.5.0",
            "_model_name": "ProgressStyleModel",
            "_view_count": null,
            "_view_module": "@jupyter-widgets/base",
            "_view_module_version": "1.2.0",
            "_view_name": "StyleView",
            "bar_color": null,
            "description_width": ""
          }
        }
      }
    }
  },
  "nbformat": 4,
  "nbformat_minor": 0
}
