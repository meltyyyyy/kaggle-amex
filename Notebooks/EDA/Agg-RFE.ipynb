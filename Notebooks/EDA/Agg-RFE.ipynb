{
 "cells": [
  {
   "cell_type": "code",
   "execution_count": 57,
   "metadata": {},
   "outputs": [],
   "source": [
    "class Config:\n",
    "    name = \"EDA/RFE\"\n",
    "\n",
    "    n_splits = 5\n",
    "    seed = 2022\n",
    "    target = \"target\"\n",
    "\n",
    "    # Colab Env\n",
    "    upload_from_colab = True\n",
    "    api_path = \"/content/drive/MyDrive/workspace/kaggle.json\"\n",
    "    drive_path = \"/content/drive/MyDrive/workspace/kaggle-amex\"\n",
    "\n",
    "    # Kaggle Env\n",
    "    kaggle_dataset_path = None\n",
    "\n",
    "    # Reka Env\n",
    "    dir_path = '/home/abe/kaggle/kaggle-amex'"
   ]
  },
  {
   "cell_type": "code",
   "execution_count": 58,
   "metadata": {},
   "outputs": [],
   "source": [
    "import os\n",
    "import json\n",
    "import warnings\n",
    "import shutil\n",
    "import logging\n",
    "import joblib\n",
    "import random\n",
    "import datetime\n",
    "import sys\n",
    "import gc\n",
    "import multiprocessing\n",
    "import joblib\n",
    "import pickle\n",
    "\n",
    "import pandas as pd\n",
    "import numpy as np\n",
    "import matplotlib.pyplot as plt\n",
    "import seaborn as sns\n",
    "\n",
    "from tqdm.auto import tqdm\n",
    "tqdm.pandas()\n",
    "warnings.filterwarnings('ignore')"
   ]
  },
  {
   "cell_type": "markdown",
   "metadata": {},
   "source": [
    "## Environment Settings"
   ]
  },
  {
   "cell_type": "code",
   "execution_count": 59,
   "metadata": {},
   "outputs": [],
   "source": [
    "INPUT = os.path.join(Config.dir_path, 'input')\n",
    "OUTPUT = os.path.join(Config.dir_path, 'output')\n",
    "SUBMISSION = os.path.join(Config.dir_path, 'submissions')\n",
    "OUTPUT_EXP = os.path.join(OUTPUT, Config.name)\n",
    "EXP_MODEL = os.path.join(OUTPUT_EXP, \"model\")\n",
    "EXP_FIG = os.path.join(OUTPUT_EXP, \"fig\")\n",
    "EXP_PREDS = os.path.join(OUTPUT_EXP, \"preds\")\n",
    "\n",
    "# make dirs\n",
    "for d in [INPUT, SUBMISSION, EXP_MODEL, EXP_FIG, EXP_PREDS]:\n",
    "    os.makedirs(d, exist_ok=True)"
   ]
  },
  {
   "cell_type": "markdown",
   "metadata": {},
   "source": [
    "## Load data"
   ]
  },
  {
   "cell_type": "code",
   "execution_count": 60,
   "metadata": {},
   "outputs": [],
   "source": [
    "train = pd.read_pickle(os.path.join(INPUT, 'train_agg.pkl'), compression='gzip')\n",
    "test = pd.read_pickle(os.path.join(INPUT, 'test_agg.pkl'), compression='gzip')\n",
    "train = train.sample(10000)\n",
    "test = test.sample(15000)"
   ]
  },
  {
   "cell_type": "code",
   "execution_count": 61,
   "metadata": {},
   "outputs": [
    {
     "name": "stdout",
     "output_type": "stream",
     "text": [
      "<class 'pandas.core.frame.DataFrame'>\n",
      "CategoricalIndex: 10000 entries, c0df518a8312f4e028c48cbef78f373c5ad8624cef578b8c92c793ddf05a7a35 to ab01df611910047ac0234f16ffb58cfb7db7d7b88667f51c68b23697df3986d5\n",
      "Columns: 919 entries, P_2_mean to target\n",
      "dtypes: category(2), float16(713), float64(178), int64(22), int8(4)\n",
      "memory usage: 48.6 MB\n"
     ]
    }
   ],
   "source": [
    "train.info()"
   ]
  },
  {
   "cell_type": "code",
   "execution_count": 62,
   "metadata": {},
   "outputs": [
    {
     "data": {
      "text/html": [
       "<div>\n",
       "<style scoped>\n",
       "    .dataframe tbody tr th:only-of-type {\n",
       "        vertical-align: middle;\n",
       "    }\n",
       "\n",
       "    .dataframe tbody tr th {\n",
       "        vertical-align: top;\n",
       "    }\n",
       "\n",
       "    .dataframe thead th {\n",
       "        text-align: right;\n",
       "    }\n",
       "</style>\n",
       "<table border=\"1\" class=\"dataframe\">\n",
       "  <thead>\n",
       "    <tr style=\"text-align: right;\">\n",
       "      <th></th>\n",
       "      <th>P_2_mean</th>\n",
       "      <th>P_2_std</th>\n",
       "      <th>P_2_min</th>\n",
       "      <th>P_2_max</th>\n",
       "      <th>P_2_last</th>\n",
       "      <th>D_39_mean</th>\n",
       "      <th>D_39_std</th>\n",
       "      <th>D_39_min</th>\n",
       "      <th>D_39_max</th>\n",
       "      <th>D_39_last</th>\n",
       "      <th>...</th>\n",
       "      <th>D_64_count</th>\n",
       "      <th>D_64_last</th>\n",
       "      <th>D_64_nunique</th>\n",
       "      <th>D_66_count</th>\n",
       "      <th>D_66_last</th>\n",
       "      <th>D_66_nunique</th>\n",
       "      <th>D_68_count</th>\n",
       "      <th>D_68_last</th>\n",
       "      <th>D_68_nunique</th>\n",
       "      <th>target</th>\n",
       "    </tr>\n",
       "    <tr>\n",
       "      <th>customer_ID</th>\n",
       "      <th></th>\n",
       "      <th></th>\n",
       "      <th></th>\n",
       "      <th></th>\n",
       "      <th></th>\n",
       "      <th></th>\n",
       "      <th></th>\n",
       "      <th></th>\n",
       "      <th></th>\n",
       "      <th></th>\n",
       "      <th></th>\n",
       "      <th></th>\n",
       "      <th></th>\n",
       "      <th></th>\n",
       "      <th></th>\n",
       "      <th></th>\n",
       "      <th></th>\n",
       "      <th></th>\n",
       "      <th></th>\n",
       "      <th></th>\n",
       "      <th></th>\n",
       "    </tr>\n",
       "  </thead>\n",
       "  <tbody>\n",
       "    <tr>\n",
       "      <th>c0df518a8312f4e028c48cbef78f373c5ad8624cef578b8c92c793ddf05a7a35</th>\n",
       "      <td>0.268799</td>\n",
       "      <td>0.062082</td>\n",
       "      <td>0.171265</td>\n",
       "      <td>0.374512</td>\n",
       "      <td>0.297852</td>\n",
       "      <td>0.100098</td>\n",
       "      <td>0.172330</td>\n",
       "      <td>0.000100</td>\n",
       "      <td>0.589355</td>\n",
       "      <td>0.009224</td>\n",
       "      <td>...</td>\n",
       "      <td>13</td>\n",
       "      <td>O</td>\n",
       "      <td>2</td>\n",
       "      <td>0</td>\n",
       "      <td>NaN</td>\n",
       "      <td>0</td>\n",
       "      <td>13</td>\n",
       "      <td>5.0</td>\n",
       "      <td>3</td>\n",
       "      <td>0</td>\n",
       "    </tr>\n",
       "    <tr>\n",
       "      <th>3b48daf7768d119de5f70c62d5a9fe423a5ffb6acf119703b65c5ed67f0b538b</th>\n",
       "      <td>0.897949</td>\n",
       "      <td>0.049184</td>\n",
       "      <td>0.777344</td>\n",
       "      <td>0.949219</td>\n",
       "      <td>0.777344</td>\n",
       "      <td>0.004288</td>\n",
       "      <td>0.002242</td>\n",
       "      <td>0.001054</td>\n",
       "      <td>0.007381</td>\n",
       "      <td>0.007023</td>\n",
       "      <td>...</td>\n",
       "      <td>13</td>\n",
       "      <td>R</td>\n",
       "      <td>2</td>\n",
       "      <td>0</td>\n",
       "      <td>NaN</td>\n",
       "      <td>0</td>\n",
       "      <td>13</td>\n",
       "      <td>6.0</td>\n",
       "      <td>2</td>\n",
       "      <td>0</td>\n",
       "    </tr>\n",
       "    <tr>\n",
       "      <th>41f965752b51a9f2a1db797cd1b511f4e8cc8e9144f7e03b4bd6bce9f6b64753</th>\n",
       "      <td>0.630371</td>\n",
       "      <td>0.013484</td>\n",
       "      <td>0.600098</td>\n",
       "      <td>0.648926</td>\n",
       "      <td>0.643066</td>\n",
       "      <td>0.306396</td>\n",
       "      <td>0.261945</td>\n",
       "      <td>0.006138</td>\n",
       "      <td>0.766113</td>\n",
       "      <td>0.245117</td>\n",
       "      <td>...</td>\n",
       "      <td>13</td>\n",
       "      <td>O</td>\n",
       "      <td>1</td>\n",
       "      <td>0</td>\n",
       "      <td>NaN</td>\n",
       "      <td>0</td>\n",
       "      <td>13</td>\n",
       "      <td>5.0</td>\n",
       "      <td>1</td>\n",
       "      <td>0</td>\n",
       "    </tr>\n",
       "    <tr>\n",
       "      <th>9ebd81467dfcfb8748053f03e5030f5f795ec851bb1790b6124f63ab1cc88768</th>\n",
       "      <td>0.346436</td>\n",
       "      <td>0.111094</td>\n",
       "      <td>0.215454</td>\n",
       "      <td>0.529297</td>\n",
       "      <td>0.529297</td>\n",
       "      <td>0.319336</td>\n",
       "      <td>0.354117</td>\n",
       "      <td>0.008812</td>\n",
       "      <td>0.949219</td>\n",
       "      <td>0.008812</td>\n",
       "      <td>...</td>\n",
       "      <td>13</td>\n",
       "      <td>O</td>\n",
       "      <td>1</td>\n",
       "      <td>13</td>\n",
       "      <td>1.0</td>\n",
       "      <td>1</td>\n",
       "      <td>13</td>\n",
       "      <td>6.0</td>\n",
       "      <td>1</td>\n",
       "      <td>0</td>\n",
       "    </tr>\n",
       "    <tr>\n",
       "      <th>69d0b189f3a0e5780c373aa03ada5875e2aaf4976905ecc9d33828b52314fbad</th>\n",
       "      <td>0.376709</td>\n",
       "      <td>0.014654</td>\n",
       "      <td>0.352295</td>\n",
       "      <td>0.397461</td>\n",
       "      <td>0.352295</td>\n",
       "      <td>0.192017</td>\n",
       "      <td>0.276401</td>\n",
       "      <td>0.001155</td>\n",
       "      <td>0.627441</td>\n",
       "      <td>0.598145</td>\n",
       "      <td>...</td>\n",
       "      <td>13</td>\n",
       "      <td>R</td>\n",
       "      <td>1</td>\n",
       "      <td>0</td>\n",
       "      <td>NaN</td>\n",
       "      <td>0</td>\n",
       "      <td>13</td>\n",
       "      <td>3.0</td>\n",
       "      <td>3</td>\n",
       "      <td>1</td>\n",
       "    </tr>\n",
       "  </tbody>\n",
       "</table>\n",
       "<p>5 rows × 919 columns</p>\n",
       "</div>"
      ],
      "text/plain": [
       "                                                    P_2_mean   P_2_std  \\\n",
       "customer_ID                                                              \n",
       "c0df518a8312f4e028c48cbef78f373c5ad8624cef578b8...  0.268799  0.062082   \n",
       "3b48daf7768d119de5f70c62d5a9fe423a5ffb6acf11970...  0.897949  0.049184   \n",
       "41f965752b51a9f2a1db797cd1b511f4e8cc8e9144f7e03...  0.630371  0.013484   \n",
       "9ebd81467dfcfb8748053f03e5030f5f795ec851bb1790b...  0.346436  0.111094   \n",
       "69d0b189f3a0e5780c373aa03ada5875e2aaf4976905ecc...  0.376709  0.014654   \n",
       "\n",
       "                                                     P_2_min   P_2_max  \\\n",
       "customer_ID                                                              \n",
       "c0df518a8312f4e028c48cbef78f373c5ad8624cef578b8...  0.171265  0.374512   \n",
       "3b48daf7768d119de5f70c62d5a9fe423a5ffb6acf11970...  0.777344  0.949219   \n",
       "41f965752b51a9f2a1db797cd1b511f4e8cc8e9144f7e03...  0.600098  0.648926   \n",
       "9ebd81467dfcfb8748053f03e5030f5f795ec851bb1790b...  0.215454  0.529297   \n",
       "69d0b189f3a0e5780c373aa03ada5875e2aaf4976905ecc...  0.352295  0.397461   \n",
       "\n",
       "                                                    P_2_last  D_39_mean  \\\n",
       "customer_ID                                                               \n",
       "c0df518a8312f4e028c48cbef78f373c5ad8624cef578b8...  0.297852   0.100098   \n",
       "3b48daf7768d119de5f70c62d5a9fe423a5ffb6acf11970...  0.777344   0.004288   \n",
       "41f965752b51a9f2a1db797cd1b511f4e8cc8e9144f7e03...  0.643066   0.306396   \n",
       "9ebd81467dfcfb8748053f03e5030f5f795ec851bb1790b...  0.529297   0.319336   \n",
       "69d0b189f3a0e5780c373aa03ada5875e2aaf4976905ecc...  0.352295   0.192017   \n",
       "\n",
       "                                                    D_39_std  D_39_min  \\\n",
       "customer_ID                                                              \n",
       "c0df518a8312f4e028c48cbef78f373c5ad8624cef578b8...  0.172330  0.000100   \n",
       "3b48daf7768d119de5f70c62d5a9fe423a5ffb6acf11970...  0.002242  0.001054   \n",
       "41f965752b51a9f2a1db797cd1b511f4e8cc8e9144f7e03...  0.261945  0.006138   \n",
       "9ebd81467dfcfb8748053f03e5030f5f795ec851bb1790b...  0.354117  0.008812   \n",
       "69d0b189f3a0e5780c373aa03ada5875e2aaf4976905ecc...  0.276401  0.001155   \n",
       "\n",
       "                                                    D_39_max  D_39_last  ...  \\\n",
       "customer_ID                                                              ...   \n",
       "c0df518a8312f4e028c48cbef78f373c5ad8624cef578b8...  0.589355   0.009224  ...   \n",
       "3b48daf7768d119de5f70c62d5a9fe423a5ffb6acf11970...  0.007381   0.007023  ...   \n",
       "41f965752b51a9f2a1db797cd1b511f4e8cc8e9144f7e03...  0.766113   0.245117  ...   \n",
       "9ebd81467dfcfb8748053f03e5030f5f795ec851bb1790b...  0.949219   0.008812  ...   \n",
       "69d0b189f3a0e5780c373aa03ada5875e2aaf4976905ecc...  0.627441   0.598145  ...   \n",
       "\n",
       "                                                    D_64_count  D_64_last  \\\n",
       "customer_ID                                                                 \n",
       "c0df518a8312f4e028c48cbef78f373c5ad8624cef578b8...          13          O   \n",
       "3b48daf7768d119de5f70c62d5a9fe423a5ffb6acf11970...          13          R   \n",
       "41f965752b51a9f2a1db797cd1b511f4e8cc8e9144f7e03...          13          O   \n",
       "9ebd81467dfcfb8748053f03e5030f5f795ec851bb1790b...          13          O   \n",
       "69d0b189f3a0e5780c373aa03ada5875e2aaf4976905ecc...          13          R   \n",
       "\n",
       "                                                    D_64_nunique  D_66_count  \\\n",
       "customer_ID                                                                    \n",
       "c0df518a8312f4e028c48cbef78f373c5ad8624cef578b8...             2           0   \n",
       "3b48daf7768d119de5f70c62d5a9fe423a5ffb6acf11970...             2           0   \n",
       "41f965752b51a9f2a1db797cd1b511f4e8cc8e9144f7e03...             1           0   \n",
       "9ebd81467dfcfb8748053f03e5030f5f795ec851bb1790b...             1          13   \n",
       "69d0b189f3a0e5780c373aa03ada5875e2aaf4976905ecc...             1           0   \n",
       "\n",
       "                                                    D_66_last  D_66_nunique  \\\n",
       "customer_ID                                                                   \n",
       "c0df518a8312f4e028c48cbef78f373c5ad8624cef578b8...        NaN             0   \n",
       "3b48daf7768d119de5f70c62d5a9fe423a5ffb6acf11970...        NaN             0   \n",
       "41f965752b51a9f2a1db797cd1b511f4e8cc8e9144f7e03...        NaN             0   \n",
       "9ebd81467dfcfb8748053f03e5030f5f795ec851bb1790b...        1.0             1   \n",
       "69d0b189f3a0e5780c373aa03ada5875e2aaf4976905ecc...        NaN             0   \n",
       "\n",
       "                                                    D_68_count  D_68_last  \\\n",
       "customer_ID                                                                 \n",
       "c0df518a8312f4e028c48cbef78f373c5ad8624cef578b8...          13        5.0   \n",
       "3b48daf7768d119de5f70c62d5a9fe423a5ffb6acf11970...          13        6.0   \n",
       "41f965752b51a9f2a1db797cd1b511f4e8cc8e9144f7e03...          13        5.0   \n",
       "9ebd81467dfcfb8748053f03e5030f5f795ec851bb1790b...          13        6.0   \n",
       "69d0b189f3a0e5780c373aa03ada5875e2aaf4976905ecc...          13        3.0   \n",
       "\n",
       "                                                    D_68_nunique  target  \n",
       "customer_ID                                                               \n",
       "c0df518a8312f4e028c48cbef78f373c5ad8624cef578b8...             3       0  \n",
       "3b48daf7768d119de5f70c62d5a9fe423a5ffb6acf11970...             2       0  \n",
       "41f965752b51a9f2a1db797cd1b511f4e8cc8e9144f7e03...             1       0  \n",
       "9ebd81467dfcfb8748053f03e5030f5f795ec851bb1790b...             1       0  \n",
       "69d0b189f3a0e5780c373aa03ada5875e2aaf4976905ecc...             3       1  \n",
       "\n",
       "[5 rows x 919 columns]"
      ]
     },
     "execution_count": 62,
     "metadata": {},
     "output_type": "execute_result"
    }
   ],
   "source": [
    "train.head()"
   ]
  },
  {
   "cell_type": "markdown",
   "metadata": {},
   "source": [
    "## Evaluation Metric"
   ]
  },
  {
   "cell_type": "code",
   "execution_count": 63,
   "metadata": {
    "colab": {
     "background_save": true
    },
    "id": "wwBWY1fdnxFw"
   },
   "outputs": [],
   "source": [
    "# https://www.kaggle.com/code/inversion/amex-competition-metric-python\n",
    "\n",
    "def amex_metric(y_true: pd.DataFrame, y_pred: pd.DataFrame) -> float:\n",
    "\n",
    "    def top_four_percent_captured(y_true: pd.DataFrame, y_pred: pd.DataFrame) -> float:\n",
    "        df = (pd.concat([y_true, y_pred], axis='columns')\n",
    "              .sort_values('prediction', ascending=False))\n",
    "        df['weight'] = df['target'].apply(lambda x: 20 if x==0 else 1)\n",
    "        four_pct_cutoff = int(0.04 * df['weight'].sum())\n",
    "        df['weight_cumsum'] = df['weight'].cumsum()\n",
    "        df_cutoff = df.loc[df['weight_cumsum'] <= four_pct_cutoff]\n",
    "        return (df_cutoff['target'] == 1).sum() / (df['target'] == 1).sum()\n",
    "        \n",
    "    def weighted_gini(y_true: pd.DataFrame, y_pred: pd.DataFrame) -> float:\n",
    "        df = (pd.concat([y_true, y_pred], axis='columns')\n",
    "              .sort_values('prediction', ascending=False))\n",
    "        df['weight'] = df['target'].apply(lambda x: 20 if x==0 else 1)\n",
    "        df['random'] = (df['weight'] / df['weight'].sum()).cumsum()\n",
    "        total_pos = (df['target'] * df['weight']).sum()\n",
    "        df['cum_pos_found'] = (df['target'] * df['weight']).cumsum()\n",
    "        df['lorentz'] = df['cum_pos_found'] / total_pos\n",
    "        df['gini'] = (df['lorentz'] - df['random']) * df['weight']\n",
    "        return df['gini'].sum()\n",
    "\n",
    "    def normalized_weighted_gini(y_true: pd.DataFrame, y_pred: pd.DataFrame) -> float:\n",
    "        y_true_pred = y_true.rename(columns={'target': 'prediction'})\n",
    "        return weighted_gini(y_true, y_pred) / weighted_gini(y_true, y_true_pred)\n",
    "\n",
    "    g = normalized_weighted_gini(y_true, y_pred)\n",
    "    d = top_four_percent_captured(y_true, y_pred)\n",
    "\n",
    "    return 0.5 * (g + d)\n",
    "\n",
    "def lgb_amex_metric(y_true, y_pred):\n",
    "    \"\"\"The competition metric with lightgbm's calling convention\"\"\"\n",
    "    return ('amex',\n",
    "            amex_metric(pd.DataFrame({'target': y_true}), pd.Series(y_pred, name='prediction')),\n",
    "            True)"
   ]
  },
  {
   "cell_type": "markdown",
   "metadata": {},
   "source": [
    "## Transform data type"
   ]
  },
  {
   "cell_type": "code",
   "execution_count": 64,
   "metadata": {},
   "outputs": [
    {
     "name": "stdout",
     "output_type": "stream",
     "text": [
      "<class 'pandas.core.frame.DataFrame'>\n",
      "CategoricalIndex: 10000 entries, c0df518a8312f4e028c48cbef78f373c5ad8624cef578b8c92c793ddf05a7a35 to ab01df611910047ac0234f16ffb58cfb7db7d7b88667f51c68b23697df3986d5\n",
      "Columns: 919 entries, P_2_mean to target\n",
      "dtypes: category(2), float16(713), float64(178), int64(22), int8(4)\n",
      "memory usage: 48.6 MB\n",
      "None\n",
      "<class 'pandas.core.frame.DataFrame'>\n",
      "CategoricalIndex: 15000 entries, 470acb9ddb7288616024871121ed4e27795b7efdf0e48a7226c43be1e9f96f45 to 07ed2b6e7ef2abc8b195ceba7e5920e50be9b6f4cc9475218a8ab2ad77b6a7cd\n",
      "Columns: 918 entries, P_2_mean to D_68_nunique\n",
      "dtypes: category(2), float16(713), float64(178), int32(3), int64(22)\n",
      "memory usage: 82.8 MB\n",
      "None\n",
      "\n",
      "-------------------------------------------------- data type transformation --------------------------------------------------\n",
      "\n",
      "<class 'pandas.core.frame.DataFrame'>\n",
      "CategoricalIndex: 10000 entries, c0df518a8312f4e028c48cbef78f373c5ad8624cef578b8c92c793ddf05a7a35 to ab01df611910047ac0234f16ffb58cfb7db7d7b88667f51c68b23697df3986d5\n",
      "Columns: 919 entries, P_2_mean to target\n",
      "dtypes: category(2), float16(891), int8(26)\n",
      "memory usage: 36.9 MB\n",
      "None\n",
      "<class 'pandas.core.frame.DataFrame'>\n",
      "CategoricalIndex: 15000 entries, 470acb9ddb7288616024871121ed4e27795b7efdf0e48a7226c43be1e9f96f45 to 07ed2b6e7ef2abc8b195ceba7e5920e50be9b6f4cc9475218a8ab2ad77b6a7cd\n",
      "Columns: 918 entries, P_2_mean to D_68_nunique\n",
      "dtypes: category(2), float16(891), int8(25)\n",
      "memory usage: 65.2 MB\n",
      "None\n"
     ]
    }
   ],
   "source": [
    "float64_cols = [col for col in train.columns if train[col].dtype == 'float64']\n",
    "int64_cols = [col for col in train.columns if train[col].dtype == 'int64']\n",
    "\n",
    "print(train.info())\n",
    "print(test.info())\n",
    "print()\n",
    "print(\"-\"*50+f' data type transformation '+'-'*50)\n",
    "print()\n",
    "\n",
    "def transform_dtype(df):\n",
    "  for col in df.columns:\n",
    "    if df[col].dtype == 'float64':\n",
    "      df[col] = df[col].astype('float16')\n",
    "    if df[col].dtype == 'float32':\n",
    "      df[col] = df[col].astype('float16')\n",
    "    if df[col].dtype == 'int64':\n",
    "      df[col] = df[col].astype('int8')\n",
    "    if df[col].dtype == 'int32':\n",
    "      df[col] = df[col].astype('int8')\n",
    "  return df\n",
    "\n",
    "train = transform_dtype(train)\n",
    "test = transform_dtype(test)\n",
    "\n",
    "print(train.info())\n",
    "print(test.info())"
   ]
  },
  {
   "cell_type": "markdown",
   "metadata": {},
   "source": [
    "## Prerocess"
   ]
  },
  {
   "cell_type": "code",
   "execution_count": 65,
   "metadata": {},
   "outputs": [],
   "source": [
    "from sklearn.preprocessing import LabelEncoder\n",
    "cat_cols = [col for col in train.columns if train[col].dtype == 'category']\n",
    "\n",
    "for col in cat_cols:\n",
    "    le = LabelEncoder()\n",
    "    le.fit(train[col])\n",
    "    train[col] = le.transform(train[col])\n",
    "    test[col] = le.transform(test[col])"
   ]
  },
  {
   "cell_type": "markdown",
   "metadata": {},
   "source": [
    "## Select Features to Use"
   ]
  },
  {
   "cell_type": "code",
   "execution_count": 66,
   "metadata": {},
   "outputs": [],
   "source": [
    "features = []\n",
    "unuse = ['target', 'customer_ID', 'S_2']\n",
    "\n",
    "for col in train.columns:\n",
    "  if col not in unuse:\n",
    "    features.append(col)\n",
    "\n",
    "# print(features)"
   ]
  },
  {
   "cell_type": "markdown",
   "metadata": {},
   "source": [
    "## Forward Selection"
   ]
  },
  {
   "cell_type": "code",
   "execution_count": 67,
   "metadata": {},
   "outputs": [],
   "source": [
    "from sklearn.model_selection import train_test_split\n",
    "\n",
    "X_train, X_test, y_train, y_test = train_test_split(train[features].values, train[Config.target].values,\n",
    "                 train_size=0.8, \n",
    "                 random_state=Config.seed, \n",
    "                 shuffle=True)"
   ]
  },
  {
   "cell_type": "code",
   "execution_count": 68,
   "metadata": {},
   "outputs": [
    {
     "name": "stdout",
     "output_type": "stream",
     "text": [
      "Fitting estimator with 918 features.\n",
      "Fitting estimator with 914 features.\n",
      "Fitting estimator with 910 features.\n",
      "Fitting estimator with 906 features.\n",
      "Fitting estimator with 902 features.\n",
      "Fitting estimator with 898 features.\n",
      "Fitting estimator with 894 features.\n",
      "Fitting estimator with 890 features.\n",
      "Fitting estimator with 886 features.\n",
      "Fitting estimator with 882 features.\n",
      "Fitting estimator with 878 features.\n",
      "Fitting estimator with 874 features.\n",
      "Fitting estimator with 870 features.\n",
      "Fitting estimator with 866 features.\n",
      "Fitting estimator with 862 features.\n",
      "Fitting estimator with 858 features.\n",
      "Fitting estimator with 854 features.\n",
      "Fitting estimator with 850 features.\n",
      "Fitting estimator with 846 features.\n",
      "Fitting estimator with 842 features.\n",
      "Fitting estimator with 838 features.\n",
      "Fitting estimator with 834 features.\n",
      "Fitting estimator with 830 features.\n",
      "Fitting estimator with 826 features.\n",
      "Fitting estimator with 822 features.\n",
      "Fitting estimator with 818 features.\n",
      "Fitting estimator with 814 features.\n",
      "Fitting estimator with 810 features.\n",
      "Fitting estimator with 806 features.\n",
      "Fitting estimator with 802 features.\n",
      "Fitting estimator with 798 features.\n",
      "Fitting estimator with 794 features.\n",
      "Fitting estimator with 790 features.\n",
      "Fitting estimator with 786 features.\n",
      "Fitting estimator with 782 features.\n",
      "Fitting estimator with 778 features.\n",
      "Fitting estimator with 774 features.\n",
      "Fitting estimator with 770 features.\n",
      "Fitting estimator with 766 features.\n",
      "Fitting estimator with 762 features.\n",
      "Fitting estimator with 758 features.\n",
      "Fitting estimator with 754 features.\n",
      "Fitting estimator with 750 features.\n",
      "Fitting estimator with 746 features.\n",
      "Fitting estimator with 742 features.\n",
      "Fitting estimator with 738 features.\n",
      "Fitting estimator with 734 features.\n",
      "Fitting estimator with 730 features.\n",
      "Fitting estimator with 726 features.\n",
      "Fitting estimator with 722 features.\n",
      "Fitting estimator with 718 features.\n",
      "Fitting estimator with 714 features.\n",
      "Fitting estimator with 710 features.\n",
      "Fitting estimator with 706 features.\n",
      "Fitting estimator with 702 features.\n",
      "Fitting estimator with 698 features.\n",
      "Fitting estimator with 694 features.\n",
      "Fitting estimator with 690 features.\n",
      "Fitting estimator with 686 features.\n",
      "Fitting estimator with 682 features.\n",
      "Fitting estimator with 678 features.\n",
      "Fitting estimator with 674 features.\n",
      "Fitting estimator with 670 features.\n",
      "Fitting estimator with 666 features.\n",
      "Fitting estimator with 662 features.\n",
      "Fitting estimator with 658 features.\n",
      "Fitting estimator with 654 features.\n",
      "Fitting estimator with 650 features.\n",
      "Fitting estimator with 646 features.\n",
      "Fitting estimator with 642 features.\n",
      "Fitting estimator with 638 features.\n",
      "Fitting estimator with 634 features.\n",
      "Fitting estimator with 630 features.\n",
      "Fitting estimator with 626 features.\n",
      "Fitting estimator with 622 features.\n",
      "Fitting estimator with 618 features.\n",
      "Fitting estimator with 614 features.\n",
      "Fitting estimator with 610 features.\n",
      "Fitting estimator with 606 features.\n",
      "Fitting estimator with 602 features.\n",
      "Fitting estimator with 598 features.\n",
      "Fitting estimator with 594 features.\n",
      "Fitting estimator with 590 features.\n",
      "Fitting estimator with 586 features.\n",
      "Fitting estimator with 582 features.\n",
      "Fitting estimator with 578 features.\n",
      "Fitting estimator with 574 features.\n",
      "Fitting estimator with 570 features.\n",
      "Fitting estimator with 566 features.\n",
      "Fitting estimator with 562 features.\n",
      "Fitting estimator with 558 features.\n",
      "Fitting estimator with 554 features.\n",
      "Fitting estimator with 550 features.\n",
      "Fitting estimator with 546 features.\n",
      "Fitting estimator with 542 features.\n",
      "Fitting estimator with 538 features.\n",
      "Fitting estimator with 534 features.\n",
      "Fitting estimator with 530 features.\n",
      "Fitting estimator with 526 features.\n",
      "Fitting estimator with 522 features.\n",
      "Fitting estimator with 518 features.\n",
      "Fitting estimator with 514 features.\n",
      "Fitting estimator with 510 features.\n",
      "Fitting estimator with 506 features.\n",
      "Fitting estimator with 502 features.\n",
      "Fitting estimator with 498 features.\n",
      "Fitting estimator with 494 features.\n",
      "Fitting estimator with 490 features.\n",
      "Fitting estimator with 486 features.\n",
      "Fitting estimator with 482 features.\n",
      "Fitting estimator with 478 features.\n",
      "Fitting estimator with 474 features.\n",
      "Fitting estimator with 470 features.\n",
      "Fitting estimator with 466 features.\n",
      "Fitting estimator with 462 features.\n",
      "Fitting estimator with 458 features.\n",
      "Fitting estimator with 454 features.\n",
      "Fitting estimator with 450 features.\n",
      "Fitting estimator with 446 features.\n",
      "Fitting estimator with 442 features.\n",
      "Fitting estimator with 438 features.\n",
      "Fitting estimator with 434 features.\n",
      "Fitting estimator with 430 features.\n",
      "Fitting estimator with 426 features.\n",
      "Fitting estimator with 422 features.\n",
      "Fitting estimator with 418 features.\n",
      "Fitting estimator with 414 features.\n",
      "Fitting estimator with 410 features.\n",
      "Fitting estimator with 406 features.\n",
      "Fitting estimator with 402 features.\n",
      "Fitting estimator with 398 features.\n",
      "Fitting estimator with 394 features.\n",
      "Fitting estimator with 390 features.\n",
      "Fitting estimator with 386 features.\n",
      "Fitting estimator with 382 features.\n",
      "Fitting estimator with 378 features.\n",
      "Fitting estimator with 374 features.\n",
      "Fitting estimator with 370 features.\n",
      "Fitting estimator with 366 features.\n",
      "Fitting estimator with 362 features.\n",
      "Fitting estimator with 358 features.\n",
      "Fitting estimator with 354 features.\n",
      "Fitting estimator with 350 features.\n",
      "Fitting estimator with 346 features.\n",
      "Fitting estimator with 342 features.\n",
      "Fitting estimator with 338 features.\n",
      "Fitting estimator with 334 features.\n",
      "Fitting estimator with 330 features.\n",
      "Fitting estimator with 326 features.\n",
      "Fitting estimator with 322 features.\n",
      "Fitting estimator with 318 features.\n",
      "Fitting estimator with 314 features.\n",
      "Fitting estimator with 310 features.\n",
      "Fitting estimator with 306 features.\n",
      "Fitting estimator with 302 features.\n",
      "Fitting estimator with 298 features.\n",
      "Fitting estimator with 294 features.\n",
      "Fitting estimator with 290 features.\n",
      "Fitting estimator with 286 features.\n",
      "Fitting estimator with 282 features.\n",
      "Fitting estimator with 278 features.\n",
      "Fitting estimator with 274 features.\n",
      "Fitting estimator with 270 features.\n",
      "Fitting estimator with 266 features.\n",
      "Fitting estimator with 262 features.\n",
      "Fitting estimator with 258 features.\n",
      "Fitting estimator with 254 features.\n",
      "Fitting estimator with 250 features.\n",
      "Fitting estimator with 246 features.\n",
      "Fitting estimator with 242 features.\n",
      "Fitting estimator with 238 features.\n",
      "Fitting estimator with 234 features.\n",
      "Fitting estimator with 230 features.\n",
      "Fitting estimator with 226 features.\n",
      "Fitting estimator with 222 features.\n",
      "Fitting estimator with 218 features.\n",
      "Fitting estimator with 214 features.\n",
      "Fitting estimator with 210 features.\n",
      "Fitting estimator with 206 features.\n",
      "Fitting estimator with 202 features.\n",
      "Fitting estimator with 198 features.\n",
      "Fitting estimator with 194 features.\n",
      "Fitting estimator with 190 features.\n",
      "Fitting estimator with 186 features.\n",
      "Fitting estimator with 182 features.\n",
      "Fitting estimator with 178 features.\n",
      "Fitting estimator with 174 features.\n",
      "Fitting estimator with 170 features.\n",
      "Fitting estimator with 166 features.\n",
      "Fitting estimator with 162 features.\n",
      "Fitting estimator with 158 features.\n",
      "Fitting estimator with 154 features.\n",
      "Fitting estimator with 150 features.\n",
      "Fitting estimator with 146 features.\n",
      "Fitting estimator with 142 features.\n",
      "Fitting estimator with 138 features.\n",
      "Fitting estimator with 134 features.\n",
      "Fitting estimator with 130 features.\n",
      "Fitting estimator with 126 features.\n",
      "Fitting estimator with 122 features.\n",
      "Fitting estimator with 118 features.\n",
      "Fitting estimator with 114 features.\n",
      "Fitting estimator with 110 features.\n",
      "Fitting estimator with 106 features.\n",
      "Fitting estimator with 102 features.\n"
     ]
    },
    {
     "data": {
      "text/plain": [
       "RFE(estimator=LGBMClassifier(force_col_wise=True, learning_rate=0.01,\n",
       "                             min_child_samples=2400, n_estimators=10000,\n",
       "                             n_jobs=8, num_leaves=127, objective='binary',\n",
       "                             random_state=2022, verbose=-1),\n",
       "    n_features_to_select=100, step=4, verbose=1)"
      ]
     },
     "execution_count": 68,
     "metadata": {},
     "output_type": "execute_result"
    }
   ],
   "source": [
    "from sklearn.feature_selection import RFE\n",
    "from lightgbm import LGBMClassifier, early_stopping\n",
    "\n",
    "lgb_params = {\"learning_rate\": 0.01,\n",
    "              'num_leaves': 127,\n",
    "              'min_child_samples': 2400}\n",
    "\n",
    "fit_params = {\n",
    "    'callbacks': [early_stopping(stopping_rounds=10, verbose=0)],\n",
    "    'eval_set': [(X_test, y_test)],\n",
    "    'eval_metric': lgb_amex_metric,\n",
    "    'verbose': 0\n",
    "}\n",
    "\n",
    "model = LGBMClassifier(**lgb_params,\n",
    "                       boosting_type='gbdt',\n",
    "                       objective='binary',\n",
    "                       n_estimators=10000,\n",
    "                       random_state=Config.seed,\n",
    "                       force_col_wise=True,\n",
    "                       n_jobs=8,\n",
    "                       verbose=-1)\n",
    "\n",
    "rfe = RFE(model,\n",
    "          n_features_to_select=100,\n",
    "          step=4,\n",
    "          verbose=1)\n",
    "\n",
    "rfe.fit(X_train, y_train, **fit_params)"
   ]
  },
  {
   "cell_type": "markdown",
   "metadata": {},
   "source": [
    "## Generate new train data"
   ]
  },
  {
   "cell_type": "code",
   "execution_count": 69,
   "metadata": {},
   "outputs": [],
   "source": [
    "train_new = pd.DataFrame(rfe.transform(train[features]), \n",
    "                     columns=train[features].columns.values[rfe.get_support()])\n",
    "result = pd.DataFrame(rfe.get_support(), index=train[features].columns.values, columns=['used'])\n",
    "result['ranking'] = rfe.ranking_\n",
    "result.sort_values('ranking', ascending=True).reset_index(drop=False, inplace=True)\n",
    "result.to_csv(f'{EXP_MODEL}/rfe_features.csv', index=False)"
   ]
  },
  {
   "cell_type": "markdown",
   "metadata": {},
   "source": [
    "## Training"
   ]
  },
  {
   "cell_type": "code",
   "execution_count": 70,
   "metadata": {},
   "outputs": [],
   "source": [
    "from lightgbm.plotting import plot_metric\n",
    "from lightgbm import LGBMClassifier, early_stopping\n",
    "from sklearn.model_selection import StratifiedKFold\n",
    "\n",
    "def fit_lgbm(X, y, params=None):\n",
    "  models = []\n",
    "  scores = []\n",
    "\n",
    "  skf = StratifiedKFold(n_splits=Config.n_splits, shuffle=True, random_state=Config.seed)\n",
    "  \n",
    "  for fold, (train_indices, valid_indices) in enumerate(tqdm(skf.split(X, y))):\n",
    "    print(\"-\"*50+f' fold{fold} '+'-'*50)\n",
    "    X_train, y_train = X.iloc[train_indices], y.iloc[train_indices]\n",
    "    X_valid, y_valid = X.iloc[valid_indices], y.iloc[valid_indices]\n",
    "\n",
    "    model = LGBMClassifier(**params,\n",
    "                           boosting_type='gbdt',\n",
    "                           objective='binary',\n",
    "                           n_estimators=10000,\n",
    "                           random_state=Config.seed,\n",
    "                           force_col_wise=True,\n",
    "                           n_jobs=8,\n",
    "                           verbose=-1)\n",
    "    \n",
    "    model.fit(X_train, y_train, \n",
    "              eval_set=[(X_train, y_train), (X_valid, y_valid)],\n",
    "              eval_names=['train', 'valid'],\n",
    "              eval_metric=lgb_amex_metric,\n",
    "              callbacks=[early_stopping(stopping_rounds=10, verbose=0)],\n",
    "              verbose=50)\n",
    "    \n",
    "    # ------------------- prediction -------------------\n",
    "    pred = model.predict_proba(X_valid)[:, 1]\n",
    "    score = amex_metric(pd.DataFrame({'target': y_valid.values}), pd.Series(pred, name='prediction'))\n",
    "\n",
    "    # ------------------- plot -------------------\n",
    "    plot_metric(model)\n",
    "\n",
    "    # ------------------- save -------------------\n",
    "    file = f'{EXP_MODEL}/lgbm_fold{fold}.pkl'\n",
    "    joblib.dump(model, file)\n",
    "    scores.append(score)\n",
    "    models.append(model)\n",
    "    print(f'fold{fold} amex meric: {score}')\n",
    "    print()\n",
    "\n",
    "  print(f\"OOF Score: {np.mean(scores):.5f}\")\n",
    "  return models\n",
    "\n",
    "def inference_lgbm(models, X):\n",
    "    pred = np.array([model.predict_proba(X) for model in models])\n",
    "    pred = np.mean(pred, axis=0)[:, 1]\n",
    "    return pred"
   ]
  },
  {
   "cell_type": "code",
   "execution_count": 71,
   "metadata": {},
   "outputs": [
    {
     "data": {
      "application/vnd.jupyter.widget-view+json": {
       "model_id": "ecca83e34b94461eaf5e22b9262d8e82",
       "version_major": 2,
       "version_minor": 0
      },
      "text/plain": [
       "0it [00:00, ?it/s]"
      ]
     },
     "metadata": {},
     "output_type": "display_data"
    },
    {
     "name": "stdout",
     "output_type": "stream",
     "text": [
      "-------------------------------------------------- fold0 --------------------------------------------------\n",
      "[50]\ttrain's binary_logloss: 0.442061\ttrain's amex: 0.573041\tvalid's binary_logloss: 0.442235\tvalid's amex: 0.62435\n",
      "fold0 amex meric: 0.6243500958521793\n",
      "\n",
      "-------------------------------------------------- fold1 --------------------------------------------------\n",
      "fold1 amex meric: 0.47773785900690113\n",
      "\n",
      "-------------------------------------------------- fold2 --------------------------------------------------\n",
      "[50]\ttrain's binary_logloss: 0.442554\ttrain's amex: 0.589956\tvalid's binary_logloss: 0.441621\tvalid's amex: 0.591121\n",
      "fold2 amex meric: 0.6228399975163192\n",
      "\n",
      "-------------------------------------------------- fold3 --------------------------------------------------\n",
      "[50]\ttrain's binary_logloss: 0.439998\ttrain's amex: 0.589668\tvalid's binary_logloss: 0.447681\tvalid's amex: 0.524105\n",
      "fold3 amex meric: 0.5640858387769505\n",
      "\n",
      "-------------------------------------------------- fold4 --------------------------------------------------\n",
      "[50]\ttrain's binary_logloss: 0.443195\ttrain's amex: 0.602426\tvalid's binary_logloss: 0.440034\tvalid's amex: 0.610314\n",
      "fold4 amex meric: 0.6103139780535487\n",
      "\n",
      "OOF Score: 0.57987\n"
     ]
    },
    {
     "data": {
      "image/png": "[encoded data removed]",
      "text/plain": [
       "<Figure size 432x288 with 1 Axes>"
      ]
     },
     "metadata": {
      "needs_background": "light"
     },
     "output_type": "display_data"
    },
    {
     "data": {
      "image/png": "[encoded data removed]",
      "text/plain": [
       "<Figure size 432x288 with 1 Axes>"
      ]
     },
     "metadata": {
      "needs_background": "light"
     },
     "output_type": "display_data"
    },
    {
     "data": {
      "image/png": "[encoded data removed]",
      "text/plain": [
       "<Figure size 432x288 with 1 Axes>"
      ]
     },
     "metadata": {
      "needs_background": "light"
     },
     "output_type": "display_data"
    },
    {
     "data": {
      "image/png": "[encoded data removed]",
      "text/plain": [
       "<Figure size 432x288 with 1 Axes>"
      ]
     },
     "metadata": {
      "needs_background": "light"
     },
     "output_type": "display_data"
    },
    {
     "data": {
      "image/png": "[encoded data removed]",
      "text/plain": [
       "<Figure size 432x288 with 1 Axes>"
      ]
     },
     "metadata": {
      "needs_background": "light"
     },
     "output_type": "display_data"
    }
   ],
   "source": [
    "lgb_params = {\"learning_rate\": 0.01,\n",
    "              'num_leaves': 127,\n",
    "              'min_child_samples': 2400}\n",
    "\n",
    "features = list(train_new.columns)\n",
    "models = fit_lgbm(train[features], train[Config.target], params=lgb_params)\n",
    "# models = [joblib.load(f'{EXP_MODEL}/lgbm_fold{i}.pkl') for i in range(Config.n_splits)]\n",
    "pred = inference_lgbm(models, test[features])"
   ]
  },
  {
   "cell_type": "markdown",
   "metadata": {},
   "source": [
    "## Plot importance"
   ]
  },
  {
   "cell_type": "code",
   "execution_count": 72,
   "metadata": {},
   "outputs": [
    {
     "data": {
      "image/png": "[encoded data removed]",
      "text/plain": [
       "<Figure size 1800x360 with 1 Axes>"
      ]
     },
     "metadata": {
      "needs_background": "light"
     },
     "output_type": "display_data"
    }
   ],
   "source": [
    "def plot_importances(models):\n",
    "    importance_df = pd.DataFrame(models[0].feature_importances_, \n",
    "                                 index=features, \n",
    "                                 columns=['importance'])\\\n",
    "                        .sort_values(\"importance\", ascending=False)\n",
    "\n",
    "    plt.subplots(figsize=(len(features) // 4, 5))\n",
    "    plt.bar(importance_df.index, importance_df.importance)\n",
    "    plt.grid()\n",
    "    plt.xticks(rotation=90)\n",
    "    plt.ylabel(\"importance\")\n",
    "    plt.tight_layout()\n",
    "    plt.show()\n",
    "\n",
    "plot_importances(models)"
   ]
  },
  {
   "cell_type": "markdown",
   "metadata": {},
   "source": [
    "## Submission"
   ]
  },
  {
   "cell_type": "code",
   "execution_count": 73,
   "metadata": {},
   "outputs": [],
   "source": [
    "sub = pd.DataFrame({'customer_ID': test.index,\n",
    "                    'prediction': pred})\n",
    "sub.to_csv(f'{EXP_PREDS}/submission.csv', index=False)"
   ]
  },
  {
   "cell_type": "code",
   "execution_count": 74,
   "metadata": {},
   "outputs": [
    {
     "name": "stdout",
     "output_type": "stream",
     "text": [
      "  2%|▊                                      | 8.00k/362k [00:05<03:44, 1.61kB/s]"
     ]
    }
   ],
   "source": [
    "! kaggle competitions submit -c amex-default-prediction -f /home/abe/kaggle/kaggle-amex/submissions/submission.csv -m \"Recuresive Feature Elimination for Aggregation Features\""
   ]
  }
 ],
 "metadata": {
  "interpreter": {
   "hash": "29001d83105739b7e7991894c59ca9a685d5fb80e48bd2a6126a67de75b87e20"
  },
  "kernelspec": {
   "display_name": "Python 3.9.12 ('amex')",
   "language": "python",
   "name": "python3"
  },
  "language_info": {
   "codemirror_mode": {
    "name": "ipython",
    "version": 3
   },
   "file_extension": ".py",
   "mimetype": "text/x-python",
   "name": "python",
   "nbconvert_exporter": "python",
   "pygments_lexer": "ipython3",
   "version": "3.9.12"
  },
  "orig_nbformat": 4
 },
 "nbformat": 4,
 "nbformat_minor": 2
}
