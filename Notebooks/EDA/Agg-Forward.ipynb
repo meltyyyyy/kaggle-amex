{
 "cells": [
  {
   "cell_type": "code",
   "execution_count": null,
   "metadata": {},
   "outputs": [],
   "source": [
    "class Config:\n",
    "    name = \"EDA/Agg-Forward\"\n",
    "\n",
    "    n_splits = 5\n",
    "    seed = 2022\n",
    "    target = \"target\"\n",
    "\n",
    "    # Colab Env\n",
    "    upload_from_colab = True\n",
    "    api_path = \"/content/drive/MyDrive/workspace/kaggle.json\"\n",
    "    drive_path = \"/content/drive/MyDrive/workspace/kaggle-amex\"\n",
    "\n",
    "    # Kaggle Env\n",
    "    kaggle_dataset_path = None\n",
    "\n",
    "    # Reka Env\n",
    "    dir_path = '/home/abe/kaggle/kaggle-amex'"
   ]
  },
  {
   "cell_type": "code",
   "execution_count": null,
   "metadata": {},
   "outputs": [],
   "source": [
    "import os\n",
    "import json\n",
    "import warnings\n",
    "import shutil\n",
    "import logging\n",
    "import joblib\n",
    "import random\n",
    "import datetime\n",
    "import sys\n",
    "import gc\n",
    "import multiprocessing\n",
    "import joblib\n",
    "import pickle\n",
    "\n",
    "import pandas as pd\n",
    "import numpy as np\n",
    "import matplotlib.pyplot as plt\n",
    "import seaborn as sns\n",
    "\n",
    "from tqdm.auto import tqdm\n",
    "tqdm.pandas()\n",
    "warnings.filterwarnings('ignore')"
   ]
  },
  {
   "cell_type": "markdown",
   "metadata": {},
   "source": [
    "## Environment Settings"
   ]
  },
  {
   "cell_type": "code",
   "execution_count": null,
   "metadata": {},
   "outputs": [],
   "source": [
    "INPUT = os.path.join(Config.dir_path, 'input')\n",
    "OUTPUT = os.path.join(Config.dir_path, 'output')\n",
    "SUBMISSION = os.path.join(Config.dir_path, 'submissions')\n",
    "OUTPUT_EXP = os.path.join(OUTPUT, Config.name)\n",
    "EXP_MODEL = os.path.join(OUTPUT_EXP, \"model\")\n",
    "EXP_FIG = os.path.join(OUTPUT_EXP, \"fig\")\n",
    "EXP_PREDS = os.path.join(OUTPUT_EXP, \"preds\")\n",
    "\n",
    "# make dirs\n",
    "for d in [INPUT, SUBMISSION, EXP_MODEL, EXP_FIG, EXP_PREDS]:\n",
    "    os.makedirs(d, exist_ok=True)"
   ]
  },
  {
   "cell_type": "markdown",
   "metadata": {},
   "source": [
    "## Load data"
   ]
  },
  {
   "cell_type": "code",
   "execution_count": null,
   "metadata": {},
   "outputs": [],
   "source": [
    "train = pd.read_pickle(os.path.join(INPUT, 'train_agg.pkl'), compression='gzip')\n",
    "test = pd.read_pickle(os.path.join(INPUT, 'test_agg.pkl'), compression='gzip')"
   ]
  },
  {
   "cell_type": "code",
   "execution_count": null,
   "metadata": {},
   "outputs": [],
   "source": [
    "train.info()"
   ]
  },
  {
   "cell_type": "code",
   "execution_count": null,
   "metadata": {},
   "outputs": [],
   "source": [
    "train.head()"
   ]
  },
  {
   "cell_type": "markdown",
   "metadata": {},
   "source": [
    "## Evaluation Metric"
   ]
  },
  {
   "cell_type": "code",
   "execution_count": null,
   "metadata": {
    "colab": {
     "background_save": true
    },
    "id": "wwBWY1fdnxFw"
   },
   "outputs": [],
   "source": [
    "# https://www.kaggle.com/code/inversion/amex-competition-metric-python\n",
    "\n",
    "def amex_metric(y_true: pd.DataFrame, y_pred: pd.DataFrame) -> float:\n",
    "\n",
    "    def top_four_percent_captured(y_true: pd.DataFrame, y_pred: pd.DataFrame) -> float:\n",
    "        df = (pd.concat([y_true, y_pred], axis='columns')\n",
    "              .sort_values('prediction', ascending=False))\n",
    "        df['weight'] = df['target'].apply(lambda x: 20 if x==0 else 1)\n",
    "        four_pct_cutoff = int(0.04 * df['weight'].sum())\n",
    "        df['weight_cumsum'] = df['weight'].cumsum()\n",
    "        df_cutoff = df.loc[df['weight_cumsum'] <= four_pct_cutoff]\n",
    "        return (df_cutoff['target'] == 1).sum() / (df['target'] == 1).sum()\n",
    "        \n",
    "    def weighted_gini(y_true: pd.DataFrame, y_pred: pd.DataFrame) -> float:\n",
    "        df = (pd.concat([y_true, y_pred], axis='columns')\n",
    "              .sort_values('prediction', ascending=False))\n",
    "        df['weight'] = df['target'].apply(lambda x: 20 if x==0 else 1)\n",
    "        df['random'] = (df['weight'] / df['weight'].sum()).cumsum()\n",
    "        total_pos = (df['target'] * df['weight']).sum()\n",
    "        df['cum_pos_found'] = (df['target'] * df['weight']).cumsum()\n",
    "        df['lorentz'] = df['cum_pos_found'] / total_pos\n",
    "        df['gini'] = (df['lorentz'] - df['random']) * df['weight']\n",
    "        return df['gini'].sum()\n",
    "\n",
    "    def normalized_weighted_gini(y_true: pd.DataFrame, y_pred: pd.DataFrame) -> float:\n",
    "        y_true_pred = y_true.rename(columns={'target': 'prediction'})\n",
    "        return weighted_gini(y_true, y_pred) / weighted_gini(y_true, y_true_pred)\n",
    "\n",
    "    g = normalized_weighted_gini(y_true, y_pred)\n",
    "    d = top_four_percent_captured(y_true, y_pred)\n",
    "\n",
    "    return 0.5 * (g + d)\n",
    "\n",
    "def lgb_amex_metric(y_true, y_pred):\n",
    "    \"\"\"The competition metric with lightgbm's calling convention\"\"\"\n",
    "    return ('amex',\n",
    "            amex_metric(pd.DataFrame({'target': y_true}), pd.Series(y_pred, name='prediction')),\n",
    "            True)"
   ]
  },
  {
   "cell_type": "markdown",
   "metadata": {},
   "source": [
    "## Transform data type"
   ]
  },
  {
   "cell_type": "code",
   "execution_count": null,
   "metadata": {},
   "outputs": [],
   "source": [
    "float64_cols = [col for col in train.columns if train[col].dtype == 'float64']\n",
    "int64_cols = [col for col in train.columns if train[col].dtype == 'int64']\n",
    "\n",
    "print(train.info())\n",
    "print(test.info())\n",
    "print()\n",
    "print(\"-\"*50+f' data type transformation '+'-'*50)\n",
    "print()\n",
    "\n",
    "def transform_dtype(df):\n",
    "  for col in df.columns:\n",
    "    if df[col].dtype == 'float64':\n",
    "      df[col] = df[col].astype('float16')\n",
    "    if df[col].dtype == 'float32':\n",
    "      df[col] = df[col].astype('float16')\n",
    "    if df[col].dtype == 'int64':\n",
    "      df[col] = df[col].astype('int8')\n",
    "    if df[col].dtype == 'int32':\n",
    "      df[col] = df[col].astype('int8')\n",
    "  return df\n",
    "\n",
    "train = transform_dtype(train)\n",
    "test = transform_dtype(test)\n",
    "\n",
    "print(train.info())\n",
    "print(test.info())"
   ]
  },
  {
   "cell_type": "markdown",
   "metadata": {},
   "source": [
    "## Select Features to Use"
   ]
  },
  {
   "cell_type": "code",
   "execution_count": null,
   "metadata": {},
   "outputs": [],
   "source": [
    "features = []\n",
    "unuse = ['target', 'customer_ID', 'S_2']\n",
    "\n",
    "for col in train.columns:\n",
    "  if col not in unuse:\n",
    "    features.append(col)\n",
    "\n",
    "# print(features)"
   ]
  },
  {
   "cell_type": "markdown",
   "metadata": {},
   "source": [
    "## Forward Selection"
   ]
  },
  {
   "cell_type": "code",
   "execution_count": 1,
   "metadata": {},
   "outputs": [
    {
     "ename": "NameError",
     "evalue": "name 'train' is not defined",
     "output_type": "error",
     "traceback": [
      "\u001b[0;31m---------------------------------------------------------------------------\u001b[0m",
      "\u001b[0;31mNameError\u001b[0m                                 Traceback (most recent call last)",
      "\u001b[1;32m/home/abe/kaggle/kaggle-amex/Notebooks/EDA/Agg-Forward.ipynb Cell 16'\u001b[0m in \u001b[0;36m<cell line: 3>\u001b[0;34m()\u001b[0m\n\u001b[1;32m      <a href='vscode-notebook-cell://ssh-remote%2Bnode190403/home/abe/kaggle/kaggle-amex/Notebooks/EDA/Agg-Forward.ipynb#ch0000017vscode-remote?line=0'>1</a>\u001b[0m \u001b[39mfrom\u001b[39;00m \u001b[39msklearn\u001b[39;00m\u001b[39m.\u001b[39;00m\u001b[39mmodel_selection\u001b[39;00m \u001b[39mimport\u001b[39;00m train_test_split\n\u001b[0;32m----> <a href='vscode-notebook-cell://ssh-remote%2Bnode190403/home/abe/kaggle/kaggle-amex/Notebooks/EDA/Agg-Forward.ipynb#ch0000017vscode-remote?line=2'>3</a>\u001b[0m X_train, X_test, y_train, y_test \u001b[39m=\u001b[39m train_test_split(train[features]\u001b[39m.\u001b[39mvalues, train[Config\u001b[39m.\u001b[39mtarget]\u001b[39m.\u001b[39mvalues,\n\u001b[1;32m      <a href='vscode-notebook-cell://ssh-remote%2Bnode190403/home/abe/kaggle/kaggle-amex/Notebooks/EDA/Agg-Forward.ipynb#ch0000017vscode-remote?line=3'>4</a>\u001b[0m                  train_size\u001b[39m=\u001b[39m\u001b[39m0.8\u001b[39m, \n\u001b[1;32m      <a href='vscode-notebook-cell://ssh-remote%2Bnode190403/home/abe/kaggle/kaggle-amex/Notebooks/EDA/Agg-Forward.ipynb#ch0000017vscode-remote?line=4'>5</a>\u001b[0m                  random_state\u001b[39m=\u001b[39mConfig\u001b[39m.\u001b[39mseed, \n\u001b[1;32m      <a href='vscode-notebook-cell://ssh-remote%2Bnode190403/home/abe/kaggle/kaggle-amex/Notebooks/EDA/Agg-Forward.ipynb#ch0000017vscode-remote?line=5'>6</a>\u001b[0m                  shuffle\u001b[39m=\u001b[39m\u001b[39mTrue\u001b[39;00m)\n",
      "\u001b[0;31mNameError\u001b[0m: name 'train' is not defined"
     ]
    }
   ],
   "source": [
    "from sklearn.model_selection import train_test_split\n",
    "\n",
    "X_train, X_test, y_train, y_test = train_test_split(train[features].values, train[Config.target].values,\n",
    "                 train_size=0.8, \n",
    "                 random_state=Config.seed, \n",
    "                 shuffle=True)"
   ]
  },
  {
   "cell_type": "code",
   "execution_count": 2,
   "metadata": {},
   "outputs": [
    {
     "ename": "ModuleNotFoundError",
     "evalue": "No module named 'ligtgbm'",
     "output_type": "error",
     "traceback": [
      "\u001b[0;31m---------------------------------------------------------------------------\u001b[0m",
      "\u001b[0;31mModuleNotFoundError\u001b[0m                       Traceback (most recent call last)",
      "\u001b[1;32m/home/abe/kaggle/kaggle-amex/Notebooks/EDA/Agg-Forward.ipynb Cell 16'\u001b[0m in \u001b[0;36m<cell line: 2>\u001b[0;34m()\u001b[0m\n\u001b[1;32m      <a href='vscode-notebook-cell://ssh-remote%2Bnode190403/home/abe/kaggle/kaggle-amex/Notebooks/EDA/Agg-Forward.ipynb#ch0000015vscode-remote?line=0'>1</a>\u001b[0m \u001b[39mfrom\u001b[39;00m \u001b[39mmlxtend\u001b[39;00m\u001b[39m.\u001b[39;00m\u001b[39mfeature_selection\u001b[39;00m \u001b[39mimport\u001b[39;00m SequentialFeatureSelector \u001b[39mas\u001b[39;00m SFS\n\u001b[0;32m----> <a href='vscode-notebook-cell://ssh-remote%2Bnode190403/home/abe/kaggle/kaggle-amex/Notebooks/EDA/Agg-Forward.ipynb#ch0000015vscode-remote?line=1'>2</a>\u001b[0m \u001b[39mimport\u001b[39;00m \u001b[39mligtgbm\u001b[39;00m \u001b[39mas\u001b[39;00m \u001b[39mlgb\u001b[39;00m\n\u001b[1;32m      <a href='vscode-notebook-cell://ssh-remote%2Bnode190403/home/abe/kaggle/kaggle-amex/Notebooks/EDA/Agg-Forward.ipynb#ch0000015vscode-remote?line=3'>4</a>\u001b[0m model \u001b[39m=\u001b[39m LGBMClassifier(boosting_type\u001b[39m=\u001b[39m\u001b[39m'\u001b[39m\u001b[39mgbdt\u001b[39m\u001b[39m'\u001b[39m,\n\u001b[1;32m      <a href='vscode-notebook-cell://ssh-remote%2Bnode190403/home/abe/kaggle/kaggle-amex/Notebooks/EDA/Agg-Forward.ipynb#ch0000015vscode-remote?line=4'>5</a>\u001b[0m                        objective\u001b[39m=\u001b[39m\u001b[39m'\u001b[39m\u001b[39mbinary\u001b[39m\u001b[39m'\u001b[39m,\n\u001b[1;32m      <a href='vscode-notebook-cell://ssh-remote%2Bnode190403/home/abe/kaggle/kaggle-amex/Notebooks/EDA/Agg-Forward.ipynb#ch0000015vscode-remote?line=5'>6</a>\u001b[0m                        n_estimators\u001b[39m=\u001b[39m\u001b[39m10000\u001b[39m,\n\u001b[0;32m   (...)\u001b[0m\n\u001b[1;32m     <a href='vscode-notebook-cell://ssh-remote%2Bnode190403/home/abe/kaggle/kaggle-amex/Notebooks/EDA/Agg-Forward.ipynb#ch0000015vscode-remote?line=10'>11</a>\u001b[0m                        n_jobs\u001b[39m=\u001b[39m\u001b[39m-\u001b[39m\u001b[39m1\u001b[39m,\n\u001b[1;32m     <a href='vscode-notebook-cell://ssh-remote%2Bnode190403/home/abe/kaggle/kaggle-amex/Notebooks/EDA/Agg-Forward.ipynb#ch0000015vscode-remote?line=11'>12</a>\u001b[0m                        verbose\u001b[39m=\u001b[39m\u001b[39m0\u001b[39m)\n\u001b[1;32m     <a href='vscode-notebook-cell://ssh-remote%2Bnode190403/home/abe/kaggle/kaggle-amex/Notebooks/EDA/Agg-Forward.ipynb#ch0000015vscode-remote?line=13'>14</a>\u001b[0m fit_params \u001b[39m=\u001b[39m {\n\u001b[1;32m     <a href='vscode-notebook-cell://ssh-remote%2Bnode190403/home/abe/kaggle/kaggle-amex/Notebooks/EDA/Agg-Forward.ipynb#ch0000015vscode-remote?line=14'>15</a>\u001b[0m     \u001b[39m'\u001b[39m\u001b[39mcallbacks\u001b[39m\u001b[39m'\u001b[39m: [early_stopping(stopping_rounds\u001b[39m=\u001b[39m\u001b[39m10\u001b[39m)],\n\u001b[1;32m     <a href='vscode-notebook-cell://ssh-remote%2Bnode190403/home/abe/kaggle/kaggle-amex/Notebooks/EDA/Agg-Forward.ipynb#ch0000015vscode-remote?line=15'>16</a>\u001b[0m     \u001b[39m'\u001b[39m\u001b[39mverbose\u001b[39m\u001b[39m'\u001b[39m : \u001b[39m0\u001b[39m,\n\u001b[1;32m     <a href='vscode-notebook-cell://ssh-remote%2Bnode190403/home/abe/kaggle/kaggle-amex/Notebooks/EDA/Agg-Forward.ipynb#ch0000015vscode-remote?line=16'>17</a>\u001b[0m }\n",
      "\u001b[0;31mModuleNotFoundError\u001b[0m: No module named 'ligtgbm'"
     ]
    }
   ],
   "source": [
    "from mlxtend.feature_selection import SequentialFeatureSelector as SFS\n",
    "from lightgbm import LGBMClassifier, early_stopping\n",
    "\n",
    "lgb_params = {\"learning_rate\": 0.01,\n",
    "              'num_leaves': 127,\n",
    "              'min_child_samples': 2400}\n",
    "\n",
    "fit_params = {\n",
    "    'callbacks': [early_stopping(stopping_rounds=10, verbose=0)],\n",
    "    'eval_set': [(X_test, y_test)],\n",
    "    'eval_metric': lgb_amex_metric,\n",
    "    'verbose': 0\n",
    "}\n",
    "\n",
    "model = LGBMClassifier(**lgb_params,\n",
    "                       boosting_type='gbdt',\n",
    "                       objective='binary',\n",
    "                       n_estimators=10000,\n",
    "                       random_state=Config.seed,\n",
    "                       force_col_wise=True,\n",
    "                       n_jobs=16,\n",
    "                       verbose=-1)\n",
    "\n",
    "sfs = SFS(model, \n",
    "          k_features=10,\n",
    "          forward=True, \n",
    "          cv=5,\n",
    "          scoring='accuracy', \n",
    "          pre_dispatch=32,\n",
    "          verbose=2)\n",
    "\n",
    "sfs.fit(X_train, y_train, **fit_params)"
   ]
  },
  {
   "cell_type": "code",
   "execution_count": null,
   "metadata": {},
   "outputs": [],
   "source": []
  }
 ],
 "metadata": {
  "interpreter": {
   "hash": "29001d83105739b7e7991894c59ca9a685d5fb80e48bd2a6126a67de75b87e20"
  },
  "kernelspec": {
   "display_name": "Python 3.9.12 ('amex')",
   "language": "python",
   "name": "python3"
  },
  "language_info": {
   "codemirror_mode": {
    "name": "ipython",
    "version": 3
   },
   "file_extension": ".py",
   "mimetype": "text/x-python",
   "name": "python",
   "nbconvert_exporter": "python",
   "pygments_lexer": "ipython3",
   "version": "3.9.12"
  },
  "orig_nbformat": 4
 },
 "nbformat": 4,
 "nbformat_minor": 2
}
