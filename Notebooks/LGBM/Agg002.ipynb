{
 "cells": [
  {
   "cell_type": "code",
   "execution_count": null,
   "metadata": {},
   "outputs": [],
   "source": [
    "class Config:\n",
    "    name = \"LGBM/Agg002\"\n",
    "\n",
    "    n_splits = 5\n",
    "    seed = 2022\n",
    "    target = \"target\"\n",
    "\n",
    "    # Colab Env\n",
    "    upload_from_colab = True\n",
    "    api_path = \"/content/drive/MyDrive/workspace/kaggle.json\"\n",
    "    drive_path = \"/content/drive/MyDrive/workspace/kaggle-amex\"\n",
    "    \n",
    "    # Kaggle Env\n",
    "    kaggle_dataset_path = None\n",
    "    \n",
    "    # Reka Env\n",
    "    dir_path = '/home/abe/kaggle/kaggle-amex'"
   ]
  }
 ],
 "metadata": {
  "language_info": {
   "name": "python"
  },
  "orig_nbformat": 4
 },
 "nbformat": 4,
 "nbformat_minor": 2
}
