{
  "cells": [
    {
      "cell_type": "markdown",
      "metadata": {
        "colab_type": "text",
        "id": "view-in-github"
      },
      "source": [
        "<a href=\"https://colab.research.google.com/github/meltyyyyy/kaggle-amex/blob/main/Notebooks/LGBM/Baseline.ipynb\" target=\"_parent\"><img src=\"https://colab.research.google.com/assets/colab-badge.svg\" alt=\"Open In Colab\"/></a>"
      ]
    },
    {
      "cell_type": "code",
      "execution_count": 1,
      "metadata": {
        "id": "ilqJ4rcWc4xO"
      },
      "outputs": [],
      "source": [
        "class Config:\n",
        "    name = \"LGBM/Lag001\"\n",
        "\n",
        "    n_splits = 5\n",
        "    seed = 2022\n",
        "    target = \"target\"\n",
        "\n",
        "    # Colab Env\n",
        "    upload_from_colab = True\n",
        "    api_path = \"/content/drive/MyDrive/workspace/kaggle.json\"\n",
        "    drive_path = \"/content/drive/MyDrive/workspace/kaggle-amex\"\n",
        "    \n",
        "    # Kaggle Env\n",
        "    kaggle_dataset_path = None\n",
        "    \n",
        "    # Reka Env\n",
        "    dir_path = '/home/abe/kaggle/kaggle-amex'"
      ]
    },
    {
      "cell_type": "code",
      "execution_count": 2,
      "metadata": {
        "id": "m9Jf525wdD4v"
      },
      "outputs": [],
      "source": [
        "import os\n",
        "import json\n",
        "import warnings\n",
        "import shutil\n",
        "import logging\n",
        "import joblib\n",
        "import random\n",
        "import datetime\n",
        "import sys\n",
        "import gc\n",
        "import multiprocessing\n",
        "import joblib\n",
        "import pickle\n",
        "\n",
        "import pandas as pd\n",
        "import numpy as np\n",
        "import matplotlib.pyplot as plt\n",
        "%matplotlib inline\n",
        "plt.style.use('seaborn-pastel')\n",
        "import seaborn as sns\n",
        "sns.set_palette(\"winter_r\")\n",
        "\n",
        "from tqdm.auto import tqdm\n",
        "tqdm.pandas()\n",
        "warnings.filterwarnings('ignore')"
      ]
    },
    {
      "cell_type": "code",
      "execution_count": 3,
      "metadata": {
        "colab": {
          "base_uri": "https://localhost:8080/"
        },
        "id": "SAwmuAVHgmNG",
        "outputId": "e7c86f1e-faac-46f2-c233-db2f0ad76a3b"
      },
      "outputs": [],
      "source": [
        "INPUT = os.path.join(Config.dir_path, 'input')\n",
        "OUTPUT = os.path.join(Config.dir_path, 'output')\n",
        "SUBMISSION = os.path.join(Config.dir_path, 'submissions')\n",
        "OUTPUT_EXP = os.path.join(OUTPUT, Config.name)\n",
        "EXP_MODEL = os.path.join(OUTPUT_EXP, \"model\")\n",
        "EXP_FIG = os.path.join(OUTPUT_EXP, \"fig\")\n",
        "EXP_PREDS = os.path.join(OUTPUT_EXP, \"preds\")\n",
        "\n",
        "# make dirs\n",
        "for d in [INPUT, SUBMISSION, EXP_MODEL, EXP_FIG, EXP_PREDS]:\n",
        "    os.makedirs(d, exist_ok=True)"
      ]
    },
    {
      "cell_type": "code",
      "execution_count": 4,
      "metadata": {
        "id": "v9cJGrE-dpDA"
      },
      "outputs": [],
      "source": [
        "train = pd.read_parquet(os.path.join(INPUT, 'train_small.parquet'))\n",
        "target = pd.read_csv(os.path.join(INPUT, 'train_labels.csv'), dtype={'customer_ID': 'str', 'target': 'int8'})\n",
        "# train = pd.read_parquet(os.path.join(INPUT, 'train_small.parquet') if COLAB else 'train_small.parquet')\n",
        "test = pd.read_parquet(os.path.join(INPUT, 'test_small.parquet'))"
      ]
    },
    {
      "cell_type": "code",
      "execution_count": 5,
      "metadata": {
        "colab": {
          "base_uri": "https://localhost:8080/"
        },
        "id": "d4rytnIReGSi",
        "outputId": "8fe81eef-9bfb-418c-a316-6464429db11b"
      },
      "outputs": [
        {
          "name": "stdout",
          "output_type": "stream",
          "text": [
            "<class 'pandas.core.frame.DataFrame'>\n",
            "RangeIndex: 603128 entries, 0 to 603127\n",
            "Columns: 190 entries, customer_ID to D_145\n",
            "dtypes: float32(93), int16(9), int8(86), object(2)\n",
            "memory usage: 283.0+ MB\n"
          ]
        }
      ],
      "source": [
        "train.info()"
      ]
    },
    {
      "cell_type": "code",
      "execution_count": 6,
      "metadata": {
        "colab": {
          "base_uri": "https://localhost:8080/",
          "height": 235
        },
        "id": "7n5KRbzXebh-",
        "outputId": "9012acee-8bc1-46ca-a745-a1e74a35c2c1"
      },
      "outputs": [
        {
          "data": {
            "text/html": [
              "<div>\n",
              "<style scoped>\n",
              "    .dataframe tbody tr th:only-of-type {\n",
              "        vertical-align: middle;\n",
              "    }\n",
              "\n",
              "    .dataframe tbody tr th {\n",
              "        vertical-align: top;\n",
              "    }\n",
              "\n",
              "    .dataframe thead th {\n",
              "        text-align: right;\n",
              "    }\n",
              "</style>\n",
              "<table border=\"1\" class=\"dataframe\">\n",
              "  <thead>\n",
              "    <tr style=\"text-align: right;\">\n",
              "      <th></th>\n",
              "      <th>customer_ID</th>\n",
              "      <th>S_2</th>\n",
              "      <th>P_2</th>\n",
              "      <th>D_39</th>\n",
              "      <th>B_1</th>\n",
              "      <th>B_2</th>\n",
              "      <th>R_1</th>\n",
              "      <th>S_3</th>\n",
              "      <th>D_41</th>\n",
              "      <th>B_3</th>\n",
              "      <th>...</th>\n",
              "      <th>D_136</th>\n",
              "      <th>D_137</th>\n",
              "      <th>D_138</th>\n",
              "      <th>D_139</th>\n",
              "      <th>D_140</th>\n",
              "      <th>D_141</th>\n",
              "      <th>D_142</th>\n",
              "      <th>D_143</th>\n",
              "      <th>D_144</th>\n",
              "      <th>D_145</th>\n",
              "    </tr>\n",
              "  </thead>\n",
              "  <tbody>\n",
              "    <tr>\n",
              "      <th>0</th>\n",
              "      <td>f767e9a1c77a72815a2d61bd4ef1de3dcb2f659f86c4c5...</td>\n",
              "      <td>2017-03-08</td>\n",
              "      <td>0.986959</td>\n",
              "      <td>12</td>\n",
              "      <td>0.164017</td>\n",
              "      <td>0.083942</td>\n",
              "      <td>0.504688</td>\n",
              "      <td>0.096874</td>\n",
              "      <td>0.0</td>\n",
              "      <td>0.425046</td>\n",
              "      <td>...</td>\n",
              "      <td>-1</td>\n",
              "      <td>-1</td>\n",
              "      <td>-1</td>\n",
              "      <td>0</td>\n",
              "      <td>0</td>\n",
              "      <td>0.0</td>\n",
              "      <td>NaN</td>\n",
              "      <td>0</td>\n",
              "      <td>0.009946</td>\n",
              "      <td>0</td>\n",
              "    </tr>\n",
              "    <tr>\n",
              "      <th>1</th>\n",
              "      <td>f767e9a1c77a72815a2d61bd4ef1de3dcb2f659f86c4c5...</td>\n",
              "      <td>2017-04-25</td>\n",
              "      <td>1.001113</td>\n",
              "      <td>0</td>\n",
              "      <td>0.024842</td>\n",
              "      <td>1.009856</td>\n",
              "      <td>0.000869</td>\n",
              "      <td>0.093035</td>\n",
              "      <td>0.0</td>\n",
              "      <td>0.229110</td>\n",
              "      <td>...</td>\n",
              "      <td>-1</td>\n",
              "      <td>-1</td>\n",
              "      <td>-1</td>\n",
              "      <td>0</td>\n",
              "      <td>0</td>\n",
              "      <td>0.0</td>\n",
              "      <td>NaN</td>\n",
              "      <td>0</td>\n",
              "      <td>0.003058</td>\n",
              "      <td>0</td>\n",
              "    </tr>\n",
              "    <tr>\n",
              "      <th>2</th>\n",
              "      <td>f767e9a1c77a72815a2d61bd4ef1de3dcb2f659f86c4c5...</td>\n",
              "      <td>2017-05-13</td>\n",
              "      <td>1.008732</td>\n",
              "      <td>16</td>\n",
              "      <td>0.038798</td>\n",
              "      <td>1.000989</td>\n",
              "      <td>0.004768</td>\n",
              "      <td>0.089419</td>\n",
              "      <td>0.0</td>\n",
              "      <td>0.171368</td>\n",
              "      <td>...</td>\n",
              "      <td>-1</td>\n",
              "      <td>-1</td>\n",
              "      <td>-1</td>\n",
              "      <td>0</td>\n",
              "      <td>0</td>\n",
              "      <td>0.0</td>\n",
              "      <td>NaN</td>\n",
              "      <td>0</td>\n",
              "      <td>0.009550</td>\n",
              "      <td>0</td>\n",
              "    </tr>\n",
              "    <tr>\n",
              "      <th>3</th>\n",
              "      <td>f767e9a1c77a72815a2d61bd4ef1de3dcb2f659f86c4c5...</td>\n",
              "      <td>2017-06-29</td>\n",
              "      <td>1.007229</td>\n",
              "      <td>2</td>\n",
              "      <td>0.030237</td>\n",
              "      <td>1.004904</td>\n",
              "      <td>0.005655</td>\n",
              "      <td>0.068247</td>\n",
              "      <td>0.0</td>\n",
              "      <td>0.075452</td>\n",
              "      <td>...</td>\n",
              "      <td>-1</td>\n",
              "      <td>-1</td>\n",
              "      <td>-1</td>\n",
              "      <td>0</td>\n",
              "      <td>0</td>\n",
              "      <td>0.0</td>\n",
              "      <td>NaN</td>\n",
              "      <td>0</td>\n",
              "      <td>0.007930</td>\n",
              "      <td>0</td>\n",
              "    </tr>\n",
              "    <tr>\n",
              "      <th>4</th>\n",
              "      <td>f767e9a1c77a72815a2d61bd4ef1de3dcb2f659f86c4c5...</td>\n",
              "      <td>2017-07-06</td>\n",
              "      <td>1.007854</td>\n",
              "      <td>9</td>\n",
              "      <td>0.053108</td>\n",
              "      <td>1.000425</td>\n",
              "      <td>0.006688</td>\n",
              "      <td>0.076103</td>\n",
              "      <td>0.0</td>\n",
              "      <td>0.079313</td>\n",
              "      <td>...</td>\n",
              "      <td>-1</td>\n",
              "      <td>-1</td>\n",
              "      <td>-1</td>\n",
              "      <td>0</td>\n",
              "      <td>0</td>\n",
              "      <td>0.0</td>\n",
              "      <td>NaN</td>\n",
              "      <td>0</td>\n",
              "      <td>0.003996</td>\n",
              "      <td>0</td>\n",
              "    </tr>\n",
              "  </tbody>\n",
              "</table>\n",
              "<p>5 rows × 190 columns</p>\n",
              "</div>"
            ],
            "text/plain": [
              "                                         customer_ID         S_2       P_2  \\\n",
              "0  f767e9a1c77a72815a2d61bd4ef1de3dcb2f659f86c4c5...  2017-03-08  0.986959   \n",
              "1  f767e9a1c77a72815a2d61bd4ef1de3dcb2f659f86c4c5...  2017-04-25  1.001113   \n",
              "2  f767e9a1c77a72815a2d61bd4ef1de3dcb2f659f86c4c5...  2017-05-13  1.008732   \n",
              "3  f767e9a1c77a72815a2d61bd4ef1de3dcb2f659f86c4c5...  2017-06-29  1.007229   \n",
              "4  f767e9a1c77a72815a2d61bd4ef1de3dcb2f659f86c4c5...  2017-07-06  1.007854   \n",
              "\n",
              "   D_39       B_1       B_2       R_1       S_3  D_41       B_3  ...  D_136  \\\n",
              "0    12  0.164017  0.083942  0.504688  0.096874   0.0  0.425046  ...     -1   \n",
              "1     0  0.024842  1.009856  0.000869  0.093035   0.0  0.229110  ...     -1   \n",
              "2    16  0.038798  1.000989  0.004768  0.089419   0.0  0.171368  ...     -1   \n",
              "3     2  0.030237  1.004904  0.005655  0.068247   0.0  0.075452  ...     -1   \n",
              "4     9  0.053108  1.000425  0.006688  0.076103   0.0  0.079313  ...     -1   \n",
              "\n",
              "   D_137  D_138  D_139  D_140  D_141  D_142  D_143     D_144  D_145  \n",
              "0     -1     -1      0      0    0.0    NaN      0  0.009946      0  \n",
              "1     -1     -1      0      0    0.0    NaN      0  0.003058      0  \n",
              "2     -1     -1      0      0    0.0    NaN      0  0.009550      0  \n",
              "3     -1     -1      0      0    0.0    NaN      0  0.007930      0  \n",
              "4     -1     -1      0      0    0.0    NaN      0  0.003996      0  \n",
              "\n",
              "[5 rows x 190 columns]"
            ]
          },
          "execution_count": 6,
          "metadata": {},
          "output_type": "execute_result"
        }
      ],
      "source": [
        "train.head()"
      ]
    },
    {
      "cell_type": "markdown",
      "metadata": {
        "id": "VLyBY1WonueN"
      },
      "source": [
        "## Evaluation merics"
      ]
    },
    {
      "cell_type": "code",
      "execution_count": 7,
      "metadata": {
        "id": "wwBWY1fdnxFw"
      },
      "outputs": [],
      "source": [
        "# @yunchonggan's fast metric implementation\n",
        "# From https://www.kaggle.com/competitions/amex-default-prediction/discussion/328020\n",
        "def amex_metric(y_true: np.array, y_pred: np.array) -> float:\n",
        "\n",
        "    # count of positives and negatives\n",
        "    n_pos = y_true.sum()\n",
        "    n_neg = y_true.shape[0] - n_pos\n",
        "\n",
        "    # sorting by descring prediction values\n",
        "    indices = np.argsort(y_pred)[::-1]\n",
        "    preds, target = y_pred[indices], y_true[indices]\n",
        "\n",
        "    # filter the top 4% by cumulative row weights\n",
        "    weight = 20.0 - target * 19.0\n",
        "    cum_norm_weight = (weight / weight.sum()).cumsum()\n",
        "    four_pct_filter = cum_norm_weight <= 0.04\n",
        "\n",
        "    # default rate captured at 4%\n",
        "    d = target[four_pct_filter].sum() / n_pos\n",
        "\n",
        "    # weighted gini coefficient\n",
        "    lorentz = (target / n_pos).cumsum()\n",
        "    gini = ((lorentz - cum_norm_weight) * weight).sum()\n",
        "\n",
        "    # max weighted gini coefficient\n",
        "    gini_max = 10 * n_neg * (1 - 19 / (n_pos + 20 * n_neg))\n",
        "\n",
        "    # normalized weighted gini coefficient\n",
        "    g = gini / gini_max\n",
        "\n",
        "    return 0.5 * (g + d)\n",
        "\n",
        "def lgb_amex_metric(y_true, y_pred):\n",
        "    \"\"\"The competition metric with lightgbm's calling convention\"\"\"\n",
        "    return ('amex',\n",
        "            amex_metric(y_true, y_pred),\n",
        "            True)"
      ]
    },
    {
      "cell_type": "markdown",
      "metadata": {
        "id": "R5-cpKNRehDB"
      },
      "source": [
        "## Feature Eng"
      ]
    },
    {
      "cell_type": "code",
      "execution_count": null,
      "metadata": {},
      "outputs": [],
      "source": [
        "cat_features = ['B_30', 'B_38', 'D_114', 'D_116', 'D_117', 'D_120', 'D_126', 'D_63', 'D_64', 'D_66', 'D_68']\n",
        "cont_features = [col for col in train.columns if col not in cat_features + [Config.target, 'S_2', 'customer_ID']]"
      ]
    },
    {
      "cell_type": "code",
      "execution_count": null,
      "metadata": {},
      "outputs": [],
      "source": [
        "def _add_diff_features(args, step=3):\n",
        "    customer_id, df = args\n",
        "    dfs = []\n",
        "    for i in range(step):\n",
        "        shift = i+1\n",
        "        df_diff = df[cont_features].diff(shift).rename(columns={f: f\"{f}_diff{shift}\" for f in cont_features})\n",
        "        df_diff = df_diff.tail(1).reset_index(drop=True)\n",
        "        dfs.append(df_diff)\n",
        "    df = pd.concat(dfs, axis=1)\n",
        "    df['customer_ID'] = customer_id\n",
        "    return df\n",
        "\n",
        "\n",
        "def add_diff_features(df : pd.DataFrame, processes=32):\n",
        "    with multiprocessing.Pool(processes=processes) as pool:\n",
        "        dfs = pool.imap_unordered(_add_diff_features, df.groupby('customer_ID'))\n",
        "        dfs = tqdm(dfs)\n",
        "        dfs = list(dfs)\n",
        "    df = pd.concat(dfs)\n",
        "    return df.reset_index(drop=True).sort_index(axis=1)\n",
        "\n",
        "train_diff = add_diff_features(train.copy())\n",
        "test_diff = add_diff_features(test.copy())"
      ]
    },
    {
      "cell_type": "code",
      "execution_count": null,
      "metadata": {},
      "outputs": [],
      "source": [
        "def _add_shift_features(args, step=3):\n",
        "    customer_id, df = args\n",
        "    dfs = []\n",
        "    for i in range(step):\n",
        "        shift = i+1\n",
        "        df_shift = df[cont_features + cat_features].shift(shift).rename(columns={f: f\"{f}_shift{shift}\" for f in cont_features + cat_features})\n",
        "        df_shift = df_shift.tail(1).reset_index(drop=True)\n",
        "        dfs.append(df_shift)\n",
        "    df = pd.concat(dfs, axis=1)\n",
        "    df['customer_ID'] = customer_id\n",
        "    return df\n",
        "\n",
        "def add_shift_features(df : pd.DataFrame, processes=32):\n",
        "    with multiprocessing.Pool(processes=processes) as pool:\n",
        "        dfs = pool.imap_unordered(_add_shift_features, df.groupby('customer_ID'))\n",
        "        dfs = tqdm(dfs)\n",
        "        dfs = list(dfs)\n",
        "    df = pd.concat(dfs)\n",
        "    return df.reset_index(drop=True).sort_index(axis=1)\n",
        "\n",
        "train_shift = add_shift_features(train.copy())\n",
        "test_shift = add_shift_features(test.copy())"
      ]
    },
    {
      "cell_type": "code",
      "execution_count": null,
      "metadata": {},
      "outputs": [],
      "source": [
        "def _add_pct_features(args, step=3):\n",
        "    customer_id, df = args\n",
        "    dfs = []\n",
        "    for i in range(step):\n",
        "        shift = i+1\n",
        "        df_pct = df[cont_features].pct_change(shift).rename(columns={f: f\"{f}_pct{shift}\" for f in cont_features})\n",
        "        df_pct = df_pct.tail(1).reset_index(drop=True)\n",
        "        dfs.append(df_pct)\n",
        "    df = pd.concat(dfs, axis=1)\n",
        "    df['customer_ID'] = customer_id\n",
        "    return df\n",
        "\n",
        "def add_pct_features(df : pd.DataFrame, processes=32):\n",
        "    with multiprocessing.Pool(processes=processes) as pool:\n",
        "        dfs = pool.imap_unordered(_add_pct_features, df.groupby('customer_ID'))\n",
        "        dfs = tqdm(dfs)\n",
        "        dfs = list(dfs)\n",
        "    df = pd.concat(dfs)\n",
        "    return df.reset_index(drop=True).sort_index(axis=1)\n",
        "\n",
        "train_pct = add_pct_features(train.copy())\n",
        "test_pct = add_pct_features(test.copy())"
      ]
    },
    {
      "cell_type": "code",
      "execution_count": null,
      "metadata": {},
      "outputs": [],
      "source": [
        "def _add_avg_features(args, step=3):\n",
        "    customer_id, df = args\n",
        "    dfs = []\n",
        "    for window in [3, 6, 9, 12]:\n",
        "        df_avg = df[cont_features].rolling(window).mean(skipna=True).rename(columns={f: f\"{f}_pct{window}\" for f in cont_features})\n",
        "        df_avg = df_avg.tail(1).reset_index(drop=True)\n",
        "        dfs.append(df_avg)\n",
        "    df = pd.concat(dfs, axis=1)\n",
        "    df['customer_ID'] = customer_id\n",
        "    return df\n",
        "\n",
        "def add_avg_features(df : pd.DataFrame, processes=32):\n",
        "    with multiprocessing.Pool(processes=processes) as pool:\n",
        "        dfs = pool.imap_unordered(_add_avg_features, df.groupby('customer_ID'))\n",
        "        dfs = tqdm(dfs)\n",
        "        dfs = list(dfs)\n",
        "    df = pd.concat(dfs)\n",
        "    return df.reset_index(drop=True).sort_index(axis=1)\n",
        "\n",
        "train_avg = add_avg_features(train.copy())\n",
        "test_avg = add_avg_features(test.copy())"
      ]
    },
    {
      "cell_type": "code",
      "execution_count": null,
      "metadata": {},
      "outputs": [],
      "source": [
        "train_lag = train_diff.set_index('customer_ID').join(\n",
        "    train_shift.set_index('customer_ID'),\n",
        "    how='left').join(\n",
        "        train_pct.set_index('customer_ID'),\n",
        "        how='left').join(\n",
        "            train_avg.set_index('customer_ID'),\n",
        "    how='left').reset_index(drop=False)\n",
        "\n",
        "test_lag = test_diff.set_index('customer_ID').join(\n",
        "    test_shift.set_index('customer_ID'),\n",
        "    how='left').join(\n",
        "        test_pct.set_index('customer_ID'),\n",
        "        how='left').join(\n",
        "            test_avg.set_index('customer_ID'),\n",
        "    how='left').reset_index(drop=False)"
      ]
    },
    {
      "cell_type": "code",
      "execution_count": 8,
      "metadata": {
        "id": "4S8d6gcyed8K"
      },
      "outputs": [],
      "source": [
        "features_avg = ['B_1', 'B_2', 'B_3', 'B_4', 'B_5', 'B_6', 'B_8', 'B_9', 'B_10', 'B_11', 'B_12', 'B_13', 'B_14', 'B_15', 'B_16', 'B_17', 'B_18', 'B_19', 'B_20', 'B_21', 'B_22', 'B_23', 'B_24', 'B_25', 'B_28', 'B_29', 'B_30', 'B_32', 'B_33', 'B_37', 'B_38', 'B_39', 'B_40', 'B_41', 'B_42', 'D_39', 'D_41', 'D_42', 'D_43', 'D_44', 'D_45', 'D_46', 'D_47', 'D_48', 'D_50', 'D_51', 'D_53', 'D_54', 'D_55', 'D_58', 'D_59', 'D_60', 'D_61', 'D_62', 'D_65', 'D_66', 'D_69', 'D_70', 'D_71', 'D_72', 'D_73', 'D_74', 'D_75', 'D_76', 'D_77', 'D_78', 'D_80', 'D_82', 'D_84', 'D_86', 'D_91', 'D_92', 'D_94', 'D_96', 'D_103', 'D_104', 'D_108', 'D_112', 'D_113', 'D_114', 'D_115', 'D_117', 'D_118', 'D_119', 'D_120', 'D_121', 'D_122', 'D_123', 'D_124', 'D_125', 'D_126', 'D_128', 'D_129', 'D_131', 'D_132', 'D_133', 'D_134', 'D_135', 'D_136', 'D_140', 'D_141', 'D_142', 'D_144', 'D_145', 'P_2', 'P_3', 'P_4', 'R_1', 'R_2', 'R_3', 'R_7', 'R_8', 'R_9', 'R_10', 'R_11', 'R_14', 'R_15', 'R_16', 'R_17', 'R_20', 'R_21', 'R_22', 'R_24', 'R_26', 'R_27', 'S_3', 'S_5', 'S_6', 'S_7', 'S_9', 'S_11', 'S_12', 'S_13', 'S_15', 'S_16', 'S_18', 'S_22', 'S_23', 'S_25', 'S_26']\n",
        "features_min = ['B_2', 'B_4', 'B_5', 'B_9', 'B_13', 'B_14', 'B_15', 'B_16', 'B_17', 'B_19', 'B_20', 'B_28', 'B_29', 'B_33', 'B_36', 'B_42', 'D_39', 'D_41', 'D_42', 'D_45', 'D_46', 'D_48', 'D_50', 'D_51', 'D_53', 'D_55', 'D_56', 'D_58', 'D_59', 'D_60', 'D_62', 'D_70', 'D_71', 'D_74', 'D_75', 'D_78', 'D_83', 'D_102', 'D_112', 'D_113', 'D_115', 'D_118', 'D_119', 'D_121', 'D_122', 'D_128', 'D_132', 'D_140', 'D_141', 'D_144', 'D_145', 'P_2', 'P_3', 'R_1', 'R_27', 'S_3', 'S_5', 'S_7', 'S_9', 'S_11', 'S_12', 'S_23', 'S_25']\n",
        "features_max = ['B_1', 'B_2', 'B_3', 'B_4', 'B_5', 'B_6', 'B_7', 'B_8', 'B_9', 'B_10', 'B_12', 'B_13', 'B_14', 'B_15', 'B_16', 'B_17', 'B_18', 'B_19', 'B_21', 'B_23', 'B_24', 'B_25', 'B_29', 'B_30', 'B_33', 'B_37', 'B_38', 'B_39', 'B_40', 'B_42', 'D_39', 'D_41', 'D_42', 'D_43', 'D_44', 'D_45', 'D_46', 'D_47', 'D_48', 'D_49', 'D_50', 'D_52', 'D_55', 'D_56', 'D_58', 'D_59', 'D_60', 'D_61', 'D_63', 'D_64', 'D_65', 'D_70', 'D_71', 'D_72', 'D_73', 'D_74', 'D_76', 'D_77', 'D_78', 'D_80', 'D_82', 'D_84', 'D_91', 'D_102', 'D_105', 'D_107', 'D_110', 'D_111', 'D_112', 'D_115', 'D_116', 'D_117', 'D_118', 'D_119', 'D_121', 'D_122', 'D_123', 'D_124', 'D_125', 'D_126', 'D_128', 'D_131', 'D_132', 'D_133', 'D_134', 'D_135', 'D_136', 'D_138', 'D_140', 'D_141', 'D_142', 'D_144', 'D_145', 'P_2', 'P_3', 'P_4', 'R_1', 'R_3', 'R_5', 'R_6', 'R_7', 'R_8', 'R_10', 'R_11', 'R_14', 'R_17', 'R_20', 'R_26', 'R_27', 'S_3', 'S_5', 'S_7', 'S_8', 'S_11', 'S_12', 'S_13', 'S_15', 'S_16', 'S_22', 'S_23', 'S_24', 'S_25', 'S_26', 'S_27']\n",
        "features_last = ['B_1', 'B_2', 'B_3', 'B_4', 'B_5', 'B_6', 'B_7', 'B_8', 'B_9', 'B_10', 'B_11', 'B_12', 'B_13', 'B_14', 'B_15', 'B_16', 'B_17', 'B_18', 'B_19', 'B_20', 'B_21', 'B_22', 'B_23', 'B_24', 'B_25', 'B_26', 'B_28', 'B_29', 'B_30', 'B_32', 'B_33', 'B_36', 'B_37', 'B_38', 'B_39', 'B_40', 'B_41', 'B_42', 'D_39', 'D_41', 'D_42', 'D_43', 'D_44', 'D_45', 'D_46', 'D_47', 'D_48', 'D_49', 'D_50', 'D_51', 'D_52', 'D_53', 'D_54', 'D_55', 'D_56', 'D_58', 'D_59', 'D_60', 'D_61', 'D_62', 'D_63', 'D_64', 'D_65', 'D_69', 'D_70', 'D_71', 'D_72', 'D_73', 'D_75', 'D_76', 'D_77', 'D_78', 'D_79', 'D_80', 'D_81', 'D_82', 'D_83', 'D_86', 'D_91', 'D_96', 'D_105', 'D_106', 'D_112', 'D_114', 'D_119', 'D_120', 'D_121', 'D_122', 'D_124', 'D_125', 'D_126', 'D_127', 'D_130', 'D_131', 'D_132', 'D_133', 'D_134', 'D_138', 'D_140', 'D_141', 'D_142', 'D_145', 'P_2', 'P_3', 'P_4', 'R_1', 'R_2', 'R_3', 'R_4', 'R_5', 'R_6', 'R_7', 'R_8', 'R_9', 'R_10', 'R_11', 'R_12', 'R_13', 'R_14', 'R_15', 'R_19', 'R_20', 'R_26', 'R_27', 'S_3', 'S_5', 'S_6', 'S_7', 'S_8', 'S_9', 'S_11', 'S_12', 'S_13', 'S_16', 'S_19', 'S_20', 'S_22', 'S_23', 'S_24', 'S_25', 'S_26', 'S_27']\n",
        "\n",
        "def add_features(df):\n",
        "    cid = pd.Categorical(df.pop('customer_ID'), ordered=True)\n",
        "    last = (cid != np.roll(cid, -1))\n",
        "    df_avg = (df\n",
        "              .groupby(cid)\n",
        "              .mean()[features_avg]\n",
        "              .rename(columns={f: f\"{f}_avg\" for f in features_avg})\n",
        "             )\n",
        "    gc.collect()\n",
        "    df_min = (df\n",
        "              .groupby(cid)\n",
        "              .min()[features_min]\n",
        "              .rename(columns={f: f\"{f}_min\" for f in features_min})\n",
        "             )\n",
        "    gc.collect()\n",
        "    df_max = (df\n",
        "              .groupby(cid)\n",
        "              .max()[features_max]\n",
        "              .rename(columns={f: f\"{f}_max\" for f in features_max})\n",
        "             )\n",
        "    gc.collect()\n",
        "    df = (df.loc[last, features_last]\n",
        "          .rename(columns={f: f\"{f}_last\" for f in features_last})\n",
        "          .set_index(np.asarray(cid[last]))\n",
        "         )\n",
        "    gc.collect()\n",
        "    df = pd.concat([df, df_min, df_max, df_avg], axis=1)\n",
        "    del df_avg, df_min, df_max, cid, last\n",
        "    return df\n",
        "\n",
        "train = add_features(train)\n",
        "test = add_features(test)"
      ]
    },
    {
      "cell_type": "code",
      "execution_count": null,
      "metadata": {},
      "outputs": [],
      "source": [
        "train = train.join(train_lag.set_index('customer_ID'), how='left')\n",
        "del train_diff, train_shift, train_pct, train_shift, train_lag\n",
        "test = test.join(test_lag.set_index('customer_ID'), how='left')\n",
        "del test_diff, test_shift, test_pct, test_shift, test_lag"
      ]
    },
    {
      "cell_type": "markdown",
      "metadata": {},
      "source": [
        "## Create target"
      ]
    },
    {
      "cell_type": "code",
      "execution_count": 9,
      "metadata": {},
      "outputs": [],
      "source": [
        "train = train.join(target.set_index('customer_ID'), how='left')"
      ]
    },
    {
      "cell_type": "markdown",
      "metadata": {
        "id": "zU8BdAJPixd6"
      },
      "source": [
        "## Select features to use"
      ]
    },
    {
      "cell_type": "code",
      "execution_count": 10,
      "metadata": {
        "id": "UExr1RwmgxPz"
      },
      "outputs": [],
      "source": [
        "features = []\n",
        "unuse = ['customer_ID', 'S_2', 'target']\n",
        "\n",
        "features = [col for col in train.columns if col not in unuse]"
      ]
    },
    {
      "cell_type": "markdown",
      "metadata": {
        "id": "QJPaYC0YjZYf"
      },
      "source": [
        "## Training"
      ]
    },
    {
      "cell_type": "code",
      "execution_count": 11,
      "metadata": {
        "id": "cU4OQmHSjW9F"
      },
      "outputs": [],
      "source": [
        "from lightgbm.plotting import plot_metric\n",
        "from lightgbm import LGBMClassifier, early_stopping\n",
        "from sklearn.model_selection import StratifiedKFold\n",
        "\n",
        "\n",
        "def fit_lgbm(X, y, params=None):\n",
        "    models = []\n",
        "    scores = []\n",
        "\n",
        "    skf = StratifiedKFold(\n",
        "        n_splits=Config.n_splits,\n",
        "        shuffle=True,\n",
        "        random_state=Config.seed)\n",
        "\n",
        "    for fold, (train_indices, valid_indices) in enumerate(\n",
        "            tqdm(skf.split(X, y))):\n",
        "        print(\"-\" * 50 + f' fold{fold} ' + '-' * 50)\n",
        "        X_train, y_train = X.iloc[train_indices], y.iloc[train_indices]\n",
        "        X_valid, y_valid = X.iloc[valid_indices], y.iloc[valid_indices]\n",
        "\n",
        "        model = LGBMClassifier(**params,\n",
        "                               boosting_type='gbdt',\n",
        "                               objective='binary',\n",
        "                               n_estimators=1200,\n",
        "                               random_state=Config.seed,\n",
        "                               force_col_wise=True,\n",
        "                               n_jobs=16,\n",
        "                               verbose=-1)\n",
        "\n",
        "        with warnings.catch_warnings():\n",
        "            warnings.filterwarnings('ignore', category=UserWarning)\n",
        "            model.fit(X_train, y_train,\n",
        "                      eval_set=[(X_train, y_train), (X_valid, y_valid)],\n",
        "                      eval_names=['train', 'valid'],\n",
        "                      eval_metric=[lgb_amex_metric],\n",
        "                      # callbacks=[early_stopping(stopping_rounds=20, verbose=1)],\n",
        "                      verbose=50)\n",
        "\n",
        "        # ------------------- prediction -------------------\n",
        "        pred = model.predict_proba(X_valid, raw_score=True)\n",
        "        score = amex_metric(y_valid, pred)\n",
        "\n",
        "        # ------------------- plot -------------------\n",
        "        plot_metric(model)\n",
        "\n",
        "        # ------------------- save -------------------\n",
        "        file = f'{EXP_MODEL}/lgbm_fold{fold}.pkl'\n",
        "        joblib.dump(model, file)\n",
        "        scores.append(score)\n",
        "        models.append(model)\n",
        "        print(f'fold{fold} amex meric: {score}')\n",
        "        print()\n",
        "\n",
        "    print(f\"OOF Score: {np.mean(scores):.5f}\")\n",
        "    return models\n",
        "\n",
        "\n",
        "def inference_lgbm(models, X):\n",
        "    pred = np.array([model.predict_proba(X) for model in models])\n",
        "    pred = np.mean(pred, axis=0)[:, 1]\n",
        "    return pred\n"
      ]
    },
    {
      "cell_type": "code",
      "execution_count": 12,
      "metadata": {
        "colab": {
          "base_uri": "https://localhost:8080/",
          "height": 1000,
          "referenced_widgets": [
            "76226ecd35c7435cb1ead0696995baee",
            "cc635e1fb0c143d3b7a3c8857432cfc6",
            "92645fb1ed694d0eb0961bc0ef8446d8",
            "99d838576583452c9b9732ead0be8cd0",
            "ff2aa4be2b104143845c5fbd85362d09",
            "8e3cfb11b9f145f7ae423a104cdf948a",
            "a9d52f79e8704e2792a003d2a46fea9b",
            "26f4cced576743fc91845d0ed3fe06a7",
            "2bfb2edeb525489787c081fd9dcb521d",
            "5408a27b393a42a1a1a5c0e745b19366",
            "2ca0b39e32954c0c819ee4e2829fb01b"
          ]
        },
        "id": "fpaLlmnclvDx",
        "outputId": "a2b87bfe-660e-4b61-8dd0-a77cbbad9cbc"
      },
      "outputs": [
        {
          "data": {
            "application/vnd.jupyter.widget-view+json": {
              "model_id": "c6a22bd583a641b0b4bfcb0b67cce6ca",
              "version_major": 2,
              "version_minor": 0
            },
            "text/plain": [
              "0it [00:00, ?it/s]"
            ]
          },
          "metadata": {},
          "output_type": "display_data"
        },
        {
          "name": "stdout",
          "output_type": "stream",
          "text": [
            "-------------------------------------------------- fold0 --------------------------------------------------\n",
            "[50]\ttrain's amex: 0.757318\tvalid's amex: 0.749064\n",
            "[100]\ttrain's amex: 0.775697\tvalid's amex: 0.764249\n"
          ]
        }
      ],
      "source": [
        "lgb_params = {\"learning_rate\": 0.03,\n",
        "              'reg_lambda': 50,\n",
        "              'min_child_samples': 2400,\n",
        "              'num_leaves': 95,\n",
        "              \"metric\" : \"None\",\n",
        "              'max_bin': 511}\n",
        "\n",
        "models = fit_lgbm(train[features], train[Config.target], params=lgb_params)\n",
        "# models = [joblib.load(f'{EXP_MODEL}/lgbm_fold{i}.pkl') for i in range(Config.n_splits)]\n",
        "pred = inference_lgbm(models, test[features])\n"
      ]
    },
    {
      "cell_type": "markdown",
      "metadata": {
        "id": "ThQ6jTt7z7UC"
      },
      "source": [
        "## Plot importances"
      ]
    },
    {
      "cell_type": "code",
      "execution_count": null,
      "metadata": {
        "colab": {
          "base_uri": "https://localhost:8080/",
          "height": 238
        },
        "id": "o6-P1Ko-yOUs",
        "outputId": "3e7b9c39-0f00-4090-aa23-f844b9cec7f0"
      },
      "outputs": [],
      "source": [
        "def plot_importances(models):\n",
        "    importance_df = pd.DataFrame(models[0].feature_importances_, \n",
        "                                 index=features, \n",
        "                                 columns=['importance'])\\\n",
        "                        .sort_values(\"importance\", ascending=False)\n",
        "\n",
        "    plt.subplots(figsize=(len(features) // 4, 5))\n",
        "    plt.bar(importance_df.index, importance_df.importance)\n",
        "    plt.grid()\n",
        "    plt.xticks(rotation=90)\n",
        "    plt.ylabel(\"importance\")\n",
        "    plt.tight_layout()\n",
        "    plt.show()\n",
        "\n",
        "plot_importances(models)"
      ]
    },
    {
      "cell_type": "markdown",
      "metadata": {
        "id": "FezzpipU0Zws"
      },
      "source": [
        "## Submission"
      ]
    },
    {
      "cell_type": "code",
      "execution_count": null,
      "metadata": {
        "id": "dmiIKvGQ0wA7"
      },
      "outputs": [],
      "source": [
        "sub = pd.DataFrame({'customer_ID': test.index,\n",
        "                    'prediction': pred})\n",
        "sub.to_csv(f'{SUBMISSION}/submission.csv', index=False)"
      ]
    },
    {
      "cell_type": "code",
      "execution_count": null,
      "metadata": {
        "colab": {
          "base_uri": "https://localhost:8080/"
        },
        "id": "vlJlEJqe1HQZ",
        "outputId": "d4235f37-5c31-420b-ce3f-7c4518fd658e"
      },
      "outputs": [],
      "source": [
        "! kaggle competitions submit -c amex-default-prediction -f /content/drive/MyDrive/workspace/kaggle-amex/Submission/submission.csv -m \"lightGBM Baseline\""
      ]
    }
  ],
  "metadata": {
    "colab": {
      "authorship_tag": "ABX9TyM+TxgBMOAkc+clSLK1ruo1",
      "background_execution": "on",
      "include_colab_link": true,
      "machine_shape": "hm",
      "name": "Baseline.ipynb",
      "provenance": []
    },
    "kernelspec": {
      "display_name": "Python 3.9.12 ('amex')",
      "language": "python",
      "name": "python3"
    },
    "language_info": {
      "codemirror_mode": {
        "name": "ipython",
        "version": 3
      },
      "file_extension": ".py",
      "mimetype": "text/x-python",
      "name": "python",
      "nbconvert_exporter": "python",
      "pygments_lexer": "ipython3",
      "version": "3.9.12"
    },
    "vscode": {
      "interpreter": {
        "hash": "29001d83105739b7e7991894c59ca9a685d5fb80e48bd2a6126a67de75b87e20"
      }
    },
    "widgets": {
      "application/vnd.jupyter.widget-state+json": {
        "26f4cced576743fc91845d0ed3fe06a7": {
          "model_module": "@jupyter-widgets/base",
          "model_module_version": "1.2.0",
          "model_name": "LayoutModel",
          "state": {
            "_model_module": "@jupyter-widgets/base",
            "_model_module_version": "1.2.0",
            "_model_name": "LayoutModel",
            "_view_count": null,
            "_view_module": "@jupyter-widgets/base",
            "_view_module_version": "1.2.0",
            "_view_name": "LayoutView",
            "align_content": null,
            "align_items": null,
            "align_self": null,
            "border": null,
            "bottom": null,
            "display": null,
            "flex": null,
            "flex_flow": null,
            "grid_area": null,
            "grid_auto_columns": null,
            "grid_auto_flow": null,
            "grid_auto_rows": null,
            "grid_column": null,
            "grid_gap": null,
            "grid_row": null,
            "grid_template_areas": null,
            "grid_template_columns": null,
            "grid_template_rows": null,
            "height": null,
            "justify_content": null,
            "justify_items": null,
            "left": null,
            "margin": null,
            "max_height": null,
            "max_width": null,
            "min_height": null,
            "min_width": null,
            "object_fit": null,
            "object_position": null,
            "order": null,
            "overflow": null,
            "overflow_x": null,
            "overflow_y": null,
            "padding": null,
            "right": null,
            "top": null,
            "visibility": null,
            "width": "20px"
          }
        },
        "2bfb2edeb525489787c081fd9dcb521d": {
          "model_module": "@jupyter-widgets/controls",
          "model_module_version": "1.5.0",
          "model_name": "ProgressStyleModel",
          "state": {
            "_model_module": "@jupyter-widgets/controls",
            "_model_module_version": "1.5.0",
            "_model_name": "ProgressStyleModel",
            "_view_count": null,
            "_view_module": "@jupyter-widgets/base",
            "_view_module_version": "1.2.0",
            "_view_name": "StyleView",
            "bar_color": null,
            "description_width": ""
          }
        },
        "2ca0b39e32954c0c819ee4e2829fb01b": {
          "model_module": "@jupyter-widgets/controls",
          "model_module_version": "1.5.0",
          "model_name": "DescriptionStyleModel",
          "state": {
            "_model_module": "@jupyter-widgets/controls",
            "_model_module_version": "1.5.0",
            "_model_name": "DescriptionStyleModel",
            "_view_count": null,
            "_view_module": "@jupyter-widgets/base",
            "_view_module_version": "1.2.0",
            "_view_name": "StyleView",
            "description_width": ""
          }
        },
        "5408a27b393a42a1a1a5c0e745b19366": {
          "model_module": "@jupyter-widgets/base",
          "model_module_version": "1.2.0",
          "model_name": "LayoutModel",
          "state": {
            "_model_module": "@jupyter-widgets/base",
            "_model_module_version": "1.2.0",
            "_model_name": "LayoutModel",
            "_view_count": null,
            "_view_module": "@jupyter-widgets/base",
            "_view_module_version": "1.2.0",
            "_view_name": "LayoutView",
            "align_content": null,
            "align_items": null,
            "align_self": null,
            "border": null,
            "bottom": null,
            "display": null,
            "flex": null,
            "flex_flow": null,
            "grid_area": null,
            "grid_auto_columns": null,
            "grid_auto_flow": null,
            "grid_auto_rows": null,
            "grid_column": null,
            "grid_gap": null,
            "grid_row": null,
            "grid_template_areas": null,
            "grid_template_columns": null,
            "grid_template_rows": null,
            "height": null,
            "justify_content": null,
            "justify_items": null,
            "left": null,
            "margin": null,
            "max_height": null,
            "max_width": null,
            "min_height": null,
            "min_width": null,
            "object_fit": null,
            "object_position": null,
            "order": null,
            "overflow": null,
            "overflow_x": null,
            "overflow_y": null,
            "padding": null,
            "right": null,
            "top": null,
            "visibility": null,
            "width": null
          }
        },
        "76226ecd35c7435cb1ead0696995baee": {
          "model_module": "@jupyter-widgets/controls",
          "model_module_version": "1.5.0",
          "model_name": "HBoxModel",
          "state": {
            "_dom_classes": [],
            "_model_module": "@jupyter-widgets/controls",
            "_model_module_version": "1.5.0",
            "_model_name": "HBoxModel",
            "_view_count": null,
            "_view_module": "@jupyter-widgets/controls",
            "_view_module_version": "1.5.0",
            "_view_name": "HBoxView",
            "box_style": "",
            "children": [
              "IPY_MODEL_cc635e1fb0c143d3b7a3c8857432cfc6",
              "IPY_MODEL_92645fb1ed694d0eb0961bc0ef8446d8",
              "IPY_MODEL_99d838576583452c9b9732ead0be8cd0"
            ],
            "layout": "IPY_MODEL_ff2aa4be2b104143845c5fbd85362d09"
          }
        },
        "8e3cfb11b9f145f7ae423a104cdf948a": {
          "model_module": "@jupyter-widgets/base",
          "model_module_version": "1.2.0",
          "model_name": "LayoutModel",
          "state": {
            "_model_module": "@jupyter-widgets/base",
            "_model_module_version": "1.2.0",
            "_model_name": "LayoutModel",
            "_view_count": null,
            "_view_module": "@jupyter-widgets/base",
            "_view_module_version": "1.2.0",
            "_view_name": "LayoutView",
            "align_content": null,
            "align_items": null,
            "align_self": null,
            "border": null,
            "bottom": null,
            "display": null,
            "flex": null,
            "flex_flow": null,
            "grid_area": null,
            "grid_auto_columns": null,
            "grid_auto_flow": null,
            "grid_auto_rows": null,
            "grid_column": null,
            "grid_gap": null,
            "grid_row": null,
            "grid_template_areas": null,
            "grid_template_columns": null,
            "grid_template_rows": null,
            "height": null,
            "justify_content": null,
            "justify_items": null,
            "left": null,
            "margin": null,
            "max_height": null,
            "max_width": null,
            "min_height": null,
            "min_width": null,
            "object_fit": null,
            "object_position": null,
            "order": null,
            "overflow": null,
            "overflow_x": null,
            "overflow_y": null,
            "padding": null,
            "right": null,
            "top": null,
            "visibility": null,
            "width": null
          }
        },
        "92645fb1ed694d0eb0961bc0ef8446d8": {
          "model_module": "@jupyter-widgets/controls",
          "model_module_version": "1.5.0",
          "model_name": "FloatProgressModel",
          "state": {
            "_dom_classes": [],
            "_model_module": "@jupyter-widgets/controls",
            "_model_module_version": "1.5.0",
            "_model_name": "FloatProgressModel",
            "_view_count": null,
            "_view_module": "@jupyter-widgets/controls",
            "_view_module_version": "1.5.0",
            "_view_name": "ProgressView",
            "bar_style": "success",
            "description": "",
            "description_tooltip": null,
            "layout": "IPY_MODEL_26f4cced576743fc91845d0ed3fe06a7",
            "max": 1,
            "min": 0,
            "orientation": "horizontal",
            "style": "IPY_MODEL_2bfb2edeb525489787c081fd9dcb521d",
            "value": 1
          }
        },
        "99d838576583452c9b9732ead0be8cd0": {
          "model_module": "@jupyter-widgets/controls",
          "model_module_version": "1.5.0",
          "model_name": "HTMLModel",
          "state": {
            "_dom_classes": [],
            "_model_module": "@jupyter-widgets/controls",
            "_model_module_version": "1.5.0",
            "_model_name": "HTMLModel",
            "_view_count": null,
            "_view_module": "@jupyter-widgets/controls",
            "_view_module_version": "1.5.0",
            "_view_name": "HTMLView",
            "description": "",
            "description_tooltip": null,
            "layout": "IPY_MODEL_5408a27b393a42a1a1a5c0e745b19366",
            "placeholder": "​",
            "style": "IPY_MODEL_2ca0b39e32954c0c819ee4e2829fb01b",
            "value": " 5/? [36:18&lt;00:00, 476.29s/it]"
          }
        },
        "a9d52f79e8704e2792a003d2a46fea9b": {
          "model_module": "@jupyter-widgets/controls",
          "model_module_version": "1.5.0",
          "model_name": "DescriptionStyleModel",
          "state": {
            "_model_module": "@jupyter-widgets/controls",
            "_model_module_version": "1.5.0",
            "_model_name": "DescriptionStyleModel",
            "_view_count": null,
            "_view_module": "@jupyter-widgets/base",
            "_view_module_version": "1.2.0",
            "_view_name": "StyleView",
            "description_width": ""
          }
        },
        "cc635e1fb0c143d3b7a3c8857432cfc6": {
          "model_module": "@jupyter-widgets/controls",
          "model_module_version": "1.5.0",
          "model_name": "HTMLModel",
          "state": {
            "_dom_classes": [],
            "_model_module": "@jupyter-widgets/controls",
            "_model_module_version": "1.5.0",
            "_model_name": "HTMLModel",
            "_view_count": null,
            "_view_module": "@jupyter-widgets/controls",
            "_view_module_version": "1.5.0",
            "_view_name": "HTMLView",
            "description": "",
            "description_tooltip": null,
            "layout": "IPY_MODEL_8e3cfb11b9f145f7ae423a104cdf948a",
            "placeholder": "​",
            "style": "IPY_MODEL_a9d52f79e8704e2792a003d2a46fea9b",
            "value": ""
          }
        },
        "ff2aa4be2b104143845c5fbd85362d09": {
          "model_module": "@jupyter-widgets/base",
          "model_module_version": "1.2.0",
          "model_name": "LayoutModel",
          "state": {
            "_model_module": "@jupyter-widgets/base",
            "_model_module_version": "1.2.0",
            "_model_name": "LayoutModel",
            "_view_count": null,
            "_view_module": "@jupyter-widgets/base",
            "_view_module_version": "1.2.0",
            "_view_name": "LayoutView",
            "align_content": null,
            "align_items": null,
            "align_self": null,
            "border": null,
            "bottom": null,
            "display": null,
            "flex": null,
            "flex_flow": null,
            "grid_area": null,
            "grid_auto_columns": null,
            "grid_auto_flow": null,
            "grid_auto_rows": null,
            "grid_column": null,
            "grid_gap": null,
            "grid_row": null,
            "grid_template_areas": null,
            "grid_template_columns": null,
            "grid_template_rows": null,
            "height": null,
            "justify_content": null,
            "justify_items": null,
            "left": null,
            "margin": null,
            "max_height": null,
            "max_width": null,
            "min_height": null,
            "min_width": null,
            "object_fit": null,
            "object_position": null,
            "order": null,
            "overflow": null,
            "overflow_x": null,
            "overflow_y": null,
            "padding": null,
            "right": null,
            "top": null,
            "visibility": null,
            "width": null
          }
        }
      }
    }
  },
  "nbformat": 4,
  "nbformat_minor": 0
}
