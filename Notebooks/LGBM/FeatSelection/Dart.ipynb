{
  "cells": [
    {
      "cell_type": "code",
      "execution_count": null,
      "metadata": {
        "id": "ilqJ4rcWc4xO"
      },
      "outputs": [],
      "source": [
        "class Config:\n",
        "    name = \"LGBM/FeatSelection/Dart\"\n",
        "\n",
        "    n_splits = 5\n",
        "    seed = 42\n",
        "    target = \"target\"\n",
        "\n",
        "    # Colab Env\n",
        "    upload_from_colab = True\n",
        "    api_path = \"/content/drive/MyDrive/workspace/kaggle.json\"\n",
        "    drive_path = \"/content/drive/MyDrive/workspace/kaggle-amex\"\n",
        "    \n",
        "    # Kaggle Env\n",
        "    kaggle_dataset_path = None\n",
        "    \n",
        "    # Reka Env\n",
        "    dir_path = '/home/abe/kaggle/kaggle-amex'"
      ]
    },
    {
      "cell_type": "code",
      "execution_count": null,
      "metadata": {
        "id": "m9Jf525wdD4v"
      },
      "outputs": [],
      "source": [
        "import os\n",
        "import json\n",
        "import warnings\n",
        "import shutil\n",
        "import logging\n",
        "import joblib\n",
        "import random\n",
        "import datetime\n",
        "import sys\n",
        "import gc\n",
        "import multiprocessing\n",
        "import joblib\n",
        "import pickle\n",
        "\n",
        "import pandas as pd\n",
        "import numpy as np\n",
        "import matplotlib.pyplot as plt\n",
        "%matplotlib inline\n",
        "plt.style.use('seaborn-pastel')\n",
        "import seaborn as sns\n",
        "sns.set_palette(\"winter_r\")\n",
        "\n",
        "from tqdm.auto import tqdm\n",
        "tqdm.pandas()\n",
        "warnings.filterwarnings('ignore')"
      ]
    },
    {
      "cell_type": "code",
      "execution_count": null,
      "metadata": {},
      "outputs": [],
      "source": [
        "random.seed(Config.seed)\n",
        "np.random.seed(Config.seed)\n",
        "os.environ['PYTHONHASHSEED'] = str(Config.seed)"
      ]
    },
    {
      "cell_type": "code",
      "execution_count": null,
      "metadata": {
        "colab": {
          "base_uri": "https://localhost:8080/"
        },
        "id": "SAwmuAVHgmNG",
        "outputId": "e7c86f1e-faac-46f2-c233-db2f0ad76a3b"
      },
      "outputs": [],
      "source": [
        "INPUT = os.path.join(Config.dir_path, 'input')\n",
        "OUTPUT = os.path.join(Config.dir_path, 'output')\n",
        "SUBMISSION = os.path.join(Config.dir_path, 'submissions')\n",
        "OUTPUT_EXP = os.path.join(OUTPUT, Config.name)\n",
        "EXP_MODEL = os.path.join(OUTPUT_EXP, \"model\")\n",
        "EXP_FIG = os.path.join(OUTPUT_EXP, \"fig\")\n",
        "EXP_PREDS = os.path.join(OUTPUT_EXP, \"preds\")\n",
        "\n",
        "# make dirs\n",
        "for d in [INPUT, SUBMISSION, EXP_MODEL, EXP_FIG, EXP_PREDS]:\n",
        "    os.makedirs(d, exist_ok=True)"
      ]
    },
    {
      "cell_type": "code",
      "execution_count": null,
      "metadata": {
        "id": "v9cJGrE-dpDA"
      },
      "outputs": [],
      "source": [
        "train = pd.read_parquet(os.path.join(INPUT, 'train.parquet'))\n",
        "target = pd.read_csv(os.path.join(INPUT, 'train_labels.csv'), dtype={'customer_ID': 'str', 'target': 'int8'})\n",
        "# train = pd.read_parquet(os.path.join(INPUT, 'train_small.parquet') if COLAB else 'train_small.parquet')\n",
        "test = pd.read_parquet(os.path.join(INPUT, 'test.parquet'))"
      ]
    },
    {
      "cell_type": "code",
      "execution_count": null,
      "metadata": {
        "colab": {
          "base_uri": "https://localhost:8080/"
        },
        "id": "d4rytnIReGSi",
        "outputId": "8fe81eef-9bfb-418c-a316-6464429db11b"
      },
      "outputs": [],
      "source": [
        "train.info()"
      ]
    },
    {
      "cell_type": "code",
      "execution_count": null,
      "metadata": {
        "colab": {
          "base_uri": "https://localhost:8080/",
          "height": 235
        },
        "id": "7n5KRbzXebh-",
        "outputId": "9012acee-8bc1-46ca-a745-a1e74a35c2c1"
      },
      "outputs": [],
      "source": [
        "train.head()"
      ]
    },
    {
      "cell_type": "markdown",
      "metadata": {
        "id": "VLyBY1WonueN"
      },
      "source": [
        "## Evaluation merics"
      ]
    },
    {
      "cell_type": "code",
      "execution_count": null,
      "metadata": {
        "id": "wwBWY1fdnxFw"
      },
      "outputs": [],
      "source": [
        "# @yunchonggan's fast metric implementation\n",
        "# From https://www.kaggle.com/competitions/amex-default-prediction/discussion/328020\n",
        "def amex_metric(y_true: np.array, y_pred: np.array) -> float:\n",
        "\n",
        "    # count of positives and negatives\n",
        "    n_pos = y_true.sum()\n",
        "    n_neg = y_true.shape[0] - n_pos\n",
        "\n",
        "    # sorting by descring prediction values\n",
        "    indices = np.argsort(y_pred)[::-1]\n",
        "    preds, target = y_pred[indices], y_true[indices]\n",
        "\n",
        "    # filter the top 4% by cumulative row weights\n",
        "    weight = 20.0 - target * 19.0\n",
        "    cum_norm_weight = (weight / weight.sum()).cumsum()\n",
        "    four_pct_filter = cum_norm_weight <= 0.04\n",
        "\n",
        "    # default rate captured at 4%\n",
        "    d = target[four_pct_filter].sum() / n_pos\n",
        "\n",
        "    # weighted gini coefficient\n",
        "    lorentz = (target / n_pos).cumsum()\n",
        "    gini = ((lorentz - cum_norm_weight) * weight).sum()\n",
        "\n",
        "    # max weighted gini coefficient\n",
        "    gini_max = 10 * n_neg * (1 - 19 / (n_pos + 20 * n_neg))\n",
        "\n",
        "    # normalized weighted gini coefficient\n",
        "    g = gini / gini_max\n",
        "\n",
        "    return 0.5 * (g + d)\n",
        "\n",
        "def lgb_amex_metric(y_true, y_pred):\n",
        "    \"\"\"The competition metric with lightgbm's calling convention\"\"\"\n",
        "    return ('amex',\n",
        "            amex_metric(y_true, y_pred),\n",
        "            True)"
      ]
    },
    {
      "cell_type": "markdown",
      "metadata": {
        "id": "R5-cpKNRehDB"
      },
      "source": [
        "## Feature Eng"
      ]
    },
    {
      "cell_type": "code",
      "execution_count": null,
      "metadata": {
        "id": "4S8d6gcyed8K"
      },
      "outputs": [],
      "source": [
        "features_avg = ['B_1', 'B_2', 'B_3', 'B_4', 'B_5', 'B_6', 'B_8', 'B_9', 'B_10', 'B_11', 'B_12', 'B_13', 'B_14', 'B_15', 'B_16', 'B_17', 'B_18', 'B_19', 'B_20', 'B_21', 'B_22', 'B_23', 'B_24', 'B_25', 'B_28', 'B_29', 'B_30', 'B_32', 'B_33', 'B_37', 'B_38', 'B_39', 'B_40', 'B_41', 'B_42', 'D_39', 'D_41', 'D_42', 'D_43', 'D_44', 'D_45', 'D_46', 'D_47', 'D_48', 'D_50', 'D_51', 'D_53', 'D_54', 'D_55', 'D_58', 'D_59', 'D_60', 'D_61', 'D_62', 'D_65', 'D_66', 'D_69', 'D_70', 'D_71', 'D_72', 'D_73', 'D_74', 'D_75', 'D_76', 'D_77', 'D_78', 'D_80', 'D_82', 'D_84', 'D_86', 'D_91', 'D_92', 'D_94', 'D_96', 'D_103', 'D_104', 'D_108', 'D_112', 'D_113', 'D_114', 'D_115', 'D_117', 'D_118', 'D_119', 'D_120', 'D_121', 'D_122', 'D_123', 'D_124', 'D_125', 'D_126', 'D_128', 'D_129', 'D_131', 'D_132', 'D_133', 'D_134', 'D_135', 'D_136', 'D_140', 'D_141', 'D_142', 'D_144', 'D_145', 'P_2', 'P_3', 'P_4', 'R_1', 'R_2', 'R_3', 'R_7', 'R_8', 'R_9', 'R_10', 'R_11', 'R_14', 'R_15', 'R_16', 'R_17', 'R_20', 'R_21', 'R_22', 'R_24', 'R_26', 'R_27', 'S_3', 'S_5', 'S_6', 'S_7', 'S_9', 'S_11', 'S_12', 'S_13', 'S_15', 'S_16', 'S_18', 'S_22', 'S_23', 'S_25', 'S_26']\n",
        "features_min = ['B_2', 'B_4', 'B_5', 'B_9', 'B_13', 'B_14', 'B_15', 'B_16', 'B_17', 'B_19', 'B_20', 'B_28', 'B_29', 'B_33', 'B_36', 'B_42', 'D_39', 'D_41', 'D_42', 'D_45', 'D_46', 'D_48', 'D_50', 'D_51', 'D_53', 'D_55', 'D_56', 'D_58', 'D_59', 'D_60', 'D_62', 'D_70', 'D_71', 'D_74', 'D_75', 'D_78', 'D_83', 'D_102', 'D_112', 'D_113', 'D_115', 'D_118', 'D_119', 'D_121', 'D_122', 'D_128', 'D_132', 'D_140', 'D_141', 'D_144', 'D_145', 'P_2', 'P_3', 'R_1', 'R_27', 'S_3', 'S_5', 'S_7', 'S_9', 'S_11', 'S_12', 'S_23', 'S_25']\n",
        "features_max = ['B_1', 'B_2', 'B_3', 'B_4', 'B_5', 'B_6', 'B_7', 'B_8', 'B_9', 'B_10', 'B_12', 'B_13', 'B_14', 'B_15', 'B_16', 'B_17', 'B_18', 'B_19', 'B_21', 'B_23', 'B_24', 'B_25', 'B_29', 'B_30', 'B_33', 'B_37', 'B_38', 'B_39', 'B_40', 'B_42', 'D_39', 'D_41', 'D_42', 'D_43', 'D_44', 'D_45', 'D_46', 'D_47', 'D_48', 'D_49', 'D_50', 'D_52', 'D_55', 'D_56', 'D_58', 'D_59', 'D_60', 'D_61', 'D_63', 'D_64', 'D_65', 'D_70', 'D_71', 'D_72', 'D_73', 'D_74', 'D_76', 'D_77', 'D_78', 'D_80', 'D_82', 'D_84', 'D_91', 'D_102', 'D_105', 'D_107', 'D_110', 'D_111', 'D_112', 'D_115', 'D_116', 'D_117', 'D_118', 'D_119', 'D_121', 'D_122', 'D_123', 'D_124', 'D_125', 'D_126', 'D_128', 'D_131', 'D_132', 'D_133', 'D_134', 'D_135', 'D_136', 'D_138', 'D_140', 'D_141', 'D_142', 'D_144', 'D_145', 'P_2', 'P_3', 'P_4', 'R_1', 'R_3', 'R_5', 'R_6', 'R_7', 'R_8', 'R_10', 'R_11', 'R_14', 'R_17', 'R_20', 'R_26', 'R_27', 'S_3', 'S_5', 'S_7', 'S_8', 'S_11', 'S_12', 'S_13', 'S_15', 'S_16', 'S_22', 'S_23', 'S_24', 'S_25', 'S_26', 'S_27']\n",
        "features_last = ['B_1', 'B_2', 'B_3', 'B_4', 'B_5', 'B_6', 'B_7', 'B_8', 'B_9', 'B_10', 'B_11', 'B_12', 'B_13', 'B_14', 'B_15', 'B_16', 'B_17', 'B_18', 'B_19', 'B_20', 'B_21', 'B_22', 'B_23', 'B_24', 'B_25', 'B_26', 'B_28', 'B_29', 'B_30', 'B_32', 'B_33', 'B_36', 'B_37', 'B_38', 'B_39', 'B_40', 'B_41', 'B_42', 'D_39', 'D_41', 'D_42', 'D_43', 'D_44', 'D_45', 'D_46', 'D_47', 'D_48', 'D_49', 'D_50', 'D_51', 'D_52', 'D_53', 'D_54', 'D_55', 'D_56', 'D_58', 'D_59', 'D_60', 'D_61', 'D_62', 'D_63', 'D_64', 'D_65', 'D_69', 'D_70', 'D_71', 'D_72', 'D_73', 'D_75', 'D_76', 'D_77', 'D_78', 'D_79', 'D_80', 'D_81', 'D_82', 'D_83', 'D_86', 'D_91', 'D_96', 'D_105', 'D_106', 'D_112', 'D_114', 'D_119', 'D_120', 'D_121', 'D_122', 'D_124', 'D_125', 'D_126', 'D_127', 'D_130', 'D_131', 'D_132', 'D_133', 'D_134', 'D_138', 'D_140', 'D_141', 'D_142', 'D_145', 'P_2', 'P_3', 'P_4', 'R_1', 'R_2', 'R_3', 'R_4', 'R_5', 'R_6', 'R_7', 'R_8', 'R_9', 'R_10', 'R_11', 'R_12', 'R_13', 'R_14', 'R_15', 'R_19', 'R_20', 'R_26', 'R_27', 'S_3', 'S_5', 'S_6', 'S_7', 'S_8', 'S_9', 'S_11', 'S_12', 'S_13', 'S_16', 'S_19', 'S_20', 'S_22', 'S_23', 'S_24', 'S_25', 'S_26', 'S_27']\n",
        "\n",
        "def add_features(df):\n",
        "    cid = pd.Categorical(df.pop('customer_ID'), ordered=True)\n",
        "    last = (cid != np.roll(cid, -1))\n",
        "    df_avg = (df\n",
        "              .groupby(cid)\n",
        "              .mean()[features_avg]\n",
        "              .rename(columns={f: f\"{f}_avg\" for f in features_avg})\n",
        "             )\n",
        "    gc.collect()\n",
        "    df_min = (df\n",
        "              .groupby(cid)\n",
        "              .min()[features_min]\n",
        "              .rename(columns={f: f\"{f}_min\" for f in features_min})\n",
        "             )\n",
        "    gc.collect()\n",
        "    df_max = (df\n",
        "              .groupby(cid)\n",
        "              .max()[features_max]\n",
        "              .rename(columns={f: f\"{f}_max\" for f in features_max})\n",
        "             )\n",
        "    gc.collect()\n",
        "    df = (df.loc[last, features_last]\n",
        "          .rename(columns={f: f\"{f}_last\" for f in features_last})\n",
        "          .set_index(np.asarray(cid[last]))\n",
        "         )\n",
        "    gc.collect()\n",
        "    df = pd.concat([df, df_min, df_max, df_avg], axis=1)\n",
        "    del df_avg, df_min, df_max, cid, last\n",
        "    return df\n",
        "\n",
        "train = add_features(train)\n",
        "test = add_features(test)"
      ]
    },
    {
      "cell_type": "markdown",
      "metadata": {},
      "source": [
        "## Feature Selection"
      ]
    },
    {
      "cell_type": "code",
      "execution_count": null,
      "metadata": {},
      "outputs": [],
      "source": [
        "from sklearn.preprocessing import StandardScaler\n",
        "from sklearn.feature_selection import SelectFromModel\n",
        "from sklearn.linear_model import Lasso\n",
        "\n",
        "\n",
        "def select_cont_features(df: pd.DataFrame, features, target, max_features=450):\n",
        "    features_list = []\n",
        "    train_y = df[target]\n",
        "    train_X = df[features]\n",
        "\n",
        "    train_X = train_X.replace([np.inf, -np.inf], np.nan)\n",
        "    train_X = train_X.fillna(-127)\n",
        "\n",
        "    # select features with L1 norm\n",
        "    scaler = StandardScaler()\n",
        "    scaler.fit(train_X)\n",
        "    for alpha in [3e-5, 1e-4, 3e-4, 1e-3, 3e-3, 1e-2]:\n",
        "        selector = SelectFromModel(\n",
        "            Lasso(\n",
        "                alpha=alpha),\n",
        "            max_features=max_features)\n",
        "        selector.fit(scaler.transform(train_X), train_y)\n",
        "        selected_features = train_X.columns.values[selector.get_support()]\n",
        "        features_list.append(selected_features)\n",
        "        print('number of selected features : {}'.format(len(selected_features)))\n",
        "\n",
        "    return features_list\n",
        "\n",
        "\n",
        "print('======= select avg features =======')\n",
        "features = [col for col in train.columns if col not in ['customer_ID', Config.target]]\n",
        "features_list = select_cont_features(train.join(target.set_index('customer_ID'), how='left'), features, Config.target)"
      ]
    },
    {
      "cell_type": "markdown",
      "metadata": {},
      "source": [
        "## Create target"
      ]
    },
    {
      "cell_type": "code",
      "execution_count": null,
      "metadata": {},
      "outputs": [],
      "source": [
        "train = train.join(target.set_index('customer_ID'), how='left')"
      ]
    },
    {
      "cell_type": "markdown",
      "metadata": {
        "id": "zU8BdAJPixd6"
      },
      "source": [
        "## Select features to use"
      ]
    },
    {
      "cell_type": "code",
      "execution_count": null,
      "metadata": {
        "id": "UExr1RwmgxPz"
      },
      "outputs": [],
      "source": [
        "def get_faetures(df):\n",
        "    unuse = ['customer_ID', 'S_2', 'target']\n",
        "    features = [col for col in df.columns if col not in unuse]\n",
        "    return features"
      ]
    },
    {
      "cell_type": "markdown",
      "metadata": {
        "id": "QJPaYC0YjZYf"
      },
      "source": [
        "## Training"
      ]
    },
    {
      "cell_type": "code",
      "execution_count": null,
      "metadata": {
        "id": "cU4OQmHSjW9F"
      },
      "outputs": [],
      "source": [
        "from lightgbm.plotting import plot_metric\n",
        "from lightgbm import LGBMClassifier, early_stopping\n",
        "from sklearn.model_selection import StratifiedKFold\n",
        "\n",
        "\n",
        "def fit_lgbm(X, y, params=None):\n",
        "    models = []\n",
        "    scores = []\n",
        "\n",
        "    skf = StratifiedKFold(\n",
        "        n_splits=Config.n_splits,\n",
        "        shuffle=True,\n",
        "        random_state=Config.seed)\n",
        "\n",
        "    for fold, (train_indices, valid_indices) in enumerate(\n",
        "            skf.split(X, y)):\n",
        "        X_train, y_train = X.iloc[train_indices], y.iloc[train_indices]\n",
        "        X_valid, y_valid = X.iloc[valid_indices], y.iloc[valid_indices]\n",
        "\n",
        "        \n",
        "        model = LGBMClassifier(**params,\n",
        "                               boosting_type='dart',\n",
        "                               objective='binary',\n",
        "                               n_estimators=10500,\n",
        "                               random_state=Config.seed,\n",
        "                               force_col_wise=True,\n",
        "                               n_jobs=16,\n",
        "                               verbose=-1)\n",
        "        \n",
        "        model.fit(X_train, y_train,\n",
        "                      eval_set=[(X_train, y_train), (X_valid, y_valid)],\n",
        "                      eval_names=['train', 'valid'],\n",
        "                      eval_metric=[lgb_amex_metric],\n",
        "                      callbacks=[early_stopping(stopping_rounds=100, verbose=1)],\n",
        "                      verbose=500)\n",
        "\n",
        "        # ------------------- prediction -------------------\n",
        "        pred = model.predict_proba(X_valid, raw_score=True)\n",
        "        score = amex_metric(y_valid, pred)\n",
        "\n",
        "        scores.append(score)\n",
        "        models.append(model)\n",
        "        print(f'fold{fold} amex meric: {score}')\n",
        "\n",
        "    print(f\"OOF Score: {np.mean(scores):.5f}\")\n",
        "    return models, np.mean(scores)\n",
        "\n",
        "\n",
        "def inference_lgbm(models, X):\n",
        "    pred = np.array([model.predict_proba(X) for model in models])\n",
        "    pred = np.mean(pred, axis=0)[:, 1]\n",
        "    return pred\n"
      ]
    },
    {
      "cell_type": "code",
      "execution_count": null,
      "metadata": {
        "colab": {
          "base_uri": "https://localhost:8080/",
          "height": 1000,
          "referenced_widgets": [
            "76226ecd35c7435cb1ead0696995baee",
            "cc635e1fb0c143d3b7a3c8857432cfc6",
            "92645fb1ed694d0eb0961bc0ef8446d8",
            "99d838576583452c9b9732ead0be8cd0",
            "ff2aa4be2b104143845c5fbd85362d09",
            "8e3cfb11b9f145f7ae423a104cdf948a",
            "a9d52f79e8704e2792a003d2a46fea9b",
            "26f4cced576743fc91845d0ed3fe06a7",
            "2bfb2edeb525489787c081fd9dcb521d",
            "5408a27b393a42a1a1a5c0e745b19366",
            "2ca0b39e32954c0c819ee4e2829fb01b"
          ]
        },
        "id": "fpaLlmnclvDx",
        "outputId": "a2b87bfe-660e-4b61-8dd0-a77cbbad9cbc"
      },
      "outputs": [],
      "source": [
        "lgb_params = {\"learning_rate\": 0.01,\n",
        "              'reg_lambda': 5,\n",
        "              'min_child_samples': 40,\n",
        "              'num_leaves': 100,\n",
        "              'bagging_freq': 10,\n",
        "              'bagging_fraction': 0.50,\n",
        "              'feature_fraction': 0.20,\n",
        "              \"metric\" : \"None\",\n",
        "              'max_bin': 511}\n",
        "\n",
        "best_score = 0\n",
        "best_models = []\n",
        "best_features = []\n",
        "for i, features in enumerate(features_list):\n",
        "    data = train[list(features) + [Config.target]]\n",
        "    features = get_faetures(data)\n",
        "    print('#'*25)\n",
        "    print('### Trial',i)\n",
        "    print('### Training with {} features'.format(len(features)))\n",
        "    print('#'*25)\n",
        "    \n",
        "    models, score = fit_lgbm(data[features], data[Config.target], params=lgb_params)\n",
        "    if score > best_score:\n",
        "        best_models = models\n",
        "        best_features = features\n",
        "\n",
        "del train\n",
        "\n",
        "pred = inference_lgbm(best_models, test[best_features])"
      ]
    },
    {
      "cell_type": "markdown",
      "metadata": {
        "id": "ThQ6jTt7z7UC"
      },
      "source": [
        "## Plot importances"
      ]
    },
    {
      "cell_type": "code",
      "execution_count": null,
      "metadata": {
        "colab": {
          "base_uri": "https://localhost:8080/",
          "height": 238
        },
        "id": "o6-P1Ko-yOUs",
        "outputId": "3e7b9c39-0f00-4090-aa23-f844b9cec7f0"
      },
      "outputs": [],
      "source": [
        "def plot_importances(models):\n",
        "    importance_df = pd.DataFrame(models[0].feature_importances_, \n",
        "                                 index=features, \n",
        "                                 columns=['importance'])\\\n",
        "                        .sort_values(\"importance\", ascending=False)\n",
        "\n",
        "    plt.subplots(figsize=(len(features) // 4, 5))\n",
        "    plt.bar(importance_df.index, importance_df.importance)\n",
        "    plt.grid()\n",
        "    plt.xticks(rotation=90)\n",
        "    plt.ylabel(\"importance\")\n",
        "    plt.tight_layout()\n",
        "    plt.savefig(EXP_FIG + 'importance.png')\n",
        "\n",
        "plot_importances(models)"
      ]
    },
    {
      "cell_type": "markdown",
      "metadata": {
        "id": "FezzpipU0Zws"
      },
      "source": [
        "## Submission"
      ]
    },
    {
      "cell_type": "code",
      "execution_count": null,
      "metadata": {
        "id": "dmiIKvGQ0wA7"
      },
      "outputs": [],
      "source": [
        "sub = pd.DataFrame({'customer_ID': test.index,\n",
        "                    'prediction': pred})\n",
        "sub.to_csv(f'{SUBMISSION}/dart_feature_selection.csv', index=False)"
      ]
    }
  ],
  "metadata": {
    "colab": {
      "authorship_tag": "ABX9TyM+TxgBMOAkc+clSLK1ruo1",
      "background_execution": "on",
      "include_colab_link": true,
      "machine_shape": "hm",
      "name": "Baseline.ipynb",
      "provenance": []
    },
    "kernelspec": {
      "display_name": "Python 3.9.12 ('amex')",
      "language": "python",
      "name": "python3"
    },
    "language_info": {
      "codemirror_mode": {
        "name": "ipython",
        "version": 3
      },
      "file_extension": ".py",
      "mimetype": "text/x-python",
      "name": "python",
      "nbconvert_exporter": "python",
      "pygments_lexer": "ipython3",
      "version": "3.9.12"
    },
    "vscode": {
      "interpreter": {
        "hash": "29001d83105739b7e7991894c59ca9a685d5fb80e48bd2a6126a67de75b87e20"
      }
    },
    "widgets": {
      "application/vnd.jupyter.widget-state+json": {
        "26f4cced576743fc91845d0ed3fe06a7": {
          "model_module": "@jupyter-widgets/base",
          "model_module_version": "1.2.0",
          "model_name": "LayoutModel",
          "state": {
            "_model_module": "@jupyter-widgets/base",
            "_model_module_version": "1.2.0",
            "_model_name": "LayoutModel",
            "_view_count": null,
            "_view_module": "@jupyter-widgets/base",
            "_view_module_version": "1.2.0",
            "_view_name": "LayoutView",
            "align_content": null,
            "align_items": null,
            "align_self": null,
            "border": null,
            "bottom": null,
            "display": null,
            "flex": null,
            "flex_flow": null,
            "grid_area": null,
            "grid_auto_columns": null,
            "grid_auto_flow": null,
            "grid_auto_rows": null,
            "grid_column": null,
            "grid_gap": null,
            "grid_row": null,
            "grid_template_areas": null,
            "grid_template_columns": null,
            "grid_template_rows": null,
            "height": null,
            "justify_content": null,
            "justify_items": null,
            "left": null,
            "margin": null,
            "max_height": null,
            "max_width": null,
            "min_height": null,
            "min_width": null,
            "object_fit": null,
            "object_position": null,
            "order": null,
            "overflow": null,
            "overflow_x": null,
            "overflow_y": null,
            "padding": null,
            "right": null,
            "top": null,
            "visibility": null,
            "width": "20px"
          }
        },
        "2bfb2edeb525489787c081fd9dcb521d": {
          "model_module": "@jupyter-widgets/controls",
          "model_module_version": "1.5.0",
          "model_name": "ProgressStyleModel",
          "state": {
            "_model_module": "@jupyter-widgets/controls",
            "_model_module_version": "1.5.0",
            "_model_name": "ProgressStyleModel",
            "_view_count": null,
            "_view_module": "@jupyter-widgets/base",
            "_view_module_version": "1.2.0",
            "_view_name": "StyleView",
            "bar_color": null,
            "description_width": ""
          }
        },
        "2ca0b39e32954c0c819ee4e2829fb01b": {
          "model_module": "@jupyter-widgets/controls",
          "model_module_version": "1.5.0",
          "model_name": "DescriptionStyleModel",
          "state": {
            "_model_module": "@jupyter-widgets/controls",
            "_model_module_version": "1.5.0",
            "_model_name": "DescriptionStyleModel",
            "_view_count": null,
            "_view_module": "@jupyter-widgets/base",
            "_view_module_version": "1.2.0",
            "_view_name": "StyleView",
            "description_width": ""
          }
        },
        "5408a27b393a42a1a1a5c0e745b19366": {
          "model_module": "@jupyter-widgets/base",
          "model_module_version": "1.2.0",
          "model_name": "LayoutModel",
          "state": {
            "_model_module": "@jupyter-widgets/base",
            "_model_module_version": "1.2.0",
            "_model_name": "LayoutModel",
            "_view_count": null,
            "_view_module": "@jupyter-widgets/base",
            "_view_module_version": "1.2.0",
            "_view_name": "LayoutView",
            "align_content": null,
            "align_items": null,
            "align_self": null,
            "border": null,
            "bottom": null,
            "display": null,
            "flex": null,
            "flex_flow": null,
            "grid_area": null,
            "grid_auto_columns": null,
            "grid_auto_flow": null,
            "grid_auto_rows": null,
            "grid_column": null,
            "grid_gap": null,
            "grid_row": null,
            "grid_template_areas": null,
            "grid_template_columns": null,
            "grid_template_rows": null,
            "height": null,
            "justify_content": null,
            "justify_items": null,
            "left": null,
            "margin": null,
            "max_height": null,
            "max_width": null,
            "min_height": null,
            "min_width": null,
            "object_fit": null,
            "object_position": null,
            "order": null,
            "overflow": null,
            "overflow_x": null,
            "overflow_y": null,
            "padding": null,
            "right": null,
            "top": null,
            "visibility": null,
            "width": null
          }
        },
        "76226ecd35c7435cb1ead0696995baee": {
          "model_module": "@jupyter-widgets/controls",
          "model_module_version": "1.5.0",
          "model_name": "HBoxModel",
          "state": {
            "_dom_classes": [],
            "_model_module": "@jupyter-widgets/controls",
            "_model_module_version": "1.5.0",
            "_model_name": "HBoxModel",
            "_view_count": null,
            "_view_module": "@jupyter-widgets/controls",
            "_view_module_version": "1.5.0",
            "_view_name": "HBoxView",
            "box_style": "",
            "children": [
              "IPY_MODEL_cc635e1fb0c143d3b7a3c8857432cfc6",
              "IPY_MODEL_92645fb1ed694d0eb0961bc0ef8446d8",
              "IPY_MODEL_99d838576583452c9b9732ead0be8cd0"
            ],
            "layout": "IPY_MODEL_ff2aa4be2b104143845c5fbd85362d09"
          }
        },
        "8e3cfb11b9f145f7ae423a104cdf948a": {
          "model_module": "@jupyter-widgets/base",
          "model_module_version": "1.2.0",
          "model_name": "LayoutModel",
          "state": {
            "_model_module": "@jupyter-widgets/base",
            "_model_module_version": "1.2.0",
            "_model_name": "LayoutModel",
            "_view_count": null,
            "_view_module": "@jupyter-widgets/base",
            "_view_module_version": "1.2.0",
            "_view_name": "LayoutView",
            "align_content": null,
            "align_items": null,
            "align_self": null,
            "border": null,
            "bottom": null,
            "display": null,
            "flex": null,
            "flex_flow": null,
            "grid_area": null,
            "grid_auto_columns": null,
            "grid_auto_flow": null,
            "grid_auto_rows": null,
            "grid_column": null,
            "grid_gap": null,
            "grid_row": null,
            "grid_template_areas": null,
            "grid_template_columns": null,
            "grid_template_rows": null,
            "height": null,
            "justify_content": null,
            "justify_items": null,
            "left": null,
            "margin": null,
            "max_height": null,
            "max_width": null,
            "min_height": null,
            "min_width": null,
            "object_fit": null,
            "object_position": null,
            "order": null,
            "overflow": null,
            "overflow_x": null,
            "overflow_y": null,
            "padding": null,
            "right": null,
            "top": null,
            "visibility": null,
            "width": null
          }
        },
        "92645fb1ed694d0eb0961bc0ef8446d8": {
          "model_module": "@jupyter-widgets/controls",
          "model_module_version": "1.5.0",
          "model_name": "FloatProgressModel",
          "state": {
            "_dom_classes": [],
            "_model_module": "@jupyter-widgets/controls",
            "_model_module_version": "1.5.0",
            "_model_name": "FloatProgressModel",
            "_view_count": null,
            "_view_module": "@jupyter-widgets/controls",
            "_view_module_version": "1.5.0",
            "_view_name": "ProgressView",
            "bar_style": "success",
            "description": "",
            "description_tooltip": null,
            "layout": "IPY_MODEL_26f4cced576743fc91845d0ed3fe06a7",
            "max": 1,
            "min": 0,
            "orientation": "horizontal",
            "style": "IPY_MODEL_2bfb2edeb525489787c081fd9dcb521d",
            "value": 1
          }
        },
        "99d838576583452c9b9732ead0be8cd0": {
          "model_module": "@jupyter-widgets/controls",
          "model_module_version": "1.5.0",
          "model_name": "HTMLModel",
          "state": {
            "_dom_classes": [],
            "_model_module": "@jupyter-widgets/controls",
            "_model_module_version": "1.5.0",
            "_model_name": "HTMLModel",
            "_view_count": null,
            "_view_module": "@jupyter-widgets/controls",
            "_view_module_version": "1.5.0",
            "_view_name": "HTMLView",
            "description": "",
            "description_tooltip": null,
            "layout": "IPY_MODEL_5408a27b393a42a1a1a5c0e745b19366",
            "placeholder": "​",
            "style": "IPY_MODEL_2ca0b39e32954c0c819ee4e2829fb01b",
            "value": " 5/? [36:18&lt;00:00, 476.29s/it]"
          }
        },
        "a9d52f79e8704e2792a003d2a46fea9b": {
          "model_module": "@jupyter-widgets/controls",
          "model_module_version": "1.5.0",
          "model_name": "DescriptionStyleModel",
          "state": {
            "_model_module": "@jupyter-widgets/controls",
            "_model_module_version": "1.5.0",
            "_model_name": "DescriptionStyleModel",
            "_view_count": null,
            "_view_module": "@jupyter-widgets/base",
            "_view_module_version": "1.2.0",
            "_view_name": "StyleView",
            "description_width": ""
          }
        },
        "cc635e1fb0c143d3b7a3c8857432cfc6": {
          "model_module": "@jupyter-widgets/controls",
          "model_module_version": "1.5.0",
          "model_name": "HTMLModel",
          "state": {
            "_dom_classes": [],
            "_model_module": "@jupyter-widgets/controls",
            "_model_module_version": "1.5.0",
            "_model_name": "HTMLModel",
            "_view_count": null,
            "_view_module": "@jupyter-widgets/controls",
            "_view_module_version": "1.5.0",
            "_view_name": "HTMLView",
            "description": "",
            "description_tooltip": null,
            "layout": "IPY_MODEL_8e3cfb11b9f145f7ae423a104cdf948a",
            "placeholder": "​",
            "style": "IPY_MODEL_a9d52f79e8704e2792a003d2a46fea9b",
            "value": ""
          }
        },
        "ff2aa4be2b104143845c5fbd85362d09": {
          "model_module": "@jupyter-widgets/base",
          "model_module_version": "1.2.0",
          "model_name": "LayoutModel",
          "state": {
            "_model_module": "@jupyter-widgets/base",
            "_model_module_version": "1.2.0",
            "_model_name": "LayoutModel",
            "_view_count": null,
            "_view_module": "@jupyter-widgets/base",
            "_view_module_version": "1.2.0",
            "_view_name": "LayoutView",
            "align_content": null,
            "align_items": null,
            "align_self": null,
            "border": null,
            "bottom": null,
            "display": null,
            "flex": null,
            "flex_flow": null,
            "grid_area": null,
            "grid_auto_columns": null,
            "grid_auto_flow": null,
            "grid_auto_rows": null,
            "grid_column": null,
            "grid_gap": null,
            "grid_row": null,
            "grid_template_areas": null,
            "grid_template_columns": null,
            "grid_template_rows": null,
            "height": null,
            "justify_content": null,
            "justify_items": null,
            "left": null,
            "margin": null,
            "max_height": null,
            "max_width": null,
            "min_height": null,
            "min_width": null,
            "object_fit": null,
            "object_position": null,
            "order": null,
            "overflow": null,
            "overflow_x": null,
            "overflow_y": null,
            "padding": null,
            "right": null,
            "top": null,
            "visibility": null,
            "width": null
          }
        }
      }
    }
  },
  "nbformat": 4,
  "nbformat_minor": 0
}
