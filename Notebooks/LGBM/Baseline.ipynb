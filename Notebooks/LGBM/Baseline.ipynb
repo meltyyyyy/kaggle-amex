{
  "nbformat": 4,
  "nbformat_minor": 0,
  "metadata": {
    "colab": {
      "name": "Baseline.ipynb",
      "provenance": [],
      "machine_shape": "hm",
      "background_execution": "on",
      "authorship_tag": "ABX9TyOxK0Argc1QIENR/vNL22o8",
      "include_colab_link": true
    },
    "kernelspec": {
      "name": "python3",
      "display_name": "Python 3"
    },
    "language_info": {
      "name": "python"
    },
    "widgets": {
      "application/vnd.jupyter.widget-state+json": {
        "49a8a93232014065a971871fdc2c344d": {
          "model_module": "@jupyter-widgets/controls",
          "model_name": "HBoxModel",
          "model_module_version": "1.5.0",
          "state": {
            "_dom_classes": [],
            "_model_module": "@jupyter-widgets/controls",
            "_model_module_version": "1.5.0",
            "_model_name": "HBoxModel",
            "_view_count": null,
            "_view_module": "@jupyter-widgets/controls",
            "_view_module_version": "1.5.0",
            "_view_name": "HBoxView",
            "box_style": "",
            "children": [
              "IPY_MODEL_abd6d0a514614c62b281f7cb0be34185",
              "IPY_MODEL_2a21a1e4ad6a4a39a20c8f5644ecbe29",
              "IPY_MODEL_509e9ee8bc9a4945abdf736be1c9e4c5"
            ],
            "layout": "IPY_MODEL_9a006d36976b46078dc9206718a81ba2"
          }
        },
        "abd6d0a514614c62b281f7cb0be34185": {
          "model_module": "@jupyter-widgets/controls",
          "model_name": "HTMLModel",
          "model_module_version": "1.5.0",
          "state": {
            "_dom_classes": [],
            "_model_module": "@jupyter-widgets/controls",
            "_model_module_version": "1.5.0",
            "_model_name": "HTMLModel",
            "_view_count": null,
            "_view_module": "@jupyter-widgets/controls",
            "_view_module_version": "1.5.0",
            "_view_name": "HTMLView",
            "description": "",
            "description_tooltip": null,
            "layout": "IPY_MODEL_4813e274f80f46169aa395f014216953",
            "placeholder": "​",
            "style": "IPY_MODEL_7f76163885f8464192b6a234b32c3b93",
            "value": ""
          }
        },
        "2a21a1e4ad6a4a39a20c8f5644ecbe29": {
          "model_module": "@jupyter-widgets/controls",
          "model_name": "FloatProgressModel",
          "model_module_version": "1.5.0",
          "state": {
            "_dom_classes": [],
            "_model_module": "@jupyter-widgets/controls",
            "_model_module_version": "1.5.0",
            "_model_name": "FloatProgressModel",
            "_view_count": null,
            "_view_module": "@jupyter-widgets/controls",
            "_view_module_version": "1.5.0",
            "_view_name": "ProgressView",
            "bar_style": "success",
            "description": "",
            "description_tooltip": null,
            "layout": "IPY_MODEL_f52ce4f94b6b4ecf88141dd33f5958d1",
            "max": 1,
            "min": 0,
            "orientation": "horizontal",
            "style": "IPY_MODEL_be4bf4a485574a6e961dc7e9b2c79bea",
            "value": 1
          }
        },
        "509e9ee8bc9a4945abdf736be1c9e4c5": {
          "model_module": "@jupyter-widgets/controls",
          "model_name": "HTMLModel",
          "model_module_version": "1.5.0",
          "state": {
            "_dom_classes": [],
            "_model_module": "@jupyter-widgets/controls",
            "_model_module_version": "1.5.0",
            "_model_name": "HTMLModel",
            "_view_count": null,
            "_view_module": "@jupyter-widgets/controls",
            "_view_module_version": "1.5.0",
            "_view_name": "HTMLView",
            "description": "",
            "description_tooltip": null,
            "layout": "IPY_MODEL_e2d205803cd54c43b6274b8bfcc77e3f",
            "placeholder": "​",
            "style": "IPY_MODEL_e8f4ac4d0f41471598dc0f35f61c679b",
            "value": " 5/? [30:19&lt;00:00, 377.72s/it]"
          }
        },
        "9a006d36976b46078dc9206718a81ba2": {
          "model_module": "@jupyter-widgets/base",
          "model_name": "LayoutModel",
          "model_module_version": "1.2.0",
          "state": {
            "_model_module": "@jupyter-widgets/base",
            "_model_module_version": "1.2.0",
            "_model_name": "LayoutModel",
            "_view_count": null,
            "_view_module": "@jupyter-widgets/base",
            "_view_module_version": "1.2.0",
            "_view_name": "LayoutView",
            "align_content": null,
            "align_items": null,
            "align_self": null,
            "border": null,
            "bottom": null,
            "display": null,
            "flex": null,
            "flex_flow": null,
            "grid_area": null,
            "grid_auto_columns": null,
            "grid_auto_flow": null,
            "grid_auto_rows": null,
            "grid_column": null,
            "grid_gap": null,
            "grid_row": null,
            "grid_template_areas": null,
            "grid_template_columns": null,
            "grid_template_rows": null,
            "height": null,
            "justify_content": null,
            "justify_items": null,
            "left": null,
            "margin": null,
            "max_height": null,
            "max_width": null,
            "min_height": null,
            "min_width": null,
            "object_fit": null,
            "object_position": null,
            "order": null,
            "overflow": null,
            "overflow_x": null,
            "overflow_y": null,
            "padding": null,
            "right": null,
            "top": null,
            "visibility": null,
            "width": null
          }
        },
        "4813e274f80f46169aa395f014216953": {
          "model_module": "@jupyter-widgets/base",
          "model_name": "LayoutModel",
          "model_module_version": "1.2.0",
          "state": {
            "_model_module": "@jupyter-widgets/base",
            "_model_module_version": "1.2.0",
            "_model_name": "LayoutModel",
            "_view_count": null,
            "_view_module": "@jupyter-widgets/base",
            "_view_module_version": "1.2.0",
            "_view_name": "LayoutView",
            "align_content": null,
            "align_items": null,
            "align_self": null,
            "border": null,
            "bottom": null,
            "display": null,
            "flex": null,
            "flex_flow": null,
            "grid_area": null,
            "grid_auto_columns": null,
            "grid_auto_flow": null,
            "grid_auto_rows": null,
            "grid_column": null,
            "grid_gap": null,
            "grid_row": null,
            "grid_template_areas": null,
            "grid_template_columns": null,
            "grid_template_rows": null,
            "height": null,
            "justify_content": null,
            "justify_items": null,
            "left": null,
            "margin": null,
            "max_height": null,
            "max_width": null,
            "min_height": null,
            "min_width": null,
            "object_fit": null,
            "object_position": null,
            "order": null,
            "overflow": null,
            "overflow_x": null,
            "overflow_y": null,
            "padding": null,
            "right": null,
            "top": null,
            "visibility": null,
            "width": null
          }
        },
        "7f76163885f8464192b6a234b32c3b93": {
          "model_module": "@jupyter-widgets/controls",
          "model_name": "DescriptionStyleModel",
          "model_module_version": "1.5.0",
          "state": {
            "_model_module": "@jupyter-widgets/controls",
            "_model_module_version": "1.5.0",
            "_model_name": "DescriptionStyleModel",
            "_view_count": null,
            "_view_module": "@jupyter-widgets/base",
            "_view_module_version": "1.2.0",
            "_view_name": "StyleView",
            "description_width": ""
          }
        },
        "f52ce4f94b6b4ecf88141dd33f5958d1": {
          "model_module": "@jupyter-widgets/base",
          "model_name": "LayoutModel",
          "model_module_version": "1.2.0",
          "state": {
            "_model_module": "@jupyter-widgets/base",
            "_model_module_version": "1.2.0",
            "_model_name": "LayoutModel",
            "_view_count": null,
            "_view_module": "@jupyter-widgets/base",
            "_view_module_version": "1.2.0",
            "_view_name": "LayoutView",
            "align_content": null,
            "align_items": null,
            "align_self": null,
            "border": null,
            "bottom": null,
            "display": null,
            "flex": null,
            "flex_flow": null,
            "grid_area": null,
            "grid_auto_columns": null,
            "grid_auto_flow": null,
            "grid_auto_rows": null,
            "grid_column": null,
            "grid_gap": null,
            "grid_row": null,
            "grid_template_areas": null,
            "grid_template_columns": null,
            "grid_template_rows": null,
            "height": null,
            "justify_content": null,
            "justify_items": null,
            "left": null,
            "margin": null,
            "max_height": null,
            "max_width": null,
            "min_height": null,
            "min_width": null,
            "object_fit": null,
            "object_position": null,
            "order": null,
            "overflow": null,
            "overflow_x": null,
            "overflow_y": null,
            "padding": null,
            "right": null,
            "top": null,
            "visibility": null,
            "width": "20px"
          }
        },
        "be4bf4a485574a6e961dc7e9b2c79bea": {
          "model_module": "@jupyter-widgets/controls",
          "model_name": "ProgressStyleModel",
          "model_module_version": "1.5.0",
          "state": {
            "_model_module": "@jupyter-widgets/controls",
            "_model_module_version": "1.5.0",
            "_model_name": "ProgressStyleModel",
            "_view_count": null,
            "_view_module": "@jupyter-widgets/base",
            "_view_module_version": "1.2.0",
            "_view_name": "StyleView",
            "bar_color": null,
            "description_width": ""
          }
        },
        "e2d205803cd54c43b6274b8bfcc77e3f": {
          "model_module": "@jupyter-widgets/base",
          "model_name": "LayoutModel",
          "model_module_version": "1.2.0",
          "state": {
            "_model_module": "@jupyter-widgets/base",
            "_model_module_version": "1.2.0",
            "_model_name": "LayoutModel",
            "_view_count": null,
            "_view_module": "@jupyter-widgets/base",
            "_view_module_version": "1.2.0",
            "_view_name": "LayoutView",
            "align_content": null,
            "align_items": null,
            "align_self": null,
            "border": null,
            "bottom": null,
            "display": null,
            "flex": null,
            "flex_flow": null,
            "grid_area": null,
            "grid_auto_columns": null,
            "grid_auto_flow": null,
            "grid_auto_rows": null,
            "grid_column": null,
            "grid_gap": null,
            "grid_row": null,
            "grid_template_areas": null,
            "grid_template_columns": null,
            "grid_template_rows": null,
            "height": null,
            "justify_content": null,
            "justify_items": null,
            "left": null,
            "margin": null,
            "max_height": null,
            "max_width": null,
            "min_height": null,
            "min_width": null,
            "object_fit": null,
            "object_position": null,
            "order": null,
            "overflow": null,
            "overflow_x": null,
            "overflow_y": null,
            "padding": null,
            "right": null,
            "top": null,
            "visibility": null,
            "width": null
          }
        },
        "e8f4ac4d0f41471598dc0f35f61c679b": {
          "model_module": "@jupyter-widgets/controls",
          "model_name": "DescriptionStyleModel",
          "model_module_version": "1.5.0",
          "state": {
            "_model_module": "@jupyter-widgets/controls",
            "_model_module_version": "1.5.0",
            "_model_name": "DescriptionStyleModel",
            "_view_count": null,
            "_view_module": "@jupyter-widgets/base",
            "_view_module_version": "1.2.0",
            "_view_name": "StyleView",
            "description_width": ""
          }
        }
      }
    }
  },
  "cells": [
    {
      "cell_type": "markdown",
      "metadata": {
        "id": "view-in-github",
        "colab_type": "text"
      },
      "source": [
        "<a href=\"https://colab.research.google.com/github/meltyyyyy/kaggle-amex/blob/main/Notebooks/LGBM/Baseline.ipynb\" target=\"_parent\"><img src=\"https://colab.research.google.com/assets/colab-badge.svg\" alt=\"Open In Colab\"/></a>"
      ]
    },
    {
      "cell_type": "code",
      "execution_count": 1,
      "metadata": {
        "id": "ilqJ4rcWc4xO"
      },
      "outputs": [],
      "source": [
        "class Config:\n",
        "    name = \"LGBM/Baseline\"\n",
        "\n",
        "    n_splits = 5\n",
        "    seed = 2022\n",
        "    target = \"target\"\n",
        "\n",
        "    # Colab Env\n",
        "    upload_from_colab = True\n",
        "    api_path = \"/content/drive/MyDrive/workspace/kaggle.json\"\n",
        "    drive_path = \"/content/drive/MyDrive/workspace/kaggle-amex\"\n",
        "    \n",
        "    # Kaggle Env\n",
        "    kaggle_dataset_path = None"
      ]
    },
    {
      "cell_type": "code",
      "source": [
        "import os\n",
        "import json\n",
        "import warnings\n",
        "import shutil\n",
        "import logging\n",
        "import joblib\n",
        "import random\n",
        "import datetime\n",
        "import sys\n",
        "import gc\n",
        "import multiprocessing\n",
        "import joblib\n",
        "import pickle\n",
        "\n",
        "import pandas as pd\n",
        "import numpy as np\n",
        "import matplotlib.pyplot as plt\n",
        "import seaborn as sns\n",
        "\n",
        "from tqdm.auto import tqdm\n",
        "warnings.filterwarnings('ignore')"
      ],
      "metadata": {
        "id": "m9Jf525wdD4v"
      },
      "execution_count": 2,
      "outputs": []
    },
    {
      "cell_type": "code",
      "execution_count": 3,
      "metadata": {
        "colab": {
          "base_uri": "https://localhost:8080/"
        },
        "id": "SAwmuAVHgmNG",
        "outputId": "c2f785f1-f4e4-42ba-bb48-70ce4151a031"
      },
      "outputs": [
        {
          "output_type": "stream",
          "name": "stdout",
          "text": [
            "This environment is Google Colab\n"
          ]
        }
      ],
      "source": [
        "COLAB = \"google.colab\" in sys.modules\n",
        "if COLAB:\n",
        "    print(\"This environment is Google Colab\")\n",
        "    \n",
        "    # mount\n",
        "    from google.colab import drive\n",
        "    if not os.path.isdir(\"/content/drive\"):\n",
        "        drive.mount('/content/drive') \n",
        "\t\n",
        "    # import library\n",
        "    # ! pip install lightgbm==3.3.1\n",
        "    # ! pip install --quiet iterative-stratification\n",
        "    # ! pip install --quiet tensorflow-addons\n",
        "\n",
        "    # use kaggle api (need kaggle token)\n",
        "    f = open(Config.api_path, 'r')\n",
        "    json_data = json.load(f) \n",
        "    os.environ[\"KAGGLE_USERNAME\"] = json_data[\"username\"]\n",
        "    os.environ[\"KAGGLE_KEY\"] = json_data[\"key\"]\n",
        "    \n",
        "    # set dirs\n",
        "    DRIVE = Config.drive_path\n",
        "    EXP = (Config.name if Config.name is not None \n",
        "           else get(\"http://172.28.0.2:9000/api/sessions\").json()[0][\"name\"][:-6])\n",
        "    INPUT = os.path.join(DRIVE, \"Input\")\n",
        "    OUTPUT = os.path.join(DRIVE, \"Output\")\n",
        "    SUBMISSION = os.path.join(DRIVE, \"Submission\")\n",
        "    OUTPUT_EXP = os.path.join(OUTPUT, EXP) \n",
        "    EXP_MODEL = os.path.join(OUTPUT_EXP, \"model\")\n",
        "    EXP_FIG = os.path.join(OUTPUT_EXP, \"fig\")\n",
        "    EXP_PREDS = os.path.join(OUTPUT_EXP, \"preds\")\n",
        "\n",
        "    # make dirs\n",
        "    for d in [INPUT, SUBMISSION, EXP_MODEL, EXP_FIG, EXP_PREDS]:\n",
        "        os.makedirs(d, exist_ok=True)\n",
        "\n",
        "    # if not os.path.isfile(os.path.join(INPUT, \"amex-default-prediction.zip\")):\n",
        "        # load dataset\n",
        "        # ! kaggle competitions download -c amex-default-prediction -p $INPUT \n",
        "else:\n",
        "    print(\"This environment is Kaggle Kernel\")\n",
        "    \n",
        "    # set dirs\n",
        "    INPUT = \"../input/amex-default-prediction\"\n",
        "    EXP, OUTPUT, SUBMISSION = \"./\", \"./\", \"./\"\n",
        "    EXP_MODEL = os.path.join(EXP, \"model\")\n",
        "    EXP_FIG = os.path.join(EXP, \"fig\")\n",
        "    EXP_PREDS = os.path.join(EXP, \"preds\")\n",
        "    \n",
        "    # copy dirs\n",
        "    if Config.kaggle_dataset_path is not None:\n",
        "        KD_MODEL = os.path.join(Config.kaggle_dataset_path, \"model\")\n",
        "        KD_EXP_PREDS = os.path.join(Config.kaggle_dataset_path, \"preds\")\n",
        "        shutil.copytree(KD_MODEL, EXP_MODEL)\n",
        "        shutil.copytree(KD_EXP_PREDS, EXP_PREDS)\n",
        "\n",
        "    # make dirs\n",
        "    for d in [EXP_MODEL, EXP_FIG, EXP_PREDS]:\n",
        "        os.makedirs(d, exist_ok=True)\n"
      ]
    },
    {
      "cell_type": "code",
      "source": [
        "with open(os.path.join(INPUT, 'data_types.json'), \"r\") as rf:\n",
        "    dtypes = json.load(rf)\n",
        "train = pd.read_parquet(os.path.join(INPUT, 'train.parquet') if COLAB else 'train.parquet')\n",
        "train = train.astype(dtypes)\n",
        "target = pd.read_csv(os.path.join(INPUT, 'train_labels.csv') if COLAB else 'train_labels.csv', dtype={'customer_ID': 'str', 'target': 'int8'})\n",
        "# train = pd.read_parquet(os.path.join(INPUT, 'train_small.parquet') if COLAB else 'train_small.parquet')\n",
        "test = pd.read_parquet(os.path.join(INPUT, 'test.parquet') if COLAB else 'test.parquet')\n",
        "test = test.astype(dtypes)"
      ],
      "metadata": {
        "id": "v9cJGrE-dpDA"
      },
      "execution_count": 4,
      "outputs": []
    },
    {
      "cell_type": "code",
      "source": [
        "train.info()"
      ],
      "metadata": {
        "colab": {
          "base_uri": "https://localhost:8080/"
        },
        "id": "d4rytnIReGSi",
        "outputId": "985bee08-94bb-4e75-fb01-1977ccdc84bf"
      },
      "execution_count": 5,
      "outputs": [
        {
          "output_type": "stream",
          "name": "stdout",
          "text": [
            "<class 'pandas.core.frame.DataFrame'>\n",
            "RangeIndex: 5531451 entries, 0 to 5531450\n",
            "Columns: 190 entries, customer_ID to D_145\n",
            "dtypes: category(2), datetime64[ns](1), float16(185), int8(1), object(1)\n",
            "memory usage: 2.0+ GB\n"
          ]
        }
      ]
    },
    {
      "cell_type": "code",
      "source": [
        "train.head()"
      ],
      "metadata": {
        "colab": {
          "base_uri": "https://localhost:8080/",
          "height": 404
        },
        "id": "7n5KRbzXebh-",
        "outputId": "2fd1bd9b-e248-47f4-f8a3-05330ff0b602"
      },
      "execution_count": 6,
      "outputs": [
        {
          "output_type": "execute_result",
          "data": {
            "text/plain": [
              "                                         customer_ID        S_2       P_2  \\\n",
              "0  0000099d6bd597052cdcda90ffabf56573fe9d7c79be5f... 2017-03-09  0.938477   \n",
              "1  0000099d6bd597052cdcda90ffabf56573fe9d7c79be5f... 2017-04-07  0.936523   \n",
              "2  0000099d6bd597052cdcda90ffabf56573fe9d7c79be5f... 2017-05-28  0.954102   \n",
              "3  0000099d6bd597052cdcda90ffabf56573fe9d7c79be5f... 2017-06-13  0.960449   \n",
              "4  0000099d6bd597052cdcda90ffabf56573fe9d7c79be5f... 2017-07-16  0.947266   \n",
              "\n",
              "       D_39       B_1       B_2       R_1       S_3      D_41       B_3  ...  \\\n",
              "0  0.001734  0.008728  1.006836  0.009224  0.124023  0.008774  0.004707  ...   \n",
              "1  0.005775  0.004925  1.000977  0.006153  0.126709  0.000798  0.002714  ...   \n",
              "2  0.091492  0.021652  1.009766  0.006817  0.123962  0.007599  0.009422  ...   \n",
              "3  0.002455  0.013687  1.002930  0.001372  0.117188  0.000685  0.005531  ...   \n",
              "4  0.002483  0.015190  1.000977  0.007607  0.117310  0.004654  0.009308  ...   \n",
              "\n",
              "   D_136  D_137  D_138     D_139     D_140     D_141  D_142     D_143  \\\n",
              "0    NaN    NaN    NaN  0.002426  0.003706  0.003819    NaN  0.000569   \n",
              "1    NaN    NaN    NaN  0.003956  0.003166  0.005032    NaN  0.009575   \n",
              "2    NaN    NaN    NaN  0.003269  0.007328  0.000427    NaN  0.003429   \n",
              "3    NaN    NaN    NaN  0.006119  0.004517  0.003201    NaN  0.008423   \n",
              "4    NaN    NaN    NaN  0.003672  0.004944  0.008888    NaN  0.001670   \n",
              "\n",
              "      D_144     D_145  \n",
              "0  0.000610  0.002674  \n",
              "1  0.005493  0.009216  \n",
              "2  0.006985  0.002604  \n",
              "3  0.006527  0.009598  \n",
              "4  0.008125  0.009827  \n",
              "\n",
              "[5 rows x 190 columns]"
            ],
            "text/html": [
              "\n",
              "  <div id=\"df-5b3f9afc-1e11-4596-bcf1-a7f895954b53\">\n",
              "    <div class=\"colab-df-container\">\n",
              "      <div>\n",
              "<style scoped>\n",
              "    .dataframe tbody tr th:only-of-type {\n",
              "        vertical-align: middle;\n",
              "    }\n",
              "\n",
              "    .dataframe tbody tr th {\n",
              "        vertical-align: top;\n",
              "    }\n",
              "\n",
              "    .dataframe thead th {\n",
              "        text-align: right;\n",
              "    }\n",
              "</style>\n",
              "<table border=\"1\" class=\"dataframe\">\n",
              "  <thead>\n",
              "    <tr style=\"text-align: right;\">\n",
              "      <th></th>\n",
              "      <th>customer_ID</th>\n",
              "      <th>S_2</th>\n",
              "      <th>P_2</th>\n",
              "      <th>D_39</th>\n",
              "      <th>B_1</th>\n",
              "      <th>B_2</th>\n",
              "      <th>R_1</th>\n",
              "      <th>S_3</th>\n",
              "      <th>D_41</th>\n",
              "      <th>B_3</th>\n",
              "      <th>...</th>\n",
              "      <th>D_136</th>\n",
              "      <th>D_137</th>\n",
              "      <th>D_138</th>\n",
              "      <th>D_139</th>\n",
              "      <th>D_140</th>\n",
              "      <th>D_141</th>\n",
              "      <th>D_142</th>\n",
              "      <th>D_143</th>\n",
              "      <th>D_144</th>\n",
              "      <th>D_145</th>\n",
              "    </tr>\n",
              "  </thead>\n",
              "  <tbody>\n",
              "    <tr>\n",
              "      <th>0</th>\n",
              "      <td>0000099d6bd597052cdcda90ffabf56573fe9d7c79be5f...</td>\n",
              "      <td>2017-03-09</td>\n",
              "      <td>0.938477</td>\n",
              "      <td>0.001734</td>\n",
              "      <td>0.008728</td>\n",
              "      <td>1.006836</td>\n",
              "      <td>0.009224</td>\n",
              "      <td>0.124023</td>\n",
              "      <td>0.008774</td>\n",
              "      <td>0.004707</td>\n",
              "      <td>...</td>\n",
              "      <td>NaN</td>\n",
              "      <td>NaN</td>\n",
              "      <td>NaN</td>\n",
              "      <td>0.002426</td>\n",
              "      <td>0.003706</td>\n",
              "      <td>0.003819</td>\n",
              "      <td>NaN</td>\n",
              "      <td>0.000569</td>\n",
              "      <td>0.000610</td>\n",
              "      <td>0.002674</td>\n",
              "    </tr>\n",
              "    <tr>\n",
              "      <th>1</th>\n",
              "      <td>0000099d6bd597052cdcda90ffabf56573fe9d7c79be5f...</td>\n",
              "      <td>2017-04-07</td>\n",
              "      <td>0.936523</td>\n",
              "      <td>0.005775</td>\n",
              "      <td>0.004925</td>\n",
              "      <td>1.000977</td>\n",
              "      <td>0.006153</td>\n",
              "      <td>0.126709</td>\n",
              "      <td>0.000798</td>\n",
              "      <td>0.002714</td>\n",
              "      <td>...</td>\n",
              "      <td>NaN</td>\n",
              "      <td>NaN</td>\n",
              "      <td>NaN</td>\n",
              "      <td>0.003956</td>\n",
              "      <td>0.003166</td>\n",
              "      <td>0.005032</td>\n",
              "      <td>NaN</td>\n",
              "      <td>0.009575</td>\n",
              "      <td>0.005493</td>\n",
              "      <td>0.009216</td>\n",
              "    </tr>\n",
              "    <tr>\n",
              "      <th>2</th>\n",
              "      <td>0000099d6bd597052cdcda90ffabf56573fe9d7c79be5f...</td>\n",
              "      <td>2017-05-28</td>\n",
              "      <td>0.954102</td>\n",
              "      <td>0.091492</td>\n",
              "      <td>0.021652</td>\n",
              "      <td>1.009766</td>\n",
              "      <td>0.006817</td>\n",
              "      <td>0.123962</td>\n",
              "      <td>0.007599</td>\n",
              "      <td>0.009422</td>\n",
              "      <td>...</td>\n",
              "      <td>NaN</td>\n",
              "      <td>NaN</td>\n",
              "      <td>NaN</td>\n",
              "      <td>0.003269</td>\n",
              "      <td>0.007328</td>\n",
              "      <td>0.000427</td>\n",
              "      <td>NaN</td>\n",
              "      <td>0.003429</td>\n",
              "      <td>0.006985</td>\n",
              "      <td>0.002604</td>\n",
              "    </tr>\n",
              "    <tr>\n",
              "      <th>3</th>\n",
              "      <td>0000099d6bd597052cdcda90ffabf56573fe9d7c79be5f...</td>\n",
              "      <td>2017-06-13</td>\n",
              "      <td>0.960449</td>\n",
              "      <td>0.002455</td>\n",
              "      <td>0.013687</td>\n",
              "      <td>1.002930</td>\n",
              "      <td>0.001372</td>\n",
              "      <td>0.117188</td>\n",
              "      <td>0.000685</td>\n",
              "      <td>0.005531</td>\n",
              "      <td>...</td>\n",
              "      <td>NaN</td>\n",
              "      <td>NaN</td>\n",
              "      <td>NaN</td>\n",
              "      <td>0.006119</td>\n",
              "      <td>0.004517</td>\n",
              "      <td>0.003201</td>\n",
              "      <td>NaN</td>\n",
              "      <td>0.008423</td>\n",
              "      <td>0.006527</td>\n",
              "      <td>0.009598</td>\n",
              "    </tr>\n",
              "    <tr>\n",
              "      <th>4</th>\n",
              "      <td>0000099d6bd597052cdcda90ffabf56573fe9d7c79be5f...</td>\n",
              "      <td>2017-07-16</td>\n",
              "      <td>0.947266</td>\n",
              "      <td>0.002483</td>\n",
              "      <td>0.015190</td>\n",
              "      <td>1.000977</td>\n",
              "      <td>0.007607</td>\n",
              "      <td>0.117310</td>\n",
              "      <td>0.004654</td>\n",
              "      <td>0.009308</td>\n",
              "      <td>...</td>\n",
              "      <td>NaN</td>\n",
              "      <td>NaN</td>\n",
              "      <td>NaN</td>\n",
              "      <td>0.003672</td>\n",
              "      <td>0.004944</td>\n",
              "      <td>0.008888</td>\n",
              "      <td>NaN</td>\n",
              "      <td>0.001670</td>\n",
              "      <td>0.008125</td>\n",
              "      <td>0.009827</td>\n",
              "    </tr>\n",
              "  </tbody>\n",
              "</table>\n",
              "<p>5 rows × 190 columns</p>\n",
              "</div>\n",
              "      <button class=\"colab-df-convert\" onclick=\"convertToInteractive('df-5b3f9afc-1e11-4596-bcf1-a7f895954b53')\"\n",
              "              title=\"Convert this dataframe to an interactive table.\"\n",
              "              style=\"display:none;\">\n",
              "        \n",
              "  <svg xmlns=\"http://www.w3.org/2000/svg\" height=\"24px\"viewBox=\"0 0 24 24\"\n",
              "       width=\"24px\">\n",
              "    <path d=\"M0 0h24v24H0V0z\" fill=\"none\"/>\n",
              "    <path d=\"M18.56 5.44l.94 2.06.94-2.06 2.06-.94-2.06-.94-.94-2.06-.94 2.06-2.06.94zm-11 1L8.5 8.5l.94-2.06 2.06-.94-2.06-.94L8.5 2.5l-.94 2.06-2.06.94zm10 10l.94 2.06.94-2.06 2.06-.94-2.06-.94-.94-2.06-.94 2.06-2.06.94z\"/><path d=\"M17.41 7.96l-1.37-1.37c-.4-.4-.92-.59-1.43-.59-.52 0-1.04.2-1.43.59L10.3 9.45l-7.72 7.72c-.78.78-.78 2.05 0 2.83L4 21.41c.39.39.9.59 1.41.59.51 0 1.02-.2 1.41-.59l7.78-7.78 2.81-2.81c.8-.78.8-2.07 0-2.86zM5.41 20L4 18.59l7.72-7.72 1.47 1.35L5.41 20z\"/>\n",
              "  </svg>\n",
              "      </button>\n",
              "      \n",
              "  <style>\n",
              "    .colab-df-container {\n",
              "      display:flex;\n",
              "      flex-wrap:wrap;\n",
              "      gap: 12px;\n",
              "    }\n",
              "\n",
              "    .colab-df-convert {\n",
              "      background-color: #E8F0FE;\n",
              "      border: none;\n",
              "      border-radius: 50%;\n",
              "      cursor: pointer;\n",
              "      display: none;\n",
              "      fill: #1967D2;\n",
              "      height: 32px;\n",
              "      padding: 0 0 0 0;\n",
              "      width: 32px;\n",
              "    }\n",
              "\n",
              "    .colab-df-convert:hover {\n",
              "      background-color: #E2EBFA;\n",
              "      box-shadow: 0px 1px 2px rgba(60, 64, 67, 0.3), 0px 1px 3px 1px rgba(60, 64, 67, 0.15);\n",
              "      fill: #174EA6;\n",
              "    }\n",
              "\n",
              "    [theme=dark] .colab-df-convert {\n",
              "      background-color: #3B4455;\n",
              "      fill: #D2E3FC;\n",
              "    }\n",
              "\n",
              "    [theme=dark] .colab-df-convert:hover {\n",
              "      background-color: #434B5C;\n",
              "      box-shadow: 0px 1px 3px 1px rgba(0, 0, 0, 0.15);\n",
              "      filter: drop-shadow(0px 1px 2px rgba(0, 0, 0, 0.3));\n",
              "      fill: #FFFFFF;\n",
              "    }\n",
              "  </style>\n",
              "\n",
              "      <script>\n",
              "        const buttonEl =\n",
              "          document.querySelector('#df-5b3f9afc-1e11-4596-bcf1-a7f895954b53 button.colab-df-convert');\n",
              "        buttonEl.style.display =\n",
              "          google.colab.kernel.accessAllowed ? 'block' : 'none';\n",
              "\n",
              "        async function convertToInteractive(key) {\n",
              "          const element = document.querySelector('#df-5b3f9afc-1e11-4596-bcf1-a7f895954b53');\n",
              "          const dataTable =\n",
              "            await google.colab.kernel.invokeFunction('convertToInteractive',\n",
              "                                                     [key], {});\n",
              "          if (!dataTable) return;\n",
              "\n",
              "          const docLinkHtml = 'Like what you see? Visit the ' +\n",
              "            '<a target=\"_blank\" href=https://colab.research.google.com/notebooks/data_table.ipynb>data table notebook</a>'\n",
              "            + ' to learn more about interactive tables.';\n",
              "          element.innerHTML = '';\n",
              "          dataTable['output_type'] = 'display_data';\n",
              "          await google.colab.output.renderOutput(dataTable, element);\n",
              "          const docLink = document.createElement('div');\n",
              "          docLink.innerHTML = docLinkHtml;\n",
              "          element.appendChild(docLink);\n",
              "        }\n",
              "      </script>\n",
              "    </div>\n",
              "  </div>\n",
              "  "
            ]
          },
          "metadata": {},
          "execution_count": 6
        }
      ]
    },
    {
      "cell_type": "markdown",
      "source": [
        "## Evaluation merics"
      ],
      "metadata": {
        "id": "VLyBY1WonueN"
      }
    },
    {
      "cell_type": "code",
      "source": [
        "# https://www.kaggle.com/code/inversion/amex-competition-metric-python\n",
        "\n",
        "def amex_metric(y_true: pd.DataFrame, y_pred: pd.DataFrame) -> float:\n",
        "\n",
        "    def top_four_percent_captured(y_true: pd.DataFrame, y_pred: pd.DataFrame) -> float:\n",
        "        df = (pd.concat([y_true, y_pred], axis='columns')\n",
        "              .sort_values('prediction', ascending=False))\n",
        "        df['weight'] = df['target'].apply(lambda x: 20 if x==0 else 1)\n",
        "        four_pct_cutoff = int(0.04 * df['weight'].sum())\n",
        "        df['weight_cumsum'] = df['weight'].cumsum()\n",
        "        df_cutoff = df.loc[df['weight_cumsum'] <= four_pct_cutoff]\n",
        "        return (df_cutoff['target'] == 1).sum() / (df['target'] == 1).sum()\n",
        "        \n",
        "    def weighted_gini(y_true: pd.DataFrame, y_pred: pd.DataFrame) -> float:\n",
        "        df = (pd.concat([y_true, y_pred], axis='columns')\n",
        "              .sort_values('prediction', ascending=False))\n",
        "        df['weight'] = df['target'].apply(lambda x: 20 if x==0 else 1)\n",
        "        df['random'] = (df['weight'] / df['weight'].sum()).cumsum()\n",
        "        total_pos = (df['target'] * df['weight']).sum()\n",
        "        df['cum_pos_found'] = (df['target'] * df['weight']).cumsum()\n",
        "        df['lorentz'] = df['cum_pos_found'] / total_pos\n",
        "        df['gini'] = (df['lorentz'] - df['random']) * df['weight']\n",
        "        return df['gini'].sum()\n",
        "\n",
        "    def normalized_weighted_gini(y_true: pd.DataFrame, y_pred: pd.DataFrame) -> float:\n",
        "        y_true_pred = y_true.rename(columns={'target': 'prediction'})\n",
        "        return weighted_gini(y_true, y_pred) / weighted_gini(y_true, y_true_pred)\n",
        "\n",
        "    g = normalized_weighted_gini(y_true, y_pred)\n",
        "    d = top_four_percent_captured(y_true, y_pred)\n",
        "\n",
        "    return 0.5 * (g + d)\n",
        "\n",
        "def lgb_amex_metric(y_true, y_pred):\n",
        "    \"\"\"The competition metric with lightgbm's calling convention\"\"\"\n",
        "    return ('amex',\n",
        "            amex_metric(pd.DataFrame({'target': y_true}), pd.Series(y_pred, name='prediction')),\n",
        "            True)"
      ],
      "metadata": {
        "id": "wwBWY1fdnxFw"
      },
      "execution_count": 7,
      "outputs": []
    },
    {
      "cell_type": "markdown",
      "source": [
        "## Preprocess"
      ],
      "metadata": {
        "id": "R5-cpKNRehDB"
      }
    },
    {
      "cell_type": "code",
      "source": [
        "train = train.groupby('customer_ID')\\\n",
        "  .tail(1).set_index('customer_ID', drop=True)\\\n",
        "  .sort_index()\\\n",
        "  .merge(target.set_index('customer_ID', drop=True), left_index=True, right_index=True)\n",
        "test =  test.groupby('customer_ID')\\\n",
        "  .tail(1).set_index('customer_ID', drop=True)\\\n",
        "  .sort_index()"
      ],
      "metadata": {
        "id": "4S8d6gcyed8K"
      },
      "execution_count": 8,
      "outputs": []
    },
    {
      "cell_type": "markdown",
      "source": [
        "## Select features to use"
      ],
      "metadata": {
        "id": "zU8BdAJPixd6"
      }
    },
    {
      "cell_type": "code",
      "source": [
        "features = []\n",
        "unuse = ['customer_ID', 'S_2', 'target']\n",
        "\n",
        "features = [col for col in train.columns if col not in unuse]"
      ],
      "metadata": {
        "id": "UExr1RwmgxPz"
      },
      "execution_count": 9,
      "outputs": []
    },
    {
      "cell_type": "markdown",
      "source": [
        "## Training"
      ],
      "metadata": {
        "id": "QJPaYC0YjZYf"
      }
    },
    {
      "cell_type": "code",
      "source": [
        "from lightgbm.plotting import plot_metric\n",
        "from lightgbm import LGBMClassifier, early_stopping\n",
        "from sklearn.model_selection import StratifiedKFold\n",
        "\n",
        "def fit_lgbm(X, y, params=None):\n",
        "  models = []\n",
        "  scores = []\n",
        "\n",
        "  skf = StratifiedKFold(n_splits=Config.n_splits, shuffle=True, random_state=Config.seed)\n",
        "  \n",
        "  for fold, (train_indices, valid_indices) in enumerate(tqdm(skf.split(X, y))):\n",
        "    print(\"-\"*50+f' fold{fold} '+'-'*50)\n",
        "    X_train, y_train = X.iloc[train_indices], y.iloc[train_indices]\n",
        "    X_valid, y_valid = X.iloc[valid_indices], y.iloc[valid_indices]\n",
        "\n",
        "    model = LGBMClassifier(**params,\n",
        "                           boosting_type='gbdt',\n",
        "                           objective='binary',\n",
        "                           n_estimators=10000,\n",
        "                           random_state=Config.seed,\n",
        "                           n_jobs=-1,\n",
        "                           verbose=0)\n",
        "    \n",
        "    model.fit(X_train, y_train, \n",
        "              eval_set=[(X_train, y_train), (X_valid, y_valid)],\n",
        "              eval_names=['train', 'valid'],\n",
        "              eval_metric=lgb_amex_metric,\n",
        "              callbacks=[early_stopping(stopping_rounds=10, verbose=1)],\n",
        "              verbose=50)\n",
        "    \n",
        "    # ------------------- prediction -------------------\n",
        "    pred = model.predict_proba(X_valid)[:, 1]\n",
        "    score = amex_metric(pd.DataFrame({'target': y_valid.values}), pd.Series(pred, name='prediction'))\n",
        "\n",
        "    # ------------------- plot -------------------\n",
        "    plot_metric(model)\n",
        "\n",
        "    # ------------------- save -------------------\n",
        "    file = f'{EXP_MODEL}/lgbm_fold{fold}.pkl'\n",
        "    joblib.dump(model, file)\n",
        "    scores.append(score)\n",
        "    models.append(model)\n",
        "    print(f'fold{fold} amex meric: {score}')\n",
        "    print()\n",
        "\n",
        "  print(f\"OOF Score: {np.mean(scores):.5f}\")\n",
        "  return models\n",
        "\n",
        "def inference_lgbm(models, X):\n",
        "    pred = np.array([model.predict_proba(X) for model in models])\n",
        "    pred = np.mean(pred, axis=0)[:, 1]\n",
        "    return pred"
      ],
      "metadata": {
        "id": "cU4OQmHSjW9F"
      },
      "execution_count": 10,
      "outputs": []
    },
    {
      "cell_type": "code",
      "source": [
        "lgb_params = {\"learning_rate\": 0.01}\n",
        "\n",
        "models = fit_lgbm(train[features], train[Config.target], params=lgb_params)\n",
        "# models = [joblib.load(f'{EXP_MODEL}/lgbm_fold{i}.pkl') for i in range(Config.n_splits)]\n",
        "pred = inference_lgbm(models, test[features])"
      ],
      "metadata": {
        "colab": {
          "base_uri": "https://localhost:8080/",
          "height": 1000,
          "referenced_widgets": [
            "49a8a93232014065a971871fdc2c344d",
            "abd6d0a514614c62b281f7cb0be34185",
            "2a21a1e4ad6a4a39a20c8f5644ecbe29",
            "509e9ee8bc9a4945abdf736be1c9e4c5",
            "9a006d36976b46078dc9206718a81ba2",
            "4813e274f80f46169aa395f014216953",
            "7f76163885f8464192b6a234b32c3b93",
            "f52ce4f94b6b4ecf88141dd33f5958d1",
            "be4bf4a485574a6e961dc7e9b2c79bea",
            "e2d205803cd54c43b6274b8bfcc77e3f",
            "e8f4ac4d0f41471598dc0f35f61c679b"
          ]
        },
        "id": "fpaLlmnclvDx",
        "outputId": "8a82a158-d54f-4681-d80e-75a1ae078a29"
      },
      "execution_count": 11,
      "outputs": [
        {
          "output_type": "display_data",
          "data": {
            "text/plain": [
              "0it [00:00, ?it/s]"
            ],
            "application/vnd.jupyter.widget-view+json": {
              "version_major": 2,
              "version_minor": 0,
              "model_id": "49a8a93232014065a971871fdc2c344d"
            }
          },
          "metadata": {}
        },
        {
          "output_type": "stream",
          "name": "stdout",
          "text": [
            "-------------------------------------------------- fold0 --------------------------------------------------\n",
            "Training until validation scores don't improve for 10 rounds.\n",
            "[50]\ttrain's binary_logloss: 0.403175\ttrain's amex: 0.735444\tvalid's binary_logloss: 0.40494\tvalid's amex: 0.730688\n",
            "[100]\ttrain's binary_logloss: 0.328838\ttrain's amex: 0.745108\tvalid's binary_logloss: 0.331508\tvalid's amex: 0.739399\n",
            "[150]\ttrain's binary_logloss: 0.289463\ttrain's amex: 0.752691\tvalid's binary_logloss: 0.292839\tvalid's amex: 0.74663\n",
            "[200]\ttrain's binary_logloss: 0.266694\ttrain's amex: 0.760098\tvalid's binary_logloss: 0.270671\tvalid's amex: 0.751839\n",
            "[250]\ttrain's binary_logloss: 0.252731\ttrain's amex: 0.76608\tvalid's binary_logloss: 0.257196\tvalid's amex: 0.757709\n",
            "[300]\ttrain's binary_logloss: 0.243764\ttrain's amex: 0.770208\tvalid's binary_logloss: 0.248695\tvalid's amex: 0.761617\n",
            "[350]\ttrain's binary_logloss: 0.237708\ttrain's amex: 0.774488\tvalid's binary_logloss: 0.243017\tvalid's amex: 0.764988\n",
            "[400]\ttrain's binary_logloss: 0.233449\ttrain's amex: 0.777322\tvalid's binary_logloss: 0.239185\tvalid's amex: 0.767119\n",
            "Early stopping, best iteration is:\n",
            "[390]\ttrain's binary_logloss: 0.234186\ttrain's amex: 0.776866\tvalid's binary_logloss: 0.239844\tvalid's amex: 0.767201\n",
            "fold0 amex meric: 0.7672009746729487\n",
            "\n",
            "-------------------------------------------------- fold1 --------------------------------------------------\n",
            "Training until validation scores don't improve for 10 rounds.\n",
            "[50]\ttrain's binary_logloss: 0.403248\ttrain's amex: 0.734773\tvalid's binary_logloss: 0.404259\tvalid's amex: 0.72885\n",
            "[100]\ttrain's binary_logloss: 0.32896\ttrain's amex: 0.744851\tvalid's binary_logloss: 0.330731\tvalid's amex: 0.737471\n",
            "[150]\ttrain's binary_logloss: 0.289572\ttrain's amex: 0.753303\tvalid's binary_logloss: 0.291925\tvalid's amex: 0.745246\n",
            "[200]\ttrain's binary_logloss: 0.266845\ttrain's amex: 0.760231\tvalid's binary_logloss: 0.269739\tvalid's amex: 0.751639\n",
            "[250]\ttrain's binary_logloss: 0.252842\ttrain's amex: 0.765911\tvalid's binary_logloss: 0.256215\tvalid's amex: 0.756625\n",
            "[300]\ttrain's binary_logloss: 0.243856\ttrain's amex: 0.770663\tvalid's binary_logloss: 0.247675\tvalid's amex: 0.760414\n",
            "Early stopping, best iteration is:\n",
            "[319]\ttrain's binary_logloss: 0.241286\ttrain's amex: 0.772374\tvalid's binary_logloss: 0.245304\tvalid's amex: 0.762208\n",
            "fold1 amex meric: 0.7622079806556545\n",
            "\n",
            "-------------------------------------------------- fold2 --------------------------------------------------\n",
            "Training until validation scores don't improve for 10 rounds.\n",
            "[50]\ttrain's binary_logloss: 0.403808\ttrain's amex: 0.733475\tvalid's binary_logloss: 0.403125\tvalid's amex: 0.731852\n",
            "[100]\ttrain's binary_logloss: 0.329595\ttrain's amex: 0.74376\tvalid's binary_logloss: 0.328808\tvalid's amex: 0.742099\n",
            "[150]\ttrain's binary_logloss: 0.290289\ttrain's amex: 0.752001\tvalid's binary_logloss: 0.28965\tvalid's amex: 0.750274\n",
            "[200]\ttrain's binary_logloss: 0.26747\ttrain's amex: 0.758877\tvalid's binary_logloss: 0.267115\tvalid's amex: 0.756241\n",
            "[250]\ttrain's binary_logloss: 0.253508\ttrain's amex: 0.764543\tvalid's binary_logloss: 0.253538\tvalid's amex: 0.76099\n",
            "[300]\ttrain's binary_logloss: 0.244543\ttrain's amex: 0.768855\tvalid's binary_logloss: 0.244989\tvalid's amex: 0.765389\n",
            "[350]\ttrain's binary_logloss: 0.238498\ttrain's amex: 0.772675\tvalid's binary_logloss: 0.239401\tvalid's amex: 0.768021\n",
            "Early stopping, best iteration is:\n",
            "[378]\ttrain's binary_logloss: 0.235923\ttrain's amex: 0.774687\tvalid's binary_logloss: 0.237117\tvalid's amex: 0.769635\n",
            "fold2 amex meric: 0.7696353419036008\n",
            "\n",
            "-------------------------------------------------- fold3 --------------------------------------------------\n",
            "Training until validation scores don't improve for 10 rounds.\n",
            "[50]\ttrain's binary_logloss: 0.403378\ttrain's amex: 0.734401\tvalid's binary_logloss: 0.403673\tvalid's amex: 0.732944\n",
            "[100]\ttrain's binary_logloss: 0.329157\ttrain's amex: 0.744589\tvalid's binary_logloss: 0.330057\tvalid's amex: 0.741949\n",
            "[150]\ttrain's binary_logloss: 0.289775\ttrain's amex: 0.752518\tvalid's binary_logloss: 0.291294\tvalid's amex: 0.747426\n",
            "[200]\ttrain's binary_logloss: 0.267042\ttrain's amex: 0.759223\tvalid's binary_logloss: 0.269105\tvalid's amex: 0.75419\n",
            "[250]\ttrain's binary_logloss: 0.253138\ttrain's amex: 0.764795\tvalid's binary_logloss: 0.255663\tvalid's amex: 0.758765\n",
            "[300]\ttrain's binary_logloss: 0.244172\ttrain's amex: 0.769552\tvalid's binary_logloss: 0.247198\tvalid's amex: 0.760896\n",
            "[350]\ttrain's binary_logloss: 0.238136\ttrain's amex: 0.773798\tvalid's binary_logloss: 0.241635\tvalid's amex: 0.764188\n",
            "[400]\ttrain's binary_logloss: 0.233866\ttrain's amex: 0.777048\tvalid's binary_logloss: 0.237804\tvalid's amex: 0.767359\n",
            "Early stopping, best iteration is:\n",
            "[436]\ttrain's binary_logloss: 0.231489\ttrain's amex: 0.779013\tvalid's binary_logloss: 0.235812\tvalid's amex: 0.76924\n",
            "fold3 amex meric: 0.7692396252431358\n",
            "\n",
            "-------------------------------------------------- fold4 --------------------------------------------------\n",
            "Training until validation scores don't improve for 10 rounds.\n",
            "[50]\ttrain's binary_logloss: 0.40338\ttrain's amex: 0.733697\tvalid's binary_logloss: 0.404608\tvalid's amex: 0.729193\n",
            "[100]\ttrain's binary_logloss: 0.329041\ttrain's amex: 0.744613\tvalid's binary_logloss: 0.330857\tvalid's amex: 0.739217\n",
            "[150]\ttrain's binary_logloss: 0.289636\ttrain's amex: 0.752729\tvalid's binary_logloss: 0.291961\tvalid's amex: 0.746296\n",
            "[200]\ttrain's binary_logloss: 0.266891\ttrain's amex: 0.759037\tvalid's binary_logloss: 0.269722\tvalid's amex: 0.753127\n",
            "[250]\ttrain's binary_logloss: 0.252887\ttrain's amex: 0.765046\tvalid's binary_logloss: 0.256263\tvalid's amex: 0.760675\n",
            "[300]\ttrain's binary_logloss: 0.243878\ttrain's amex: 0.769493\tvalid's binary_logloss: 0.247762\tvalid's amex: 0.765711\n",
            "[350]\ttrain's binary_logloss: 0.237773\ttrain's amex: 0.773164\tvalid's binary_logloss: 0.242204\tvalid's amex: 0.769103\n",
            "[400]\ttrain's binary_logloss: 0.233462\ttrain's amex: 0.776494\tvalid's binary_logloss: 0.238473\tvalid's amex: 0.771485\n",
            "[450]\ttrain's binary_logloss: 0.230248\ttrain's amex: 0.779433\tvalid's binary_logloss: 0.235827\tvalid's amex: 0.773216\n",
            "Early stopping, best iteration is:\n",
            "[468]\ttrain's binary_logloss: 0.229265\ttrain's amex: 0.780096\tvalid's binary_logloss: 0.235039\tvalid's amex: 0.774293\n",
            "fold4 amex meric: 0.7742932418479491\n",
            "\n",
            "OOF Score: 0.76852\n"
          ]
        },
        {
          "output_type": "display_data",
          "data": {
            "text/plain": [
              "<Figure size 432x288 with 1 Axes>"
            ],
            "image/png": "[encoded data removed]"
          },
          "metadata": {
            "needs_background": "light"
          }
        },
        {
          "output_type": "display_data",
          "data": {
            "text/plain": [
              "<Figure size 432x288 with 1 Axes>"
            ],
            "image/png": "[encoded data removed]"
          },
          "metadata": {
            "needs_background": "light"
          }
        },
        {
          "output_type": "display_data",
          "data": {
            "text/plain": [
              "<Figure size 432x288 with 1 Axes>"
            ],
            "image/png": "[encoded data removed]"
          },
          "metadata": {
            "needs_background": "light"
          }
        },
        {
          "output_type": "display_data",
          "data": {
            "text/plain": [
              "<Figure size 432x288 with 1 Axes>"
            ],
            "image/png": "[encoded data removed]"
          },
          "metadata": {
            "needs_background": "light"
          }
        },
        {
          "output_type": "display_data",
          "data": {
            "text/plain": [
              "<Figure size 432x288 with 1 Axes>"
            ],
            "image/png": "[encoded data removed]"
          },
          "metadata": {
            "needs_background": "light"
          }
        }
      ]
    },
    {
      "cell_type": "markdown",
      "source": [
        "## Plot importances"
      ],
      "metadata": {
        "id": "ThQ6jTt7z7UC"
      }
    },
    {
      "cell_type": "code",
      "source": [
        "def plot_importances(models):\n",
        "    importance_df = pd.DataFrame(models[0].feature_importances_, \n",
        "                                 index=features, \n",
        "                                 columns=['importance'])\\\n",
        "                        .sort_values(\"importance\", ascending=False)\n",
        "\n",
        "    plt.subplots(figsize=(len(features) // 4, 5))\n",
        "    plt.bar(importance_df.index, importance_df.importance)\n",
        "    plt.grid()\n",
        "    plt.xticks(rotation=90)\n",
        "    plt.ylabel(\"importance\")\n",
        "    plt.tight_layout()\n",
        "    plt.show()\n",
        "\n",
        "plot_importances(models)"
      ],
      "metadata": {
        "colab": {
          "base_uri": "https://localhost:8080/",
          "height": 188
        },
        "id": "o6-P1Ko-yOUs",
        "outputId": "59df37e6-348a-4bc3-c2d0-5f898c2f969f"
      },
      "execution_count": 12,
      "outputs": [
        {
          "output_type": "display_data",
          "data": {
            "text/plain": [
              "<Figure size 3384x360 with 1 Axes>"
            ],
            "image/png": "[encoded data removed]"
          },
          "metadata": {
            "needs_background": "light"
          }
        }
      ]
    },
    {
      "cell_type": "markdown",
      "source": [
        "## Submission"
      ],
      "metadata": {
        "id": "FezzpipU0Zws"
      }
    },
    {
      "cell_type": "code",
      "source": [
        "sub = pd.DataFrame({'customer_ID': test.index,\n",
        "                    'prediction': pred})\n",
        "sub.to_csv(f'{SUBMISSION}/submission.csv', index=False)"
      ],
      "metadata": {
        "id": "dmiIKvGQ0wA7"
      },
      "execution_count": 13,
      "outputs": []
    },
    {
      "cell_type": "code",
      "source": [
        "! kaggle competitions submit -c amex-default-prediction -f /content/drive/MyDrive/workspace/kaggle-amex/Submission/submission.csv -m \"lightGBM Baseline\""
      ],
      "metadata": {
        "colab": {
          "base_uri": "https://localhost:8080/"
        },
        "id": "vlJlEJqe1HQZ",
        "outputId": "27462aba-6891-4b69-90df-ff40922e6e1f"
      },
      "execution_count": 14,
      "outputs": [
        {
          "output_type": "stream",
          "name": "stdout",
          "text": [
            "100% 75.0M/75.0M [00:11<00:00, 7.14MB/s]\n",
            "Successfully submitted to American Express - Default Prediction"
          ]
        }
      ]
    }
  ]
}