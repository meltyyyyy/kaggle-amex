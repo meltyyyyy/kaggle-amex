{
 "cells": [
  {
   "cell_type": "code",
   "execution_count": null,
   "metadata": {},
   "outputs": [],
   "source": [
    "class Config:\n",
    "    name = \"EDA/Feature-Forward\"\n",
    "\n",
    "    n_splits = 5\n",
    "    seed = 2022\n",
    "    target = \"target\"\n",
    "\n",
    "    # Colab Env\n",
    "    upload_from_colab = True\n",
    "    api_path = \"/content/drive/MyDrive/workspace/kaggle.json\"\n",
    "    drive_path = \"/content/drive/MyDrive/workspace/kaggle-amex\"\n",
    "\n",
    "    # Kaggle Env\n",
    "    kaggle_dataset_path = None\n",
    "\n",
    "    # Reka Env\n",
    "    dir_path = '/home/abe/kaggle/kaggle-amex'"
   ]
  },
  {
   "cell_type": "code",
   "execution_count": null,
   "metadata": {},
   "outputs": [],
   "source": [
    "import os\n",
    "import json\n",
    "import warnings\n",
    "import shutil\n",
    "import logging\n",
    "import joblib\n",
    "import random\n",
    "import datetime\n",
    "import sys\n",
    "import gc\n",
    "import multiprocessing\n",
    "import joblib\n",
    "import pickle\n",
    "\n",
    "import pandas as pd\n",
    "import numpy as np\n",
    "import matplotlib.pyplot as plt\n",
    "import seaborn as sns\n",
    "\n",
    "from tqdm.auto import tqdm\n",
    "tqdm.pandas()\n",
    "warnings.filterwarnings('ignore')"
   ]
  },
  {
   "cell_type": "markdown",
   "metadata": {},
   "source": [
    "## Environment Settings"
   ]
  },
  {
   "cell_type": "code",
   "execution_count": null,
   "metadata": {},
   "outputs": [],
   "source": [
    "INPUT = os.path.join(Config.dir_path, 'input')\n",
    "OUTPUT = os.path.join(Config.dir_path, 'output')\n",
    "SUBMISSION = os.path.join(Config.dir_path, 'submissions')\n",
    "OUTPUT_EXP = os.path.join(OUTPUT, Config.name)\n",
    "EXP_MODEL = os.path.join(OUTPUT_EXP, \"model\")\n",
    "EXP_FIG = os.path.join(OUTPUT_EXP, \"fig\")\n",
    "EXP_PREDS = os.path.join(OUTPUT_EXP, \"preds\")\n",
    "\n",
    "# make dirs\n",
    "for d in [INPUT, SUBMISSION, EXP_MODEL, EXP_FIG, EXP_PREDS]:\n",
    "    os.makedirs(d, exist_ok=True)"
   ]
  },
  {
   "cell_type": "markdown",
   "metadata": {},
   "source": [
    "## Load data"
   ]
  },
  {
   "cell_type": "code",
   "execution_count": null,
   "metadata": {},
   "outputs": [],
   "source": [
    "train = pd.read_parquet(os.path.join(INPUT, 'train_small.parquet'))\n",
    "test = pd.read_parquet(os.path.join(INPUT, 'test_small.parquet'))\n",
    "target = pd.read_csv(os.path.join(INPUT, 'train_labels.csv'), dtype={'customer_ID': 'str', 'target': 'int8'})\n",
    "\n",
    "with open(os.path.join(INPUT, 'data_types.json'), \"r\") as rf:\n",
    "    dtypes = json.load(rf)\n",
    "train = train.astype(dtypes)\n",
    "test = test.astype(dtypes)"
   ]
  },
  {
   "cell_type": "code",
   "execution_count": null,
   "metadata": {},
   "outputs": [],
   "source": [
    "train.info()"
   ]
  },
  {
   "cell_type": "code",
   "execution_count": null,
   "metadata": {},
   "outputs": [],
   "source": [
    "train.head()"
   ]
  },
  {
   "cell_type": "markdown",
   "metadata": {},
   "source": [
    "## Evaluation Metric"
   ]
  },
  {
   "cell_type": "code",
   "execution_count": null,
   "metadata": {
    "colab": {
     "background_save": true
    },
    "id": "wwBWY1fdnxFw"
   },
   "outputs": [],
   "source": [
    "# https://www.kaggle.com/code/inversion/amex-competition-metric-python\n",
    "\n",
    "def amex_metric(y_true: pd.DataFrame, y_pred: pd.DataFrame) -> float:\n",
    "\n",
    "    def top_four_percent_captured(y_true: pd.DataFrame, y_pred: pd.DataFrame) -> float:\n",
    "        df = (pd.concat([y_true, y_pred], axis='columns')\n",
    "              .sort_values('prediction', ascending=False))\n",
    "        df['weight'] = df['target'].apply(lambda x: 20 if x==0 else 1)\n",
    "        four_pct_cutoff = int(0.04 * df['weight'].sum())\n",
    "        df['weight_cumsum'] = df['weight'].cumsum()\n",
    "        df_cutoff = df.loc[df['weight_cumsum'] <= four_pct_cutoff]\n",
    "        return (df_cutoff['target'] == 1).sum() / (df['target'] == 1).sum()\n",
    "        \n",
    "    def weighted_gini(y_true: pd.DataFrame, y_pred: pd.DataFrame) -> float:\n",
    "        df = (pd.concat([y_true, y_pred], axis='columns')\n",
    "              .sort_values('prediction', ascending=False))\n",
    "        df['weight'] = df['target'].apply(lambda x: 20 if x==0 else 1)\n",
    "        df['random'] = (df['weight'] / df['weight'].sum()).cumsum()\n",
    "        total_pos = (df['target'] * df['weight']).sum()\n",
    "        df['cum_pos_found'] = (df['target'] * df['weight']).cumsum()\n",
    "        df['lorentz'] = df['cum_pos_found'] / total_pos\n",
    "        df['gini'] = (df['lorentz'] - df['random']) * df['weight']\n",
    "        return df['gini'].sum()\n",
    "\n",
    "    def normalized_weighted_gini(y_true: pd.DataFrame, y_pred: pd.DataFrame) -> float:\n",
    "        y_true_pred = y_true.rename(columns={'target': 'prediction'})\n",
    "        return weighted_gini(y_true, y_pred) / weighted_gini(y_true, y_true_pred)\n",
    "\n",
    "    g = normalized_weighted_gini(y_true, y_pred)\n",
    "    d = top_four_percent_captured(y_true, y_pred)\n",
    "\n",
    "    return 0.5 * (g + d)\n",
    "\n",
    "def lgb_amex_metric(y_true, y_pred):\n",
    "    \"\"\"The competition metric with lightgbm's calling convention\"\"\"\n",
    "    return ('amex',\n",
    "            amex_metric(pd.DataFrame({'target': y_true}), pd.Series(y_pred, name='prediction')),\n",
    "            True)"
   ]
  },
  {
   "cell_type": "markdown",
   "metadata": {},
   "source": [
    "## Preprocess"
   ]
  },
  {
   "cell_type": "code",
   "execution_count": null,
   "metadata": {},
   "outputs": [],
   "source": [
    "from sklearn.preprocessing import LabelEncoder\n",
    "\n",
    "cat_cols = [col for col in train.columns if train[col].dtype == 'category']\n",
    "for col in cat_cols:\n",
    "    le = LabelEncoder()\n",
    "    le.fit(train[col])\n",
    "    train[col] = le.transform(train[col])\n",
    "    test[col] = le.transform(test[col])"
   ]
  },
  {
   "cell_type": "markdown",
   "metadata": {},
   "source": [
    "## Create target"
   ]
  },
  {
   "cell_type": "code",
   "execution_count": null,
   "metadata": {},
   "outputs": [],
   "source": [
    "train = train.groupby('customer_ID')\\\n",
    "  .tail(1).set_index('customer_ID', drop=True)\\\n",
    "  .sort_index()\\\n",
    "  .merge(target.set_index('customer_ID', drop=True), left_index=True, right_index=True)\n",
    "test =  test.groupby('customer_ID')\\\n",
    "  .tail(1).set_index('customer_ID', drop=True)\\\n",
    "  .sort_index()"
   ]
  },
  {
   "cell_type": "markdown",
   "metadata": {},
   "source": [
    "## Select Features to Use"
   ]
  },
  {
   "cell_type": "code",
   "execution_count": null,
   "metadata": {},
   "outputs": [],
   "source": [
    "features = []\n",
    "unuse = ['target', 'customer_ID', 'S_2']\n",
    "\n",
    "for col in train.columns:\n",
    "  if col not in unuse:\n",
    "    features.append(col)\n",
    "\n",
    "# print(features)"
   ]
  },
  {
   "cell_type": "markdown",
   "metadata": {},
   "source": [
    "## Forward Selection"
   ]
  },
  {
   "cell_type": "code",
   "execution_count": null,
   "metadata": {},
   "outputs": [],
   "source": [
    "from sklearn.model_selection import train_test_split\n",
    "\n",
    "X_train, X_test, y_train, y_test = train_test_split(train[features].values, train[Config.target].values,\n",
    "                 train_size=0.8, \n",
    "                 random_state=Config.seed, \n",
    "                 shuffle=True)"
   ]
  },
  {
   "cell_type": "code",
   "execution_count": null,
   "metadata": {},
   "outputs": [],
   "source": [
    "from mlxtend.feature_selection import SequentialFeatureSelector as SFS\n",
    "from lightgbm import LGBMClassifier, early_stopping\n",
    "\n",
    "lgb_params = {\"learning_rate\": 0.01,\n",
    "              'num_leaves': 127,\n",
    "              'min_child_samples': 2400}\n",
    "\n",
    "fit_params = {\n",
    "    'callbacks': [early_stopping(stopping_rounds=10, verbose=0)],\n",
    "    'eval_set': [(X_test, y_test)],\n",
    "    'eval_metric': lgb_amex_metric,\n",
    "    'verbose': 0\n",
    "}\n",
    "\n",
    "model = LGBMClassifier(**lgb_params,\n",
    "                       boosting_type='gbdt',\n",
    "                       objective='binary',\n",
    "                       n_estimators=10000,\n",
    "                       random_state=Config.seed,\n",
    "                       force_col_wise=True,\n",
    "                       n_jobs=16,\n",
    "                       verbose=-1)\n",
    "\n",
    "sfs = SFS(model, \n",
    "          k_features=10,\n",
    "          forward=True, \n",
    "          cv=5,\n",
    "          scoring='accuracy', \n",
    "          pre_dispatch=32,\n",
    "          verbose=2)\n",
    "\n",
    "sfs.fit(X_train, y_train, **fit_params)"
   ]
  },
  {
   "cell_type": "markdown",
   "metadata": {},
   "source": [
    "## Training"
   ]
  },
  {
   "cell_type": "code",
   "execution_count": 13,
   "metadata": {},
   "outputs": [],
   "source": [
    "from lightgbm.plotting import plot_metric\n",
    "from lightgbm import LGBMClassifier, early_stopping\n",
    "from sklearn.model_selection import StratifiedKFold\n",
    "\n",
    "def fit_lgbm(X, y, params=None):\n",
    "  models = []\n",
    "  scores = []\n",
    "\n",
    "  skf = StratifiedKFold(n_splits=Config.n_splits, shuffle=True, random_state=Config.seed)\n",
    "  \n",
    "  for fold, (train_indices, valid_indices) in enumerate(tqdm(skf.split(X, y))):\n",
    "    print(\"-\"*50+f' fold{fold} '+'-'*50)\n",
    "    X_train, y_train = X.iloc[train_indices], y.iloc[train_indices]\n",
    "    X_valid, y_valid = X.iloc[valid_indices], y.iloc[valid_indices]\n",
    "\n",
    "    model = LGBMClassifier(**params,\n",
    "                           boosting_type='gbdt',\n",
    "                           objective='binary',\n",
    "                           n_estimators=10000,\n",
    "                           random_state=Config.seed,\n",
    "                           n_jobs=-1,\n",
    "                           verbose=0)\n",
    "    \n",
    "    model.fit(X_train, y_train, \n",
    "              eval_set=[(X_train, y_train), (X_valid, y_valid)],\n",
    "              eval_names=['train', 'valid'],\n",
    "              eval_metric=lgb_amex_metric,\n",
    "              callbacks=[early_stopping(stopping_rounds=10, verbose=1)],\n",
    "              verbose=50)\n",
    "    \n",
    "    # ------------------- prediction -------------------\n",
    "    pred = model.predict_proba(X_valid)[:, 1]\n",
    "    score = amex_metric(pd.DataFrame({'target': y_valid.values}), pd.Series(pred, name='prediction'))\n",
    "\n",
    "    # ------------------- plot -------------------\n",
    "    plot_metric(model)\n",
    "\n",
    "    # ------------------- save -------------------\n",
    "    file = f'{EXP_MODEL}/lgbm_fold{fold}.pkl'\n",
    "    joblib.dump(model, file)\n",
    "    scores.append(score)\n",
    "    models.append(model)\n",
    "    print(f'fold{fold} amex meric: {score}')\n",
    "    print()\n",
    "\n",
    "  print(f\"OOF Score: {np.mean(scores):.5f}\")\n",
    "  return models\n",
    "\n",
    "def inference_lgbm(models, X):\n",
    "    pred = np.array([model.predict_proba(X) for model in models])\n",
    "    pred = np.mean(pred, axis=0)[:, 1]\n",
    "    return pred"
   ]
  },
  {
   "cell_type": "code",
   "execution_count": null,
   "metadata": {},
   "outputs": [],
   "source": []
  }
 ],
 "metadata": {
  "interpreter": {
   "hash": "29001d83105739b7e7991894c59ca9a685d5fb80e48bd2a6126a67de75b87e20"
  },
  "kernelspec": {
   "display_name": "Python 3.9.12 ('amex')",
   "language": "python",
   "name": "python3"
  },
  "language_info": {
   "codemirror_mode": {
    "name": "ipython",
    "version": 3
   },
   "file_extension": ".py",
   "mimetype": "text/x-python",
   "name": "python",
   "nbconvert_exporter": "python",
   "pygments_lexer": "ipython3",
   "version": "3.9.12"
  },
  "orig_nbformat": 4
 },
 "nbformat": 4,
 "nbformat_minor": 2
}
