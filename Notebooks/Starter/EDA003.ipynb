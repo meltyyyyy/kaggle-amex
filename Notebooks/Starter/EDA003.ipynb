{
  "nbformat": 4,
  "nbformat_minor": 0,
  "metadata": {
    "colab": {
      "name": "EDA003.ipynb",
      "provenance": [],
      "collapsed_sections": [],
      "machine_shape": "hm",
      "authorship_tag": "ABX9TyMl+87hM3qufIWP6XGYvdVG",
      "include_colab_link": true
    },
    "kernelspec": {
      "name": "python3",
      "display_name": "Python 3"
    },
    "language_info": {
      "name": "python"
    }
  },
  "cells": [
    {
      "cell_type": "markdown",
      "metadata": {
        "id": "view-in-github",
        "colab_type": "text"
      },
      "source": [
        "<a href=\"https://colab.research.google.com/github/meltyyyyy/kaggle-amex/blob/main/Notebooks/Starter/EDA003.ipynb\" target=\"_parent\"><img src=\"https://colab.research.google.com/assets/colab-badge.svg\" alt=\"Open In Colab\"/></a>"
      ]
    },
    {
      "cell_type": "code",
      "execution_count": 1,
      "metadata": {
        "id": "GLvxaVx8gmo2"
      },
      "outputs": [],
      "source": [
        "class Config:\n",
        "    name = \"Starter/EDA003\"\n",
        "\n",
        "    n_splits = 5\n",
        "    n_neighbors = 10\n",
        "    seed = 2022\n",
        "    target = \"target\"\n",
        "\n",
        "    # Colab Env\n",
        "    upload_from_colab = True\n",
        "    api_path = \"/content/drive/MyDrive/workspace/kaggle.json\"\n",
        "    drive_path = \"/content/drive/MyDrive/workspace/kaggle-amex\"\n",
        "    \n",
        "    # Kaggle Env\n",
        "    kaggle_dataset_path = None"
      ]
    },
    {
      "cell_type": "code",
      "source": [
        "import os\n",
        "import json\n",
        "import warnings\n",
        "import shutil\n",
        "import logging\n",
        "import joblib\n",
        "import random\n",
        "import datetime\n",
        "import sys\n",
        "import gc\n",
        "import multiprocessing\n",
        "import joblib\n",
        "import pickle\n",
        "\n",
        "import pandas as pd\n",
        "import numpy as np\n",
        "import matplotlib.pyplot as plt\n",
        "import seaborn as sns\n",
        "\n",
        "from tqdm.auto import tqdm\n",
        "warnings.filterwarnings('ignore')"
      ],
      "metadata": {
        "id": "HR2N1kJrgsnm"
      },
      "execution_count": 2,
      "outputs": []
    },
    {
      "cell_type": "code",
      "execution_count": 4,
      "metadata": {
        "colab": {
          "base_uri": "https://localhost:8080/"
        },
        "id": "SAwmuAVHgmNG",
        "outputId": "0eb2455d-5f90-47d6-b5c6-cfca7e736a8e"
      },
      "outputs": [
        {
          "output_type": "stream",
          "name": "stdout",
          "text": [
            "This environment is Google Colab\n"
          ]
        }
      ],
      "source": [
        "COLAB = \"google.colab\" in sys.modules\n",
        "if COLAB:\n",
        "    print(\"This environment is Google Colab\")\n",
        "    \n",
        "    # mount\n",
        "    from google.colab import drive\n",
        "    if not os.path.isdir(\"/content/drive\"):\n",
        "        drive.mount('/content/drive') \n",
        "\t\n",
        "    # import library\n",
        "    # ! pip install lightgbm==3.3.1\n",
        "    # ! pip install --quiet iterative-stratification\n",
        "    # ! pip install --quiet tensorflow-addons\n",
        "\n",
        "    # use kaggle api (need kaggle token)\n",
        "    f = open(Config.api_path, 'r')\n",
        "    json_data = json.load(f) \n",
        "    os.environ[\"KAGGLE_USERNAME\"] = json_data[\"username\"]\n",
        "    os.environ[\"KAGGLE_KEY\"] = json_data[\"key\"]\n",
        "    \n",
        "    # set dirs\n",
        "    DRIVE = Config.drive_path\n",
        "    EXP = (Config.name if Config.name is not None \n",
        "           else get(\"http://172.28.0.2:9000/api/sessions\").json()[0][\"name\"][:-6])\n",
        "    INPUT = os.path.join(DRIVE, \"Input\")\n",
        "    OUTPUT = os.path.join(DRIVE, \"Output\")\n",
        "    SUBMISSION = os.path.join(DRIVE, \"Submission\")\n",
        "    OUTPUT_EXP = os.path.join(OUTPUT, EXP) \n",
        "    EXP_MODEL = os.path.join(OUTPUT_EXP, \"model\")\n",
        "    EXP_FIG = os.path.join(OUTPUT_EXP, \"fig\")\n",
        "    EXP_PREDS = os.path.join(OUTPUT_EXP, \"preds\")\n",
        "\n",
        "    # make dirs\n",
        "    for d in [INPUT, SUBMISSION, EXP_MODEL, EXP_FIG, EXP_PREDS]:\n",
        "        os.makedirs(d, exist_ok=True)\n",
        "\n",
        "    if not os.path.isfile(os.path.join(INPUT, \"train_data.parquet\")):\n",
        "        # load dataset\n",
        "        ! kaggle competitions download -c amex-default-prediction -p $INPUT \n",
        "else:\n",
        "    print(\"This environment is Kaggle Kernel\")\n",
        "    \n",
        "    # set dirs\n",
        "    INPUT = \"../input/amex-default-prediction\"\n",
        "    EXP, OUTPUT, SUBMISSION = \"./\", \"./\", \"./\"\n",
        "    EXP_MODEL = os.path.join(EXP, \"model\")\n",
        "    EXP_FIG = os.path.join(EXP, \"fig\")\n",
        "    EXP_PREDS = os.path.join(EXP, \"preds\")\n",
        "    \n",
        "    # copy dirs\n",
        "    if Config.kaggle_dataset_path is not None:\n",
        "        KD_MODEL = os.path.join(Config.kaggle_dataset_path, \"model\")\n",
        "        KD_EXP_PREDS = os.path.join(Config.kaggle_dataset_path, \"preds\")\n",
        "        shutil.copytree(KD_MODEL, EXP_MODEL)\n",
        "        shutil.copytree(KD_EXP_PREDS, EXP_PREDS)\n",
        "\n",
        "    # make dirs\n",
        "    for d in [EXP_MODEL, EXP_FIG, EXP_PREDS]:\n",
        "        os.makedirs(d, exist_ok=True)\n"
      ]
    },
    {
      "cell_type": "code",
      "source": [
        "train = pd.read_parquet(os.path.join(INPUT, 'train_data.parquet') if COLAB else 'train_data.parquet')"
      ],
      "metadata": {
        "id": "ZwpcfoEqb6mY"
      },
      "execution_count": 17,
      "outputs": []
    },
    {
      "cell_type": "code",
      "source": [
        "train.info()"
      ],
      "metadata": {
        "colab": {
          "base_uri": "https://localhost:8080/"
        },
        "id": "UQMjf_bBc99A",
        "outputId": "9a4aa71d-e514-40b2-d2dd-dc3ee00d569e"
      },
      "execution_count": 20,
      "outputs": [
        {
          "output_type": "stream",
          "name": "stdout",
          "text": [
            "<class 'pandas.core.frame.DataFrame'>\n",
            "RangeIndex: 5531451 entries, 0 to 5531450\n",
            "Columns: 190 entries, customer_ID to D_145\n",
            "dtypes: float64(185), int64(1), object(4)\n",
            "memory usage: 7.8+ GB\n"
          ]
        }
      ]
    },
    {
      "cell_type": "code",
      "source": [
        "float_cols = [col for col in train.columns if train[col].dtype == 'float64']\n",
        "int_cols = [col for col in train.columns if train[col].dtype == 'int64']\n",
        "obj_cols = [col for col in train.columns if train[col].dtype == 'object']\n",
        "cat_cols = ['B_30', 'B_38', 'D_114', 'D_116', 'D_117', 'D_120', 'D_126', 'D_63', 'D_64', 'D_66', 'D_68']"
      ],
      "metadata": {
        "id": "_xv720DAcdiG"
      },
      "execution_count": 21,
      "outputs": []
    },
    {
      "cell_type": "code",
      "source": [
        "obj_cols"
      ],
      "metadata": {
        "colab": {
          "base_uri": "https://localhost:8080/"
        },
        "id": "4OZ2m3i6ebAS",
        "outputId": "9878b77a-5c23-4dcd-baef-5dacfe51ff8c"
      },
      "execution_count": 24,
      "outputs": [
        {
          "output_type": "execute_result",
          "data": {
            "text/plain": [
              "['customer_ID', 'S_2', 'D_63', 'D_64']"
            ]
          },
          "metadata": {},
          "execution_count": 24
        }
      ]
    },
    {
      "cell_type": "code",
      "source": [
        "data_types = dict()\n",
        "\n",
        "for col in train.columns:\n",
        "  if col in float_cols:\n",
        "    data_types[col] = 'float16'\n",
        "  if col in int_cols:\n",
        "    data_types[col] = 'int8'\n",
        "  if col in obj_cols:\n",
        "    if col == 'customer_ID':\n",
        "      data_types[col] = 'str'\n",
        "    elif col == 'S_2':\n",
        "      data_types[col] = 'datetime64[ns]'\n",
        "    else:\n",
        "      data_types[col] = 'category'"
      ],
      "metadata": {
        "id": "G2DUwEtFcxiU"
      },
      "execution_count": 25,
      "outputs": []
    },
    {
      "cell_type": "code",
      "source": [
        "with open(os.path.join(INPUT, 'data_types.json'), \"w\") as write_file:\n",
        "    json.dump(data_types, write_file, indent=4)"
      ],
      "metadata": {
        "id": "-Ok0vUd7feoG"
      },
      "execution_count": 29,
      "outputs": []
    },
    {
      "cell_type": "code",
      "source": [
        "with open(os.path.join(INPUT, 'data_types.json'), \"r\") as read_file:\n",
        "    dtypes = json.load(read_file)"
      ],
      "metadata": {
        "id": "mL8V39YHg7Ci"
      },
      "execution_count": 31,
      "outputs": []
    },
    {
      "cell_type": "code",
      "source": [
        "dtypes"
      ],
      "metadata": {
        "colab": {
          "base_uri": "https://localhost:8080/"
        },
        "id": "IbarDE80hPMn",
        "outputId": "ae6d903d-95b9-4f44-d3fa-96d9b57a419c"
      },
      "execution_count": 32,
      "outputs": [
        {
          "output_type": "execute_result",
          "data": {
            "text/plain": [
              "{'B_1': 'float16',\n",
              " 'B_10': 'float16',\n",
              " 'B_11': 'float16',\n",
              " 'B_12': 'float16',\n",
              " 'B_13': 'float16',\n",
              " 'B_14': 'float16',\n",
              " 'B_15': 'float16',\n",
              " 'B_16': 'float16',\n",
              " 'B_17': 'float16',\n",
              " 'B_18': 'float16',\n",
              " 'B_19': 'float16',\n",
              " 'B_2': 'float16',\n",
              " 'B_20': 'float16',\n",
              " 'B_21': 'float16',\n",
              " 'B_22': 'float16',\n",
              " 'B_23': 'float16',\n",
              " 'B_24': 'float16',\n",
              " 'B_25': 'float16',\n",
              " 'B_26': 'float16',\n",
              " 'B_27': 'float16',\n",
              " 'B_28': 'float16',\n",
              " 'B_29': 'float16',\n",
              " 'B_3': 'float16',\n",
              " 'B_30': 'float16',\n",
              " 'B_31': 'int8',\n",
              " 'B_32': 'float16',\n",
              " 'B_33': 'float16',\n",
              " 'B_36': 'float16',\n",
              " 'B_37': 'float16',\n",
              " 'B_38': 'float16',\n",
              " 'B_39': 'float16',\n",
              " 'B_4': 'float16',\n",
              " 'B_40': 'float16',\n",
              " 'B_41': 'float16',\n",
              " 'B_42': 'float16',\n",
              " 'B_5': 'float16',\n",
              " 'B_6': 'float16',\n",
              " 'B_7': 'float16',\n",
              " 'B_8': 'float16',\n",
              " 'B_9': 'float16',\n",
              " 'D_102': 'float16',\n",
              " 'D_103': 'float16',\n",
              " 'D_104': 'float16',\n",
              " 'D_105': 'float16',\n",
              " 'D_106': 'float16',\n",
              " 'D_107': 'float16',\n",
              " 'D_108': 'float16',\n",
              " 'D_109': 'float16',\n",
              " 'D_110': 'float16',\n",
              " 'D_111': 'float16',\n",
              " 'D_112': 'float16',\n",
              " 'D_113': 'float16',\n",
              " 'D_114': 'float16',\n",
              " 'D_115': 'float16',\n",
              " 'D_116': 'float16',\n",
              " 'D_117': 'float16',\n",
              " 'D_118': 'float16',\n",
              " 'D_119': 'float16',\n",
              " 'D_120': 'float16',\n",
              " 'D_121': 'float16',\n",
              " 'D_122': 'float16',\n",
              " 'D_123': 'float16',\n",
              " 'D_124': 'float16',\n",
              " 'D_125': 'float16',\n",
              " 'D_126': 'float16',\n",
              " 'D_127': 'float16',\n",
              " 'D_128': 'float16',\n",
              " 'D_129': 'float16',\n",
              " 'D_130': 'float16',\n",
              " 'D_131': 'float16',\n",
              " 'D_132': 'float16',\n",
              " 'D_133': 'float16',\n",
              " 'D_134': 'float16',\n",
              " 'D_135': 'float16',\n",
              " 'D_136': 'float16',\n",
              " 'D_137': 'float16',\n",
              " 'D_138': 'float16',\n",
              " 'D_139': 'float16',\n",
              " 'D_140': 'float16',\n",
              " 'D_141': 'float16',\n",
              " 'D_142': 'float16',\n",
              " 'D_143': 'float16',\n",
              " 'D_144': 'float16',\n",
              " 'D_145': 'float16',\n",
              " 'D_39': 'float16',\n",
              " 'D_41': 'float16',\n",
              " 'D_42': 'float16',\n",
              " 'D_43': 'float16',\n",
              " 'D_44': 'float16',\n",
              " 'D_45': 'float16',\n",
              " 'D_46': 'float16',\n",
              " 'D_47': 'float16',\n",
              " 'D_48': 'float16',\n",
              " 'D_49': 'float16',\n",
              " 'D_50': 'float16',\n",
              " 'D_51': 'float16',\n",
              " 'D_52': 'float16',\n",
              " 'D_53': 'float16',\n",
              " 'D_54': 'float16',\n",
              " 'D_55': 'float16',\n",
              " 'D_56': 'float16',\n",
              " 'D_58': 'float16',\n",
              " 'D_59': 'float16',\n",
              " 'D_60': 'float16',\n",
              " 'D_61': 'float16',\n",
              " 'D_62': 'float16',\n",
              " 'D_63': 'category',\n",
              " 'D_64': 'category',\n",
              " 'D_65': 'float16',\n",
              " 'D_66': 'float16',\n",
              " 'D_68': 'float16',\n",
              " 'D_69': 'float16',\n",
              " 'D_70': 'float16',\n",
              " 'D_71': 'float16',\n",
              " 'D_72': 'float16',\n",
              " 'D_73': 'float16',\n",
              " 'D_74': 'float16',\n",
              " 'D_75': 'float16',\n",
              " 'D_76': 'float16',\n",
              " 'D_77': 'float16',\n",
              " 'D_78': 'float16',\n",
              " 'D_79': 'float16',\n",
              " 'D_80': 'float16',\n",
              " 'D_81': 'float16',\n",
              " 'D_82': 'float16',\n",
              " 'D_83': 'float16',\n",
              " 'D_84': 'float16',\n",
              " 'D_86': 'float16',\n",
              " 'D_87': 'float16',\n",
              " 'D_88': 'float16',\n",
              " 'D_89': 'float16',\n",
              " 'D_91': 'float16',\n",
              " 'D_92': 'float16',\n",
              " 'D_93': 'float16',\n",
              " 'D_94': 'float16',\n",
              " 'D_96': 'float16',\n",
              " 'P_2': 'float16',\n",
              " 'P_3': 'float16',\n",
              " 'P_4': 'float16',\n",
              " 'R_1': 'float16',\n",
              " 'R_10': 'float16',\n",
              " 'R_11': 'float16',\n",
              " 'R_12': 'float16',\n",
              " 'R_13': 'float16',\n",
              " 'R_14': 'float16',\n",
              " 'R_15': 'float16',\n",
              " 'R_16': 'float16',\n",
              " 'R_17': 'float16',\n",
              " 'R_18': 'float16',\n",
              " 'R_19': 'float16',\n",
              " 'R_2': 'float16',\n",
              " 'R_20': 'float16',\n",
              " 'R_21': 'float16',\n",
              " 'R_22': 'float16',\n",
              " 'R_23': 'float16',\n",
              " 'R_24': 'float16',\n",
              " 'R_25': 'float16',\n",
              " 'R_26': 'float16',\n",
              " 'R_27': 'float16',\n",
              " 'R_28': 'float16',\n",
              " 'R_3': 'float16',\n",
              " 'R_4': 'float16',\n",
              " 'R_5': 'float16',\n",
              " 'R_6': 'float16',\n",
              " 'R_7': 'float16',\n",
              " 'R_8': 'float16',\n",
              " 'R_9': 'float16',\n",
              " 'S_11': 'float16',\n",
              " 'S_12': 'float16',\n",
              " 'S_13': 'float16',\n",
              " 'S_15': 'float16',\n",
              " 'S_16': 'float16',\n",
              " 'S_17': 'float16',\n",
              " 'S_18': 'float16',\n",
              " 'S_19': 'float16',\n",
              " 'S_2': 'datetime64[ns]',\n",
              " 'S_20': 'float16',\n",
              " 'S_22': 'float16',\n",
              " 'S_23': 'float16',\n",
              " 'S_24': 'float16',\n",
              " 'S_25': 'float16',\n",
              " 'S_26': 'float16',\n",
              " 'S_27': 'float16',\n",
              " 'S_3': 'float16',\n",
              " 'S_5': 'float16',\n",
              " 'S_6': 'float16',\n",
              " 'S_7': 'float16',\n",
              " 'S_8': 'float16',\n",
              " 'S_9': 'float16',\n",
              " 'customer_ID': 'str'}"
            ]
          },
          "metadata": {},
          "execution_count": 32
        }
      ]
    },
    {
      "cell_type": "code",
      "source": [
        "%%time\n",
        "train = pd.read_parquet(os.path.join(INPUT, 'train.parquet') if COLAB else 'train.parquet')"
      ],
      "metadata": {
        "id": "I6ovPQkOhxGQ",
        "colab": {
          "base_uri": "https://localhost:8080/"
        },
        "outputId": "a505e940-1ff8-440b-feb5-d4e15ca05ae0"
      },
      "execution_count": 38,
      "outputs": [
        {
          "output_type": "stream",
          "name": "stdout",
          "text": [
            "CPU times: user 12 s, sys: 7.78 s, total: 19.8 s\n",
            "Wall time: 4.37 s\n"
          ]
        }
      ]
    },
    {
      "cell_type": "code",
      "source": [
        "train.info()"
      ],
      "metadata": {
        "colab": {
          "base_uri": "https://localhost:8080/"
        },
        "id": "L_56-RCzh4m2",
        "outputId": "94c4df8f-23de-4834-d464-b8ac8ff360fa"
      },
      "execution_count": 39,
      "outputs": [
        {
          "output_type": "stream",
          "name": "stdout",
          "text": [
            "<class 'pandas.core.frame.DataFrame'>\n",
            "RangeIndex: 5531451 entries, 0 to 5531450\n",
            "Columns: 190 entries, customer_ID to D_145\n",
            "dtypes: category(2), datetime64[ns](1), float32(176), float64(9), int8(1), object(1)\n",
            "memory usage: 4.1+ GB\n"
          ]
        }
      ]
    },
    {
      "cell_type": "code",
      "source": [
        "train = train.astype(dtypes)"
      ],
      "metadata": {
        "id": "o_ZbRJauhTtY"
      },
      "execution_count": 40,
      "outputs": []
    },
    {
      "cell_type": "code",
      "source": [
        "train.info()"
      ],
      "metadata": {
        "colab": {
          "base_uri": "https://localhost:8080/"
        },
        "id": "tACCUPIahwy0",
        "outputId": "602cf5a4-a2cc-4ff7-9125-691f80c02b46"
      },
      "execution_count": 41,
      "outputs": [
        {
          "output_type": "stream",
          "name": "stdout",
          "text": [
            "<class 'pandas.core.frame.DataFrame'>\n",
            "RangeIndex: 5531451 entries, 0 to 5531450\n",
            "Columns: 190 entries, customer_ID to D_145\n",
            "dtypes: category(2), datetime64[ns](1), float16(185), int8(1), object(1)\n",
            "memory usage: 2.0+ GB\n"
          ]
        }
      ]
    }
  ]
}