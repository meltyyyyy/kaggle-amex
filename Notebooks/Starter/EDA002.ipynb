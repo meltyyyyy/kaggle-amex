{
  "nbformat": 4,
  "nbformat_minor": 0,
  "metadata": {
    "colab": {
      "name": "EDA002.ipynb",
      "provenance": [],
      "collapsed_sections": [],
      "machine_shape": "hm",
      "authorship_tag": "ABX9TyNdTz6bohbIYjuqgO6q5xqN",
      "include_colab_link": true
    },
    "kernelspec": {
      "name": "python3",
      "display_name": "Python 3"
    },
    "language_info": {
      "name": "python"
    }
  },
  "cells": [
    {
      "cell_type": "markdown",
      "metadata": {
        "id": "view-in-github",
        "colab_type": "text"
      },
      "source": [
        "<a href=\"https://colab.research.google.com/github/meltyyyyy/kaggle-amex/blob/main/Notebooks/Starter/EDA002.ipynb\" target=\"_parent\"><img src=\"https://colab.research.google.com/assets/colab-badge.svg\" alt=\"Open In Colab\"/></a>"
      ]
    },
    {
      "cell_type": "code",
      "execution_count": 1,
      "metadata": {
        "id": "GLvxaVx8gmo2"
      },
      "outputs": [],
      "source": [
        "class Config:\n",
        "    name = \"Starter/EDA002\"\n",
        "\n",
        "    n_splits = 5\n",
        "    n_neighbors = 10\n",
        "    seed = 2022\n",
        "    target = \"target\"\n",
        "\n",
        "    # Colab Env\n",
        "    upload_from_colab = True\n",
        "    api_path = \"/content/drive/MyDrive/workspace/kaggle.json\"\n",
        "    drive_path = \"/content/drive/MyDrive/workspace/kaggle-amex\"\n",
        "    \n",
        "    # Kaggle Env\n",
        "    kaggle_dataset_path = None"
      ]
    },
    {
      "cell_type": "code",
      "source": [
        "import os\n",
        "import json\n",
        "import warnings\n",
        "import shutil\n",
        "import logging\n",
        "import joblib\n",
        "import random\n",
        "import datetime\n",
        "import sys\n",
        "import gc\n",
        "import multiprocessing\n",
        "import joblib\n",
        "import pickle\n",
        "\n",
        "import pandas as pd\n",
        "import numpy as np\n",
        "import matplotlib.pyplot as plt\n",
        "import seaborn as sns\n",
        "\n",
        "from tqdm.auto import tqdm\n",
        "warnings.filterwarnings('ignore')"
      ],
      "metadata": {
        "id": "HR2N1kJrgsnm"
      },
      "execution_count": 2,
      "outputs": []
    },
    {
      "cell_type": "code",
      "execution_count": 3,
      "metadata": {
        "colab": {
          "base_uri": "https://localhost:8080/"
        },
        "id": "SAwmuAVHgmNG",
        "outputId": "ba21bb8e-5a01-413e-ee90-273923d0c94a"
      },
      "outputs": [
        {
          "output_type": "stream",
          "name": "stdout",
          "text": [
            "This environment is Google Colab\n"
          ]
        }
      ],
      "source": [
        "COLAB = \"google.colab\" in sys.modules\n",
        "if COLAB:\n",
        "    print(\"This environment is Google Colab\")\n",
        "    \n",
        "    # mount\n",
        "    from google.colab import drive\n",
        "    if not os.path.isdir(\"/content/drive\"):\n",
        "        drive.mount('/content/drive') \n",
        "\t\n",
        "    # import library\n",
        "    # ! pip install lightgbm==3.3.1\n",
        "    # ! pip install --quiet iterative-stratification\n",
        "    # ! pip install --quiet tensorflow-addons\n",
        "\n",
        "    # use kaggle api (need kaggle token)\n",
        "    f = open(Config.api_path, 'r')\n",
        "    json_data = json.load(f) \n",
        "    os.environ[\"KAGGLE_USERNAME\"] = json_data[\"username\"]\n",
        "    os.environ[\"KAGGLE_KEY\"] = json_data[\"key\"]\n",
        "    \n",
        "    # set dirs\n",
        "    DRIVE = Config.drive_path\n",
        "    EXP = (Config.name if Config.name is not None \n",
        "           else get(\"http://172.28.0.2:9000/api/sessions\").json()[0][\"name\"][:-6])\n",
        "    INPUT = os.path.join(DRIVE, \"Input\")\n",
        "    OUTPUT = os.path.join(DRIVE, \"Output\")\n",
        "    SUBMISSION = os.path.join(DRIVE, \"Submission\")\n",
        "    OUTPUT_EXP = os.path.join(OUTPUT, EXP) \n",
        "    EXP_MODEL = os.path.join(OUTPUT_EXP, \"model\")\n",
        "    EXP_FIG = os.path.join(OUTPUT_EXP, \"fig\")\n",
        "    EXP_PREDS = os.path.join(OUTPUT_EXP, \"preds\")\n",
        "\n",
        "    # make dirs\n",
        "    for d in [INPUT, SUBMISSION, EXP_MODEL, EXP_FIG, EXP_PREDS]:\n",
        "        os.makedirs(d, exist_ok=True)\n",
        "\n",
        "    if not os.path.isfile(os.path.join(INPUT, \"amex-default-prediction.zip\")):\n",
        "        # load dataset\n",
        "        ! kaggle competitions download -c amex-default-prediction -p $INPUT \n",
        "else:\n",
        "    print(\"This environment is Kaggle Kernel\")\n",
        "    \n",
        "    # set dirs\n",
        "    INPUT = \"../input/amex-default-prediction\"\n",
        "    EXP, OUTPUT, SUBMISSION = \"./\", \"./\", \"./\"\n",
        "    EXP_MODEL = os.path.join(EXP, \"model\")\n",
        "    EXP_FIG = os.path.join(EXP, \"fig\")\n",
        "    EXP_PREDS = os.path.join(EXP, \"preds\")\n",
        "    \n",
        "    # copy dirs\n",
        "    if Config.kaggle_dataset_path is not None:\n",
        "        KD_MODEL = os.path.join(Config.kaggle_dataset_path, \"model\")\n",
        "        KD_EXP_PREDS = os.path.join(Config.kaggle_dataset_path, \"preds\")\n",
        "        shutil.copytree(KD_MODEL, EXP_MODEL)\n",
        "        shutil.copytree(KD_EXP_PREDS, EXP_PREDS)\n",
        "\n",
        "    # make dirs\n",
        "    for d in [EXP_MODEL, EXP_FIG, EXP_PREDS]:\n",
        "        os.makedirs(d, exist_ok=True)\n"
      ]
    },
    {
      "cell_type": "code",
      "source": [
        "%%time\n",
        "test = pd.read_parquet(os.path.join(INPUT, 'test_data.parquet') if COLAB else 'test_data.parquet')"
      ],
      "metadata": {
        "id": "I6ovPQkOhxGQ",
        "colab": {
          "base_uri": "https://localhost:8080/"
        },
        "outputId": "96ca9795-db66-42e8-e4cc-9a85ac0e713e"
      },
      "execution_count": 4,
      "outputs": [
        {
          "output_type": "stream",
          "name": "stdout",
          "text": [
            "CPU times: user 25.4 s, sys: 38.1 s, total: 1min 3s\n",
            "Wall time: 1min 21s\n"
          ]
        }
      ]
    },
    {
      "cell_type": "code",
      "source": [
        "test.head()"
      ],
      "metadata": {
        "colab": {
          "base_uri": "https://localhost:8080/",
          "height": 404
        },
        "id": "RyoRRQlLrm0Z",
        "outputId": "17afed49-53dd-4b73-9fe2-686f36424b0d"
      },
      "execution_count": 5,
      "outputs": [
        {
          "output_type": "execute_result",
          "data": {
            "text/plain": [
              "                                         customer_ID         S_2       P_2  \\\n",
              "0  00000469ba478561f23a92a868bd366de6f6527a684c9a...  2019-02-19  0.631315   \n",
              "1  00000469ba478561f23a92a868bd366de6f6527a684c9a...  2019-03-25  0.587042   \n",
              "2  00000469ba478561f23a92a868bd366de6f6527a684c9a...  2019-04-25  0.609056   \n",
              "3  00000469ba478561f23a92a868bd366de6f6527a684c9a...  2019-05-20  0.614911   \n",
              "4  00000469ba478561f23a92a868bd366de6f6527a684c9a...  2019-06-15  0.591673   \n",
              "\n",
              "       D_39       B_1       B_2       R_1       S_3      D_41       B_3  ...  \\\n",
              "0  0.001912  0.010728  0.814497  0.007547  0.168651  0.009971  0.002347  ...   \n",
              "1  0.005275  0.011026  0.810848  0.001817  0.241389  0.000166  0.009132  ...   \n",
              "2  0.003326  0.016390  1.004620  0.000114  0.266976  0.004196  0.004192  ...   \n",
              "3  0.009065  0.021672  0.816549  0.009722  0.188947  0.004123  0.015325  ...   \n",
              "4  0.238794  0.015923  0.810456  0.002026  0.180035  0.000731  0.011281  ...   \n",
              "\n",
              "   D_136  D_137  D_138     D_139     D_140     D_141  D_142     D_143  \\\n",
              "0    NaN    NaN    NaN       NaN  0.004669       NaN    NaN       NaN   \n",
              "1    NaN    NaN    NaN  0.000142  0.004940  0.009021    NaN  0.003695   \n",
              "2    NaN    NaN    NaN  0.000074  0.002114  0.004656    NaN  0.003155   \n",
              "3    NaN    NaN    NaN  0.004743  0.006392  0.002890    NaN  0.006044   \n",
              "4    NaN    NaN    NaN  0.008133  0.004329  0.008384    NaN  0.001008   \n",
              "\n",
              "      D_144     D_145  \n",
              "0  0.008281       NaN  \n",
              "1  0.003753  0.001460  \n",
              "2  0.002156  0.006482  \n",
              "3  0.005206  0.007855  \n",
              "4  0.007421  0.009471  \n",
              "\n",
              "[5 rows x 190 columns]"
            ],
            "text/html": [
              "\n",
              "  <div id=\"df-149963b4-0fc8-4524-b861-418793f73f84\">\n",
              "    <div class=\"colab-df-container\">\n",
              "      <div>\n",
              "<style scoped>\n",
              "    .dataframe tbody tr th:only-of-type {\n",
              "        vertical-align: middle;\n",
              "    }\n",
              "\n",
              "    .dataframe tbody tr th {\n",
              "        vertical-align: top;\n",
              "    }\n",
              "\n",
              "    .dataframe thead th {\n",
              "        text-align: right;\n",
              "    }\n",
              "</style>\n",
              "<table border=\"1\" class=\"dataframe\">\n",
              "  <thead>\n",
              "    <tr style=\"text-align: right;\">\n",
              "      <th></th>\n",
              "      <th>customer_ID</th>\n",
              "      <th>S_2</th>\n",
              "      <th>P_2</th>\n",
              "      <th>D_39</th>\n",
              "      <th>B_1</th>\n",
              "      <th>B_2</th>\n",
              "      <th>R_1</th>\n",
              "      <th>S_3</th>\n",
              "      <th>D_41</th>\n",
              "      <th>B_3</th>\n",
              "      <th>...</th>\n",
              "      <th>D_136</th>\n",
              "      <th>D_137</th>\n",
              "      <th>D_138</th>\n",
              "      <th>D_139</th>\n",
              "      <th>D_140</th>\n",
              "      <th>D_141</th>\n",
              "      <th>D_142</th>\n",
              "      <th>D_143</th>\n",
              "      <th>D_144</th>\n",
              "      <th>D_145</th>\n",
              "    </tr>\n",
              "  </thead>\n",
              "  <tbody>\n",
              "    <tr>\n",
              "      <th>0</th>\n",
              "      <td>00000469ba478561f23a92a868bd366de6f6527a684c9a...</td>\n",
              "      <td>2019-02-19</td>\n",
              "      <td>0.631315</td>\n",
              "      <td>0.001912</td>\n",
              "      <td>0.010728</td>\n",
              "      <td>0.814497</td>\n",
              "      <td>0.007547</td>\n",
              "      <td>0.168651</td>\n",
              "      <td>0.009971</td>\n",
              "      <td>0.002347</td>\n",
              "      <td>...</td>\n",
              "      <td>NaN</td>\n",
              "      <td>NaN</td>\n",
              "      <td>NaN</td>\n",
              "      <td>NaN</td>\n",
              "      <td>0.004669</td>\n",
              "      <td>NaN</td>\n",
              "      <td>NaN</td>\n",
              "      <td>NaN</td>\n",
              "      <td>0.008281</td>\n",
              "      <td>NaN</td>\n",
              "    </tr>\n",
              "    <tr>\n",
              "      <th>1</th>\n",
              "      <td>00000469ba478561f23a92a868bd366de6f6527a684c9a...</td>\n",
              "      <td>2019-03-25</td>\n",
              "      <td>0.587042</td>\n",
              "      <td>0.005275</td>\n",
              "      <td>0.011026</td>\n",
              "      <td>0.810848</td>\n",
              "      <td>0.001817</td>\n",
              "      <td>0.241389</td>\n",
              "      <td>0.000166</td>\n",
              "      <td>0.009132</td>\n",
              "      <td>...</td>\n",
              "      <td>NaN</td>\n",
              "      <td>NaN</td>\n",
              "      <td>NaN</td>\n",
              "      <td>0.000142</td>\n",
              "      <td>0.004940</td>\n",
              "      <td>0.009021</td>\n",
              "      <td>NaN</td>\n",
              "      <td>0.003695</td>\n",
              "      <td>0.003753</td>\n",
              "      <td>0.001460</td>\n",
              "    </tr>\n",
              "    <tr>\n",
              "      <th>2</th>\n",
              "      <td>00000469ba478561f23a92a868bd366de6f6527a684c9a...</td>\n",
              "      <td>2019-04-25</td>\n",
              "      <td>0.609056</td>\n",
              "      <td>0.003326</td>\n",
              "      <td>0.016390</td>\n",
              "      <td>1.004620</td>\n",
              "      <td>0.000114</td>\n",
              "      <td>0.266976</td>\n",
              "      <td>0.004196</td>\n",
              "      <td>0.004192</td>\n",
              "      <td>...</td>\n",
              "      <td>NaN</td>\n",
              "      <td>NaN</td>\n",
              "      <td>NaN</td>\n",
              "      <td>0.000074</td>\n",
              "      <td>0.002114</td>\n",
              "      <td>0.004656</td>\n",
              "      <td>NaN</td>\n",
              "      <td>0.003155</td>\n",
              "      <td>0.002156</td>\n",
              "      <td>0.006482</td>\n",
              "    </tr>\n",
              "    <tr>\n",
              "      <th>3</th>\n",
              "      <td>00000469ba478561f23a92a868bd366de6f6527a684c9a...</td>\n",
              "      <td>2019-05-20</td>\n",
              "      <td>0.614911</td>\n",
              "      <td>0.009065</td>\n",
              "      <td>0.021672</td>\n",
              "      <td>0.816549</td>\n",
              "      <td>0.009722</td>\n",
              "      <td>0.188947</td>\n",
              "      <td>0.004123</td>\n",
              "      <td>0.015325</td>\n",
              "      <td>...</td>\n",
              "      <td>NaN</td>\n",
              "      <td>NaN</td>\n",
              "      <td>NaN</td>\n",
              "      <td>0.004743</td>\n",
              "      <td>0.006392</td>\n",
              "      <td>0.002890</td>\n",
              "      <td>NaN</td>\n",
              "      <td>0.006044</td>\n",
              "      <td>0.005206</td>\n",
              "      <td>0.007855</td>\n",
              "    </tr>\n",
              "    <tr>\n",
              "      <th>4</th>\n",
              "      <td>00000469ba478561f23a92a868bd366de6f6527a684c9a...</td>\n",
              "      <td>2019-06-15</td>\n",
              "      <td>0.591673</td>\n",
              "      <td>0.238794</td>\n",
              "      <td>0.015923</td>\n",
              "      <td>0.810456</td>\n",
              "      <td>0.002026</td>\n",
              "      <td>0.180035</td>\n",
              "      <td>0.000731</td>\n",
              "      <td>0.011281</td>\n",
              "      <td>...</td>\n",
              "      <td>NaN</td>\n",
              "      <td>NaN</td>\n",
              "      <td>NaN</td>\n",
              "      <td>0.008133</td>\n",
              "      <td>0.004329</td>\n",
              "      <td>0.008384</td>\n",
              "      <td>NaN</td>\n",
              "      <td>0.001008</td>\n",
              "      <td>0.007421</td>\n",
              "      <td>0.009471</td>\n",
              "    </tr>\n",
              "  </tbody>\n",
              "</table>\n",
              "<p>5 rows × 190 columns</p>\n",
              "</div>\n",
              "      <button class=\"colab-df-convert\" onclick=\"convertToInteractive('df-149963b4-0fc8-4524-b861-418793f73f84')\"\n",
              "              title=\"Convert this dataframe to an interactive table.\"\n",
              "              style=\"display:none;\">\n",
              "        \n",
              "  <svg xmlns=\"http://www.w3.org/2000/svg\" height=\"24px\"viewBox=\"0 0 24 24\"\n",
              "       width=\"24px\">\n",
              "    <path d=\"M0 0h24v24H0V0z\" fill=\"none\"/>\n",
              "    <path d=\"M18.56 5.44l.94 2.06.94-2.06 2.06-.94-2.06-.94-.94-2.06-.94 2.06-2.06.94zm-11 1L8.5 8.5l.94-2.06 2.06-.94-2.06-.94L8.5 2.5l-.94 2.06-2.06.94zm10 10l.94 2.06.94-2.06 2.06-.94-2.06-.94-.94-2.06-.94 2.06-2.06.94z\"/><path d=\"M17.41 7.96l-1.37-1.37c-.4-.4-.92-.59-1.43-.59-.52 0-1.04.2-1.43.59L10.3 9.45l-7.72 7.72c-.78.78-.78 2.05 0 2.83L4 21.41c.39.39.9.59 1.41.59.51 0 1.02-.2 1.41-.59l7.78-7.78 2.81-2.81c.8-.78.8-2.07 0-2.86zM5.41 20L4 18.59l7.72-7.72 1.47 1.35L5.41 20z\"/>\n",
              "  </svg>\n",
              "      </button>\n",
              "      \n",
              "  <style>\n",
              "    .colab-df-container {\n",
              "      display:flex;\n",
              "      flex-wrap:wrap;\n",
              "      gap: 12px;\n",
              "    }\n",
              "\n",
              "    .colab-df-convert {\n",
              "      background-color: #E8F0FE;\n",
              "      border: none;\n",
              "      border-radius: 50%;\n",
              "      cursor: pointer;\n",
              "      display: none;\n",
              "      fill: #1967D2;\n",
              "      height: 32px;\n",
              "      padding: 0 0 0 0;\n",
              "      width: 32px;\n",
              "    }\n",
              "\n",
              "    .colab-df-convert:hover {\n",
              "      background-color: #E2EBFA;\n",
              "      box-shadow: 0px 1px 2px rgba(60, 64, 67, 0.3), 0px 1px 3px 1px rgba(60, 64, 67, 0.15);\n",
              "      fill: #174EA6;\n",
              "    }\n",
              "\n",
              "    [theme=dark] .colab-df-convert {\n",
              "      background-color: #3B4455;\n",
              "      fill: #D2E3FC;\n",
              "    }\n",
              "\n",
              "    [theme=dark] .colab-df-convert:hover {\n",
              "      background-color: #434B5C;\n",
              "      box-shadow: 0px 1px 3px 1px rgba(0, 0, 0, 0.15);\n",
              "      filter: drop-shadow(0px 1px 2px rgba(0, 0, 0, 0.3));\n",
              "      fill: #FFFFFF;\n",
              "    }\n",
              "  </style>\n",
              "\n",
              "      <script>\n",
              "        const buttonEl =\n",
              "          document.querySelector('#df-149963b4-0fc8-4524-b861-418793f73f84 button.colab-df-convert');\n",
              "        buttonEl.style.display =\n",
              "          google.colab.kernel.accessAllowed ? 'block' : 'none';\n",
              "\n",
              "        async function convertToInteractive(key) {\n",
              "          const element = document.querySelector('#df-149963b4-0fc8-4524-b861-418793f73f84');\n",
              "          const dataTable =\n",
              "            await google.colab.kernel.invokeFunction('convertToInteractive',\n",
              "                                                     [key], {});\n",
              "          if (!dataTable) return;\n",
              "\n",
              "          const docLinkHtml = 'Like what you see? Visit the ' +\n",
              "            '<a target=\"_blank\" href=https://colab.research.google.com/notebooks/data_table.ipynb>data table notebook</a>'\n",
              "            + ' to learn more about interactive tables.';\n",
              "          element.innerHTML = '';\n",
              "          dataTable['output_type'] = 'display_data';\n",
              "          await google.colab.output.renderOutput(dataTable, element);\n",
              "          const docLink = document.createElement('div');\n",
              "          docLink.innerHTML = docLinkHtml;\n",
              "          element.appendChild(docLink);\n",
              "        }\n",
              "      </script>\n",
              "    </div>\n",
              "  </div>\n",
              "  "
            ]
          },
          "metadata": {},
          "execution_count": 5
        }
      ]
    },
    {
      "cell_type": "code",
      "source": [
        "test.info()"
      ],
      "metadata": {
        "colab": {
          "base_uri": "https://localhost:8080/"
        },
        "id": "9sr0SETmtuxe",
        "outputId": "9443ba95-6a6e-4b0b-ba37-200a0ba94aa4"
      },
      "execution_count": 6,
      "outputs": [
        {
          "output_type": "stream",
          "name": "stdout",
          "text": [
            "<class 'pandas.core.frame.DataFrame'>\n",
            "RangeIndex: 11363762 entries, 0 to 11363761\n",
            "Columns: 190 entries, customer_ID to D_145\n",
            "dtypes: float64(185), int64(1), object(4)\n",
            "memory usage: 16.1+ GB\n"
          ]
        }
      ]
    },
    {
      "cell_type": "markdown",
      "source": [
        "### Reduce memory usage by converting float64 to float32."
      ],
      "metadata": {
        "id": "Ok--62pCuG19"
      }
    },
    {
      "cell_type": "code",
      "source": [
        "# https://www.kaggle.com/code/balabaskar/memory-reduction-using-pandas\n",
        "float_cols = [col for col in test.columns if test[col].dtype == 'float64']\n",
        "int_cols = [col for col in test.columns if test[col].dtype == 'int64']\n",
        "len(float_cols), print(int_cols)"
      ],
      "metadata": {
        "colab": {
          "base_uri": "https://localhost:8080/"
        },
        "id": "PoW6Hc5DtzjI",
        "outputId": "0f90d6a0-23b6-44ae-d8a7-a21a655616dc"
      },
      "execution_count": 7,
      "outputs": [
        {
          "output_type": "stream",
          "name": "stdout",
          "text": [
            "['B_31']\n"
          ]
        },
        {
          "output_type": "execute_result",
          "data": {
            "text/plain": [
              "(185, None)"
            ]
          },
          "metadata": {},
          "execution_count": 7
        }
      ]
    },
    {
      "cell_type": "code",
      "source": [
        "for col in float_cols:\n",
        "    test[col] = test[col].astype('float16')"
      ],
      "metadata": {
        "id": "5MYls7IbulaM"
      },
      "execution_count": 8,
      "outputs": []
    },
    {
      "cell_type": "markdown",
      "source": [
        "Sucessfully reduced memory from 16.1GB to 4.3GB"
      ],
      "metadata": {
        "id": "56UvrFUAxPxc"
      }
    },
    {
      "cell_type": "code",
      "source": [
        "test.info()"
      ],
      "metadata": {
        "colab": {
          "base_uri": "https://localhost:8080/"
        },
        "id": "813otagmvGki",
        "outputId": "af7cb7ea-d6e2-4307-97fa-ce957790f88d"
      },
      "execution_count": 9,
      "outputs": [
        {
          "output_type": "stream",
          "name": "stdout",
          "text": [
            "<class 'pandas.core.frame.DataFrame'>\n",
            "RangeIndex: 11363762 entries, 0 to 11363761\n",
            "Columns: 190 entries, customer_ID to D_145\n",
            "dtypes: float16(185), int64(1), object(4)\n",
            "memory usage: 4.3+ GB\n"
          ]
        }
      ]
    },
    {
      "cell_type": "markdown",
      "source": [
        "### Reduce memory usage by converting int64 to int8."
      ],
      "metadata": {
        "id": "cmKW-DDWxsKM"
      }
    },
    {
      "cell_type": "code",
      "source": [
        "test['B_31'].unique()"
      ],
      "metadata": {
        "colab": {
          "base_uri": "https://localhost:8080/"
        },
        "id": "jruyU-MQvJkm",
        "outputId": "526c6d5f-1661-49ec-cb61-de121b24cc95"
      },
      "execution_count": 10,
      "outputs": [
        {
          "output_type": "execute_result",
          "data": {
            "text/plain": [
              "array([1, 0])"
            ]
          },
          "metadata": {},
          "execution_count": 10
        }
      ]
    },
    {
      "cell_type": "markdown",
      "source": [
        "It seems there's no problem for converting it to int8."
      ],
      "metadata": {
        "id": "ejuft2VXyI-p"
      }
    },
    {
      "cell_type": "code",
      "source": [
        "test['B_31'] = test['B_31'].astype('int8')"
      ],
      "metadata": {
        "id": "tFNHQgy9xzdv"
      },
      "execution_count": 11,
      "outputs": []
    },
    {
      "cell_type": "markdown",
      "source": [
        "It does not change memory usege. But, it's better thant to do nothing."
      ],
      "metadata": {
        "id": "y4HaOTHmyqPh"
      }
    },
    {
      "cell_type": "code",
      "source": [
        "test.info()"
      ],
      "metadata": {
        "colab": {
          "base_uri": "https://localhost:8080/"
        },
        "id": "WmW045v_yQo0",
        "outputId": "c598fbe1-ee37-4b92-ebd2-1c1ecd439df6"
      },
      "execution_count": 12,
      "outputs": [
        {
          "output_type": "stream",
          "name": "stdout",
          "text": [
            "<class 'pandas.core.frame.DataFrame'>\n",
            "RangeIndex: 11363762 entries, 0 to 11363761\n",
            "Columns: 190 entries, customer_ID to D_145\n",
            "dtypes: float16(185), int8(1), object(4)\n",
            "memory usage: 4.3+ GB\n"
          ]
        }
      ]
    },
    {
      "cell_type": "markdown",
      "source": [
        "### Look at categorycal features"
      ],
      "metadata": {
        "id": "7dBIV4l2ymsa"
      }
    },
    {
      "cell_type": "code",
      "source": [
        "cat_cols = ['B_30', 'B_38', 'D_114', 'D_116', 'D_117', 'D_120', 'D_126', 'D_63', 'D_64', 'D_66', 'D_68']\n",
        "test[cat_cols].head()"
      ],
      "metadata": {
        "colab": {
          "base_uri": "https://localhost:8080/",
          "height": 206
        },
        "id": "PKE9CK8lyTWu",
        "outputId": "68d06ffb-bf12-49ac-e993-f29295ff2ee6"
      },
      "execution_count": 13,
      "outputs": [
        {
          "output_type": "execute_result",
          "data": {
            "text/plain": [
              "   B_30  B_38  D_114  D_116  D_117  D_120  D_126 D_63  D_64  D_66  D_68\n",
              "0   0.0   1.0    NaN    NaN    NaN    NaN    0.0   CR  None   NaN   NaN\n",
              "1   0.0   1.0    NaN    NaN    NaN    NaN    0.0   CR  None   NaN   NaN\n",
              "2   0.0   2.0    NaN    NaN    NaN    NaN    0.0   CR  None   NaN   NaN\n",
              "3   0.0   2.0    NaN    NaN    NaN    NaN    0.0   CR  None   NaN   NaN\n",
              "4   0.0   2.0    0.0    0.0   -1.0    1.0    0.0   CR     U   NaN   6.0"
            ],
            "text/html": [
              "\n",
              "  <div id=\"df-31d8ba04-2628-4391-83f1-0987853663a0\">\n",
              "    <div class=\"colab-df-container\">\n",
              "      <div>\n",
              "<style scoped>\n",
              "    .dataframe tbody tr th:only-of-type {\n",
              "        vertical-align: middle;\n",
              "    }\n",
              "\n",
              "    .dataframe tbody tr th {\n",
              "        vertical-align: top;\n",
              "    }\n",
              "\n",
              "    .dataframe thead th {\n",
              "        text-align: right;\n",
              "    }\n",
              "</style>\n",
              "<table border=\"1\" class=\"dataframe\">\n",
              "  <thead>\n",
              "    <tr style=\"text-align: right;\">\n",
              "      <th></th>\n",
              "      <th>B_30</th>\n",
              "      <th>B_38</th>\n",
              "      <th>D_114</th>\n",
              "      <th>D_116</th>\n",
              "      <th>D_117</th>\n",
              "      <th>D_120</th>\n",
              "      <th>D_126</th>\n",
              "      <th>D_63</th>\n",
              "      <th>D_64</th>\n",
              "      <th>D_66</th>\n",
              "      <th>D_68</th>\n",
              "    </tr>\n",
              "  </thead>\n",
              "  <tbody>\n",
              "    <tr>\n",
              "      <th>0</th>\n",
              "      <td>0.0</td>\n",
              "      <td>1.0</td>\n",
              "      <td>NaN</td>\n",
              "      <td>NaN</td>\n",
              "      <td>NaN</td>\n",
              "      <td>NaN</td>\n",
              "      <td>0.0</td>\n",
              "      <td>CR</td>\n",
              "      <td>None</td>\n",
              "      <td>NaN</td>\n",
              "      <td>NaN</td>\n",
              "    </tr>\n",
              "    <tr>\n",
              "      <th>1</th>\n",
              "      <td>0.0</td>\n",
              "      <td>1.0</td>\n",
              "      <td>NaN</td>\n",
              "      <td>NaN</td>\n",
              "      <td>NaN</td>\n",
              "      <td>NaN</td>\n",
              "      <td>0.0</td>\n",
              "      <td>CR</td>\n",
              "      <td>None</td>\n",
              "      <td>NaN</td>\n",
              "      <td>NaN</td>\n",
              "    </tr>\n",
              "    <tr>\n",
              "      <th>2</th>\n",
              "      <td>0.0</td>\n",
              "      <td>2.0</td>\n",
              "      <td>NaN</td>\n",
              "      <td>NaN</td>\n",
              "      <td>NaN</td>\n",
              "      <td>NaN</td>\n",
              "      <td>0.0</td>\n",
              "      <td>CR</td>\n",
              "      <td>None</td>\n",
              "      <td>NaN</td>\n",
              "      <td>NaN</td>\n",
              "    </tr>\n",
              "    <tr>\n",
              "      <th>3</th>\n",
              "      <td>0.0</td>\n",
              "      <td>2.0</td>\n",
              "      <td>NaN</td>\n",
              "      <td>NaN</td>\n",
              "      <td>NaN</td>\n",
              "      <td>NaN</td>\n",
              "      <td>0.0</td>\n",
              "      <td>CR</td>\n",
              "      <td>None</td>\n",
              "      <td>NaN</td>\n",
              "      <td>NaN</td>\n",
              "    </tr>\n",
              "    <tr>\n",
              "      <th>4</th>\n",
              "      <td>0.0</td>\n",
              "      <td>2.0</td>\n",
              "      <td>0.0</td>\n",
              "      <td>0.0</td>\n",
              "      <td>-1.0</td>\n",
              "      <td>1.0</td>\n",
              "      <td>0.0</td>\n",
              "      <td>CR</td>\n",
              "      <td>U</td>\n",
              "      <td>NaN</td>\n",
              "      <td>6.0</td>\n",
              "    </tr>\n",
              "  </tbody>\n",
              "</table>\n",
              "</div>\n",
              "      <button class=\"colab-df-convert\" onclick=\"convertToInteractive('df-31d8ba04-2628-4391-83f1-0987853663a0')\"\n",
              "              title=\"Convert this dataframe to an interactive table.\"\n",
              "              style=\"display:none;\">\n",
              "        \n",
              "  <svg xmlns=\"http://www.w3.org/2000/svg\" height=\"24px\"viewBox=\"0 0 24 24\"\n",
              "       width=\"24px\">\n",
              "    <path d=\"M0 0h24v24H0V0z\" fill=\"none\"/>\n",
              "    <path d=\"M18.56 5.44l.94 2.06.94-2.06 2.06-.94-2.06-.94-.94-2.06-.94 2.06-2.06.94zm-11 1L8.5 8.5l.94-2.06 2.06-.94-2.06-.94L8.5 2.5l-.94 2.06-2.06.94zm10 10l.94 2.06.94-2.06 2.06-.94-2.06-.94-.94-2.06-.94 2.06-2.06.94z\"/><path d=\"M17.41 7.96l-1.37-1.37c-.4-.4-.92-.59-1.43-.59-.52 0-1.04.2-1.43.59L10.3 9.45l-7.72 7.72c-.78.78-.78 2.05 0 2.83L4 21.41c.39.39.9.59 1.41.59.51 0 1.02-.2 1.41-.59l7.78-7.78 2.81-2.81c.8-.78.8-2.07 0-2.86zM5.41 20L4 18.59l7.72-7.72 1.47 1.35L5.41 20z\"/>\n",
              "  </svg>\n",
              "      </button>\n",
              "      \n",
              "  <style>\n",
              "    .colab-df-container {\n",
              "      display:flex;\n",
              "      flex-wrap:wrap;\n",
              "      gap: 12px;\n",
              "    }\n",
              "\n",
              "    .colab-df-convert {\n",
              "      background-color: #E8F0FE;\n",
              "      border: none;\n",
              "      border-radius: 50%;\n",
              "      cursor: pointer;\n",
              "      display: none;\n",
              "      fill: #1967D2;\n",
              "      height: 32px;\n",
              "      padding: 0 0 0 0;\n",
              "      width: 32px;\n",
              "    }\n",
              "\n",
              "    .colab-df-convert:hover {\n",
              "      background-color: #E2EBFA;\n",
              "      box-shadow: 0px 1px 2px rgba(60, 64, 67, 0.3), 0px 1px 3px 1px rgba(60, 64, 67, 0.15);\n",
              "      fill: #174EA6;\n",
              "    }\n",
              "\n",
              "    [theme=dark] .colab-df-convert {\n",
              "      background-color: #3B4455;\n",
              "      fill: #D2E3FC;\n",
              "    }\n",
              "\n",
              "    [theme=dark] .colab-df-convert:hover {\n",
              "      background-color: #434B5C;\n",
              "      box-shadow: 0px 1px 3px 1px rgba(0, 0, 0, 0.15);\n",
              "      filter: drop-shadow(0px 1px 2px rgba(0, 0, 0, 0.3));\n",
              "      fill: #FFFFFF;\n",
              "    }\n",
              "  </style>\n",
              "\n",
              "      <script>\n",
              "        const buttonEl =\n",
              "          document.querySelector('#df-31d8ba04-2628-4391-83f1-0987853663a0 button.colab-df-convert');\n",
              "        buttonEl.style.display =\n",
              "          google.colab.kernel.accessAllowed ? 'block' : 'none';\n",
              "\n",
              "        async function convertToInteractive(key) {\n",
              "          const element = document.querySelector('#df-31d8ba04-2628-4391-83f1-0987853663a0');\n",
              "          const dataTable =\n",
              "            await google.colab.kernel.invokeFunction('convertToInteractive',\n",
              "                                                     [key], {});\n",
              "          if (!dataTable) return;\n",
              "\n",
              "          const docLinkHtml = 'Like what you see? Visit the ' +\n",
              "            '<a target=\"_blank\" href=https://colab.research.google.com/notebooks/data_table.ipynb>data table notebook</a>'\n",
              "            + ' to learn more about interactive tables.';\n",
              "          element.innerHTML = '';\n",
              "          dataTable['output_type'] = 'display_data';\n",
              "          await google.colab.output.renderOutput(dataTable, element);\n",
              "          const docLink = document.createElement('div');\n",
              "          docLink.innerHTML = docLinkHtml;\n",
              "          element.appendChild(docLink);\n",
              "        }\n",
              "      </script>\n",
              "    </div>\n",
              "  </div>\n",
              "  "
            ]
          },
          "metadata": {},
          "execution_count": 13
        }
      ]
    },
    {
      "cell_type": "code",
      "source": [
        "test['B_30'].unique()"
      ],
      "metadata": {
        "colab": {
          "base_uri": "https://localhost:8080/"
        },
        "id": "xVwuGZnjy0_X",
        "outputId": "026c490f-e469-4795-c3a0-65739c2fae10"
      },
      "execution_count": 14,
      "outputs": [
        {
          "output_type": "execute_result",
          "data": {
            "text/plain": [
              "array([ 0.,  1.,  2., nan], dtype=float16)"
            ]
          },
          "metadata": {},
          "execution_count": 14
        }
      ]
    },
    {
      "cell_type": "code",
      "source": [
        "test['B_38'].unique()"
      ],
      "metadata": {
        "colab": {
          "base_uri": "https://localhost:8080/"
        },
        "id": "B2xFe5SWzNCa",
        "outputId": "66a80d1a-081d-47d1-def0-0e508abe9ce9"
      },
      "execution_count": 15,
      "outputs": [
        {
          "output_type": "execute_result",
          "data": {
            "text/plain": [
              "array([ 1.,  2.,  5.,  3.,  6.,  7.,  4., nan], dtype=float16)"
            ]
          },
          "metadata": {},
          "execution_count": 15
        }
      ]
    },
    {
      "cell_type": "code",
      "source": [
        "test['D_114'].unique()"
      ],
      "metadata": {
        "colab": {
          "base_uri": "https://localhost:8080/"
        },
        "id": "PNzsLfhPzQbc",
        "outputId": "ea99ca31-fb17-4398-c738-1c6211fbc58d"
      },
      "execution_count": 16,
      "outputs": [
        {
          "output_type": "execute_result",
          "data": {
            "text/plain": [
              "array([nan,  0.,  1.], dtype=float16)"
            ]
          },
          "metadata": {},
          "execution_count": 16
        }
      ]
    },
    {
      "cell_type": "code",
      "source": [
        "test['D_116'].unique()"
      ],
      "metadata": {
        "colab": {
          "base_uri": "https://localhost:8080/"
        },
        "id": "BkBJsvA3zSJY",
        "outputId": "3af7bf65-d72c-4a01-8b58-eb022aee8f75"
      },
      "execution_count": 17,
      "outputs": [
        {
          "output_type": "execute_result",
          "data": {
            "text/plain": [
              "array([nan,  0.,  1.], dtype=float16)"
            ]
          },
          "metadata": {},
          "execution_count": 17
        }
      ]
    },
    {
      "cell_type": "code",
      "source": [
        "test['D_117'].unique()"
      ],
      "metadata": {
        "colab": {
          "base_uri": "https://localhost:8080/"
        },
        "id": "f7XsLczyzfSy",
        "outputId": "92fc1552-6c5c-46f9-a706-9dd327ffe77e"
      },
      "execution_count": 18,
      "outputs": [
        {
          "output_type": "execute_result",
          "data": {
            "text/plain": [
              "array([nan, -1.,  3.,  6.,  4.,  2.,  1.,  5.], dtype=float16)"
            ]
          },
          "metadata": {},
          "execution_count": 18
        }
      ]
    },
    {
      "cell_type": "code",
      "source": [
        "test['D_120'].unique()"
      ],
      "metadata": {
        "colab": {
          "base_uri": "https://localhost:8080/"
        },
        "id": "GwH0dn4JzjkO",
        "outputId": "6b9384f9-4cb5-458b-e58b-d5203768e485"
      },
      "execution_count": 19,
      "outputs": [
        {
          "output_type": "execute_result",
          "data": {
            "text/plain": [
              "array([nan,  1.,  0.], dtype=float16)"
            ]
          },
          "metadata": {},
          "execution_count": 19
        }
      ]
    },
    {
      "cell_type": "code",
      "source": [
        "test['D_126'].unique()"
      ],
      "metadata": {
        "colab": {
          "base_uri": "https://localhost:8080/"
        },
        "id": "swolP43Dzp0-",
        "outputId": "7902fa37-ce5e-46df-dfc9-6f50c3f88430"
      },
      "execution_count": 20,
      "outputs": [
        {
          "output_type": "execute_result",
          "data": {
            "text/plain": [
              "array([ 0.,  1., -1., nan], dtype=float16)"
            ]
          },
          "metadata": {},
          "execution_count": 20
        }
      ]
    },
    {
      "cell_type": "code",
      "source": [
        "test['D_63'].unique()"
      ],
      "metadata": {
        "colab": {
          "base_uri": "https://localhost:8080/"
        },
        "id": "nnbzxHjxzsuX",
        "outputId": "5cc724ba-30a1-4d7b-eb8b-7269a8cf1842"
      },
      "execution_count": 21,
      "outputs": [
        {
          "output_type": "execute_result",
          "data": {
            "text/plain": [
              "array(['CR', 'CO', 'CL', 'XM', 'XZ', 'XL'], dtype=object)"
            ]
          },
          "metadata": {},
          "execution_count": 21
        }
      ]
    },
    {
      "cell_type": "code",
      "source": [
        "test['D_64'].unique()"
      ],
      "metadata": {
        "colab": {
          "base_uri": "https://localhost:8080/"
        },
        "id": "yPdgGpWczw_6",
        "outputId": "3d08f3c0-0d50-4eb7-c975-d09edd900464"
      },
      "execution_count": 22,
      "outputs": [
        {
          "output_type": "execute_result",
          "data": {
            "text/plain": [
              "array([None, 'U', 'O', 'R'], dtype=object)"
            ]
          },
          "metadata": {},
          "execution_count": 22
        }
      ]
    },
    {
      "cell_type": "code",
      "source": [
        "test['D_66'].unique()"
      ],
      "metadata": {
        "colab": {
          "base_uri": "https://localhost:8080/"
        },
        "id": "LJyPC5Csz1HF",
        "outputId": "c23bcc7f-a206-49e5-af3b-291c05546ce3"
      },
      "execution_count": 23,
      "outputs": [
        {
          "output_type": "execute_result",
          "data": {
            "text/plain": [
              "array([nan,  1.], dtype=float16)"
            ]
          },
          "metadata": {},
          "execution_count": 23
        }
      ]
    },
    {
      "cell_type": "code",
      "source": [
        "test['D_68'].unique()"
      ],
      "metadata": {
        "colab": {
          "base_uri": "https://localhost:8080/"
        },
        "id": "IeQrcX2Pz35t",
        "outputId": "92f87df9-a97e-442e-e606-336c2cbdc6cf"
      },
      "execution_count": 24,
      "outputs": [
        {
          "output_type": "execute_result",
          "data": {
            "text/plain": [
              "array([nan,  6.,  4.,  5.,  1.,  2.,  3.], dtype=float16)"
            ]
          },
          "metadata": {},
          "execution_count": 24
        }
      ]
    },
    {
      "cell_type": "markdown",
      "source": [
        "Some categorical features does not inclueded in training set. Need to analyze later on."
      ],
      "metadata": {
        "id": "prJTTqGGTTV4"
      }
    },
    {
      "cell_type": "markdown",
      "source": [
        "Now let's convert float16 features to categorical"
      ],
      "metadata": {
        "id": "wiQDUF2Cz-Vu"
      }
    },
    {
      "cell_type": "code",
      "source": [
        "for col in cat_cols:\n",
        "    test[col] = test[col].astype('category')"
      ],
      "metadata": {
        "id": "IH5svtJz0uXP"
      },
      "execution_count": 25,
      "outputs": []
    },
    {
      "cell_type": "code",
      "source": [
        "test.info()"
      ],
      "metadata": {
        "colab": {
          "base_uri": "https://localhost:8080/"
        },
        "id": "Lvkhuw1G1FR0",
        "outputId": "3c8a96c6-1ce1-49a0-c41d-b159ad8b9b5c"
      },
      "execution_count": 26,
      "outputs": [
        {
          "output_type": "stream",
          "name": "stdout",
          "text": [
            "<class 'pandas.core.frame.DataFrame'>\n",
            "RangeIndex: 11363762 entries, 0 to 11363761\n",
            "Columns: 190 entries, customer_ID to D_145\n",
            "dtypes: category(11), float16(176), int8(1), object(2)\n",
            "memory usage: 4.0+ GB\n"
          ]
        }
      ]
    },
    {
      "cell_type": "markdown",
      "source": [
        "Reduced memory from 4.3 to 4.0 by converting to category.\n",
        "\n"
      ],
      "metadata": {
        "id": "WpHFW-8KTn7R"
      }
    },
    {
      "cell_type": "markdown",
      "source": [
        "### Look at object features"
      ],
      "metadata": {
        "id": "9M_1G0ds1Lb3"
      }
    },
    {
      "cell_type": "code",
      "source": [
        "obj_cols = [col for col in test.columns if test[col].dtype == 'object']\n",
        "obj_cols"
      ],
      "metadata": {
        "colab": {
          "base_uri": "https://localhost:8080/"
        },
        "id": "OjyRYsJu1HHT",
        "outputId": "c7c77fa2-dcd2-4c2a-faa9-70bc98864b24"
      },
      "execution_count": 27,
      "outputs": [
        {
          "output_type": "execute_result",
          "data": {
            "text/plain": [
              "['customer_ID', 'S_2']"
            ]
          },
          "metadata": {},
          "execution_count": 27
        }
      ]
    },
    {
      "cell_type": "markdown",
      "source": [
        "https://www.kaggle.com/competitions/amex-default-prediction/data.  \n",
        "It says 'S_' column is spend variables. Guessing this is a transaction date?  \n",
        "D_* = Delinquency variables.  \n",
        "S_* = Spend variables.  \n",
        "P_* = Payment variables.  \n",
        "B_* = Balance variables. \n",
        "R_* = Risk variables.  "
      ],
      "metadata": {
        "id": "radhWJ2b1gNx"
      }
    },
    {
      "cell_type": "code",
      "source": [
        "test['customer_ID'].value_counts()"
      ],
      "metadata": {
        "colab": {
          "base_uri": "https://localhost:8080/"
        },
        "id": "dYZ-1BCm1aHX",
        "outputId": "4f09fb4e-5418-44e2-b79c-219c4c6ccf4c"
      },
      "execution_count": 28,
      "outputs": [
        {
          "output_type": "execute_result",
          "data": {
            "text/plain": [
              "8034aa3a67acb152f472bd8036f4c579b559d046ba12d7a911d27abd1c4b080b    13\n",
              "f20b67b121eb3b67fb0558f910d65ab2d426e7240bf6f2a2b2d244335bfe5ed7    13\n",
              "9b08b73dd6f5cba8f5f4fa0d59ba24c735d259571ac2b735bf3424007c991f53    13\n",
              "9b08b9d5c195dcec159fc45dc1ff186fa35343bea193c097697e54d4014bd532    13\n",
              "9b08cab050f7890ab7ef591262ea2718e29e4fbd57eb7d07761aadf37e006b14    13\n",
              "                                                                    ..\n",
              "96891d5635c9fe20ea5a7f47c2a798bfe76cd21b8b2766e9d00322fb8db1f07a     1\n",
              "967923b9af14ea50d0b14884ad2fec253e1ece75de428a7b4ac2b79cd70e4c8b     1\n",
              "96743f1ec496a95bfc1abac77f3029d00baf84b5510cf25113e09d7c2b5796d9     1\n",
              "96609d94e00c546b837bead5c705c9ed3cee0e4cb4c806cad5ff7f0b652ce0f3     1\n",
              "7574744c775a074ed4764473e97e9992a1a7cbc4925461ba266652d2dad3e60a     1\n",
              "Name: customer_ID, Length: 924621, dtype: int64"
            ]
          },
          "metadata": {},
          "execution_count": 28
        }
      ]
    },
    {
      "cell_type": "markdown",
      "source": [
        "One customer has 13 duplicate tables at most. However, time range is totally different from training set. It was between 2017 to 2018, but this is betweenn 2018 to 2019."
      ],
      "metadata": {
        "id": "JeEEpg_h2WWj"
      }
    },
    {
      "cell_type": "code",
      "source": [
        "test[test['customer_ID'] == '8034aa3a67acb152f472bd8036f4c579b559d046ba12d7a911d27abd1c4b080b']"
      ],
      "metadata": {
        "colab": {
          "base_uri": "https://localhost:8080/",
          "height": 811
        },
        "id": "IhoNgLGF2Kr8",
        "outputId": "7172b82f-69a1-4692-a38a-a9719a4b99d6"
      },
      "execution_count": 29,
      "outputs": [
        {
          "output_type": "execute_result",
          "data": {
            "text/plain": [
              "                                               customer_ID         S_2  \\\n",
              "5681066  8034aa3a67acb152f472bd8036f4c579b559d046ba12d7...  2018-04-11   \n",
              "5681067  8034aa3a67acb152f472bd8036f4c579b559d046ba12d7...  2018-05-26   \n",
              "5681068  8034aa3a67acb152f472bd8036f4c579b559d046ba12d7...  2018-06-26   \n",
              "5681069  8034aa3a67acb152f472bd8036f4c579b559d046ba12d7...  2018-07-27   \n",
              "5681070  8034aa3a67acb152f472bd8036f4c579b559d046ba12d7...  2018-08-27   \n",
              "5681071  8034aa3a67acb152f472bd8036f4c579b559d046ba12d7...  2018-09-26   \n",
              "5681072  8034aa3a67acb152f472bd8036f4c579b559d046ba12d7...  2018-10-29   \n",
              "5681073  8034aa3a67acb152f472bd8036f4c579b559d046ba12d7...  2018-11-26   \n",
              "5681074  8034aa3a67acb152f472bd8036f4c579b559d046ba12d7...  2018-12-27   \n",
              "5681075  8034aa3a67acb152f472bd8036f4c579b559d046ba12d7...  2019-01-26   \n",
              "5681076  8034aa3a67acb152f472bd8036f4c579b559d046ba12d7...  2019-02-26   \n",
              "5681077  8034aa3a67acb152f472bd8036f4c579b559d046ba12d7...  2019-03-27   \n",
              "5681078  8034aa3a67acb152f472bd8036f4c579b559d046ba12d7...  2019-04-27   \n",
              "\n",
              "              P_2      D_39       B_1       B_2       R_1       S_3      D_41  \\\n",
              "5681066  0.453857  0.474365  0.147827  0.812500  0.502441  0.189087  0.089539   \n",
              "5681067  0.502930  0.005619  0.008667  0.811523  0.008194  0.167603  0.000905   \n",
              "5681068  0.419434  0.002306  0.007168  0.819336  0.005177  0.164673  0.007290   \n",
              "5681069  0.463867  0.000552  0.006317  0.813477  0.001314  0.162354  0.001353   \n",
              "5681070  0.524414  0.001060  0.002678  0.815430  0.504395  0.164185  0.007168   \n",
              "5681071  0.497803  0.001970  0.002529  0.819336  0.000410  0.115662  0.006912   \n",
              "5681072  0.529297  0.003265  0.004173  0.810547  0.501465       NaN  0.003382   \n",
              "5681073  0.427979  0.033173  0.008408  0.817871  0.001494       NaN  0.005295   \n",
              "5681074  0.492188  0.037994  0.010933  0.001026  0.008965       NaN  0.009354   \n",
              "5681075  0.506348  0.032532  0.009392  0.005619  0.002151       NaN  0.003601   \n",
              "5681076  0.543945  0.127319  0.058929  0.004093  0.008057  0.170532  0.003876   \n",
              "5681077  0.558105  0.029861  0.072876  0.000433  0.006500  0.168213  0.402832   \n",
              "5681078  0.472168  2.712891  0.084595  0.008049  0.004681  0.161865  0.674316   \n",
              "\n",
              "              B_3  ...  D_136  D_137  D_138     D_139     D_140     D_141  \\\n",
              "5681066  0.012489  ...    NaN    NaN    NaN  0.006618  0.006016  0.006691   \n",
              "5681067  0.002495  ...    NaN    NaN    NaN  0.008606  0.007507  0.003866   \n",
              "5681068  0.008423  ...    NaN    NaN    NaN  0.001596  0.006973  0.001781   \n",
              "5681069  0.008522  ...    NaN    NaN    NaN  0.002901  0.004284  0.007629   \n",
              "5681070  0.003084  ...    NaN    NaN    NaN  0.003866  0.008232  0.000573   \n",
              "5681071  0.009750  ...    NaN    NaN    NaN  0.002388  0.007797  0.002674   \n",
              "5681072  0.005268  ...    NaN    NaN    NaN  0.000785  0.009407  0.004742   \n",
              "5681073  0.005070  ...    NaN    NaN    NaN  0.001839  0.001595  0.006466   \n",
              "5681074  0.009186  ...    NaN    NaN    NaN  0.000300  0.006195  0.003826   \n",
              "5681075  0.006924  ...    NaN    NaN    NaN  0.006317  0.004047  0.007298   \n",
              "5681076  0.000877  ...    NaN    NaN    NaN  0.001327  0.005455  0.004498   \n",
              "5681077  0.004662  ...    NaN    NaN    NaN  0.008598  0.002548  0.001490   \n",
              "5681078  0.007217  ...    NaN    NaN    NaN  0.004143  0.000875  0.005112   \n",
              "\n",
              "         D_142     D_143     D_144     D_145  \n",
              "5681066    NaN  0.001047  0.000509  0.006653  \n",
              "5681067    NaN  0.008423  0.004566  0.007328  \n",
              "5681068    NaN  0.000456  0.002254  0.007248  \n",
              "5681069    NaN  0.006069  0.003651  0.003599  \n",
              "5681070    NaN  0.002544  0.002958  0.000734  \n",
              "5681071    NaN  0.003611  0.001533  0.009026  \n",
              "5681072    NaN  0.004700  0.009583  0.003979  \n",
              "5681073    NaN  0.006222  0.003536  0.009354  \n",
              "5681074    NaN  0.001202  0.002348  0.009781  \n",
              "5681075    NaN  0.006859  0.002214  0.007881  \n",
              "5681076    NaN  0.002901  0.003428  0.007401  \n",
              "5681077    NaN  0.001687  0.003117  0.001319  \n",
              "5681078    NaN  0.005932  0.001613  0.009407  \n",
              "\n",
              "[13 rows x 190 columns]"
            ],
            "text/html": [
              "\n",
              "  <div id=\"df-8ad47c05-0b23-44fc-8751-a4270969794a\">\n",
              "    <div class=\"colab-df-container\">\n",
              "      <div>\n",
              "<style scoped>\n",
              "    .dataframe tbody tr th:only-of-type {\n",
              "        vertical-align: middle;\n",
              "    }\n",
              "\n",
              "    .dataframe tbody tr th {\n",
              "        vertical-align: top;\n",
              "    }\n",
              "\n",
              "    .dataframe thead th {\n",
              "        text-align: right;\n",
              "    }\n",
              "</style>\n",
              "<table border=\"1\" class=\"dataframe\">\n",
              "  <thead>\n",
              "    <tr style=\"text-align: right;\">\n",
              "      <th></th>\n",
              "      <th>customer_ID</th>\n",
              "      <th>S_2</th>\n",
              "      <th>P_2</th>\n",
              "      <th>D_39</th>\n",
              "      <th>B_1</th>\n",
              "      <th>B_2</th>\n",
              "      <th>R_1</th>\n",
              "      <th>S_3</th>\n",
              "      <th>D_41</th>\n",
              "      <th>B_3</th>\n",
              "      <th>...</th>\n",
              "      <th>D_136</th>\n",
              "      <th>D_137</th>\n",
              "      <th>D_138</th>\n",
              "      <th>D_139</th>\n",
              "      <th>D_140</th>\n",
              "      <th>D_141</th>\n",
              "      <th>D_142</th>\n",
              "      <th>D_143</th>\n",
              "      <th>D_144</th>\n",
              "      <th>D_145</th>\n",
              "    </tr>\n",
              "  </thead>\n",
              "  <tbody>\n",
              "    <tr>\n",
              "      <th>5681066</th>\n",
              "      <td>8034aa3a67acb152f472bd8036f4c579b559d046ba12d7...</td>\n",
              "      <td>2018-04-11</td>\n",
              "      <td>0.453857</td>\n",
              "      <td>0.474365</td>\n",
              "      <td>0.147827</td>\n",
              "      <td>0.812500</td>\n",
              "      <td>0.502441</td>\n",
              "      <td>0.189087</td>\n",
              "      <td>0.089539</td>\n",
              "      <td>0.012489</td>\n",
              "      <td>...</td>\n",
              "      <td>NaN</td>\n",
              "      <td>NaN</td>\n",
              "      <td>NaN</td>\n",
              "      <td>0.006618</td>\n",
              "      <td>0.006016</td>\n",
              "      <td>0.006691</td>\n",
              "      <td>NaN</td>\n",
              "      <td>0.001047</td>\n",
              "      <td>0.000509</td>\n",
              "      <td>0.006653</td>\n",
              "    </tr>\n",
              "    <tr>\n",
              "      <th>5681067</th>\n",
              "      <td>8034aa3a67acb152f472bd8036f4c579b559d046ba12d7...</td>\n",
              "      <td>2018-05-26</td>\n",
              "      <td>0.502930</td>\n",
              "      <td>0.005619</td>\n",
              "      <td>0.008667</td>\n",
              "      <td>0.811523</td>\n",
              "      <td>0.008194</td>\n",
              "      <td>0.167603</td>\n",
              "      <td>0.000905</td>\n",
              "      <td>0.002495</td>\n",
              "      <td>...</td>\n",
              "      <td>NaN</td>\n",
              "      <td>NaN</td>\n",
              "      <td>NaN</td>\n",
              "      <td>0.008606</td>\n",
              "      <td>0.007507</td>\n",
              "      <td>0.003866</td>\n",
              "      <td>NaN</td>\n",
              "      <td>0.008423</td>\n",
              "      <td>0.004566</td>\n",
              "      <td>0.007328</td>\n",
              "    </tr>\n",
              "    <tr>\n",
              "      <th>5681068</th>\n",
              "      <td>8034aa3a67acb152f472bd8036f4c579b559d046ba12d7...</td>\n",
              "      <td>2018-06-26</td>\n",
              "      <td>0.419434</td>\n",
              "      <td>0.002306</td>\n",
              "      <td>0.007168</td>\n",
              "      <td>0.819336</td>\n",
              "      <td>0.005177</td>\n",
              "      <td>0.164673</td>\n",
              "      <td>0.007290</td>\n",
              "      <td>0.008423</td>\n",
              "      <td>...</td>\n",
              "      <td>NaN</td>\n",
              "      <td>NaN</td>\n",
              "      <td>NaN</td>\n",
              "      <td>0.001596</td>\n",
              "      <td>0.006973</td>\n",
              "      <td>0.001781</td>\n",
              "      <td>NaN</td>\n",
              "      <td>0.000456</td>\n",
              "      <td>0.002254</td>\n",
              "      <td>0.007248</td>\n",
              "    </tr>\n",
              "    <tr>\n",
              "      <th>5681069</th>\n",
              "      <td>8034aa3a67acb152f472bd8036f4c579b559d046ba12d7...</td>\n",
              "      <td>2018-07-27</td>\n",
              "      <td>0.463867</td>\n",
              "      <td>0.000552</td>\n",
              "      <td>0.006317</td>\n",
              "      <td>0.813477</td>\n",
              "      <td>0.001314</td>\n",
              "      <td>0.162354</td>\n",
              "      <td>0.001353</td>\n",
              "      <td>0.008522</td>\n",
              "      <td>...</td>\n",
              "      <td>NaN</td>\n",
              "      <td>NaN</td>\n",
              "      <td>NaN</td>\n",
              "      <td>0.002901</td>\n",
              "      <td>0.004284</td>\n",
              "      <td>0.007629</td>\n",
              "      <td>NaN</td>\n",
              "      <td>0.006069</td>\n",
              "      <td>0.003651</td>\n",
              "      <td>0.003599</td>\n",
              "    </tr>\n",
              "    <tr>\n",
              "      <th>5681070</th>\n",
              "      <td>8034aa3a67acb152f472bd8036f4c579b559d046ba12d7...</td>\n",
              "      <td>2018-08-27</td>\n",
              "      <td>0.524414</td>\n",
              "      <td>0.001060</td>\n",
              "      <td>0.002678</td>\n",
              "      <td>0.815430</td>\n",
              "      <td>0.504395</td>\n",
              "      <td>0.164185</td>\n",
              "      <td>0.007168</td>\n",
              "      <td>0.003084</td>\n",
              "      <td>...</td>\n",
              "      <td>NaN</td>\n",
              "      <td>NaN</td>\n",
              "      <td>NaN</td>\n",
              "      <td>0.003866</td>\n",
              "      <td>0.008232</td>\n",
              "      <td>0.000573</td>\n",
              "      <td>NaN</td>\n",
              "      <td>0.002544</td>\n",
              "      <td>0.002958</td>\n",
              "      <td>0.000734</td>\n",
              "    </tr>\n",
              "    <tr>\n",
              "      <th>5681071</th>\n",
              "      <td>8034aa3a67acb152f472bd8036f4c579b559d046ba12d7...</td>\n",
              "      <td>2018-09-26</td>\n",
              "      <td>0.497803</td>\n",
              "      <td>0.001970</td>\n",
              "      <td>0.002529</td>\n",
              "      <td>0.819336</td>\n",
              "      <td>0.000410</td>\n",
              "      <td>0.115662</td>\n",
              "      <td>0.006912</td>\n",
              "      <td>0.009750</td>\n",
              "      <td>...</td>\n",
              "      <td>NaN</td>\n",
              "      <td>NaN</td>\n",
              "      <td>NaN</td>\n",
              "      <td>0.002388</td>\n",
              "      <td>0.007797</td>\n",
              "      <td>0.002674</td>\n",
              "      <td>NaN</td>\n",
              "      <td>0.003611</td>\n",
              "      <td>0.001533</td>\n",
              "      <td>0.009026</td>\n",
              "    </tr>\n",
              "    <tr>\n",
              "      <th>5681072</th>\n",
              "      <td>8034aa3a67acb152f472bd8036f4c579b559d046ba12d7...</td>\n",
              "      <td>2018-10-29</td>\n",
              "      <td>0.529297</td>\n",
              "      <td>0.003265</td>\n",
              "      <td>0.004173</td>\n",
              "      <td>0.810547</td>\n",
              "      <td>0.501465</td>\n",
              "      <td>NaN</td>\n",
              "      <td>0.003382</td>\n",
              "      <td>0.005268</td>\n",
              "      <td>...</td>\n",
              "      <td>NaN</td>\n",
              "      <td>NaN</td>\n",
              "      <td>NaN</td>\n",
              "      <td>0.000785</td>\n",
              "      <td>0.009407</td>\n",
              "      <td>0.004742</td>\n",
              "      <td>NaN</td>\n",
              "      <td>0.004700</td>\n",
              "      <td>0.009583</td>\n",
              "      <td>0.003979</td>\n",
              "    </tr>\n",
              "    <tr>\n",
              "      <th>5681073</th>\n",
              "      <td>8034aa3a67acb152f472bd8036f4c579b559d046ba12d7...</td>\n",
              "      <td>2018-11-26</td>\n",
              "      <td>0.427979</td>\n",
              "      <td>0.033173</td>\n",
              "      <td>0.008408</td>\n",
              "      <td>0.817871</td>\n",
              "      <td>0.001494</td>\n",
              "      <td>NaN</td>\n",
              "      <td>0.005295</td>\n",
              "      <td>0.005070</td>\n",
              "      <td>...</td>\n",
              "      <td>NaN</td>\n",
              "      <td>NaN</td>\n",
              "      <td>NaN</td>\n",
              "      <td>0.001839</td>\n",
              "      <td>0.001595</td>\n",
              "      <td>0.006466</td>\n",
              "      <td>NaN</td>\n",
              "      <td>0.006222</td>\n",
              "      <td>0.003536</td>\n",
              "      <td>0.009354</td>\n",
              "    </tr>\n",
              "    <tr>\n",
              "      <th>5681074</th>\n",
              "      <td>8034aa3a67acb152f472bd8036f4c579b559d046ba12d7...</td>\n",
              "      <td>2018-12-27</td>\n",
              "      <td>0.492188</td>\n",
              "      <td>0.037994</td>\n",
              "      <td>0.010933</td>\n",
              "      <td>0.001026</td>\n",
              "      <td>0.008965</td>\n",
              "      <td>NaN</td>\n",
              "      <td>0.009354</td>\n",
              "      <td>0.009186</td>\n",
              "      <td>...</td>\n",
              "      <td>NaN</td>\n",
              "      <td>NaN</td>\n",
              "      <td>NaN</td>\n",
              "      <td>0.000300</td>\n",
              "      <td>0.006195</td>\n",
              "      <td>0.003826</td>\n",
              "      <td>NaN</td>\n",
              "      <td>0.001202</td>\n",
              "      <td>0.002348</td>\n",
              "      <td>0.009781</td>\n",
              "    </tr>\n",
              "    <tr>\n",
              "      <th>5681075</th>\n",
              "      <td>8034aa3a67acb152f472bd8036f4c579b559d046ba12d7...</td>\n",
              "      <td>2019-01-26</td>\n",
              "      <td>0.506348</td>\n",
              "      <td>0.032532</td>\n",
              "      <td>0.009392</td>\n",
              "      <td>0.005619</td>\n",
              "      <td>0.002151</td>\n",
              "      <td>NaN</td>\n",
              "      <td>0.003601</td>\n",
              "      <td>0.006924</td>\n",
              "      <td>...</td>\n",
              "      <td>NaN</td>\n",
              "      <td>NaN</td>\n",
              "      <td>NaN</td>\n",
              "      <td>0.006317</td>\n",
              "      <td>0.004047</td>\n",
              "      <td>0.007298</td>\n",
              "      <td>NaN</td>\n",
              "      <td>0.006859</td>\n",
              "      <td>0.002214</td>\n",
              "      <td>0.007881</td>\n",
              "    </tr>\n",
              "    <tr>\n",
              "      <th>5681076</th>\n",
              "      <td>8034aa3a67acb152f472bd8036f4c579b559d046ba12d7...</td>\n",
              "      <td>2019-02-26</td>\n",
              "      <td>0.543945</td>\n",
              "      <td>0.127319</td>\n",
              "      <td>0.058929</td>\n",
              "      <td>0.004093</td>\n",
              "      <td>0.008057</td>\n",
              "      <td>0.170532</td>\n",
              "      <td>0.003876</td>\n",
              "      <td>0.000877</td>\n",
              "      <td>...</td>\n",
              "      <td>NaN</td>\n",
              "      <td>NaN</td>\n",
              "      <td>NaN</td>\n",
              "      <td>0.001327</td>\n",
              "      <td>0.005455</td>\n",
              "      <td>0.004498</td>\n",
              "      <td>NaN</td>\n",
              "      <td>0.002901</td>\n",
              "      <td>0.003428</td>\n",
              "      <td>0.007401</td>\n",
              "    </tr>\n",
              "    <tr>\n",
              "      <th>5681077</th>\n",
              "      <td>8034aa3a67acb152f472bd8036f4c579b559d046ba12d7...</td>\n",
              "      <td>2019-03-27</td>\n",
              "      <td>0.558105</td>\n",
              "      <td>0.029861</td>\n",
              "      <td>0.072876</td>\n",
              "      <td>0.000433</td>\n",
              "      <td>0.006500</td>\n",
              "      <td>0.168213</td>\n",
              "      <td>0.402832</td>\n",
              "      <td>0.004662</td>\n",
              "      <td>...</td>\n",
              "      <td>NaN</td>\n",
              "      <td>NaN</td>\n",
              "      <td>NaN</td>\n",
              "      <td>0.008598</td>\n",
              "      <td>0.002548</td>\n",
              "      <td>0.001490</td>\n",
              "      <td>NaN</td>\n",
              "      <td>0.001687</td>\n",
              "      <td>0.003117</td>\n",
              "      <td>0.001319</td>\n",
              "    </tr>\n",
              "    <tr>\n",
              "      <th>5681078</th>\n",
              "      <td>8034aa3a67acb152f472bd8036f4c579b559d046ba12d7...</td>\n",
              "      <td>2019-04-27</td>\n",
              "      <td>0.472168</td>\n",
              "      <td>2.712891</td>\n",
              "      <td>0.084595</td>\n",
              "      <td>0.008049</td>\n",
              "      <td>0.004681</td>\n",
              "      <td>0.161865</td>\n",
              "      <td>0.674316</td>\n",
              "      <td>0.007217</td>\n",
              "      <td>...</td>\n",
              "      <td>NaN</td>\n",
              "      <td>NaN</td>\n",
              "      <td>NaN</td>\n",
              "      <td>0.004143</td>\n",
              "      <td>0.000875</td>\n",
              "      <td>0.005112</td>\n",
              "      <td>NaN</td>\n",
              "      <td>0.005932</td>\n",
              "      <td>0.001613</td>\n",
              "      <td>0.009407</td>\n",
              "    </tr>\n",
              "  </tbody>\n",
              "</table>\n",
              "<p>13 rows × 190 columns</p>\n",
              "</div>\n",
              "      <button class=\"colab-df-convert\" onclick=\"convertToInteractive('df-8ad47c05-0b23-44fc-8751-a4270969794a')\"\n",
              "              title=\"Convert this dataframe to an interactive table.\"\n",
              "              style=\"display:none;\">\n",
              "        \n",
              "  <svg xmlns=\"http://www.w3.org/2000/svg\" height=\"24px\"viewBox=\"0 0 24 24\"\n",
              "       width=\"24px\">\n",
              "    <path d=\"M0 0h24v24H0V0z\" fill=\"none\"/>\n",
              "    <path d=\"M18.56 5.44l.94 2.06.94-2.06 2.06-.94-2.06-.94-.94-2.06-.94 2.06-2.06.94zm-11 1L8.5 8.5l.94-2.06 2.06-.94-2.06-.94L8.5 2.5l-.94 2.06-2.06.94zm10 10l.94 2.06.94-2.06 2.06-.94-2.06-.94-.94-2.06-.94 2.06-2.06.94z\"/><path d=\"M17.41 7.96l-1.37-1.37c-.4-.4-.92-.59-1.43-.59-.52 0-1.04.2-1.43.59L10.3 9.45l-7.72 7.72c-.78.78-.78 2.05 0 2.83L4 21.41c.39.39.9.59 1.41.59.51 0 1.02-.2 1.41-.59l7.78-7.78 2.81-2.81c.8-.78.8-2.07 0-2.86zM5.41 20L4 18.59l7.72-7.72 1.47 1.35L5.41 20z\"/>\n",
              "  </svg>\n",
              "      </button>\n",
              "      \n",
              "  <style>\n",
              "    .colab-df-container {\n",
              "      display:flex;\n",
              "      flex-wrap:wrap;\n",
              "      gap: 12px;\n",
              "    }\n",
              "\n",
              "    .colab-df-convert {\n",
              "      background-color: #E8F0FE;\n",
              "      border: none;\n",
              "      border-radius: 50%;\n",
              "      cursor: pointer;\n",
              "      display: none;\n",
              "      fill: #1967D2;\n",
              "      height: 32px;\n",
              "      padding: 0 0 0 0;\n",
              "      width: 32px;\n",
              "    }\n",
              "\n",
              "    .colab-df-convert:hover {\n",
              "      background-color: #E2EBFA;\n",
              "      box-shadow: 0px 1px 2px rgba(60, 64, 67, 0.3), 0px 1px 3px 1px rgba(60, 64, 67, 0.15);\n",
              "      fill: #174EA6;\n",
              "    }\n",
              "\n",
              "    [theme=dark] .colab-df-convert {\n",
              "      background-color: #3B4455;\n",
              "      fill: #D2E3FC;\n",
              "    }\n",
              "\n",
              "    [theme=dark] .colab-df-convert:hover {\n",
              "      background-color: #434B5C;\n",
              "      box-shadow: 0px 1px 3px 1px rgba(0, 0, 0, 0.15);\n",
              "      filter: drop-shadow(0px 1px 2px rgba(0, 0, 0, 0.3));\n",
              "      fill: #FFFFFF;\n",
              "    }\n",
              "  </style>\n",
              "\n",
              "      <script>\n",
              "        const buttonEl =\n",
              "          document.querySelector('#df-8ad47c05-0b23-44fc-8751-a4270969794a button.colab-df-convert');\n",
              "        buttonEl.style.display =\n",
              "          google.colab.kernel.accessAllowed ? 'block' : 'none';\n",
              "\n",
              "        async function convertToInteractive(key) {\n",
              "          const element = document.querySelector('#df-8ad47c05-0b23-44fc-8751-a4270969794a');\n",
              "          const dataTable =\n",
              "            await google.colab.kernel.invokeFunction('convertToInteractive',\n",
              "                                                     [key], {});\n",
              "          if (!dataTable) return;\n",
              "\n",
              "          const docLinkHtml = 'Like what you see? Visit the ' +\n",
              "            '<a target=\"_blank\" href=https://colab.research.google.com/notebooks/data_table.ipynb>data table notebook</a>'\n",
              "            + ' to learn more about interactive tables.';\n",
              "          element.innerHTML = '';\n",
              "          dataTable['output_type'] = 'display_data';\n",
              "          await google.colab.output.renderOutput(dataTable, element);\n",
              "          const docLink = document.createElement('div');\n",
              "          docLink.innerHTML = docLinkHtml;\n",
              "          element.appendChild(docLink);\n",
              "        }\n",
              "      </script>\n",
              "    </div>\n",
              "  </div>\n",
              "  "
            ]
          },
          "metadata": {},
          "execution_count": 29
        }
      ]
    },
    {
      "cell_type": "code",
      "source": [
        "test['customer_ID'] = test['customer_ID'].astype('str')\n",
        "test['S_2'] = pd.to_datetime(test['S_2'])"
      ],
      "metadata": {
        "id": "PrdiYO022hxq"
      },
      "execution_count": 30,
      "outputs": []
    },
    {
      "cell_type": "markdown",
      "source": [
        "Minimum memory usage seems to be 4.0 GB.  \n",
        "float32 -> float16.  \n",
        "int64 -> int8.  "
      ],
      "metadata": {
        "id": "qZRDnjCS6kTU"
      }
    },
    {
      "cell_type": "code",
      "source": [
        "test.info()"
      ],
      "metadata": {
        "colab": {
          "base_uri": "https://localhost:8080/"
        },
        "id": "fdAYBqqP3aYN",
        "outputId": "3fc5c70c-6b12-46d2-fe9f-4c143d2d7496"
      },
      "execution_count": 31,
      "outputs": [
        {
          "output_type": "stream",
          "name": "stdout",
          "text": [
            "<class 'pandas.core.frame.DataFrame'>\n",
            "RangeIndex: 11363762 entries, 0 to 11363761\n",
            "Columns: 190 entries, customer_ID to D_145\n",
            "dtypes: category(11), datetime64[ns](1), float16(176), int8(1), object(1)\n",
            "memory usage: 4.0+ GB\n"
          ]
        }
      ]
    },
    {
      "cell_type": "markdown",
      "source": [
        "to save as parquet for rapid reading, convert float16 to float32 since parquet does not accept half float."
      ],
      "metadata": {
        "id": "xtCDPVLY5e1Y"
      }
    },
    {
      "cell_type": "code",
      "source": [
        "for col in float_cols:\n",
        "    test[col] = test[col].astype('float32')\n",
        "for col in cat_cols:\n",
        "    test[col] = test[col].astype('category')"
      ],
      "metadata": {
        "id": "wGjQBNiG3ptD"
      },
      "execution_count": 32,
      "outputs": []
    },
    {
      "cell_type": "code",
      "source": [
        "test.to_parquet(os.path.join(INPUT, 'test.parquet'))"
      ],
      "metadata": {
        "id": "La3rNYfP5sYx"
      },
      "execution_count": 33,
      "outputs": []
    },
    {
      "cell_type": "code",
      "source": [
        "%%time\n",
        "test = pd.read_parquet(os.path.join(INPUT, 'test.parquet') if COLAB else 'test.parquet')"
      ],
      "metadata": {
        "colab": {
          "base_uri": "https://localhost:8080/"
        },
        "id": "ULEc2COM5xrS",
        "outputId": "0ff0492d-9eaf-435f-c3dd-4f1704168d2b"
      },
      "execution_count": 34,
      "outputs": [
        {
          "output_type": "stream",
          "name": "stdout",
          "text": [
            "CPU times: user 25.5 s, sys: 23.4 s, total: 48.9 s\n",
            "Wall time: 11.9 s\n"
          ]
        }
      ]
    },
    {
      "cell_type": "code",
      "source": [
        "test.head()"
      ],
      "metadata": {
        "colab": {
          "base_uri": "https://localhost:8080/",
          "height": 404
        },
        "id": "o6JASbqC8Bo5",
        "outputId": "0f565998-46fa-448f-d82a-0036378bf791"
      },
      "execution_count": 35,
      "outputs": [
        {
          "output_type": "execute_result",
          "data": {
            "text/plain": [
              "                                         customer_ID        S_2       P_2  \\\n",
              "0  00000469ba478561f23a92a868bd366de6f6527a684c9a... 2019-02-19  0.631348   \n",
              "1  00000469ba478561f23a92a868bd366de6f6527a684c9a... 2019-03-25  0.586914   \n",
              "2  00000469ba478561f23a92a868bd366de6f6527a684c9a... 2019-04-25  0.608887   \n",
              "3  00000469ba478561f23a92a868bd366de6f6527a684c9a... 2019-05-20  0.614746   \n",
              "4  00000469ba478561f23a92a868bd366de6f6527a684c9a... 2019-06-15  0.591797   \n",
              "\n",
              "       D_39       B_1       B_2       R_1       S_3      D_41       B_3  ...  \\\n",
              "0  0.001912  0.010727  0.814453  0.007545  0.168701  0.009972  0.002348  ...   \n",
              "1  0.005276  0.011024  0.811035  0.001817  0.241333  0.000166  0.009132  ...   \n",
              "2  0.003326  0.016388  1.004883  0.000114  0.267090  0.004196  0.004192  ...   \n",
              "3  0.009064  0.021667  0.816406  0.009720  0.188965  0.004124  0.015327  ...   \n",
              "4  0.238770  0.015930  0.810547  0.002026  0.180054  0.000731  0.011284  ...   \n",
              "\n",
              "   D_136  D_137  D_138     D_139     D_140     D_141  D_142     D_143  \\\n",
              "0    NaN    NaN    NaN       NaN  0.004669       NaN    NaN       NaN   \n",
              "1    NaN    NaN    NaN  0.000142  0.004940  0.009018    NaN  0.003695   \n",
              "2    NaN    NaN    NaN  0.000074  0.002113  0.004658    NaN  0.003155   \n",
              "3    NaN    NaN    NaN  0.004742  0.006393  0.002890    NaN  0.006042   \n",
              "4    NaN    NaN    NaN  0.008133  0.004330  0.008385    NaN  0.001008   \n",
              "\n",
              "      D_144     D_145  \n",
              "0  0.008278       NaN  \n",
              "1  0.003754  0.001460  \n",
              "2  0.002155  0.006481  \n",
              "3  0.005207  0.007858  \n",
              "4  0.007420  0.009468  \n",
              "\n",
              "[5 rows x 190 columns]"
            ],
            "text/html": [
              "\n",
              "  <div id=\"df-b8933406-709d-45a2-a825-aabfd90f0585\">\n",
              "    <div class=\"colab-df-container\">\n",
              "      <div>\n",
              "<style scoped>\n",
              "    .dataframe tbody tr th:only-of-type {\n",
              "        vertical-align: middle;\n",
              "    }\n",
              "\n",
              "    .dataframe tbody tr th {\n",
              "        vertical-align: top;\n",
              "    }\n",
              "\n",
              "    .dataframe thead th {\n",
              "        text-align: right;\n",
              "    }\n",
              "</style>\n",
              "<table border=\"1\" class=\"dataframe\">\n",
              "  <thead>\n",
              "    <tr style=\"text-align: right;\">\n",
              "      <th></th>\n",
              "      <th>customer_ID</th>\n",
              "      <th>S_2</th>\n",
              "      <th>P_2</th>\n",
              "      <th>D_39</th>\n",
              "      <th>B_1</th>\n",
              "      <th>B_2</th>\n",
              "      <th>R_1</th>\n",
              "      <th>S_3</th>\n",
              "      <th>D_41</th>\n",
              "      <th>B_3</th>\n",
              "      <th>...</th>\n",
              "      <th>D_136</th>\n",
              "      <th>D_137</th>\n",
              "      <th>D_138</th>\n",
              "      <th>D_139</th>\n",
              "      <th>D_140</th>\n",
              "      <th>D_141</th>\n",
              "      <th>D_142</th>\n",
              "      <th>D_143</th>\n",
              "      <th>D_144</th>\n",
              "      <th>D_145</th>\n",
              "    </tr>\n",
              "  </thead>\n",
              "  <tbody>\n",
              "    <tr>\n",
              "      <th>0</th>\n",
              "      <td>00000469ba478561f23a92a868bd366de6f6527a684c9a...</td>\n",
              "      <td>2019-02-19</td>\n",
              "      <td>0.631348</td>\n",
              "      <td>0.001912</td>\n",
              "      <td>0.010727</td>\n",
              "      <td>0.814453</td>\n",
              "      <td>0.007545</td>\n",
              "      <td>0.168701</td>\n",
              "      <td>0.009972</td>\n",
              "      <td>0.002348</td>\n",
              "      <td>...</td>\n",
              "      <td>NaN</td>\n",
              "      <td>NaN</td>\n",
              "      <td>NaN</td>\n",
              "      <td>NaN</td>\n",
              "      <td>0.004669</td>\n",
              "      <td>NaN</td>\n",
              "      <td>NaN</td>\n",
              "      <td>NaN</td>\n",
              "      <td>0.008278</td>\n",
              "      <td>NaN</td>\n",
              "    </tr>\n",
              "    <tr>\n",
              "      <th>1</th>\n",
              "      <td>00000469ba478561f23a92a868bd366de6f6527a684c9a...</td>\n",
              "      <td>2019-03-25</td>\n",
              "      <td>0.586914</td>\n",
              "      <td>0.005276</td>\n",
              "      <td>0.011024</td>\n",
              "      <td>0.811035</td>\n",
              "      <td>0.001817</td>\n",
              "      <td>0.241333</td>\n",
              "      <td>0.000166</td>\n",
              "      <td>0.009132</td>\n",
              "      <td>...</td>\n",
              "      <td>NaN</td>\n",
              "      <td>NaN</td>\n",
              "      <td>NaN</td>\n",
              "      <td>0.000142</td>\n",
              "      <td>0.004940</td>\n",
              "      <td>0.009018</td>\n",
              "      <td>NaN</td>\n",
              "      <td>0.003695</td>\n",
              "      <td>0.003754</td>\n",
              "      <td>0.001460</td>\n",
              "    </tr>\n",
              "    <tr>\n",
              "      <th>2</th>\n",
              "      <td>00000469ba478561f23a92a868bd366de6f6527a684c9a...</td>\n",
              "      <td>2019-04-25</td>\n",
              "      <td>0.608887</td>\n",
              "      <td>0.003326</td>\n",
              "      <td>0.016388</td>\n",
              "      <td>1.004883</td>\n",
              "      <td>0.000114</td>\n",
              "      <td>0.267090</td>\n",
              "      <td>0.004196</td>\n",
              "      <td>0.004192</td>\n",
              "      <td>...</td>\n",
              "      <td>NaN</td>\n",
              "      <td>NaN</td>\n",
              "      <td>NaN</td>\n",
              "      <td>0.000074</td>\n",
              "      <td>0.002113</td>\n",
              "      <td>0.004658</td>\n",
              "      <td>NaN</td>\n",
              "      <td>0.003155</td>\n",
              "      <td>0.002155</td>\n",
              "      <td>0.006481</td>\n",
              "    </tr>\n",
              "    <tr>\n",
              "      <th>3</th>\n",
              "      <td>00000469ba478561f23a92a868bd366de6f6527a684c9a...</td>\n",
              "      <td>2019-05-20</td>\n",
              "      <td>0.614746</td>\n",
              "      <td>0.009064</td>\n",
              "      <td>0.021667</td>\n",
              "      <td>0.816406</td>\n",
              "      <td>0.009720</td>\n",
              "      <td>0.188965</td>\n",
              "      <td>0.004124</td>\n",
              "      <td>0.015327</td>\n",
              "      <td>...</td>\n",
              "      <td>NaN</td>\n",
              "      <td>NaN</td>\n",
              "      <td>NaN</td>\n",
              "      <td>0.004742</td>\n",
              "      <td>0.006393</td>\n",
              "      <td>0.002890</td>\n",
              "      <td>NaN</td>\n",
              "      <td>0.006042</td>\n",
              "      <td>0.005207</td>\n",
              "      <td>0.007858</td>\n",
              "    </tr>\n",
              "    <tr>\n",
              "      <th>4</th>\n",
              "      <td>00000469ba478561f23a92a868bd366de6f6527a684c9a...</td>\n",
              "      <td>2019-06-15</td>\n",
              "      <td>0.591797</td>\n",
              "      <td>0.238770</td>\n",
              "      <td>0.015930</td>\n",
              "      <td>0.810547</td>\n",
              "      <td>0.002026</td>\n",
              "      <td>0.180054</td>\n",
              "      <td>0.000731</td>\n",
              "      <td>0.011284</td>\n",
              "      <td>...</td>\n",
              "      <td>NaN</td>\n",
              "      <td>NaN</td>\n",
              "      <td>NaN</td>\n",
              "      <td>0.008133</td>\n",
              "      <td>0.004330</td>\n",
              "      <td>0.008385</td>\n",
              "      <td>NaN</td>\n",
              "      <td>0.001008</td>\n",
              "      <td>0.007420</td>\n",
              "      <td>0.009468</td>\n",
              "    </tr>\n",
              "  </tbody>\n",
              "</table>\n",
              "<p>5 rows × 190 columns</p>\n",
              "</div>\n",
              "      <button class=\"colab-df-convert\" onclick=\"convertToInteractive('df-b8933406-709d-45a2-a825-aabfd90f0585')\"\n",
              "              title=\"Convert this dataframe to an interactive table.\"\n",
              "              style=\"display:none;\">\n",
              "        \n",
              "  <svg xmlns=\"http://www.w3.org/2000/svg\" height=\"24px\"viewBox=\"0 0 24 24\"\n",
              "       width=\"24px\">\n",
              "    <path d=\"M0 0h24v24H0V0z\" fill=\"none\"/>\n",
              "    <path d=\"M18.56 5.44l.94 2.06.94-2.06 2.06-.94-2.06-.94-.94-2.06-.94 2.06-2.06.94zm-11 1L8.5 8.5l.94-2.06 2.06-.94-2.06-.94L8.5 2.5l-.94 2.06-2.06.94zm10 10l.94 2.06.94-2.06 2.06-.94-2.06-.94-.94-2.06-.94 2.06-2.06.94z\"/><path d=\"M17.41 7.96l-1.37-1.37c-.4-.4-.92-.59-1.43-.59-.52 0-1.04.2-1.43.59L10.3 9.45l-7.72 7.72c-.78.78-.78 2.05 0 2.83L4 21.41c.39.39.9.59 1.41.59.51 0 1.02-.2 1.41-.59l7.78-7.78 2.81-2.81c.8-.78.8-2.07 0-2.86zM5.41 20L4 18.59l7.72-7.72 1.47 1.35L5.41 20z\"/>\n",
              "  </svg>\n",
              "      </button>\n",
              "      \n",
              "  <style>\n",
              "    .colab-df-container {\n",
              "      display:flex;\n",
              "      flex-wrap:wrap;\n",
              "      gap: 12px;\n",
              "    }\n",
              "\n",
              "    .colab-df-convert {\n",
              "      background-color: #E8F0FE;\n",
              "      border: none;\n",
              "      border-radius: 50%;\n",
              "      cursor: pointer;\n",
              "      display: none;\n",
              "      fill: #1967D2;\n",
              "      height: 32px;\n",
              "      padding: 0 0 0 0;\n",
              "      width: 32px;\n",
              "    }\n",
              "\n",
              "    .colab-df-convert:hover {\n",
              "      background-color: #E2EBFA;\n",
              "      box-shadow: 0px 1px 2px rgba(60, 64, 67, 0.3), 0px 1px 3px 1px rgba(60, 64, 67, 0.15);\n",
              "      fill: #174EA6;\n",
              "    }\n",
              "\n",
              "    [theme=dark] .colab-df-convert {\n",
              "      background-color: #3B4455;\n",
              "      fill: #D2E3FC;\n",
              "    }\n",
              "\n",
              "    [theme=dark] .colab-df-convert:hover {\n",
              "      background-color: #434B5C;\n",
              "      box-shadow: 0px 1px 3px 1px rgba(0, 0, 0, 0.15);\n",
              "      filter: drop-shadow(0px 1px 2px rgba(0, 0, 0, 0.3));\n",
              "      fill: #FFFFFF;\n",
              "    }\n",
              "  </style>\n",
              "\n",
              "      <script>\n",
              "        const buttonEl =\n",
              "          document.querySelector('#df-b8933406-709d-45a2-a825-aabfd90f0585 button.colab-df-convert');\n",
              "        buttonEl.style.display =\n",
              "          google.colab.kernel.accessAllowed ? 'block' : 'none';\n",
              "\n",
              "        async function convertToInteractive(key) {\n",
              "          const element = document.querySelector('#df-b8933406-709d-45a2-a825-aabfd90f0585');\n",
              "          const dataTable =\n",
              "            await google.colab.kernel.invokeFunction('convertToInteractive',\n",
              "                                                     [key], {});\n",
              "          if (!dataTable) return;\n",
              "\n",
              "          const docLinkHtml = 'Like what you see? Visit the ' +\n",
              "            '<a target=\"_blank\" href=https://colab.research.google.com/notebooks/data_table.ipynb>data table notebook</a>'\n",
              "            + ' to learn more about interactive tables.';\n",
              "          element.innerHTML = '';\n",
              "          dataTable['output_type'] = 'display_data';\n",
              "          await google.colab.output.renderOutput(dataTable, element);\n",
              "          const docLink = document.createElement('div');\n",
              "          docLink.innerHTML = docLinkHtml;\n",
              "          element.appendChild(docLink);\n",
              "        }\n",
              "      </script>\n",
              "    </div>\n",
              "  </div>\n",
              "  "
            ]
          },
          "metadata": {},
          "execution_count": 35
        }
      ]
    },
    {
      "cell_type": "markdown",
      "source": [
        "It seems some float categorical colmuns are converted to float64 when reading parquet."
      ],
      "metadata": {
        "id": "PYMaotpD9Ph9"
      }
    },
    {
      "cell_type": "code",
      "source": [
        "test.info()"
      ],
      "metadata": {
        "colab": {
          "base_uri": "https://localhost:8080/"
        },
        "id": "lHlxCbOd8Oa9",
        "outputId": "83059f58-38ed-40f2-ac80-3bdeb54794a1"
      },
      "execution_count": 36,
      "outputs": [
        {
          "output_type": "stream",
          "name": "stdout",
          "text": [
            "<class 'pandas.core.frame.DataFrame'>\n",
            "RangeIndex: 11363762 entries, 0 to 11363761\n",
            "Columns: 190 entries, customer_ID to D_145\n",
            "dtypes: category(2), datetime64[ns](1), float32(176), float64(9), int8(1), object(1)\n",
            "memory usage: 8.4+ GB\n"
          ]
        }
      ]
    },
    {
      "cell_type": "code",
      "source": [
        "del test"
      ],
      "metadata": {
        "id": "XShSLfrk8SEj"
      },
      "execution_count": 37,
      "outputs": []
    }
  ]
}